{
 "cells": [
  {
   "cell_type": "markdown",
   "id": "f1c04708",
   "metadata": {
    "papermill": {
     "duration": 0.083195,
     "end_time": "2022-03-16T09:35:46.046300",
     "exception": false,
     "start_time": "2022-03-16T09:35:45.963105",
     "status": "completed"
    },
    "tags": []
   },
   "source": [
    "## Problem Statement\n",
    "\n",
    "In the telecom industry, customers are able to choose from multiple service providers and actively switch from one operator to another. In this highly competitive market, the telecommunications industry experiences an average of 15-25% annual churn rate. Given the fact that it costs 5-10 times more to acquire a new customer than to retain an existing one, customer retention has now become even more important than customer acquisition.\n",
    "\n",
    "For many incumbent operators, retaining high profitable customers is the number one business goal. To reduce customer churn, telecom companies need to predict which customers are at high risk of churn. In this project, you will analyze customer-level data of a leading telecom firm, build predictive models to identify customers at high risk of churn.\n",
    "\n",
    "In this competition, your goal is to build a machine learning model that is able to predict churning customers based on the features provided for their usage."
   ]
  },
  {
   "cell_type": "markdown",
   "id": "8a2f9cd4",
   "metadata": {
    "papermill": {
     "duration": 0.073798,
     "end_time": "2022-03-16T09:35:46.196374",
     "exception": false,
     "start_time": "2022-03-16T09:35:46.122576",
     "status": "completed"
    },
    "tags": []
   },
   "source": [
    "## File Descriptions\n",
    "\n",
    "- train.csv: Contains 172 columns. The primary key that represents each customer is id. The target variable that you need to predict is churn_probability which contains a value of 0 or 1. This data is what you are going to use for EDA, cleaning, feature engineering, model building, model evaluation, model selection, and finally model training.\n",
    "\n",
    "- test.csv: Contains 171 columns, doesn't contain the target variable churn_probability. You will apply all the necessary preprocessing steps to get this data into the right format and then use the model trained using the train.csv file to make predictions with this. This is unseen data! Only the competition hosts know the actual values of the target feature for this data and therefore your submissions will be evaluated on how well your model does with this dataset.\n",
    "\n",
    "- sample.csv: This contains the format in which you need to submit the solutions to Kaggle. The id column in this dataset exactly the same as the id column in test.csv. You will make your predictions on the test.csv data and store them in a submission file that has the same format as this file. Check the Overview>Evaluation tab for mode details.\n",
    "\n",
    "- data_dictionary.csv: This contains the definitions for the various acronyms that you will need to understand each variable. For example, the variable total_og_mou_7, contains the acronyms total, og, mou, and 7, which can be translated as the total outgoing minutes of voice calls made by the user in month of July."
   ]
  },
  {
   "cell_type": "markdown",
   "id": "3788ea6d",
   "metadata": {
    "papermill": {
     "duration": 0.074874,
     "end_time": "2022-03-16T09:35:46.344872",
     "exception": false,
     "start_time": "2022-03-16T09:35:46.269998",
     "status": "completed"
    },
    "tags": []
   },
   "source": [
    "## Data Definitions\n",
    "The definitions are also listed down below:\n",
    "\n",
    "    CIRCLE_ID : Telecom circle area to which the customer belongs to\n",
    "    LOC : Local calls - within same telecom circle\n",
    "    STD : STD calls - outside the calling circle\n",
    "    IC : Incoming calls\n",
    "    OG : Outgoing calls\n",
    "    T2T : Operator T to T, i.e. within same operator (mobile to mobile)\n",
    "    T2M : Operator T to other operator mobile\n",
    "    T2O : Operator T to other operator fixed line\n",
    "    T2F : Operator T to fixed lines of T\n",
    "    T2C : Operator T to it’s own call center\n",
    "    ARPU : Average revenue per user\n",
    "    MOU : Minutes of usage - voice calls\n",
    "    AON : Age on network - number of days the customer is using the operator T network\n",
    "    ONNET : All kind of calls within the same operator network\n",
    "    OFFNET : All kind of calls outside the operator T network\n",
    "    ROAM : Indicates that customer is in roaming zone during the call\n",
    "    SPL : Special calls\n",
    "    ISD : ISD calls\n",
    "    RECH : Recharge\n",
    "    NUM : Number\n",
    "    AMT : Amount in local currency\n",
    "    MAX : Maximum\n",
    "    DATA : Mobile internet\n",
    "    3G : 3G network\n",
    "    AV : Average\n",
    "    VOL : Mobile internet usage volume (in MB)\n",
    "    2G : 2G network\n",
    "    PCK : Prepaid service schemes called - PACKS\n",
    "    NIGHT : Scheme to use during specific night hours only\n",
    "    MONTHLY : Service schemes with validity equivalent to a month\n",
    "    SACHET : Service schemes with validity smaller than a month\n",
    "    *.6 : KPI for the month of June\n",
    "    *.7 : KPI for the month of July\n",
    "    *.8 : KPI for the month of August\n",
    "    FB_USER : Service scheme to avail services of Facebook and similar social networking sites\n",
    "    VBC : Volume based cost - when no specific scheme is not purchased and paid as per usage"
   ]
  },
  {
   "cell_type": "markdown",
   "id": "651b1c2d",
   "metadata": {},
   "source": [
    "## Importing necessary libraries"
   ]
  },
  {
   "cell_type": "code",
   "execution_count": 1,
   "id": "5b8b8548",
   "metadata": {
    "execution": {
     "iopub.execute_input": "2022-03-16T09:35:46.498822Z",
     "iopub.status.busy": "2022-03-16T09:35:46.497030Z",
     "iopub.status.idle": "2022-03-16T09:35:47.859657Z",
     "shell.execute_reply": "2022-03-16T09:35:47.858901Z",
     "shell.execute_reply.started": "2022-03-16T09:34:25.240592Z"
    },
    "papermill": {
     "duration": 1.44051,
     "end_time": "2022-03-16T09:35:47.859864",
     "exception": false,
     "start_time": "2022-03-16T09:35:46.419354",
     "status": "completed"
    },
    "tags": []
   },
   "outputs": [],
   "source": [
    "import pandas as pd\n",
    "import numpy as np\n",
    "import matplotlib.pyplot as plt\n",
    "import seaborn as sns\n",
    "from sklearn.model_selection import train_test_split\n",
    "from sklearn.preprocessing import StandardScaler\n",
    "from sklearn.preprocessing import MinMaxScaler\n",
    "from sklearn import metrics\n"
   ]
  },
  {
   "cell_type": "code",
   "execution_count": 2,
   "id": "8d26623e",
   "metadata": {
    "execution": {
     "iopub.execute_input": "2022-03-16T09:35:48.013832Z",
     "iopub.status.busy": "2022-03-16T09:35:48.012848Z",
     "iopub.status.idle": "2022-03-16T09:35:48.020097Z",
     "shell.execute_reply": "2022-03-16T09:35:48.020670Z",
     "shell.execute_reply.started": "2022-03-16T09:34:25.892445Z"
    },
    "papermill": {
     "duration": 0.085698,
     "end_time": "2022-03-16T09:35:48.020871",
     "exception": false,
     "start_time": "2022-03-16T09:35:47.935173",
     "status": "completed"
    },
    "tags": []
   },
   "outputs": [],
   "source": [
    "import warnings\n",
    "warnings.filterwarnings('ignore')\n",
    "%matplotlib inline"
   ]
  },
  {
   "cell_type": "code",
   "execution_count": 3,
   "id": "312c2793",
   "metadata": {
    "execution": {
     "iopub.execute_input": "2022-03-16T09:35:48.172857Z",
     "iopub.status.busy": "2022-03-16T09:35:48.171778Z",
     "iopub.status.idle": "2022-03-16T09:35:51.521115Z",
     "shell.execute_reply": "2022-03-16T09:35:51.521773Z",
     "shell.execute_reply.started": "2022-03-16T09:34:25.901839Z"
    },
    "papermill": {
     "duration": 3.426781,
     "end_time": "2022-03-16T09:35:51.521969",
     "exception": false,
     "start_time": "2022-03-16T09:35:48.095188",
     "status": "completed"
    },
    "tags": []
   },
   "outputs": [
    {
     "name": "stdout",
     "output_type": "stream",
     "text": [
      "train\n",
      "   id  circle_id  loc_og_t2o_mou  std_og_t2o_mou  loc_ic_t2o_mou  \\\n",
      "0   0        109             0.0             0.0             0.0   \n",
      "1   1        109             0.0             0.0             0.0   \n",
      "2   2        109             0.0             0.0             0.0   \n",
      "3   3        109             0.0             0.0             0.0   \n",
      "4   4        109             0.0             0.0             0.0   \n",
      "\n",
      "  last_date_of_month_6 last_date_of_month_7 last_date_of_month_8   arpu_6  \\\n",
      "0            6/30/2014            7/31/2014            8/31/2014   31.277   \n",
      "1            6/30/2014            7/31/2014            8/31/2014    0.000   \n",
      "2            6/30/2014            7/31/2014            8/31/2014   60.806   \n",
      "3            6/30/2014            7/31/2014            8/31/2014  156.362   \n",
      "4            6/30/2014            7/31/2014            8/31/2014  240.708   \n",
      "\n",
      "    arpu_7  ...  sachet_3g_7  sachet_3g_8  fb_user_6  fb_user_7  fb_user_8  \\\n",
      "0   87.009  ...            0            0        NaN        NaN        NaN   \n",
      "1  122.787  ...            0            0        NaN        1.0        NaN   \n",
      "2  103.176  ...            0            0        NaN        NaN        NaN   \n",
      "3  205.260  ...            0            0        NaN        NaN        NaN   \n",
      "4  128.191  ...            1            0        1.0        1.0        1.0   \n",
      "\n",
      "    aon  aug_vbc_3g  jul_vbc_3g  jun_vbc_3g  churn_probability  \n",
      "0  1958         0.0         0.0         0.0                  0  \n",
      "1   710         0.0         0.0         0.0                  0  \n",
      "2   882         0.0         0.0         0.0                  0  \n",
      "3   982         0.0         0.0         0.0                  0  \n",
      "4   647         0.0         0.0         0.0                  0  \n",
      "\n",
      "[5 rows x 172 columns]\n",
      "test\n",
      "      id  circle_id  loc_og_t2o_mou  std_og_t2o_mou  loc_ic_t2o_mou  \\\n",
      "0  69999        109             0.0             0.0             0.0   \n",
      "1  70000        109             0.0             0.0             0.0   \n",
      "2  70001        109             0.0             0.0             0.0   \n",
      "3  70002        109             0.0             0.0             0.0   \n",
      "4  70003        109             0.0             0.0             0.0   \n",
      "\n",
      "  last_date_of_month_6 last_date_of_month_7 last_date_of_month_8   arpu_6  \\\n",
      "0            6/30/2014            7/31/2014            8/31/2014   91.882   \n",
      "1            6/30/2014            7/31/2014            8/31/2014  414.168   \n",
      "2            6/30/2014            7/31/2014            8/31/2014  329.844   \n",
      "3            6/30/2014            7/31/2014            8/31/2014   43.550   \n",
      "4            6/30/2014            7/31/2014            8/31/2014  306.854   \n",
      "\n",
      "    arpu_7  ...  sachet_3g_6  sachet_3g_7  sachet_3g_8  fb_user_6  fb_user_7  \\\n",
      "0   65.330  ...            0            0            0        NaN        NaN   \n",
      "1  515.568  ...            0            0            0        NaN        NaN   \n",
      "2  434.884  ...            0            0            0        NaN        NaN   \n",
      "3  171.390  ...            0            0            0        NaN        NaN   \n",
      "4  406.289  ...            0            0            0        NaN        NaN   \n",
      "\n",
      "   fb_user_8   aon  aug_vbc_3g  jul_vbc_3g  jun_vbc_3g  \n",
      "0        NaN  1692        0.00        0.00        0.00  \n",
      "1        NaN  2533        0.00        0.00        0.00  \n",
      "2        NaN   277      525.61      758.41      241.84  \n",
      "3        NaN  1244        0.00        0.00        0.00  \n",
      "4        NaN   462        0.00        0.00        0.00  \n",
      "\n",
      "[5 rows x 171 columns]\n"
     ]
    }
   ],
   "source": [
    "train_df = pd.read_csv(\"train.csv\")\n",
    "test_df = pd.read_csv(\"test.csv\")\n",
    "combine = [train_df, test_df]\n",
    "file_name = (\"train\", \"test\")\n",
    "for name, dataset in zip(file_name,combine):\n",
    "    print(name)\n",
    "    print(dataset.head())"
   ]
  },
  {
   "cell_type": "code",
   "execution_count": 4,
   "id": "e31f13b5",
   "metadata": {
    "execution": {
     "iopub.execute_input": "2022-03-16T09:35:51.675543Z",
     "iopub.status.busy": "2022-03-16T09:35:51.674613Z",
     "iopub.status.idle": "2022-03-16T09:35:51.679547Z",
     "shell.execute_reply": "2022-03-16T09:35:51.678922Z",
     "shell.execute_reply.started": "2022-03-16T09:34:28.630808Z"
    },
    "papermill": {
     "duration": 0.083738,
     "end_time": "2022-03-16T09:35:51.679700",
     "exception": false,
     "start_time": "2022-03-16T09:35:51.595962",
     "status": "completed"
    },
    "tags": []
   },
   "outputs": [
    {
     "name": "stdout",
     "output_type": "stream",
     "text": [
      "train\n",
      "(69999, 172)\n",
      "test\n",
      "(30000, 171)\n"
     ]
    }
   ],
   "source": [
    "for name, dataset in zip(file_name,combine):\n",
    "    print(name)\n",
    "    print(dataset.shape)"
   ]
  },
  {
   "cell_type": "code",
   "execution_count": 5,
   "id": "155588be",
   "metadata": {
    "execution": {
     "iopub.execute_input": "2022-03-16T09:35:51.830250Z",
     "iopub.status.busy": "2022-03-16T09:35:51.829618Z",
     "iopub.status.idle": "2022-03-16T09:35:53.013614Z",
     "shell.execute_reply": "2022-03-16T09:35:53.014129Z",
     "shell.execute_reply.started": "2022-03-16T09:34:28.638351Z"
    },
    "papermill": {
     "duration": 1.261373,
     "end_time": "2022-03-16T09:35:53.014460",
     "exception": false,
     "start_time": "2022-03-16T09:35:51.753087",
     "status": "completed"
    },
    "tags": []
   },
   "outputs": [
    {
     "name": "stdout",
     "output_type": "stream",
     "text": [
      "train\n",
      "                 id  circle_id  loc_og_t2o_mou  std_og_t2o_mou  \\\n",
      "count  69999.000000    69999.0         69297.0         69297.0   \n",
      "mean   34999.000000      109.0             0.0             0.0   \n",
      "std    20207.115084        0.0             0.0             0.0   \n",
      "min        0.000000      109.0             0.0             0.0   \n",
      "25%    17499.500000      109.0             0.0             0.0   \n",
      "50%    34999.000000      109.0             0.0             0.0   \n",
      "75%    52498.500000      109.0             0.0             0.0   \n",
      "max    69998.000000      109.0             0.0             0.0   \n",
      "\n",
      "       loc_ic_t2o_mou        arpu_6        arpu_7        arpu_8   onnet_mou_6  \\\n",
      "count         69297.0  69999.000000  69999.000000  69999.000000  67231.000000   \n",
      "mean              0.0    283.134365    278.185912    278.858826    133.153275   \n",
      "std               0.0    334.213918    344.366927    351.924315    299.963093   \n",
      "min               0.0  -2258.709000  -1289.715000   -945.808000      0.000000   \n",
      "25%               0.0     93.581000     86.714000     84.095000      7.410000   \n",
      "50%               0.0    197.484000    191.588000    192.234000     34.110000   \n",
      "75%               0.0    370.791000    365.369500    369.909000    119.390000   \n",
      "max               0.0  27731.088000  35145.834000  33543.624000   7376.710000   \n",
      "\n",
      "        onnet_mou_7  ...   sachet_3g_7   sachet_3g_8     fb_user_6  \\\n",
      "count  67312.000000  ...  69999.000000  69999.000000  17568.000000   \n",
      "mean     133.894438  ...      0.081444      0.085487      0.916325   \n",
      "std      311.277193  ...      0.634547      0.680035      0.276907   \n",
      "min        0.000000  ...      0.000000      0.000000      0.000000   \n",
      "25%        6.675000  ...      0.000000      0.000000      1.000000   \n",
      "50%       32.280000  ...      0.000000      0.000000      1.000000   \n",
      "75%      115.837500  ...      0.000000      0.000000      1.000000   \n",
      "max     8157.780000  ...     33.000000     41.000000      1.000000   \n",
      "\n",
      "          fb_user_7     fb_user_8           aon    aug_vbc_3g    jul_vbc_3g  \\\n",
      "count  17865.000000  18417.000000  69999.000000  69999.000000  69999.000000   \n",
      "mean       0.909544      0.890319   1220.639709     68.108597     65.935830   \n",
      "std        0.286842      0.312501    952.426321    269.328659    267.899034   \n",
      "min        0.000000      0.000000    180.000000      0.000000      0.000000   \n",
      "25%        1.000000      1.000000    468.000000      0.000000      0.000000   \n",
      "50%        1.000000      1.000000    868.000000      0.000000      0.000000   \n",
      "75%        1.000000      1.000000   1813.000000      0.000000      0.000000   \n",
      "max        1.000000      1.000000   4337.000000  12916.220000   9165.600000   \n",
      "\n",
      "        jun_vbc_3g  churn_probability  \n",
      "count  69999.00000       69999.000000  \n",
      "mean      60.07674           0.101887  \n",
      "std      257.22681           0.302502  \n",
      "min        0.00000           0.000000  \n",
      "25%        0.00000           0.000000  \n",
      "50%        0.00000           0.000000  \n",
      "75%        0.00000           0.000000  \n",
      "max    11166.21000           1.000000  \n",
      "\n",
      "[8 rows x 163 columns]\n",
      "test\n",
      "                 id  circle_id  loc_og_t2o_mou  std_og_t2o_mou  \\\n",
      "count  30000.000000    30000.0         29684.0         29684.0   \n",
      "mean   84998.500000      109.0             0.0             0.0   \n",
      "std     8660.398374        0.0             0.0             0.0   \n",
      "min    69999.000000      109.0             0.0             0.0   \n",
      "25%    77498.750000      109.0             0.0             0.0   \n",
      "50%    84998.500000      109.0             0.0             0.0   \n",
      "75%    92498.250000      109.0             0.0             0.0   \n",
      "max    99998.000000      109.0             0.0             0.0   \n",
      "\n",
      "       loc_ic_t2o_mou        arpu_6        arpu_7        arpu_8   onnet_mou_6  \\\n",
      "count         29684.0  30000.000000  30000.000000  30000.000000  28831.000000   \n",
      "mean              0.0    282.644348    279.355021    279.845167    130.629693   \n",
      "std               0.0    314.560212    323.205370    326.437029    290.677420   \n",
      "min               0.0   -185.043000  -2014.045000   -146.859000      0.000000   \n",
      "25%               0.0     92.907500     87.504750     84.180500      7.280000   \n",
      "50%               0.0    198.227500    191.775000    191.690500     34.760000   \n",
      "75%               0.0    371.969250    365.250750    367.804750    117.170000   \n",
      "max               0.0  10955.066000  13224.119000  13505.996000   6944.360000   \n",
      "\n",
      "        onnet_mou_7  ...   sachet_3g_6   sachet_3g_7   sachet_3g_8  \\\n",
      "count  28828.000000  ...  30000.000000  30000.000000  30000.000000   \n",
      "mean     133.148632  ...      0.073467      0.077967      0.082200   \n",
      "std      302.921820  ...      0.557327      0.613596      0.611546   \n",
      "min        0.000000  ...      0.000000      0.000000      0.000000   \n",
      "25%        6.660000  ...      0.000000      0.000000      0.000000   \n",
      "50%       32.550000  ...      0.000000      0.000000      0.000000   \n",
      "75%      115.210000  ...      0.000000      0.000000      0.000000   \n",
      "max     7411.010000  ...     28.000000     35.000000     30.000000   \n",
      "\n",
      "         fb_user_6    fb_user_7    fb_user_8           aon    aug_vbc_3g  \\\n",
      "count  7585.000000  7706.000000  7922.000000  30000.000000  30000.000000   \n",
      "mean      0.909954     0.906956     0.891946   1218.023200     68.314097   \n",
      "std       0.286267     0.290513     0.310468    960.109844    263.460641   \n",
      "min       0.000000     0.000000     0.000000    180.000000      0.000000   \n",
      "25%       1.000000     1.000000     1.000000    466.000000      0.000000   \n",
      "50%       1.000000     1.000000     1.000000    853.000000      0.000000   \n",
      "75%       1.000000     1.000000     1.000000   1795.000000      0.000000   \n",
      "max       1.000000     1.000000     1.000000   4197.000000   6054.390000   \n",
      "\n",
      "         jul_vbc_3g    jun_vbc_3g  \n",
      "count  30000.000000  30000.000000  \n",
      "mean      68.946576     59.891621  \n",
      "std      278.749349    246.098292  \n",
      "min        0.000000      0.000000  \n",
      "25%        0.000000      0.000000  \n",
      "50%        0.000000      0.000000  \n",
      "75%        0.000000      0.000000  \n",
      "max     7994.840000   6614.530000  \n",
      "\n",
      "[8 rows x 162 columns]\n"
     ]
    }
   ],
   "source": [
    "for name, dataset in zip(file_name,combine):\n",
    "    print(name)\n",
    "    print(dataset.describe())"
   ]
  },
  {
   "cell_type": "code",
   "execution_count": 6,
   "id": "d7b108cd",
   "metadata": {
    "execution": {
     "iopub.execute_input": "2022-03-16T09:35:53.176619Z",
     "iopub.status.busy": "2022-03-16T09:35:53.175658Z",
     "iopub.status.idle": "2022-03-16T09:35:53.196753Z",
     "shell.execute_reply": "2022-03-16T09:35:53.197326Z",
     "shell.execute_reply.started": "2022-03-16T09:34:29.849318Z"
    },
    "papermill": {
     "duration": 0.106354,
     "end_time": "2022-03-16T09:35:53.197571",
     "exception": false,
     "start_time": "2022-03-16T09:35:53.091217",
     "status": "completed"
    },
    "tags": []
   },
   "outputs": [
    {
     "name": "stdout",
     "output_type": "stream",
     "text": [
      "<class 'pandas.core.frame.DataFrame'>\n",
      "RangeIndex: 69999 entries, 0 to 69998\n",
      "Data columns (total 172 columns):\n",
      " #    Column                    Dtype  \n",
      "---   ------                    -----  \n",
      " 0    id                        int64  \n",
      " 1    circle_id                 int64  \n",
      " 2    loc_og_t2o_mou            float64\n",
      " 3    std_og_t2o_mou            float64\n",
      " 4    loc_ic_t2o_mou            float64\n",
      " 5    last_date_of_month_6      object \n",
      " 6    last_date_of_month_7      object \n",
      " 7    last_date_of_month_8      object \n",
      " 8    arpu_6                    float64\n",
      " 9    arpu_7                    float64\n",
      " 10   arpu_8                    float64\n",
      " 11   onnet_mou_6               float64\n",
      " 12   onnet_mou_7               float64\n",
      " 13   onnet_mou_8               float64\n",
      " 14   offnet_mou_6              float64\n",
      " 15   offnet_mou_7              float64\n",
      " 16   offnet_mou_8              float64\n",
      " 17   roam_ic_mou_6             float64\n",
      " 18   roam_ic_mou_7             float64\n",
      " 19   roam_ic_mou_8             float64\n",
      " 20   roam_og_mou_6             float64\n",
      " 21   roam_og_mou_7             float64\n",
      " 22   roam_og_mou_8             float64\n",
      " 23   loc_og_t2t_mou_6          float64\n",
      " 24   loc_og_t2t_mou_7          float64\n",
      " 25   loc_og_t2t_mou_8          float64\n",
      " 26   loc_og_t2m_mou_6          float64\n",
      " 27   loc_og_t2m_mou_7          float64\n",
      " 28   loc_og_t2m_mou_8          float64\n",
      " 29   loc_og_t2f_mou_6          float64\n",
      " 30   loc_og_t2f_mou_7          float64\n",
      " 31   loc_og_t2f_mou_8          float64\n",
      " 32   loc_og_t2c_mou_6          float64\n",
      " 33   loc_og_t2c_mou_7          float64\n",
      " 34   loc_og_t2c_mou_8          float64\n",
      " 35   loc_og_mou_6              float64\n",
      " 36   loc_og_mou_7              float64\n",
      " 37   loc_og_mou_8              float64\n",
      " 38   std_og_t2t_mou_6          float64\n",
      " 39   std_og_t2t_mou_7          float64\n",
      " 40   std_og_t2t_mou_8          float64\n",
      " 41   std_og_t2m_mou_6          float64\n",
      " 42   std_og_t2m_mou_7          float64\n",
      " 43   std_og_t2m_mou_8          float64\n",
      " 44   std_og_t2f_mou_6          float64\n",
      " 45   std_og_t2f_mou_7          float64\n",
      " 46   std_og_t2f_mou_8          float64\n",
      " 47   std_og_t2c_mou_6          float64\n",
      " 48   std_og_t2c_mou_7          float64\n",
      " 49   std_og_t2c_mou_8          float64\n",
      " 50   std_og_mou_6              float64\n",
      " 51   std_og_mou_7              float64\n",
      " 52   std_og_mou_8              float64\n",
      " 53   isd_og_mou_6              float64\n",
      " 54   isd_og_mou_7              float64\n",
      " 55   isd_og_mou_8              float64\n",
      " 56   spl_og_mou_6              float64\n",
      " 57   spl_og_mou_7              float64\n",
      " 58   spl_og_mou_8              float64\n",
      " 59   og_others_6               float64\n",
      " 60   og_others_7               float64\n",
      " 61   og_others_8               float64\n",
      " 62   total_og_mou_6            float64\n",
      " 63   total_og_mou_7            float64\n",
      " 64   total_og_mou_8            float64\n",
      " 65   loc_ic_t2t_mou_6          float64\n",
      " 66   loc_ic_t2t_mou_7          float64\n",
      " 67   loc_ic_t2t_mou_8          float64\n",
      " 68   loc_ic_t2m_mou_6          float64\n",
      " 69   loc_ic_t2m_mou_7          float64\n",
      " 70   loc_ic_t2m_mou_8          float64\n",
      " 71   loc_ic_t2f_mou_6          float64\n",
      " 72   loc_ic_t2f_mou_7          float64\n",
      " 73   loc_ic_t2f_mou_8          float64\n",
      " 74   loc_ic_mou_6              float64\n",
      " 75   loc_ic_mou_7              float64\n",
      " 76   loc_ic_mou_8              float64\n",
      " 77   std_ic_t2t_mou_6          float64\n",
      " 78   std_ic_t2t_mou_7          float64\n",
      " 79   std_ic_t2t_mou_8          float64\n",
      " 80   std_ic_t2m_mou_6          float64\n",
      " 81   std_ic_t2m_mou_7          float64\n",
      " 82   std_ic_t2m_mou_8          float64\n",
      " 83   std_ic_t2f_mou_6          float64\n",
      " 84   std_ic_t2f_mou_7          float64\n",
      " 85   std_ic_t2f_mou_8          float64\n",
      " 86   std_ic_t2o_mou_6          float64\n",
      " 87   std_ic_t2o_mou_7          float64\n",
      " 88   std_ic_t2o_mou_8          float64\n",
      " 89   std_ic_mou_6              float64\n",
      " 90   std_ic_mou_7              float64\n",
      " 91   std_ic_mou_8              float64\n",
      " 92   total_ic_mou_6            float64\n",
      " 93   total_ic_mou_7            float64\n",
      " 94   total_ic_mou_8            float64\n",
      " 95   spl_ic_mou_6              float64\n",
      " 96   spl_ic_mou_7              float64\n",
      " 97   spl_ic_mou_8              float64\n",
      " 98   isd_ic_mou_6              float64\n",
      " 99   isd_ic_mou_7              float64\n",
      " 100  isd_ic_mou_8              float64\n",
      " 101  ic_others_6               float64\n",
      " 102  ic_others_7               float64\n",
      " 103  ic_others_8               float64\n",
      " 104  total_rech_num_6          int64  \n",
      " 105  total_rech_num_7          int64  \n",
      " 106  total_rech_num_8          int64  \n",
      " 107  total_rech_amt_6          int64  \n",
      " 108  total_rech_amt_7          int64  \n",
      " 109  total_rech_amt_8          int64  \n",
      " 110  max_rech_amt_6            int64  \n",
      " 111  max_rech_amt_7            int64  \n",
      " 112  max_rech_amt_8            int64  \n",
      " 113  date_of_last_rech_6       object \n",
      " 114  date_of_last_rech_7       object \n",
      " 115  date_of_last_rech_8       object \n",
      " 116  last_day_rch_amt_6        int64  \n",
      " 117  last_day_rch_amt_7        int64  \n",
      " 118  last_day_rch_amt_8        int64  \n",
      " 119  date_of_last_rech_data_6  object \n",
      " 120  date_of_last_rech_data_7  object \n",
      " 121  date_of_last_rech_data_8  object \n",
      " 122  total_rech_data_6         float64\n",
      " 123  total_rech_data_7         float64\n",
      " 124  total_rech_data_8         float64\n",
      " 125  max_rech_data_6           float64\n",
      " 126  max_rech_data_7           float64\n",
      " 127  max_rech_data_8           float64\n",
      " 128  count_rech_2g_6           float64\n",
      " 129  count_rech_2g_7           float64\n",
      " 130  count_rech_2g_8           float64\n",
      " 131  count_rech_3g_6           float64\n",
      " 132  count_rech_3g_7           float64\n",
      " 133  count_rech_3g_8           float64\n",
      " 134  av_rech_amt_data_6        float64\n",
      " 135  av_rech_amt_data_7        float64\n",
      " 136  av_rech_amt_data_8        float64\n",
      " 137  vol_2g_mb_6               float64\n",
      " 138  vol_2g_mb_7               float64\n",
      " 139  vol_2g_mb_8               float64\n",
      " 140  vol_3g_mb_6               float64\n",
      " 141  vol_3g_mb_7               float64\n",
      " 142  vol_3g_mb_8               float64\n",
      " 143  arpu_3g_6                 float64\n",
      " 144  arpu_3g_7                 float64\n",
      " 145  arpu_3g_8                 float64\n",
      " 146  arpu_2g_6                 float64\n",
      " 147  arpu_2g_7                 float64\n",
      " 148  arpu_2g_8                 float64\n",
      " 149  night_pck_user_6          float64\n",
      " 150  night_pck_user_7          float64\n",
      " 151  night_pck_user_8          float64\n",
      " 152  monthly_2g_6              int64  \n",
      " 153  monthly_2g_7              int64  \n",
      " 154  monthly_2g_8              int64  \n",
      " 155  sachet_2g_6               int64  \n",
      " 156  sachet_2g_7               int64  \n",
      " 157  sachet_2g_8               int64  \n",
      " 158  monthly_3g_6              int64  \n",
      " 159  monthly_3g_7              int64  \n",
      " 160  monthly_3g_8              int64  \n",
      " 161  sachet_3g_6               int64  \n",
      " 162  sachet_3g_7               int64  \n",
      " 163  sachet_3g_8               int64  \n",
      " 164  fb_user_6                 float64\n",
      " 165  fb_user_7                 float64\n",
      " 166  fb_user_8                 float64\n",
      " 167  aon                       int64  \n",
      " 168  aug_vbc_3g                float64\n",
      " 169  jul_vbc_3g                float64\n",
      " 170  jun_vbc_3g                float64\n",
      " 171  churn_probability         int64  \n",
      "dtypes: float64(135), int64(28), object(9)\n",
      "memory usage: 91.9+ MB\n"
     ]
    }
   ],
   "source": [
    "combine[0].info(verbose=1)"
   ]
  },
  {
   "cell_type": "code",
   "execution_count": 7,
   "id": "7c0047aa",
   "metadata": {
    "execution": {
     "iopub.execute_input": "2022-03-16T09:35:53.357360Z",
     "iopub.status.busy": "2022-03-16T09:35:53.356651Z",
     "iopub.status.idle": "2022-03-16T09:35:53.436988Z",
     "shell.execute_reply": "2022-03-16T09:35:53.437536Z",
     "shell.execute_reply.started": "2022-03-16T09:34:29.876039Z"
    },
    "papermill": {
     "duration": 0.162561,
     "end_time": "2022-03-16T09:35:53.437748",
     "exception": false,
     "start_time": "2022-03-16T09:35:53.275187",
     "status": "completed"
    },
    "tags": []
   },
   "outputs": [
    {
     "name": "stdout",
     "output_type": "stream",
     "text": [
      "125  /  172\n"
     ]
    }
   ],
   "source": [
    "# Check any number of columns with NaN or missing values \n",
    "print(combine[0].isnull().any().sum(), ' / ', len(combine[0].columns))"
   ]
  },
  {
   "cell_type": "code",
   "execution_count": 8,
   "id": "207a5bbe",
   "metadata": {
    "execution": {
     "iopub.execute_input": "2022-03-16T09:35:53.597508Z",
     "iopub.status.busy": "2022-03-16T09:35:53.596747Z",
     "iopub.status.idle": "2022-03-16T09:35:53.682248Z",
     "shell.execute_reply": "2022-03-16T09:35:53.681692Z",
     "shell.execute_reply.started": "2022-03-16T09:34:29.952269Z"
    },
    "papermill": {
     "duration": 0.167999,
     "end_time": "2022-03-16T09:35:53.682387",
     "exception": false,
     "start_time": "2022-03-16T09:35:53.514388",
     "status": "completed"
    },
    "tags": []
   },
   "outputs": [
    {
     "name": "stdout",
     "output_type": "stream",
     "text": [
      "59715  /  69999\n"
     ]
    }
   ],
   "source": [
    "# Check any number of data points with NaN\n",
    "print(combine[0].isnull().any(axis=1).sum(), ' / ', len(combine[0]))"
   ]
  },
  {
   "cell_type": "code",
   "execution_count": 9,
   "id": "53bc33df",
   "metadata": {
    "execution": {
     "iopub.execute_input": "2022-03-16T09:35:53.839788Z",
     "iopub.status.busy": "2022-03-16T09:35:53.839112Z",
     "iopub.status.idle": "2022-03-16T09:35:53.847250Z",
     "shell.execute_reply": "2022-03-16T09:35:53.847821Z",
     "shell.execute_reply.started": "2022-03-16T09:34:30.033651Z"
    },
    "papermill": {
     "duration": 0.088364,
     "end_time": "2022-03-16T09:35:53.848002",
     "exception": false,
     "start_time": "2022-03-16T09:35:53.759638",
     "status": "completed"
    },
    "tags": []
   },
   "outputs": [
    {
     "data": {
      "text/plain": [
       "12039828"
      ]
     },
     "execution_count": 9,
     "metadata": {},
     "output_type": "execute_result"
    }
   ],
   "source": [
    "combine[0].size"
   ]
  },
  {
   "cell_type": "code",
   "execution_count": 10,
   "id": "99ac5f7a",
   "metadata": {
    "execution": {
     "iopub.execute_input": "2022-03-16T09:35:54.028173Z",
     "iopub.status.busy": "2022-03-16T09:35:54.027467Z",
     "iopub.status.idle": "2022-03-16T09:35:54.790647Z",
     "shell.execute_reply": "2022-03-16T09:35:54.789969Z",
     "shell.execute_reply.started": "2022-03-16T09:34:30.043694Z"
    },
    "papermill": {
     "duration": 0.863057,
     "end_time": "2022-03-16T09:35:54.790821",
     "exception": false,
     "start_time": "2022-03-16T09:35:53.927764",
     "status": "completed"
    },
    "tags": []
   },
   "outputs": [
    {
     "name": "stdout",
     "output_type": "stream",
     "text": [
      "train\n",
      "test\n"
     ]
    }
   ],
   "source": [
    "for name, dataset in zip(file_name,combine):\n",
    "    print(name)\n",
    "    dataset.drop_duplicates(inplace=True)"
   ]
  },
  {
   "cell_type": "code",
   "execution_count": 11,
   "id": "e0bca7f3",
   "metadata": {
    "execution": {
     "iopub.execute_input": "2022-03-16T09:35:54.953945Z",
     "iopub.status.busy": "2022-03-16T09:35:54.949787Z",
     "iopub.status.idle": "2022-03-16T09:35:55.127256Z",
     "shell.execute_reply": "2022-03-16T09:35:55.127828Z",
     "shell.execute_reply.started": "2022-03-16T09:34:30.881805Z"
    },
    "papermill": {
     "duration": 0.259358,
     "end_time": "2022-03-16T09:35:55.128043",
     "exception": false,
     "start_time": "2022-03-16T09:35:54.868685",
     "status": "completed"
    },
    "tags": []
   },
   "outputs": [
    {
     "name": "stdout",
     "output_type": "stream",
     "text": [
      "Missing values in terms of Percentage\n",
      "loc_og_t2o_mou has 1.0% missing values\n",
      "std_og_t2o_mou has 1.0% missing values\n",
      "loc_ic_t2o_mou has 1.0% missing values\n",
      "last_date_of_month_7 has 1.0% missing values\n",
      "last_date_of_month_8 has 1.0% missing values\n",
      "onnet_mou_6 has 4.0% missing values\n",
      "onnet_mou_7 has 4.0% missing values\n",
      "onnet_mou_8 has 5.0% missing values\n",
      "offnet_mou_6 has 4.0% missing values\n",
      "offnet_mou_7 has 4.0% missing values\n",
      "offnet_mou_8 has 5.0% missing values\n",
      "roam_ic_mou_6 has 4.0% missing values\n",
      "roam_ic_mou_7 has 4.0% missing values\n",
      "roam_ic_mou_8 has 5.0% missing values\n",
      "roam_og_mou_6 has 4.0% missing values\n",
      "roam_og_mou_7 has 4.0% missing values\n",
      "roam_og_mou_8 has 5.0% missing values\n",
      "loc_og_t2t_mou_6 has 4.0% missing values\n",
      "loc_og_t2t_mou_7 has 4.0% missing values\n",
      "loc_og_t2t_mou_8 has 5.0% missing values\n",
      "loc_og_t2m_mou_6 has 4.0% missing values\n",
      "loc_og_t2m_mou_7 has 4.0% missing values\n",
      "loc_og_t2m_mou_8 has 5.0% missing values\n",
      "loc_og_t2f_mou_6 has 4.0% missing values\n",
      "loc_og_t2f_mou_7 has 4.0% missing values\n",
      "loc_og_t2f_mou_8 has 5.0% missing values\n",
      "loc_og_t2c_mou_6 has 4.0% missing values\n",
      "loc_og_t2c_mou_7 has 4.0% missing values\n",
      "loc_og_t2c_mou_8 has 5.0% missing values\n",
      "loc_og_mou_6 has 4.0% missing values\n",
      "loc_og_mou_7 has 4.0% missing values\n",
      "loc_og_mou_8 has 5.0% missing values\n",
      "std_og_t2t_mou_6 has 4.0% missing values\n",
      "std_og_t2t_mou_7 has 4.0% missing values\n",
      "std_og_t2t_mou_8 has 5.0% missing values\n",
      "std_og_t2m_mou_6 has 4.0% missing values\n",
      "std_og_t2m_mou_7 has 4.0% missing values\n",
      "std_og_t2m_mou_8 has 5.0% missing values\n",
      "std_og_t2f_mou_6 has 4.0% missing values\n",
      "std_og_t2f_mou_7 has 4.0% missing values\n",
      "std_og_t2f_mou_8 has 5.0% missing values\n",
      "std_og_t2c_mou_6 has 4.0% missing values\n",
      "std_og_t2c_mou_7 has 4.0% missing values\n",
      "std_og_t2c_mou_8 has 5.0% missing values\n",
      "std_og_mou_6 has 4.0% missing values\n",
      "std_og_mou_7 has 4.0% missing values\n",
      "std_og_mou_8 has 5.0% missing values\n",
      "isd_og_mou_6 has 4.0% missing values\n",
      "isd_og_mou_7 has 4.0% missing values\n",
      "isd_og_mou_8 has 5.0% missing values\n",
      "spl_og_mou_6 has 4.0% missing values\n",
      "spl_og_mou_7 has 4.0% missing values\n",
      "spl_og_mou_8 has 5.0% missing values\n",
      "og_others_6 has 4.0% missing values\n",
      "og_others_7 has 4.0% missing values\n",
      "og_others_8 has 5.0% missing values\n",
      "loc_ic_t2t_mou_6 has 4.0% missing values\n",
      "loc_ic_t2t_mou_7 has 4.0% missing values\n",
      "loc_ic_t2t_mou_8 has 5.0% missing values\n",
      "loc_ic_t2m_mou_6 has 4.0% missing values\n",
      "loc_ic_t2m_mou_7 has 4.0% missing values\n",
      "loc_ic_t2m_mou_8 has 5.0% missing values\n",
      "loc_ic_t2f_mou_6 has 4.0% missing values\n",
      "loc_ic_t2f_mou_7 has 4.0% missing values\n",
      "loc_ic_t2f_mou_8 has 5.0% missing values\n",
      "loc_ic_mou_6 has 4.0% missing values\n",
      "loc_ic_mou_7 has 4.0% missing values\n",
      "loc_ic_mou_8 has 5.0% missing values\n",
      "std_ic_t2t_mou_6 has 4.0% missing values\n",
      "std_ic_t2t_mou_7 has 4.0% missing values\n",
      "std_ic_t2t_mou_8 has 5.0% missing values\n",
      "std_ic_t2m_mou_6 has 4.0% missing values\n",
      "std_ic_t2m_mou_7 has 4.0% missing values\n",
      "std_ic_t2m_mou_8 has 5.0% missing values\n",
      "std_ic_t2f_mou_6 has 4.0% missing values\n",
      "std_ic_t2f_mou_7 has 4.0% missing values\n",
      "std_ic_t2f_mou_8 has 5.0% missing values\n",
      "std_ic_t2o_mou_6 has 4.0% missing values\n",
      "std_ic_t2o_mou_7 has 4.0% missing values\n",
      "std_ic_t2o_mou_8 has 5.0% missing values\n",
      "std_ic_mou_6 has 4.0% missing values\n",
      "std_ic_mou_7 has 4.0% missing values\n",
      "std_ic_mou_8 has 5.0% missing values\n",
      "spl_ic_mou_6 has 4.0% missing values\n",
      "spl_ic_mou_7 has 4.0% missing values\n",
      "spl_ic_mou_8 has 5.0% missing values\n",
      "isd_ic_mou_6 has 4.0% missing values\n",
      "isd_ic_mou_7 has 4.0% missing values\n",
      "isd_ic_mou_8 has 5.0% missing values\n",
      "ic_others_6 has 4.0% missing values\n",
      "ic_others_7 has 4.0% missing values\n",
      "ic_others_8 has 5.0% missing values\n",
      "date_of_last_rech_6 has 2.0% missing values\n",
      "date_of_last_rech_7 has 2.0% missing values\n",
      "date_of_last_rech_8 has 4.0% missing values\n",
      "date_of_last_rech_data_6 has 75.0% missing values\n",
      "date_of_last_rech_data_7 has 74.0% missing values\n",
      "date_of_last_rech_data_8 has 74.0% missing values\n",
      "total_rech_data_6 has 75.0% missing values\n",
      "total_rech_data_7 has 74.0% missing values\n",
      "total_rech_data_8 has 74.0% missing values\n",
      "max_rech_data_6 has 75.0% missing values\n",
      "max_rech_data_7 has 74.0% missing values\n",
      "max_rech_data_8 has 74.0% missing values\n",
      "count_rech_2g_6 has 75.0% missing values\n",
      "count_rech_2g_7 has 74.0% missing values\n",
      "count_rech_2g_8 has 74.0% missing values\n",
      "count_rech_3g_6 has 75.0% missing values\n",
      "count_rech_3g_7 has 74.0% missing values\n",
      "count_rech_3g_8 has 74.0% missing values\n",
      "av_rech_amt_data_6 has 75.0% missing values\n",
      "av_rech_amt_data_7 has 74.0% missing values\n",
      "av_rech_amt_data_8 has 74.0% missing values\n",
      "arpu_3g_6 has 75.0% missing values\n",
      "arpu_3g_7 has 74.0% missing values\n",
      "arpu_3g_8 has 74.0% missing values\n",
      "arpu_2g_6 has 75.0% missing values\n",
      "arpu_2g_7 has 74.0% missing values\n",
      "arpu_2g_8 has 74.0% missing values\n",
      "night_pck_user_6 has 75.0% missing values\n",
      "night_pck_user_7 has 74.0% missing values\n",
      "night_pck_user_8 has 74.0% missing values\n",
      "fb_user_6 has 75.0% missing values\n",
      "fb_user_7 has 74.0% missing values\n",
      "fb_user_8 has 74.0% missing values\n"
     ]
    }
   ],
   "source": [
    "print(\"Missing values in terms of Percentage\")\n",
    "\n",
    "for column in combine[0]:\n",
    "    percent = round((combine[0][column].isnull().sum() / len(combine[0])),2)*100\n",
    "    if percent > 0:\n",
    "        print(column + ' has ' + str(percent) + \"% missing values\")"
   ]
  },
  {
   "cell_type": "code",
   "execution_count": 12,
   "id": "898d47cb",
   "metadata": {
    "execution": {
     "iopub.execute_input": "2022-03-16T09:35:55.291213Z",
     "iopub.status.busy": "2022-03-16T09:35:55.289618Z",
     "iopub.status.idle": "2022-03-16T09:35:55.294948Z",
     "shell.execute_reply": "2022-03-16T09:35:55.294257Z",
     "shell.execute_reply.started": "2022-03-16T09:34:31.070807Z"
    },
    "papermill": {
     "duration": 0.08878,
     "end_time": "2022-03-16T09:35:55.295092",
     "exception": false,
     "start_time": "2022-03-16T09:35:55.206312",
     "status": "completed"
    },
    "tags": []
   },
   "outputs": [
    {
     "data": {
      "text/plain": [
       "51582"
      ]
     },
     "execution_count": 12,
     "metadata": {},
     "output_type": "execute_result"
    }
   ],
   "source": [
    "combine[0]['fb_user_8'].isnull().sum()"
   ]
  },
  {
   "cell_type": "code",
   "execution_count": 13,
   "id": "4ce5c8d1",
   "metadata": {
    "execution": {
     "iopub.execute_input": "2022-03-16T09:35:55.489294Z",
     "iopub.status.busy": "2022-03-16T09:35:55.485497Z",
     "iopub.status.idle": "2022-03-16T09:35:55.492616Z",
     "shell.execute_reply": "2022-03-16T09:35:55.491871Z",
     "shell.execute_reply.started": "2022-03-16T09:34:31.084240Z"
    },
    "papermill": {
     "duration": 0.10035,
     "end_time": "2022-03-16T09:35:55.492777",
     "exception": false,
     "start_time": "2022-03-16T09:35:55.392427",
     "status": "completed"
    },
    "tags": []
   },
   "outputs": [
    {
     "data": {
      "text/plain": [
       "array([dtype('int64'), dtype('float64'), dtype('O')], dtype=object)"
      ]
     },
     "execution_count": 13,
     "metadata": {},
     "output_type": "execute_result"
    }
   ],
   "source": [
    "combine[0].dtypes.unique()"
   ]
  },
  {
   "cell_type": "code",
   "execution_count": 14,
   "id": "138eb5af",
   "metadata": {
    "execution": {
     "iopub.execute_input": "2022-03-16T09:35:55.656053Z",
     "iopub.status.busy": "2022-03-16T09:35:55.655315Z",
     "iopub.status.idle": "2022-03-16T09:35:55.659821Z",
     "shell.execute_reply": "2022-03-16T09:35:55.660507Z",
     "shell.execute_reply.started": "2022-03-16T09:34:31.094925Z"
    },
    "papermill": {
     "duration": 0.088079,
     "end_time": "2022-03-16T09:35:55.660701",
     "exception": false,
     "start_time": "2022-03-16T09:35:55.572622",
     "status": "completed"
    },
    "tags": []
   },
   "outputs": [],
   "source": [
    "conv_to_dt = ['last_date_of_month_6','last_date_of_month_7','last_date_of_month_8','date_of_last_rech_6','date_of_last_rech_7','date_of_last_rech_8','date_of_last_rech_data_6','date_of_last_rech_data_7','date_of_last_rech_data_8']"
   ]
  },
  {
   "cell_type": "code",
   "execution_count": 15,
   "id": "7a495ad5",
   "metadata": {
    "execution": {
     "iopub.execute_input": "2022-03-16T09:35:55.830446Z",
     "iopub.status.busy": "2022-03-16T09:35:55.829783Z",
     "iopub.status.idle": "2022-03-16T09:35:56.185330Z",
     "shell.execute_reply": "2022-03-16T09:35:56.184230Z",
     "shell.execute_reply.started": "2022-03-16T09:34:31.106420Z"
    },
    "papermill": {
     "duration": 0.445101,
     "end_time": "2022-03-16T09:35:56.185527",
     "exception": false,
     "start_time": "2022-03-16T09:35:55.740426",
     "status": "completed"
    },
    "tags": []
   },
   "outputs": [
    {
     "name": "stdout",
     "output_type": "stream",
     "text": [
      "train\n",
      "test\n"
     ]
    }
   ],
   "source": [
    "for name, dataset in zip(file_name,combine):\n",
    "    print(name)\n",
    "    for col in conv_to_dt:\n",
    "        dataset[col] = pd.to_datetime(dataset[col])\n",
    "        dataset[col] = dataset[col].dt.day"
   ]
  },
  {
   "cell_type": "code",
   "execution_count": 16,
   "id": "9ed30e0c",
   "metadata": {
    "execution": {
     "iopub.execute_input": "2022-03-16T09:35:56.352077Z",
     "iopub.status.busy": "2022-03-16T09:35:56.351445Z",
     "iopub.status.idle": "2022-03-16T09:35:56.440020Z",
     "shell.execute_reply": "2022-03-16T09:35:56.439443Z",
     "shell.execute_reply.started": "2022-03-16T09:34:31.484231Z"
    },
    "papermill": {
     "duration": 0.173087,
     "end_time": "2022-03-16T09:35:56.440189",
     "exception": false,
     "start_time": "2022-03-16T09:35:56.267102",
     "status": "completed"
    },
    "tags": []
   },
   "outputs": [
    {
     "name": "stdout",
     "output_type": "stream",
     "text": [
      "<class 'pandas.core.frame.DataFrame'>\n",
      "Int64Index: 69999 entries, 0 to 69998\n",
      "Data columns (total 9 columns):\n",
      " #   Column                    Non-Null Count  Dtype  \n",
      "---  ------                    --------------  -----  \n",
      " 0   last_date_of_month_6      69999 non-null  int64  \n",
      " 1   last_date_of_month_7      69600 non-null  float64\n",
      " 2   last_date_of_month_8      69266 non-null  float64\n",
      " 3   date_of_last_rech_6       68898 non-null  float64\n",
      " 4   date_of_last_rech_7       68765 non-null  float64\n",
      " 5   date_of_last_rech_8       67538 non-null  float64\n",
      " 6   date_of_last_rech_data_6  17568 non-null  float64\n",
      " 7   date_of_last_rech_data_7  17865 non-null  float64\n",
      " 8   date_of_last_rech_data_8  18417 non-null  float64\n",
      "dtypes: float64(8), int64(1)\n",
      "memory usage: 5.3 MB\n"
     ]
    }
   ],
   "source": [
    "combine[0][conv_to_dt].info()"
   ]
  },
  {
   "cell_type": "code",
   "execution_count": 17,
   "id": "5438f88a",
   "metadata": {
    "execution": {
     "iopub.execute_input": "2022-03-16T09:35:56.609497Z",
     "iopub.status.busy": "2022-03-16T09:35:56.608824Z",
     "iopub.status.idle": "2022-03-16T09:35:56.611471Z",
     "shell.execute_reply": "2022-03-16T09:35:56.612031Z",
     "shell.execute_reply.started": "2022-03-16T09:34:31.578392Z"
    },
    "papermill": {
     "duration": 0.090753,
     "end_time": "2022-03-16T09:35:56.612231",
     "exception": false,
     "start_time": "2022-03-16T09:35:56.521478",
     "status": "completed"
    },
    "tags": []
   },
   "outputs": [
    {
     "data": {
      "text/plain": [
       "array([dtype('int64'), dtype('float64')], dtype=object)"
      ]
     },
     "execution_count": 17,
     "metadata": {},
     "output_type": "execute_result"
    }
   ],
   "source": [
    "train_df.dtypes.unique()"
   ]
  },
  {
   "cell_type": "code",
   "execution_count": 18,
   "id": "61405bfa",
   "metadata": {
    "execution": {
     "iopub.execute_input": "2022-03-16T09:35:56.780876Z",
     "iopub.status.busy": "2022-03-16T09:35:56.780151Z",
     "iopub.status.idle": "2022-03-16T09:35:56.794710Z",
     "shell.execute_reply": "2022-03-16T09:35:56.795253Z",
     "shell.execute_reply.started": "2022-03-16T09:34:31.587455Z"
    },
    "papermill": {
     "duration": 0.100364,
     "end_time": "2022-03-16T09:35:56.795479",
     "exception": false,
     "start_time": "2022-03-16T09:35:56.695115",
     "status": "completed"
    },
    "tags": []
   },
   "outputs": [
    {
     "name": "stdout",
     "output_type": "stream",
     "text": [
      "<class 'pandas.core.frame.DataFrame'>\n",
      "Int64Index: 69999 entries, 0 to 69998\n",
      "Data columns (total 9 columns):\n",
      " #   Column                    Non-Null Count  Dtype  \n",
      "---  ------                    --------------  -----  \n",
      " 0   last_date_of_month_6      69999 non-null  int64  \n",
      " 1   last_date_of_month_7      69600 non-null  float64\n",
      " 2   last_date_of_month_8      69266 non-null  float64\n",
      " 3   date_of_last_rech_6       68898 non-null  float64\n",
      " 4   date_of_last_rech_7       68765 non-null  float64\n",
      " 5   date_of_last_rech_8       67538 non-null  float64\n",
      " 6   date_of_last_rech_data_6  17568 non-null  float64\n",
      " 7   date_of_last_rech_data_7  17865 non-null  float64\n",
      " 8   date_of_last_rech_data_8  18417 non-null  float64\n",
      "dtypes: float64(8), int64(1)\n",
      "memory usage: 5.3 MB\n"
     ]
    }
   ],
   "source": [
    "train_df[conv_to_dt].info()"
   ]
  },
  {
   "cell_type": "code",
   "execution_count": 19,
   "id": "19b3bf39",
   "metadata": {
    "execution": {
     "iopub.execute_input": "2022-03-16T09:35:56.961778Z",
     "iopub.status.busy": "2022-03-16T09:35:56.961165Z",
     "iopub.status.idle": "2022-03-16T09:35:56.980854Z",
     "shell.execute_reply": "2022-03-16T09:35:56.981467Z",
     "shell.execute_reply.started": "2022-03-16T09:34:31.613716Z"
    },
    "papermill": {
     "duration": 0.10453,
     "end_time": "2022-03-16T09:35:56.981664",
     "exception": false,
     "start_time": "2022-03-16T09:35:56.877134",
     "status": "completed"
    },
    "tags": []
   },
   "outputs": [
    {
     "data": {
      "text/html": [
       "<div>\n",
       "<style scoped>\n",
       "    .dataframe tbody tr th:only-of-type {\n",
       "        vertical-align: middle;\n",
       "    }\n",
       "\n",
       "    .dataframe tbody tr th {\n",
       "        vertical-align: top;\n",
       "    }\n",
       "\n",
       "    .dataframe thead th {\n",
       "        text-align: right;\n",
       "    }\n",
       "</style>\n",
       "<table border=\"1\" class=\"dataframe\">\n",
       "  <thead>\n",
       "    <tr style=\"text-align: right;\">\n",
       "      <th></th>\n",
       "      <th>last_date_of_month_6</th>\n",
       "      <th>last_date_of_month_7</th>\n",
       "      <th>last_date_of_month_8</th>\n",
       "      <th>date_of_last_rech_6</th>\n",
       "      <th>date_of_last_rech_7</th>\n",
       "      <th>date_of_last_rech_8</th>\n",
       "      <th>date_of_last_rech_data_6</th>\n",
       "      <th>date_of_last_rech_data_7</th>\n",
       "      <th>date_of_last_rech_data_8</th>\n",
       "    </tr>\n",
       "  </thead>\n",
       "  <tbody>\n",
       "    <tr>\n",
       "      <th>0</th>\n",
       "      <td>30</td>\n",
       "      <td>31.0</td>\n",
       "      <td>31.0</td>\n",
       "      <td>22.0</td>\n",
       "      <td>10.0</td>\n",
       "      <td>24.0</td>\n",
       "      <td>NaN</td>\n",
       "      <td>NaN</td>\n",
       "      <td>NaN</td>\n",
       "    </tr>\n",
       "    <tr>\n",
       "      <th>1</th>\n",
       "      <td>30</td>\n",
       "      <td>31.0</td>\n",
       "      <td>31.0</td>\n",
       "      <td>12.0</td>\n",
       "      <td>10.0</td>\n",
       "      <td>26.0</td>\n",
       "      <td>NaN</td>\n",
       "      <td>8.0</td>\n",
       "      <td>NaN</td>\n",
       "    </tr>\n",
       "    <tr>\n",
       "      <th>2</th>\n",
       "      <td>30</td>\n",
       "      <td>31.0</td>\n",
       "      <td>31.0</td>\n",
       "      <td>11.0</td>\n",
       "      <td>22.0</td>\n",
       "      <td>24.0</td>\n",
       "      <td>NaN</td>\n",
       "      <td>NaN</td>\n",
       "      <td>NaN</td>\n",
       "    </tr>\n",
       "    <tr>\n",
       "      <th>3</th>\n",
       "      <td>30</td>\n",
       "      <td>31.0</td>\n",
       "      <td>31.0</td>\n",
       "      <td>15.0</td>\n",
       "      <td>21.0</td>\n",
       "      <td>25.0</td>\n",
       "      <td>NaN</td>\n",
       "      <td>NaN</td>\n",
       "      <td>NaN</td>\n",
       "    </tr>\n",
       "    <tr>\n",
       "      <th>4</th>\n",
       "      <td>30</td>\n",
       "      <td>31.0</td>\n",
       "      <td>31.0</td>\n",
       "      <td>25.0</td>\n",
       "      <td>26.0</td>\n",
       "      <td>30.0</td>\n",
       "      <td>25.0</td>\n",
       "      <td>23.0</td>\n",
       "      <td>20.0</td>\n",
       "    </tr>\n",
       "  </tbody>\n",
       "</table>\n",
       "</div>"
      ],
      "text/plain": [
       "   last_date_of_month_6  last_date_of_month_7  last_date_of_month_8  \\\n",
       "0                    30                  31.0                  31.0   \n",
       "1                    30                  31.0                  31.0   \n",
       "2                    30                  31.0                  31.0   \n",
       "3                    30                  31.0                  31.0   \n",
       "4                    30                  31.0                  31.0   \n",
       "\n",
       "   date_of_last_rech_6  date_of_last_rech_7  date_of_last_rech_8  \\\n",
       "0                 22.0                 10.0                 24.0   \n",
       "1                 12.0                 10.0                 26.0   \n",
       "2                 11.0                 22.0                 24.0   \n",
       "3                 15.0                 21.0                 25.0   \n",
       "4                 25.0                 26.0                 30.0   \n",
       "\n",
       "   date_of_last_rech_data_6  date_of_last_rech_data_7  \\\n",
       "0                       NaN                       NaN   \n",
       "1                       NaN                       8.0   \n",
       "2                       NaN                       NaN   \n",
       "3                       NaN                       NaN   \n",
       "4                      25.0                      23.0   \n",
       "\n",
       "   date_of_last_rech_data_8  \n",
       "0                       NaN  \n",
       "1                       NaN  \n",
       "2                       NaN  \n",
       "3                       NaN  \n",
       "4                      20.0  "
      ]
     },
     "execution_count": 19,
     "metadata": {},
     "output_type": "execute_result"
    }
   ],
   "source": [
    "train_df[conv_to_dt].head()"
   ]
  },
  {
   "cell_type": "code",
   "execution_count": 20,
   "id": "1a48e8b5",
   "metadata": {
    "execution": {
     "iopub.execute_input": "2022-03-16T09:35:57.150063Z",
     "iopub.status.busy": "2022-03-16T09:35:57.149372Z",
     "iopub.status.idle": "2022-03-16T09:35:57.183761Z",
     "shell.execute_reply": "2022-03-16T09:35:57.184293Z",
     "shell.execute_reply.started": "2022-03-16T09:34:31.642149Z"
    },
    "papermill": {
     "duration": 0.120138,
     "end_time": "2022-03-16T09:35:57.184513",
     "exception": false,
     "start_time": "2022-03-16T09:35:57.064375",
     "status": "completed"
    },
    "tags": []
   },
   "outputs": [
    {
     "name": "stdout",
     "output_type": "stream",
     "text": [
      "train\n",
      "test\n"
     ]
    }
   ],
   "source": [
    "for name, dataset in zip(file_name,combine):\n",
    "    print(name)\n",
    "    dataset[['last_date_of_month_7','last_date_of_month_8']].fillna(31.0,inplace=True)"
   ]
  },
  {
   "cell_type": "code",
   "execution_count": 21,
   "id": "61702f70",
   "metadata": {
    "execution": {
     "iopub.execute_input": "2022-03-16T09:35:57.355109Z",
     "iopub.status.busy": "2022-03-16T09:35:57.354426Z",
     "iopub.status.idle": "2022-03-16T09:35:57.359940Z",
     "shell.execute_reply": "2022-03-16T09:35:57.359282Z",
     "shell.execute_reply.started": "2022-03-16T09:34:31.684266Z"
    },
    "papermill": {
     "duration": 0.093168,
     "end_time": "2022-03-16T09:35:57.360099",
     "exception": false,
     "start_time": "2022-03-16T09:35:57.266931",
     "status": "completed"
    },
    "tags": []
   },
   "outputs": [],
   "source": [
    "for name, dataset in zip(file_name,combine):\n",
    "    dataset['last_date_of_month_6'].fillna(30,inplace=True)"
   ]
  },
  {
   "cell_type": "code",
   "execution_count": 22,
   "id": "f7112c54",
   "metadata": {
    "execution": {
     "iopub.execute_input": "2022-03-16T09:35:57.535598Z",
     "iopub.status.busy": "2022-03-16T09:35:57.534880Z",
     "iopub.status.idle": "2022-03-16T09:35:57.542989Z",
     "shell.execute_reply": "2022-03-16T09:35:57.542307Z",
     "shell.execute_reply.started": "2022-03-16T09:34:31.692496Z"
    },
    "papermill": {
     "duration": 0.099136,
     "end_time": "2022-03-16T09:35:57.543133",
     "exception": false,
     "start_time": "2022-03-16T09:35:57.443997",
     "status": "completed"
    },
    "tags": []
   },
   "outputs": [],
   "source": [
    "for name, dataset in zip(file_name,combine):\n",
    "    dataset[conv_to_dt].fillna(0,inplace=True)"
   ]
  },
  {
   "cell_type": "code",
   "execution_count": 23,
   "id": "f5fbf95e",
   "metadata": {
    "execution": {
     "iopub.execute_input": "2022-03-16T09:35:57.729677Z",
     "iopub.status.busy": "2022-03-16T09:35:57.728647Z",
     "iopub.status.idle": "2022-03-16T09:35:57.735685Z",
     "shell.execute_reply": "2022-03-16T09:35:57.735006Z",
     "shell.execute_reply.started": "2022-03-16T09:34:31.712522Z"
    },
    "papermill": {
     "duration": 0.110878,
     "end_time": "2022-03-16T09:35:57.735839",
     "exception": false,
     "start_time": "2022-03-16T09:35:57.624961",
     "status": "completed"
    },
    "tags": []
   },
   "outputs": [
    {
     "name": "stdout",
     "output_type": "stream",
     "text": [
      "<class 'pandas.core.frame.DataFrame'>\n",
      "Int64Index: 69999 entries, 0 to 69998\n",
      "Data columns (total 172 columns):\n",
      " #    Column                    Dtype  \n",
      "---   ------                    -----  \n",
      " 0    id                        int64  \n",
      " 1    circle_id                 int64  \n",
      " 2    loc_og_t2o_mou            float64\n",
      " 3    std_og_t2o_mou            float64\n",
      " 4    loc_ic_t2o_mou            float64\n",
      " 5    last_date_of_month_6      int64  \n",
      " 6    last_date_of_month_7      float64\n",
      " 7    last_date_of_month_8      float64\n",
      " 8    arpu_6                    float64\n",
      " 9    arpu_7                    float64\n",
      " 10   arpu_8                    float64\n",
      " 11   onnet_mou_6               float64\n",
      " 12   onnet_mou_7               float64\n",
      " 13   onnet_mou_8               float64\n",
      " 14   offnet_mou_6              float64\n",
      " 15   offnet_mou_7              float64\n",
      " 16   offnet_mou_8              float64\n",
      " 17   roam_ic_mou_6             float64\n",
      " 18   roam_ic_mou_7             float64\n",
      " 19   roam_ic_mou_8             float64\n",
      " 20   roam_og_mou_6             float64\n",
      " 21   roam_og_mou_7             float64\n",
      " 22   roam_og_mou_8             float64\n",
      " 23   loc_og_t2t_mou_6          float64\n",
      " 24   loc_og_t2t_mou_7          float64\n",
      " 25   loc_og_t2t_mou_8          float64\n",
      " 26   loc_og_t2m_mou_6          float64\n",
      " 27   loc_og_t2m_mou_7          float64\n",
      " 28   loc_og_t2m_mou_8          float64\n",
      " 29   loc_og_t2f_mou_6          float64\n",
      " 30   loc_og_t2f_mou_7          float64\n",
      " 31   loc_og_t2f_mou_8          float64\n",
      " 32   loc_og_t2c_mou_6          float64\n",
      " 33   loc_og_t2c_mou_7          float64\n",
      " 34   loc_og_t2c_mou_8          float64\n",
      " 35   loc_og_mou_6              float64\n",
      " 36   loc_og_mou_7              float64\n",
      " 37   loc_og_mou_8              float64\n",
      " 38   std_og_t2t_mou_6          float64\n",
      " 39   std_og_t2t_mou_7          float64\n",
      " 40   std_og_t2t_mou_8          float64\n",
      " 41   std_og_t2m_mou_6          float64\n",
      " 42   std_og_t2m_mou_7          float64\n",
      " 43   std_og_t2m_mou_8          float64\n",
      " 44   std_og_t2f_mou_6          float64\n",
      " 45   std_og_t2f_mou_7          float64\n",
      " 46   std_og_t2f_mou_8          float64\n",
      " 47   std_og_t2c_mou_6          float64\n",
      " 48   std_og_t2c_mou_7          float64\n",
      " 49   std_og_t2c_mou_8          float64\n",
      " 50   std_og_mou_6              float64\n",
      " 51   std_og_mou_7              float64\n",
      " 52   std_og_mou_8              float64\n",
      " 53   isd_og_mou_6              float64\n",
      " 54   isd_og_mou_7              float64\n",
      " 55   isd_og_mou_8              float64\n",
      " 56   spl_og_mou_6              float64\n",
      " 57   spl_og_mou_7              float64\n",
      " 58   spl_og_mou_8              float64\n",
      " 59   og_others_6               float64\n",
      " 60   og_others_7               float64\n",
      " 61   og_others_8               float64\n",
      " 62   total_og_mou_6            float64\n",
      " 63   total_og_mou_7            float64\n",
      " 64   total_og_mou_8            float64\n",
      " 65   loc_ic_t2t_mou_6          float64\n",
      " 66   loc_ic_t2t_mou_7          float64\n",
      " 67   loc_ic_t2t_mou_8          float64\n",
      " 68   loc_ic_t2m_mou_6          float64\n",
      " 69   loc_ic_t2m_mou_7          float64\n",
      " 70   loc_ic_t2m_mou_8          float64\n",
      " 71   loc_ic_t2f_mou_6          float64\n",
      " 72   loc_ic_t2f_mou_7          float64\n",
      " 73   loc_ic_t2f_mou_8          float64\n",
      " 74   loc_ic_mou_6              float64\n",
      " 75   loc_ic_mou_7              float64\n",
      " 76   loc_ic_mou_8              float64\n",
      " 77   std_ic_t2t_mou_6          float64\n",
      " 78   std_ic_t2t_mou_7          float64\n",
      " 79   std_ic_t2t_mou_8          float64\n",
      " 80   std_ic_t2m_mou_6          float64\n",
      " 81   std_ic_t2m_mou_7          float64\n",
      " 82   std_ic_t2m_mou_8          float64\n",
      " 83   std_ic_t2f_mou_6          float64\n",
      " 84   std_ic_t2f_mou_7          float64\n",
      " 85   std_ic_t2f_mou_8          float64\n",
      " 86   std_ic_t2o_mou_6          float64\n",
      " 87   std_ic_t2o_mou_7          float64\n",
      " 88   std_ic_t2o_mou_8          float64\n",
      " 89   std_ic_mou_6              float64\n",
      " 90   std_ic_mou_7              float64\n",
      " 91   std_ic_mou_8              float64\n",
      " 92   total_ic_mou_6            float64\n",
      " 93   total_ic_mou_7            float64\n",
      " 94   total_ic_mou_8            float64\n",
      " 95   spl_ic_mou_6              float64\n",
      " 96   spl_ic_mou_7              float64\n",
      " 97   spl_ic_mou_8              float64\n",
      " 98   isd_ic_mou_6              float64\n",
      " 99   isd_ic_mou_7              float64\n",
      " 100  isd_ic_mou_8              float64\n",
      " 101  ic_others_6               float64\n",
      " 102  ic_others_7               float64\n",
      " 103  ic_others_8               float64\n",
      " 104  total_rech_num_6          int64  \n",
      " 105  total_rech_num_7          int64  \n",
      " 106  total_rech_num_8          int64  \n",
      " 107  total_rech_amt_6          int64  \n",
      " 108  total_rech_amt_7          int64  \n",
      " 109  total_rech_amt_8          int64  \n",
      " 110  max_rech_amt_6            int64  \n",
      " 111  max_rech_amt_7            int64  \n",
      " 112  max_rech_amt_8            int64  \n",
      " 113  date_of_last_rech_6       float64\n",
      " 114  date_of_last_rech_7       float64\n",
      " 115  date_of_last_rech_8       float64\n",
      " 116  last_day_rch_amt_6        int64  \n",
      " 117  last_day_rch_amt_7        int64  \n",
      " 118  last_day_rch_amt_8        int64  \n",
      " 119  date_of_last_rech_data_6  float64\n",
      " 120  date_of_last_rech_data_7  float64\n",
      " 121  date_of_last_rech_data_8  float64\n",
      " 122  total_rech_data_6         float64\n",
      " 123  total_rech_data_7         float64\n",
      " 124  total_rech_data_8         float64\n",
      " 125  max_rech_data_6           float64\n",
      " 126  max_rech_data_7           float64\n",
      " 127  max_rech_data_8           float64\n",
      " 128  count_rech_2g_6           float64\n",
      " 129  count_rech_2g_7           float64\n",
      " 130  count_rech_2g_8           float64\n",
      " 131  count_rech_3g_6           float64\n",
      " 132  count_rech_3g_7           float64\n",
      " 133  count_rech_3g_8           float64\n",
      " 134  av_rech_amt_data_6        float64\n",
      " 135  av_rech_amt_data_7        float64\n",
      " 136  av_rech_amt_data_8        float64\n",
      " 137  vol_2g_mb_6               float64\n",
      " 138  vol_2g_mb_7               float64\n",
      " 139  vol_2g_mb_8               float64\n",
      " 140  vol_3g_mb_6               float64\n",
      " 141  vol_3g_mb_7               float64\n",
      " 142  vol_3g_mb_8               float64\n",
      " 143  arpu_3g_6                 float64\n",
      " 144  arpu_3g_7                 float64\n",
      " 145  arpu_3g_8                 float64\n",
      " 146  arpu_2g_6                 float64\n",
      " 147  arpu_2g_7                 float64\n",
      " 148  arpu_2g_8                 float64\n",
      " 149  night_pck_user_6          float64\n",
      " 150  night_pck_user_7          float64\n",
      " 151  night_pck_user_8          float64\n",
      " 152  monthly_2g_6              int64  \n",
      " 153  monthly_2g_7              int64  \n",
      " 154  monthly_2g_8              int64  \n",
      " 155  sachet_2g_6               int64  \n",
      " 156  sachet_2g_7               int64  \n",
      " 157  sachet_2g_8               int64  \n",
      " 158  monthly_3g_6              int64  \n",
      " 159  monthly_3g_7              int64  \n",
      " 160  monthly_3g_8              int64  \n",
      " 161  sachet_3g_6               int64  \n",
      " 162  sachet_3g_7               int64  \n",
      " 163  sachet_3g_8               int64  \n",
      " 164  fb_user_6                 float64\n",
      " 165  fb_user_7                 float64\n",
      " 166  fb_user_8                 float64\n",
      " 167  aon                       int64  \n",
      " 168  aug_vbc_3g                float64\n",
      " 169  jul_vbc_3g                float64\n",
      " 170  jun_vbc_3g                float64\n",
      " 171  churn_probability         int64  \n",
      "dtypes: float64(143), int64(29)\n",
      "memory usage: 92.4 MB\n"
     ]
    }
   ],
   "source": [
    "train_df.info(verbose=True)"
   ]
  },
  {
   "cell_type": "code",
   "execution_count": 24,
   "id": "a97a88e8",
   "metadata": {
    "execution": {
     "iopub.execute_input": "2022-03-16T09:35:57.906179Z",
     "iopub.status.busy": "2022-03-16T09:35:57.905525Z",
     "iopub.status.idle": "2022-03-16T09:35:57.957084Z",
     "shell.execute_reply": "2022-03-16T09:35:57.956375Z",
     "shell.execute_reply.started": "2022-03-16T09:34:31.739299Z"
    },
    "papermill": {
     "duration": 0.137907,
     "end_time": "2022-03-16T09:35:57.957230",
     "exception": false,
     "start_time": "2022-03-16T09:35:57.819323",
     "status": "completed"
    },
    "tags": []
   },
   "outputs": [],
   "source": [
    "for name, dataset in zip(file_name,combine):\n",
    "    dataset.fillna(0,inplace=True)"
   ]
  },
  {
   "cell_type": "code",
   "execution_count": 25,
   "id": "afa4ca7e",
   "metadata": {
    "execution": {
     "iopub.execute_input": "2022-03-16T09:35:58.130168Z",
     "iopub.status.busy": "2022-03-16T09:35:58.129528Z",
     "iopub.status.idle": "2022-03-16T09:35:58.179763Z",
     "shell.execute_reply": "2022-03-16T09:35:58.178813Z",
     "shell.execute_reply.started": "2022-03-16T09:34:31.791517Z"
    },
    "papermill": {
     "duration": 0.138894,
     "end_time": "2022-03-16T09:35:58.179989",
     "exception": false,
     "start_time": "2022-03-16T09:35:58.041095",
     "status": "completed"
    },
    "tags": []
   },
   "outputs": [
    {
     "name": "stdout",
     "output_type": "stream",
     "text": [
      "train\n",
      "id                   0\n",
      "circle_id            0\n",
      "loc_og_t2o_mou       0\n",
      "std_og_t2o_mou       0\n",
      "loc_ic_t2o_mou       0\n",
      "                    ..\n",
      "aon                  0\n",
      "aug_vbc_3g           0\n",
      "jul_vbc_3g           0\n",
      "jun_vbc_3g           0\n",
      "churn_probability    0\n",
      "Length: 172, dtype: int64\n",
      "test\n",
      "id                0\n",
      "circle_id         0\n",
      "loc_og_t2o_mou    0\n",
      "std_og_t2o_mou    0\n",
      "loc_ic_t2o_mou    0\n",
      "                 ..\n",
      "fb_user_8         0\n",
      "aon               0\n",
      "aug_vbc_3g        0\n",
      "jul_vbc_3g        0\n",
      "jun_vbc_3g        0\n",
      "Length: 171, dtype: int64\n"
     ]
    }
   ],
   "source": [
    "for name, dataset in zip(file_name,combine):\n",
    "    print(name)\n",
    "    print(dataset.isnull().sum())"
   ]
  },
  {
   "cell_type": "code",
   "execution_count": 26,
   "id": "2fd57880",
   "metadata": {
    "execution": {
     "iopub.execute_input": "2022-03-16T09:35:58.353827Z",
     "iopub.status.busy": "2022-03-16T09:35:58.352840Z",
     "iopub.status.idle": "2022-03-16T09:35:58.358772Z",
     "shell.execute_reply": "2022-03-16T09:35:58.359225Z",
     "shell.execute_reply.started": "2022-03-16T09:34:31.841713Z"
    },
    "papermill": {
     "duration": 0.094768,
     "end_time": "2022-03-16T09:35:58.359436",
     "exception": false,
     "start_time": "2022-03-16T09:35:58.264668",
     "status": "completed"
    },
    "tags": []
   },
   "outputs": [
    {
     "data": {
      "text/plain": [
       "array([dtype('int64'), dtype('float64')], dtype=object)"
      ]
     },
     "execution_count": 26,
     "metadata": {},
     "output_type": "execute_result"
    }
   ],
   "source": [
    "train_df.dtypes.unique()"
   ]
  },
  {
   "cell_type": "code",
   "execution_count": 27,
   "id": "cde0421d",
   "metadata": {
    "execution": {
     "iopub.execute_input": "2022-03-16T09:35:58.536541Z",
     "iopub.status.busy": "2022-03-16T09:35:58.535334Z",
     "iopub.status.idle": "2022-03-16T09:35:58.604489Z",
     "shell.execute_reply": "2022-03-16T09:35:58.605009Z",
     "shell.execute_reply.started": "2022-03-16T09:34:31.850307Z"
    },
    "papermill": {
     "duration": 0.16131,
     "end_time": "2022-03-16T09:35:58.605217",
     "exception": false,
     "start_time": "2022-03-16T09:35:58.443907",
     "status": "completed"
    },
    "tags": []
   },
   "outputs": [
    {
     "name": "stdout",
     "output_type": "stream",
     "text": [
      "Missing values in terms of Percentage\n"
     ]
    }
   ],
   "source": [
    "print(\"Missing values in terms of Percentage\")\n",
    "\n",
    "for column in train_df:\n",
    "    percent = (train_df[column].isnull().sum() / len(train_df))*100\n",
    "    if percent > 0:\n",
    "        print(column + ' has ' + str(percent) + \"% missing values\")"
   ]
  },
  {
   "cell_type": "code",
   "execution_count": 28,
   "id": "979aced2",
   "metadata": {
    "execution": {
     "iopub.execute_input": "2022-03-16T09:35:58.783734Z",
     "iopub.status.busy": "2022-03-16T09:35:58.782060Z",
     "iopub.status.idle": "2022-03-16T09:35:58.833570Z",
     "shell.execute_reply": "2022-03-16T09:35:58.834252Z",
     "shell.execute_reply.started": "2022-03-16T09:34:31.925693Z"
    },
    "papermill": {
     "duration": 0.142591,
     "end_time": "2022-03-16T09:35:58.834535",
     "exception": false,
     "start_time": "2022-03-16T09:35:58.691944",
     "status": "completed"
    },
    "tags": []
   },
   "outputs": [
    {
     "name": "stdout",
     "output_type": "stream",
     "text": [
      "Missing values in terms of Percentage\n"
     ]
    }
   ],
   "source": [
    "print(\"Missing values in terms of Percentage\")\n",
    "\n",
    "for column in test_df:\n",
    "    percent = (test_df[column].isnull().sum() / len(test_df))*100\n",
    "    if percent > 0:\n",
    "        print(column + ' has ' + str(percent) + \"% missing values\")"
   ]
  },
  {
   "cell_type": "code",
   "execution_count": 29,
   "id": "903d0fcf",
   "metadata": {
    "execution": {
     "iopub.execute_input": "2022-03-16T09:35:59.009930Z",
     "iopub.status.busy": "2022-03-16T09:35:59.008974Z",
     "iopub.status.idle": "2022-03-16T09:35:59.024482Z",
     "shell.execute_reply": "2022-03-16T09:35:59.025726Z",
     "shell.execute_reply.started": "2022-03-16T09:34:31.984683Z"
    },
    "papermill": {
     "duration": 0.105245,
     "end_time": "2022-03-16T09:35:59.025912",
     "exception": false,
     "start_time": "2022-03-16T09:35:58.920667",
     "status": "completed"
    },
    "tags": []
   },
   "outputs": [
    {
     "name": "stdout",
     "output_type": "stream",
     "text": [
      "<class 'pandas.core.frame.DataFrame'>\n",
      "Int64Index: 69999 entries, 0 to 69998\n",
      "Data columns (total 172 columns):\n",
      " #    Column                    Dtype  \n",
      "---   ------                    -----  \n",
      " 0    id                        int64  \n",
      " 1    circle_id                 int64  \n",
      " 2    loc_og_t2o_mou            float64\n",
      " 3    std_og_t2o_mou            float64\n",
      " 4    loc_ic_t2o_mou            float64\n",
      " 5    last_date_of_month_6      int64  \n",
      " 6    last_date_of_month_7      float64\n",
      " 7    last_date_of_month_8      float64\n",
      " 8    arpu_6                    float64\n",
      " 9    arpu_7                    float64\n",
      " 10   arpu_8                    float64\n",
      " 11   onnet_mou_6               float64\n",
      " 12   onnet_mou_7               float64\n",
      " 13   onnet_mou_8               float64\n",
      " 14   offnet_mou_6              float64\n",
      " 15   offnet_mou_7              float64\n",
      " 16   offnet_mou_8              float64\n",
      " 17   roam_ic_mou_6             float64\n",
      " 18   roam_ic_mou_7             float64\n",
      " 19   roam_ic_mou_8             float64\n",
      " 20   roam_og_mou_6             float64\n",
      " 21   roam_og_mou_7             float64\n",
      " 22   roam_og_mou_8             float64\n",
      " 23   loc_og_t2t_mou_6          float64\n",
      " 24   loc_og_t2t_mou_7          float64\n",
      " 25   loc_og_t2t_mou_8          float64\n",
      " 26   loc_og_t2m_mou_6          float64\n",
      " 27   loc_og_t2m_mou_7          float64\n",
      " 28   loc_og_t2m_mou_8          float64\n",
      " 29   loc_og_t2f_mou_6          float64\n",
      " 30   loc_og_t2f_mou_7          float64\n",
      " 31   loc_og_t2f_mou_8          float64\n",
      " 32   loc_og_t2c_mou_6          float64\n",
      " 33   loc_og_t2c_mou_7          float64\n",
      " 34   loc_og_t2c_mou_8          float64\n",
      " 35   loc_og_mou_6              float64\n",
      " 36   loc_og_mou_7              float64\n",
      " 37   loc_og_mou_8              float64\n",
      " 38   std_og_t2t_mou_6          float64\n",
      " 39   std_og_t2t_mou_7          float64\n",
      " 40   std_og_t2t_mou_8          float64\n",
      " 41   std_og_t2m_mou_6          float64\n",
      " 42   std_og_t2m_mou_7          float64\n",
      " 43   std_og_t2m_mou_8          float64\n",
      " 44   std_og_t2f_mou_6          float64\n",
      " 45   std_og_t2f_mou_7          float64\n",
      " 46   std_og_t2f_mou_8          float64\n",
      " 47   std_og_t2c_mou_6          float64\n",
      " 48   std_og_t2c_mou_7          float64\n",
      " 49   std_og_t2c_mou_8          float64\n",
      " 50   std_og_mou_6              float64\n",
      " 51   std_og_mou_7              float64\n",
      " 52   std_og_mou_8              float64\n",
      " 53   isd_og_mou_6              float64\n",
      " 54   isd_og_mou_7              float64\n",
      " 55   isd_og_mou_8              float64\n",
      " 56   spl_og_mou_6              float64\n",
      " 57   spl_og_mou_7              float64\n",
      " 58   spl_og_mou_8              float64\n",
      " 59   og_others_6               float64\n",
      " 60   og_others_7               float64\n",
      " 61   og_others_8               float64\n",
      " 62   total_og_mou_6            float64\n",
      " 63   total_og_mou_7            float64\n",
      " 64   total_og_mou_8            float64\n",
      " 65   loc_ic_t2t_mou_6          float64\n",
      " 66   loc_ic_t2t_mou_7          float64\n",
      " 67   loc_ic_t2t_mou_8          float64\n",
      " 68   loc_ic_t2m_mou_6          float64\n",
      " 69   loc_ic_t2m_mou_7          float64\n",
      " 70   loc_ic_t2m_mou_8          float64\n",
      " 71   loc_ic_t2f_mou_6          float64\n",
      " 72   loc_ic_t2f_mou_7          float64\n",
      " 73   loc_ic_t2f_mou_8          float64\n",
      " 74   loc_ic_mou_6              float64\n",
      " 75   loc_ic_mou_7              float64\n",
      " 76   loc_ic_mou_8              float64\n",
      " 77   std_ic_t2t_mou_6          float64\n",
      " 78   std_ic_t2t_mou_7          float64\n",
      " 79   std_ic_t2t_mou_8          float64\n",
      " 80   std_ic_t2m_mou_6          float64\n",
      " 81   std_ic_t2m_mou_7          float64\n",
      " 82   std_ic_t2m_mou_8          float64\n",
      " 83   std_ic_t2f_mou_6          float64\n",
      " 84   std_ic_t2f_mou_7          float64\n",
      " 85   std_ic_t2f_mou_8          float64\n",
      " 86   std_ic_t2o_mou_6          float64\n",
      " 87   std_ic_t2o_mou_7          float64\n",
      " 88   std_ic_t2o_mou_8          float64\n",
      " 89   std_ic_mou_6              float64\n",
      " 90   std_ic_mou_7              float64\n",
      " 91   std_ic_mou_8              float64\n",
      " 92   total_ic_mou_6            float64\n",
      " 93   total_ic_mou_7            float64\n",
      " 94   total_ic_mou_8            float64\n",
      " 95   spl_ic_mou_6              float64\n",
      " 96   spl_ic_mou_7              float64\n",
      " 97   spl_ic_mou_8              float64\n",
      " 98   isd_ic_mou_6              float64\n",
      " 99   isd_ic_mou_7              float64\n",
      " 100  isd_ic_mou_8              float64\n",
      " 101  ic_others_6               float64\n",
      " 102  ic_others_7               float64\n",
      " 103  ic_others_8               float64\n",
      " 104  total_rech_num_6          int64  \n",
      " 105  total_rech_num_7          int64  \n",
      " 106  total_rech_num_8          int64  \n",
      " 107  total_rech_amt_6          int64  \n",
      " 108  total_rech_amt_7          int64  \n",
      " 109  total_rech_amt_8          int64  \n",
      " 110  max_rech_amt_6            int64  \n",
      " 111  max_rech_amt_7            int64  \n",
      " 112  max_rech_amt_8            int64  \n",
      " 113  date_of_last_rech_6       float64\n",
      " 114  date_of_last_rech_7       float64\n",
      " 115  date_of_last_rech_8       float64\n",
      " 116  last_day_rch_amt_6        int64  \n",
      " 117  last_day_rch_amt_7        int64  \n",
      " 118  last_day_rch_amt_8        int64  \n",
      " 119  date_of_last_rech_data_6  float64\n",
      " 120  date_of_last_rech_data_7  float64\n",
      " 121  date_of_last_rech_data_8  float64\n",
      " 122  total_rech_data_6         float64\n",
      " 123  total_rech_data_7         float64\n",
      " 124  total_rech_data_8         float64\n",
      " 125  max_rech_data_6           float64\n",
      " 126  max_rech_data_7           float64\n",
      " 127  max_rech_data_8           float64\n",
      " 128  count_rech_2g_6           float64\n",
      " 129  count_rech_2g_7           float64\n",
      " 130  count_rech_2g_8           float64\n",
      " 131  count_rech_3g_6           float64\n",
      " 132  count_rech_3g_7           float64\n",
      " 133  count_rech_3g_8           float64\n",
      " 134  av_rech_amt_data_6        float64\n",
      " 135  av_rech_amt_data_7        float64\n",
      " 136  av_rech_amt_data_8        float64\n",
      " 137  vol_2g_mb_6               float64\n",
      " 138  vol_2g_mb_7               float64\n",
      " 139  vol_2g_mb_8               float64\n",
      " 140  vol_3g_mb_6               float64\n",
      " 141  vol_3g_mb_7               float64\n",
      " 142  vol_3g_mb_8               float64\n",
      " 143  arpu_3g_6                 float64\n",
      " 144  arpu_3g_7                 float64\n",
      " 145  arpu_3g_8                 float64\n",
      " 146  arpu_2g_6                 float64\n",
      " 147  arpu_2g_7                 float64\n",
      " 148  arpu_2g_8                 float64\n",
      " 149  night_pck_user_6          float64\n",
      " 150  night_pck_user_7          float64\n",
      " 151  night_pck_user_8          float64\n",
      " 152  monthly_2g_6              int64  \n",
      " 153  monthly_2g_7              int64  \n",
      " 154  monthly_2g_8              int64  \n",
      " 155  sachet_2g_6               int64  \n",
      " 156  sachet_2g_7               int64  \n",
      " 157  sachet_2g_8               int64  \n",
      " 158  monthly_3g_6              int64  \n",
      " 159  monthly_3g_7              int64  \n",
      " 160  monthly_3g_8              int64  \n",
      " 161  sachet_3g_6               int64  \n",
      " 162  sachet_3g_7               int64  \n",
      " 163  sachet_3g_8               int64  \n",
      " 164  fb_user_6                 float64\n",
      " 165  fb_user_7                 float64\n",
      " 166  fb_user_8                 float64\n",
      " 167  aon                       int64  \n",
      " 168  aug_vbc_3g                float64\n",
      " 169  jul_vbc_3g                float64\n",
      " 170  jun_vbc_3g                float64\n",
      " 171  churn_probability         int64  \n",
      "dtypes: float64(143), int64(29)\n",
      "memory usage: 92.4 MB\n"
     ]
    }
   ],
   "source": [
    "train_df.info(verbose=True)"
   ]
  },
  {
   "cell_type": "code",
   "execution_count": 30,
   "id": "b2d943ae",
   "metadata": {
    "execution": {
     "iopub.execute_input": "2022-03-16T09:35:59.200766Z",
     "iopub.status.busy": "2022-03-16T09:35:59.199827Z",
     "iopub.status.idle": "2022-03-16T09:35:59.893386Z",
     "shell.execute_reply": "2022-03-16T09:35:59.893906Z",
     "shell.execute_reply.started": "2022-03-16T09:34:32.002886Z"
    },
    "papermill": {
     "duration": 0.782301,
     "end_time": "2022-03-16T09:35:59.894075",
     "exception": false,
     "start_time": "2022-03-16T09:35:59.111774",
     "status": "completed"
    },
    "tags": []
   },
   "outputs": [
    {
     "data": {
      "text/html": [
       "<div>\n",
       "<style scoped>\n",
       "    .dataframe tbody tr th:only-of-type {\n",
       "        vertical-align: middle;\n",
       "    }\n",
       "\n",
       "    .dataframe tbody tr th {\n",
       "        vertical-align: top;\n",
       "    }\n",
       "\n",
       "    .dataframe thead th {\n",
       "        text-align: right;\n",
       "    }\n",
       "</style>\n",
       "<table border=\"1\" class=\"dataframe\">\n",
       "  <thead>\n",
       "    <tr style=\"text-align: right;\">\n",
       "      <th></th>\n",
       "      <th>id</th>\n",
       "      <th>circle_id</th>\n",
       "      <th>loc_og_t2o_mou</th>\n",
       "      <th>std_og_t2o_mou</th>\n",
       "      <th>loc_ic_t2o_mou</th>\n",
       "      <th>last_date_of_month_6</th>\n",
       "      <th>last_date_of_month_7</th>\n",
       "      <th>last_date_of_month_8</th>\n",
       "      <th>arpu_6</th>\n",
       "      <th>arpu_7</th>\n",
       "      <th>...</th>\n",
       "      <th>sachet_3g_7</th>\n",
       "      <th>sachet_3g_8</th>\n",
       "      <th>fb_user_6</th>\n",
       "      <th>fb_user_7</th>\n",
       "      <th>fb_user_8</th>\n",
       "      <th>aon</th>\n",
       "      <th>aug_vbc_3g</th>\n",
       "      <th>jul_vbc_3g</th>\n",
       "      <th>jun_vbc_3g</th>\n",
       "      <th>churn_probability</th>\n",
       "    </tr>\n",
       "  </thead>\n",
       "  <tbody>\n",
       "    <tr>\n",
       "      <th>count</th>\n",
       "      <td>69999.000000</td>\n",
       "      <td>69999.0</td>\n",
       "      <td>69999.0</td>\n",
       "      <td>69999.0</td>\n",
       "      <td>69999.0</td>\n",
       "      <td>69999.0</td>\n",
       "      <td>69999.000000</td>\n",
       "      <td>69999.000000</td>\n",
       "      <td>69999.000000</td>\n",
       "      <td>69999.000000</td>\n",
       "      <td>...</td>\n",
       "      <td>69999.000000</td>\n",
       "      <td>69999.000000</td>\n",
       "      <td>69999.000000</td>\n",
       "      <td>69999.000000</td>\n",
       "      <td>69999.000000</td>\n",
       "      <td>69999.000000</td>\n",
       "      <td>69999.000000</td>\n",
       "      <td>69999.000000</td>\n",
       "      <td>69999.00000</td>\n",
       "      <td>69999.000000</td>\n",
       "    </tr>\n",
       "    <tr>\n",
       "      <th>mean</th>\n",
       "      <td>34999.000000</td>\n",
       "      <td>109.0</td>\n",
       "      <td>0.0</td>\n",
       "      <td>0.0</td>\n",
       "      <td>0.0</td>\n",
       "      <td>30.0</td>\n",
       "      <td>30.823297</td>\n",
       "      <td>30.675381</td>\n",
       "      <td>283.134365</td>\n",
       "      <td>278.185912</td>\n",
       "      <td>...</td>\n",
       "      <td>0.081444</td>\n",
       "      <td>0.085487</td>\n",
       "      <td>0.229975</td>\n",
       "      <td>0.232132</td>\n",
       "      <td>0.234246</td>\n",
       "      <td>1220.639709</td>\n",
       "      <td>68.108597</td>\n",
       "      <td>65.935830</td>\n",
       "      <td>60.07674</td>\n",
       "      <td>0.101887</td>\n",
       "    </tr>\n",
       "    <tr>\n",
       "      <th>std</th>\n",
       "      <td>20207.115084</td>\n",
       "      <td>0.0</td>\n",
       "      <td>0.0</td>\n",
       "      <td>0.0</td>\n",
       "      <td>0.0</td>\n",
       "      <td>0.0</td>\n",
       "      <td>2.333802</td>\n",
       "      <td>3.155622</td>\n",
       "      <td>334.213918</td>\n",
       "      <td>344.366927</td>\n",
       "      <td>...</td>\n",
       "      <td>0.634547</td>\n",
       "      <td>0.680035</td>\n",
       "      <td>0.420819</td>\n",
       "      <td>0.422196</td>\n",
       "      <td>0.423530</td>\n",
       "      <td>952.426321</td>\n",
       "      <td>269.328659</td>\n",
       "      <td>267.899034</td>\n",
       "      <td>257.22681</td>\n",
       "      <td>0.302502</td>\n",
       "    </tr>\n",
       "    <tr>\n",
       "      <th>min</th>\n",
       "      <td>0.000000</td>\n",
       "      <td>109.0</td>\n",
       "      <td>0.0</td>\n",
       "      <td>0.0</td>\n",
       "      <td>0.0</td>\n",
       "      <td>30.0</td>\n",
       "      <td>0.000000</td>\n",
       "      <td>0.000000</td>\n",
       "      <td>-2258.709000</td>\n",
       "      <td>-1289.715000</td>\n",
       "      <td>...</td>\n",
       "      <td>0.000000</td>\n",
       "      <td>0.000000</td>\n",
       "      <td>0.000000</td>\n",
       "      <td>0.000000</td>\n",
       "      <td>0.000000</td>\n",
       "      <td>180.000000</td>\n",
       "      <td>0.000000</td>\n",
       "      <td>0.000000</td>\n",
       "      <td>0.00000</td>\n",
       "      <td>0.000000</td>\n",
       "    </tr>\n",
       "    <tr>\n",
       "      <th>25%</th>\n",
       "      <td>17499.500000</td>\n",
       "      <td>109.0</td>\n",
       "      <td>0.0</td>\n",
       "      <td>0.0</td>\n",
       "      <td>0.0</td>\n",
       "      <td>30.0</td>\n",
       "      <td>31.000000</td>\n",
       "      <td>31.000000</td>\n",
       "      <td>93.581000</td>\n",
       "      <td>86.714000</td>\n",
       "      <td>...</td>\n",
       "      <td>0.000000</td>\n",
       "      <td>0.000000</td>\n",
       "      <td>0.000000</td>\n",
       "      <td>0.000000</td>\n",
       "      <td>0.000000</td>\n",
       "      <td>468.000000</td>\n",
       "      <td>0.000000</td>\n",
       "      <td>0.000000</td>\n",
       "      <td>0.00000</td>\n",
       "      <td>0.000000</td>\n",
       "    </tr>\n",
       "    <tr>\n",
       "      <th>50%</th>\n",
       "      <td>34999.000000</td>\n",
       "      <td>109.0</td>\n",
       "      <td>0.0</td>\n",
       "      <td>0.0</td>\n",
       "      <td>0.0</td>\n",
       "      <td>30.0</td>\n",
       "      <td>31.000000</td>\n",
       "      <td>31.000000</td>\n",
       "      <td>197.484000</td>\n",
       "      <td>191.588000</td>\n",
       "      <td>...</td>\n",
       "      <td>0.000000</td>\n",
       "      <td>0.000000</td>\n",
       "      <td>0.000000</td>\n",
       "      <td>0.000000</td>\n",
       "      <td>0.000000</td>\n",
       "      <td>868.000000</td>\n",
       "      <td>0.000000</td>\n",
       "      <td>0.000000</td>\n",
       "      <td>0.00000</td>\n",
       "      <td>0.000000</td>\n",
       "    </tr>\n",
       "    <tr>\n",
       "      <th>75%</th>\n",
       "      <td>52498.500000</td>\n",
       "      <td>109.0</td>\n",
       "      <td>0.0</td>\n",
       "      <td>0.0</td>\n",
       "      <td>0.0</td>\n",
       "      <td>30.0</td>\n",
       "      <td>31.000000</td>\n",
       "      <td>31.000000</td>\n",
       "      <td>370.791000</td>\n",
       "      <td>365.369500</td>\n",
       "      <td>...</td>\n",
       "      <td>0.000000</td>\n",
       "      <td>0.000000</td>\n",
       "      <td>0.000000</td>\n",
       "      <td>0.000000</td>\n",
       "      <td>0.000000</td>\n",
       "      <td>1813.000000</td>\n",
       "      <td>0.000000</td>\n",
       "      <td>0.000000</td>\n",
       "      <td>0.00000</td>\n",
       "      <td>0.000000</td>\n",
       "    </tr>\n",
       "    <tr>\n",
       "      <th>max</th>\n",
       "      <td>69998.000000</td>\n",
       "      <td>109.0</td>\n",
       "      <td>0.0</td>\n",
       "      <td>0.0</td>\n",
       "      <td>0.0</td>\n",
       "      <td>30.0</td>\n",
       "      <td>31.000000</td>\n",
       "      <td>31.000000</td>\n",
       "      <td>27731.088000</td>\n",
       "      <td>35145.834000</td>\n",
       "      <td>...</td>\n",
       "      <td>33.000000</td>\n",
       "      <td>41.000000</td>\n",
       "      <td>1.000000</td>\n",
       "      <td>1.000000</td>\n",
       "      <td>1.000000</td>\n",
       "      <td>4337.000000</td>\n",
       "      <td>12916.220000</td>\n",
       "      <td>9165.600000</td>\n",
       "      <td>11166.21000</td>\n",
       "      <td>1.000000</td>\n",
       "    </tr>\n",
       "  </tbody>\n",
       "</table>\n",
       "<p>8 rows × 172 columns</p>\n",
       "</div>"
      ],
      "text/plain": [
       "                 id  circle_id  loc_og_t2o_mou  std_og_t2o_mou  \\\n",
       "count  69999.000000    69999.0         69999.0         69999.0   \n",
       "mean   34999.000000      109.0             0.0             0.0   \n",
       "std    20207.115084        0.0             0.0             0.0   \n",
       "min        0.000000      109.0             0.0             0.0   \n",
       "25%    17499.500000      109.0             0.0             0.0   \n",
       "50%    34999.000000      109.0             0.0             0.0   \n",
       "75%    52498.500000      109.0             0.0             0.0   \n",
       "max    69998.000000      109.0             0.0             0.0   \n",
       "\n",
       "       loc_ic_t2o_mou  last_date_of_month_6  last_date_of_month_7  \\\n",
       "count         69999.0               69999.0          69999.000000   \n",
       "mean              0.0                  30.0             30.823297   \n",
       "std               0.0                   0.0              2.333802   \n",
       "min               0.0                  30.0              0.000000   \n",
       "25%               0.0                  30.0             31.000000   \n",
       "50%               0.0                  30.0             31.000000   \n",
       "75%               0.0                  30.0             31.000000   \n",
       "max               0.0                  30.0             31.000000   \n",
       "\n",
       "       last_date_of_month_8        arpu_6        arpu_7  ...   sachet_3g_7  \\\n",
       "count          69999.000000  69999.000000  69999.000000  ...  69999.000000   \n",
       "mean              30.675381    283.134365    278.185912  ...      0.081444   \n",
       "std                3.155622    334.213918    344.366927  ...      0.634547   \n",
       "min                0.000000  -2258.709000  -1289.715000  ...      0.000000   \n",
       "25%               31.000000     93.581000     86.714000  ...      0.000000   \n",
       "50%               31.000000    197.484000    191.588000  ...      0.000000   \n",
       "75%               31.000000    370.791000    365.369500  ...      0.000000   \n",
       "max               31.000000  27731.088000  35145.834000  ...     33.000000   \n",
       "\n",
       "        sachet_3g_8     fb_user_6     fb_user_7     fb_user_8           aon  \\\n",
       "count  69999.000000  69999.000000  69999.000000  69999.000000  69999.000000   \n",
       "mean       0.085487      0.229975      0.232132      0.234246   1220.639709   \n",
       "std        0.680035      0.420819      0.422196      0.423530    952.426321   \n",
       "min        0.000000      0.000000      0.000000      0.000000    180.000000   \n",
       "25%        0.000000      0.000000      0.000000      0.000000    468.000000   \n",
       "50%        0.000000      0.000000      0.000000      0.000000    868.000000   \n",
       "75%        0.000000      0.000000      0.000000      0.000000   1813.000000   \n",
       "max       41.000000      1.000000      1.000000      1.000000   4337.000000   \n",
       "\n",
       "         aug_vbc_3g    jul_vbc_3g   jun_vbc_3g  churn_probability  \n",
       "count  69999.000000  69999.000000  69999.00000       69999.000000  \n",
       "mean      68.108597     65.935830     60.07674           0.101887  \n",
       "std      269.328659    267.899034    257.22681           0.302502  \n",
       "min        0.000000      0.000000      0.00000           0.000000  \n",
       "25%        0.000000      0.000000      0.00000           0.000000  \n",
       "50%        0.000000      0.000000      0.00000           0.000000  \n",
       "75%        0.000000      0.000000      0.00000           0.000000  \n",
       "max    12916.220000   9165.600000  11166.21000           1.000000  \n",
       "\n",
       "[8 rows x 172 columns]"
      ]
     },
     "execution_count": 30,
     "metadata": {},
     "output_type": "execute_result"
    }
   ],
   "source": [
    "train_df.describe()"
   ]
  },
  {
   "cell_type": "code",
   "execution_count": 31,
   "id": "b939d8ec",
   "metadata": {
    "execution": {
     "iopub.execute_input": "2022-03-16T09:36:00.070043Z",
     "iopub.status.busy": "2022-03-16T09:36:00.069085Z",
     "iopub.status.idle": "2022-03-16T09:36:00.812105Z",
     "shell.execute_reply": "2022-03-16T09:36:00.812651Z",
     "shell.execute_reply.started": "2022-03-16T09:34:32.736144Z"
    },
    "papermill": {
     "duration": 0.832694,
     "end_time": "2022-03-16T09:36:00.812861",
     "exception": false,
     "start_time": "2022-03-16T09:35:59.980167",
     "status": "completed"
    },
    "tags": []
   },
   "outputs": [
    {
     "data": {
      "text/html": [
       "<div>\n",
       "<style scoped>\n",
       "    .dataframe tbody tr th:only-of-type {\n",
       "        vertical-align: middle;\n",
       "    }\n",
       "\n",
       "    .dataframe tbody tr th {\n",
       "        vertical-align: top;\n",
       "    }\n",
       "\n",
       "    .dataframe thead th {\n",
       "        text-align: right;\n",
       "    }\n",
       "</style>\n",
       "<table border=\"1\" class=\"dataframe\">\n",
       "  <thead>\n",
       "    <tr style=\"text-align: right;\">\n",
       "      <th></th>\n",
       "      <th>id</th>\n",
       "      <th>circle_id</th>\n",
       "      <th>loc_og_t2o_mou</th>\n",
       "      <th>std_og_t2o_mou</th>\n",
       "      <th>loc_ic_t2o_mou</th>\n",
       "      <th>last_date_of_month_6</th>\n",
       "      <th>last_date_of_month_7</th>\n",
       "      <th>last_date_of_month_8</th>\n",
       "      <th>arpu_6</th>\n",
       "      <th>arpu_7</th>\n",
       "      <th>...</th>\n",
       "      <th>sachet_3g_7</th>\n",
       "      <th>sachet_3g_8</th>\n",
       "      <th>fb_user_6</th>\n",
       "      <th>fb_user_7</th>\n",
       "      <th>fb_user_8</th>\n",
       "      <th>aon</th>\n",
       "      <th>aug_vbc_3g</th>\n",
       "      <th>jul_vbc_3g</th>\n",
       "      <th>jun_vbc_3g</th>\n",
       "      <th>churn_probability</th>\n",
       "    </tr>\n",
       "  </thead>\n",
       "  <tbody>\n",
       "    <tr>\n",
       "      <th>count</th>\n",
       "      <td>69999.000000</td>\n",
       "      <td>69999.0</td>\n",
       "      <td>69999.0</td>\n",
       "      <td>69999.0</td>\n",
       "      <td>69999.0</td>\n",
       "      <td>69999.0</td>\n",
       "      <td>69999.000000</td>\n",
       "      <td>69999.000000</td>\n",
       "      <td>69999.000000</td>\n",
       "      <td>69999.000000</td>\n",
       "      <td>...</td>\n",
       "      <td>69999.000000</td>\n",
       "      <td>69999.000000</td>\n",
       "      <td>69999.000000</td>\n",
       "      <td>69999.000000</td>\n",
       "      <td>69999.000000</td>\n",
       "      <td>69999.000000</td>\n",
       "      <td>69999.000000</td>\n",
       "      <td>69999.000000</td>\n",
       "      <td>69999.00000</td>\n",
       "      <td>69999.000000</td>\n",
       "    </tr>\n",
       "    <tr>\n",
       "      <th>mean</th>\n",
       "      <td>34999.000000</td>\n",
       "      <td>109.0</td>\n",
       "      <td>0.0</td>\n",
       "      <td>0.0</td>\n",
       "      <td>0.0</td>\n",
       "      <td>30.0</td>\n",
       "      <td>30.823297</td>\n",
       "      <td>30.675381</td>\n",
       "      <td>283.134365</td>\n",
       "      <td>278.185912</td>\n",
       "      <td>...</td>\n",
       "      <td>0.081444</td>\n",
       "      <td>0.085487</td>\n",
       "      <td>0.229975</td>\n",
       "      <td>0.232132</td>\n",
       "      <td>0.234246</td>\n",
       "      <td>1220.639709</td>\n",
       "      <td>68.108597</td>\n",
       "      <td>65.935830</td>\n",
       "      <td>60.07674</td>\n",
       "      <td>0.101887</td>\n",
       "    </tr>\n",
       "    <tr>\n",
       "      <th>std</th>\n",
       "      <td>20207.115084</td>\n",
       "      <td>0.0</td>\n",
       "      <td>0.0</td>\n",
       "      <td>0.0</td>\n",
       "      <td>0.0</td>\n",
       "      <td>0.0</td>\n",
       "      <td>2.333802</td>\n",
       "      <td>3.155622</td>\n",
       "      <td>334.213918</td>\n",
       "      <td>344.366927</td>\n",
       "      <td>...</td>\n",
       "      <td>0.634547</td>\n",
       "      <td>0.680035</td>\n",
       "      <td>0.420819</td>\n",
       "      <td>0.422196</td>\n",
       "      <td>0.423530</td>\n",
       "      <td>952.426321</td>\n",
       "      <td>269.328659</td>\n",
       "      <td>267.899034</td>\n",
       "      <td>257.22681</td>\n",
       "      <td>0.302502</td>\n",
       "    </tr>\n",
       "    <tr>\n",
       "      <th>min</th>\n",
       "      <td>0.000000</td>\n",
       "      <td>109.0</td>\n",
       "      <td>0.0</td>\n",
       "      <td>0.0</td>\n",
       "      <td>0.0</td>\n",
       "      <td>30.0</td>\n",
       "      <td>0.000000</td>\n",
       "      <td>0.000000</td>\n",
       "      <td>-2258.709000</td>\n",
       "      <td>-1289.715000</td>\n",
       "      <td>...</td>\n",
       "      <td>0.000000</td>\n",
       "      <td>0.000000</td>\n",
       "      <td>0.000000</td>\n",
       "      <td>0.000000</td>\n",
       "      <td>0.000000</td>\n",
       "      <td>180.000000</td>\n",
       "      <td>0.000000</td>\n",
       "      <td>0.000000</td>\n",
       "      <td>0.00000</td>\n",
       "      <td>0.000000</td>\n",
       "    </tr>\n",
       "    <tr>\n",
       "      <th>1%</th>\n",
       "      <td>699.980000</td>\n",
       "      <td>109.0</td>\n",
       "      <td>0.0</td>\n",
       "      <td>0.0</td>\n",
       "      <td>0.0</td>\n",
       "      <td>30.0</td>\n",
       "      <td>31.000000</td>\n",
       "      <td>0.000000</td>\n",
       "      <td>0.000000</td>\n",
       "      <td>0.000000</td>\n",
       "      <td>...</td>\n",
       "      <td>0.000000</td>\n",
       "      <td>0.000000</td>\n",
       "      <td>0.000000</td>\n",
       "      <td>0.000000</td>\n",
       "      <td>0.000000</td>\n",
       "      <td>188.000000</td>\n",
       "      <td>0.000000</td>\n",
       "      <td>0.000000</td>\n",
       "      <td>0.00000</td>\n",
       "      <td>0.000000</td>\n",
       "    </tr>\n",
       "    <tr>\n",
       "      <th>10%</th>\n",
       "      <td>6999.800000</td>\n",
       "      <td>109.0</td>\n",
       "      <td>0.0</td>\n",
       "      <td>0.0</td>\n",
       "      <td>0.0</td>\n",
       "      <td>30.0</td>\n",
       "      <td>31.000000</td>\n",
       "      <td>31.000000</td>\n",
       "      <td>32.248600</td>\n",
       "      <td>29.761200</td>\n",
       "      <td>...</td>\n",
       "      <td>0.000000</td>\n",
       "      <td>0.000000</td>\n",
       "      <td>0.000000</td>\n",
       "      <td>0.000000</td>\n",
       "      <td>0.000000</td>\n",
       "      <td>286.000000</td>\n",
       "      <td>0.000000</td>\n",
       "      <td>0.000000</td>\n",
       "      <td>0.00000</td>\n",
       "      <td>0.000000</td>\n",
       "    </tr>\n",
       "    <tr>\n",
       "      <th>25%</th>\n",
       "      <td>17499.500000</td>\n",
       "      <td>109.0</td>\n",
       "      <td>0.0</td>\n",
       "      <td>0.0</td>\n",
       "      <td>0.0</td>\n",
       "      <td>30.0</td>\n",
       "      <td>31.000000</td>\n",
       "      <td>31.000000</td>\n",
       "      <td>93.581000</td>\n",
       "      <td>86.714000</td>\n",
       "      <td>...</td>\n",
       "      <td>0.000000</td>\n",
       "      <td>0.000000</td>\n",
       "      <td>0.000000</td>\n",
       "      <td>0.000000</td>\n",
       "      <td>0.000000</td>\n",
       "      <td>468.000000</td>\n",
       "      <td>0.000000</td>\n",
       "      <td>0.000000</td>\n",
       "      <td>0.00000</td>\n",
       "      <td>0.000000</td>\n",
       "    </tr>\n",
       "    <tr>\n",
       "      <th>50%</th>\n",
       "      <td>34999.000000</td>\n",
       "      <td>109.0</td>\n",
       "      <td>0.0</td>\n",
       "      <td>0.0</td>\n",
       "      <td>0.0</td>\n",
       "      <td>30.0</td>\n",
       "      <td>31.000000</td>\n",
       "      <td>31.000000</td>\n",
       "      <td>197.484000</td>\n",
       "      <td>191.588000</td>\n",
       "      <td>...</td>\n",
       "      <td>0.000000</td>\n",
       "      <td>0.000000</td>\n",
       "      <td>0.000000</td>\n",
       "      <td>0.000000</td>\n",
       "      <td>0.000000</td>\n",
       "      <td>868.000000</td>\n",
       "      <td>0.000000</td>\n",
       "      <td>0.000000</td>\n",
       "      <td>0.00000</td>\n",
       "      <td>0.000000</td>\n",
       "    </tr>\n",
       "    <tr>\n",
       "      <th>75%</th>\n",
       "      <td>52498.500000</td>\n",
       "      <td>109.0</td>\n",
       "      <td>0.0</td>\n",
       "      <td>0.0</td>\n",
       "      <td>0.0</td>\n",
       "      <td>30.0</td>\n",
       "      <td>31.000000</td>\n",
       "      <td>31.000000</td>\n",
       "      <td>370.791000</td>\n",
       "      <td>365.369500</td>\n",
       "      <td>...</td>\n",
       "      <td>0.000000</td>\n",
       "      <td>0.000000</td>\n",
       "      <td>0.000000</td>\n",
       "      <td>0.000000</td>\n",
       "      <td>0.000000</td>\n",
       "      <td>1813.000000</td>\n",
       "      <td>0.000000</td>\n",
       "      <td>0.000000</td>\n",
       "      <td>0.00000</td>\n",
       "      <td>0.000000</td>\n",
       "    </tr>\n",
       "    <tr>\n",
       "      <th>90%</th>\n",
       "      <td>62998.200000</td>\n",
       "      <td>109.0</td>\n",
       "      <td>0.0</td>\n",
       "      <td>0.0</td>\n",
       "      <td>0.0</td>\n",
       "      <td>30.0</td>\n",
       "      <td>31.000000</td>\n",
       "      <td>31.000000</td>\n",
       "      <td>619.993800</td>\n",
       "      <td>615.661400</td>\n",
       "      <td>...</td>\n",
       "      <td>0.000000</td>\n",
       "      <td>0.000000</td>\n",
       "      <td>1.000000</td>\n",
       "      <td>1.000000</td>\n",
       "      <td>1.000000</td>\n",
       "      <td>2792.000000</td>\n",
       "      <td>160.444000</td>\n",
       "      <td>136.272000</td>\n",
       "      <td>110.32800</td>\n",
       "      <td>1.000000</td>\n",
       "    </tr>\n",
       "    <tr>\n",
       "      <th>95%</th>\n",
       "      <td>66498.100000</td>\n",
       "      <td>109.0</td>\n",
       "      <td>0.0</td>\n",
       "      <td>0.0</td>\n",
       "      <td>0.0</td>\n",
       "      <td>30.0</td>\n",
       "      <td>31.000000</td>\n",
       "      <td>31.000000</td>\n",
       "      <td>832.022700</td>\n",
       "      <td>823.236700</td>\n",
       "      <td>...</td>\n",
       "      <td>0.000000</td>\n",
       "      <td>0.000000</td>\n",
       "      <td>1.000000</td>\n",
       "      <td>1.000000</td>\n",
       "      <td>1.000000</td>\n",
       "      <td>3108.000000</td>\n",
       "      <td>464.277000</td>\n",
       "      <td>446.353000</td>\n",
       "      <td>400.13400</td>\n",
       "      <td>1.000000</td>\n",
       "    </tr>\n",
       "    <tr>\n",
       "      <th>99%</th>\n",
       "      <td>69298.020000</td>\n",
       "      <td>109.0</td>\n",
       "      <td>0.0</td>\n",
       "      <td>0.0</td>\n",
       "      <td>0.0</td>\n",
       "      <td>30.0</td>\n",
       "      <td>31.000000</td>\n",
       "      <td>31.000000</td>\n",
       "      <td>1400.276640</td>\n",
       "      <td>1414.891380</td>\n",
       "      <td>...</td>\n",
       "      <td>2.000000</td>\n",
       "      <td>2.000000</td>\n",
       "      <td>1.000000</td>\n",
       "      <td>1.000000</td>\n",
       "      <td>1.000000</td>\n",
       "      <td>3651.000000</td>\n",
       "      <td>1226.659800</td>\n",
       "      <td>1254.279000</td>\n",
       "      <td>1188.26780</td>\n",
       "      <td>1.000000</td>\n",
       "    </tr>\n",
       "    <tr>\n",
       "      <th>max</th>\n",
       "      <td>69998.000000</td>\n",
       "      <td>109.0</td>\n",
       "      <td>0.0</td>\n",
       "      <td>0.0</td>\n",
       "      <td>0.0</td>\n",
       "      <td>30.0</td>\n",
       "      <td>31.000000</td>\n",
       "      <td>31.000000</td>\n",
       "      <td>27731.088000</td>\n",
       "      <td>35145.834000</td>\n",
       "      <td>...</td>\n",
       "      <td>33.000000</td>\n",
       "      <td>41.000000</td>\n",
       "      <td>1.000000</td>\n",
       "      <td>1.000000</td>\n",
       "      <td>1.000000</td>\n",
       "      <td>4337.000000</td>\n",
       "      <td>12916.220000</td>\n",
       "      <td>9165.600000</td>\n",
       "      <td>11166.21000</td>\n",
       "      <td>1.000000</td>\n",
       "    </tr>\n",
       "  </tbody>\n",
       "</table>\n",
       "<p>13 rows × 172 columns</p>\n",
       "</div>"
      ],
      "text/plain": [
       "                 id  circle_id  loc_og_t2o_mou  std_og_t2o_mou  \\\n",
       "count  69999.000000    69999.0         69999.0         69999.0   \n",
       "mean   34999.000000      109.0             0.0             0.0   \n",
       "std    20207.115084        0.0             0.0             0.0   \n",
       "min        0.000000      109.0             0.0             0.0   \n",
       "1%       699.980000      109.0             0.0             0.0   \n",
       "10%     6999.800000      109.0             0.0             0.0   \n",
       "25%    17499.500000      109.0             0.0             0.0   \n",
       "50%    34999.000000      109.0             0.0             0.0   \n",
       "75%    52498.500000      109.0             0.0             0.0   \n",
       "90%    62998.200000      109.0             0.0             0.0   \n",
       "95%    66498.100000      109.0             0.0             0.0   \n",
       "99%    69298.020000      109.0             0.0             0.0   \n",
       "max    69998.000000      109.0             0.0             0.0   \n",
       "\n",
       "       loc_ic_t2o_mou  last_date_of_month_6  last_date_of_month_7  \\\n",
       "count         69999.0               69999.0          69999.000000   \n",
       "mean              0.0                  30.0             30.823297   \n",
       "std               0.0                   0.0              2.333802   \n",
       "min               0.0                  30.0              0.000000   \n",
       "1%                0.0                  30.0             31.000000   \n",
       "10%               0.0                  30.0             31.000000   \n",
       "25%               0.0                  30.0             31.000000   \n",
       "50%               0.0                  30.0             31.000000   \n",
       "75%               0.0                  30.0             31.000000   \n",
       "90%               0.0                  30.0             31.000000   \n",
       "95%               0.0                  30.0             31.000000   \n",
       "99%               0.0                  30.0             31.000000   \n",
       "max               0.0                  30.0             31.000000   \n",
       "\n",
       "       last_date_of_month_8        arpu_6        arpu_7  ...   sachet_3g_7  \\\n",
       "count          69999.000000  69999.000000  69999.000000  ...  69999.000000   \n",
       "mean              30.675381    283.134365    278.185912  ...      0.081444   \n",
       "std                3.155622    334.213918    344.366927  ...      0.634547   \n",
       "min                0.000000  -2258.709000  -1289.715000  ...      0.000000   \n",
       "1%                 0.000000      0.000000      0.000000  ...      0.000000   \n",
       "10%               31.000000     32.248600     29.761200  ...      0.000000   \n",
       "25%               31.000000     93.581000     86.714000  ...      0.000000   \n",
       "50%               31.000000    197.484000    191.588000  ...      0.000000   \n",
       "75%               31.000000    370.791000    365.369500  ...      0.000000   \n",
       "90%               31.000000    619.993800    615.661400  ...      0.000000   \n",
       "95%               31.000000    832.022700    823.236700  ...      0.000000   \n",
       "99%               31.000000   1400.276640   1414.891380  ...      2.000000   \n",
       "max               31.000000  27731.088000  35145.834000  ...     33.000000   \n",
       "\n",
       "        sachet_3g_8     fb_user_6     fb_user_7     fb_user_8           aon  \\\n",
       "count  69999.000000  69999.000000  69999.000000  69999.000000  69999.000000   \n",
       "mean       0.085487      0.229975      0.232132      0.234246   1220.639709   \n",
       "std        0.680035      0.420819      0.422196      0.423530    952.426321   \n",
       "min        0.000000      0.000000      0.000000      0.000000    180.000000   \n",
       "1%         0.000000      0.000000      0.000000      0.000000    188.000000   \n",
       "10%        0.000000      0.000000      0.000000      0.000000    286.000000   \n",
       "25%        0.000000      0.000000      0.000000      0.000000    468.000000   \n",
       "50%        0.000000      0.000000      0.000000      0.000000    868.000000   \n",
       "75%        0.000000      0.000000      0.000000      0.000000   1813.000000   \n",
       "90%        0.000000      1.000000      1.000000      1.000000   2792.000000   \n",
       "95%        0.000000      1.000000      1.000000      1.000000   3108.000000   \n",
       "99%        2.000000      1.000000      1.000000      1.000000   3651.000000   \n",
       "max       41.000000      1.000000      1.000000      1.000000   4337.000000   \n",
       "\n",
       "         aug_vbc_3g    jul_vbc_3g   jun_vbc_3g  churn_probability  \n",
       "count  69999.000000  69999.000000  69999.00000       69999.000000  \n",
       "mean      68.108597     65.935830     60.07674           0.101887  \n",
       "std      269.328659    267.899034    257.22681           0.302502  \n",
       "min        0.000000      0.000000      0.00000           0.000000  \n",
       "1%         0.000000      0.000000      0.00000           0.000000  \n",
       "10%        0.000000      0.000000      0.00000           0.000000  \n",
       "25%        0.000000      0.000000      0.00000           0.000000  \n",
       "50%        0.000000      0.000000      0.00000           0.000000  \n",
       "75%        0.000000      0.000000      0.00000           0.000000  \n",
       "90%      160.444000    136.272000    110.32800           1.000000  \n",
       "95%      464.277000    446.353000    400.13400           1.000000  \n",
       "99%     1226.659800   1254.279000   1188.26780           1.000000  \n",
       "max    12916.220000   9165.600000  11166.21000           1.000000  \n",
       "\n",
       "[13 rows x 172 columns]"
      ]
     },
     "execution_count": 31,
     "metadata": {},
     "output_type": "execute_result"
    }
   ],
   "source": [
    "train_df.describe(percentiles=[0.01, 0.10,.25,.5,.75,.90,.95,.99])"
   ]
  },
  {
   "cell_type": "code",
   "execution_count": 32,
   "id": "d757d204",
   "metadata": {
    "execution": {
     "iopub.execute_input": "2022-03-16T09:36:00.994066Z",
     "iopub.status.busy": "2022-03-16T09:36:00.993128Z",
     "iopub.status.idle": "2022-03-16T09:36:02.187380Z",
     "shell.execute_reply": "2022-03-16T09:36:02.188202Z",
     "shell.execute_reply.started": "2022-03-16T09:34:33.506641Z"
    },
    "papermill": {
     "duration": 1.287363,
     "end_time": "2022-03-16T09:36:02.188507",
     "exception": false,
     "start_time": "2022-03-16T09:36:00.901144",
     "status": "completed"
    },
    "tags": []
   },
   "outputs": [],
   "source": [
    "# for name, dataset in zip(file_name,combine):\n",
    "#     for col in dataset.columns:\n",
    "#         percentiles = dataset[col].quantile([0.01,0.99]).values\n",
    "#         dataset[col][dataset[col] <= percentiles[0]] = percentiles[0]\n",
    "#         dataset[col][dataset[col] >= percentiles[1]] = percentiles[1]\n",
    "\n",
    "for col in train_df.columns:\n",
    "    percentiles = train_df[col].quantile([0.01,0.99]).values\n",
    "    train_df[col][train_df[col] <= percentiles[0]] = percentiles[0]\n",
    "    train_df[col][train_df[col] >= percentiles[1]] = percentiles[1]"
   ]
  },
  {
   "cell_type": "code",
   "execution_count": 33,
   "id": "eb21a33c",
   "metadata": {
    "execution": {
     "iopub.execute_input": "2022-03-16T09:36:02.387001Z",
     "iopub.status.busy": "2022-03-16T09:36:02.385631Z",
     "iopub.status.idle": "2022-03-16T09:36:03.466555Z",
     "shell.execute_reply": "2022-03-16T09:36:03.467359Z",
     "shell.execute_reply.started": "2022-03-16T09:34:34.688652Z"
    },
    "papermill": {
     "duration": 1.185963,
     "end_time": "2022-03-16T09:36:03.467612",
     "exception": false,
     "start_time": "2022-03-16T09:36:02.281649",
     "status": "completed"
    },
    "tags": []
   },
   "outputs": [
    {
     "data": {
      "text/html": [
       "<div>\n",
       "<style scoped>\n",
       "    .dataframe tbody tr th:only-of-type {\n",
       "        vertical-align: middle;\n",
       "    }\n",
       "\n",
       "    .dataframe tbody tr th {\n",
       "        vertical-align: top;\n",
       "    }\n",
       "\n",
       "    .dataframe thead th {\n",
       "        text-align: right;\n",
       "    }\n",
       "</style>\n",
       "<table border=\"1\" class=\"dataframe\">\n",
       "  <thead>\n",
       "    <tr style=\"text-align: right;\">\n",
       "      <th></th>\n",
       "      <th>id</th>\n",
       "      <th>circle_id</th>\n",
       "      <th>loc_og_t2o_mou</th>\n",
       "      <th>std_og_t2o_mou</th>\n",
       "      <th>loc_ic_t2o_mou</th>\n",
       "      <th>last_date_of_month_6</th>\n",
       "      <th>last_date_of_month_7</th>\n",
       "      <th>last_date_of_month_8</th>\n",
       "      <th>arpu_6</th>\n",
       "      <th>arpu_7</th>\n",
       "      <th>...</th>\n",
       "      <th>sachet_3g_7</th>\n",
       "      <th>sachet_3g_8</th>\n",
       "      <th>fb_user_6</th>\n",
       "      <th>fb_user_7</th>\n",
       "      <th>fb_user_8</th>\n",
       "      <th>aon</th>\n",
       "      <th>aug_vbc_3g</th>\n",
       "      <th>jul_vbc_3g</th>\n",
       "      <th>jun_vbc_3g</th>\n",
       "      <th>churn_probability</th>\n",
       "    </tr>\n",
       "  </thead>\n",
       "  <tbody>\n",
       "    <tr>\n",
       "      <th>count</th>\n",
       "      <td>69999.000000</td>\n",
       "      <td>69999.0</td>\n",
       "      <td>69999.0</td>\n",
       "      <td>69999.0</td>\n",
       "      <td>69999.0</td>\n",
       "      <td>69999.0</td>\n",
       "      <td>69999.0</td>\n",
       "      <td>69999.000000</td>\n",
       "      <td>69999.000000</td>\n",
       "      <td>69999.000000</td>\n",
       "      <td>...</td>\n",
       "      <td>69999.000000</td>\n",
       "      <td>69999.000000</td>\n",
       "      <td>69999.000000</td>\n",
       "      <td>69999.000000</td>\n",
       "      <td>69999.000000</td>\n",
       "      <td>69999.000000</td>\n",
       "      <td>69999.000000</td>\n",
       "      <td>69999.000000</td>\n",
       "      <td>69999.000000</td>\n",
       "      <td>69999.000000</td>\n",
       "    </tr>\n",
       "    <tr>\n",
       "      <th>mean</th>\n",
       "      <td>34999.000000</td>\n",
       "      <td>109.0</td>\n",
       "      <td>0.0</td>\n",
       "      <td>0.0</td>\n",
       "      <td>0.0</td>\n",
       "      <td>30.0</td>\n",
       "      <td>31.0</td>\n",
       "      <td>30.675381</td>\n",
       "      <td>276.926861</td>\n",
       "      <td>271.901058</td>\n",
       "      <td>...</td>\n",
       "      <td>0.054929</td>\n",
       "      <td>0.055872</td>\n",
       "      <td>0.229975</td>\n",
       "      <td>0.232132</td>\n",
       "      <td>0.234246</td>\n",
       "      <td>1220.188946</td>\n",
       "      <td>60.651021</td>\n",
       "      <td>58.393407</td>\n",
       "      <td>52.577735</td>\n",
       "      <td>0.101887</td>\n",
       "    </tr>\n",
       "    <tr>\n",
       "      <th>std</th>\n",
       "      <td>20195.132284</td>\n",
       "      <td>0.0</td>\n",
       "      <td>0.0</td>\n",
       "      <td>0.0</td>\n",
       "      <td>0.0</td>\n",
       "      <td>0.0</td>\n",
       "      <td>0.0</td>\n",
       "      <td>3.155622</td>\n",
       "      <td>268.478830</td>\n",
       "      <td>269.419465</td>\n",
       "      <td>...</td>\n",
       "      <td>0.281017</td>\n",
       "      <td>0.283716</td>\n",
       "      <td>0.420819</td>\n",
       "      <td>0.422196</td>\n",
       "      <td>0.423530</td>\n",
       "      <td>951.019424</td>\n",
       "      <td>200.381350</td>\n",
       "      <td>199.688297</td>\n",
       "      <td>185.097042</td>\n",
       "      <td>0.302502</td>\n",
       "    </tr>\n",
       "    <tr>\n",
       "      <th>min</th>\n",
       "      <td>699.980000</td>\n",
       "      <td>109.0</td>\n",
       "      <td>0.0</td>\n",
       "      <td>0.0</td>\n",
       "      <td>0.0</td>\n",
       "      <td>30.0</td>\n",
       "      <td>31.0</td>\n",
       "      <td>0.000000</td>\n",
       "      <td>0.000000</td>\n",
       "      <td>0.000000</td>\n",
       "      <td>...</td>\n",
       "      <td>0.000000</td>\n",
       "      <td>0.000000</td>\n",
       "      <td>0.000000</td>\n",
       "      <td>0.000000</td>\n",
       "      <td>0.000000</td>\n",
       "      <td>188.000000</td>\n",
       "      <td>0.000000</td>\n",
       "      <td>0.000000</td>\n",
       "      <td>0.000000</td>\n",
       "      <td>0.000000</td>\n",
       "    </tr>\n",
       "    <tr>\n",
       "      <th>1%</th>\n",
       "      <td>699.999600</td>\n",
       "      <td>109.0</td>\n",
       "      <td>0.0</td>\n",
       "      <td>0.0</td>\n",
       "      <td>0.0</td>\n",
       "      <td>30.0</td>\n",
       "      <td>31.0</td>\n",
       "      <td>0.000000</td>\n",
       "      <td>0.000000</td>\n",
       "      <td>0.000000</td>\n",
       "      <td>...</td>\n",
       "      <td>0.000000</td>\n",
       "      <td>0.000000</td>\n",
       "      <td>0.000000</td>\n",
       "      <td>0.000000</td>\n",
       "      <td>0.000000</td>\n",
       "      <td>188.000000</td>\n",
       "      <td>0.000000</td>\n",
       "      <td>0.000000</td>\n",
       "      <td>0.000000</td>\n",
       "      <td>0.000000</td>\n",
       "    </tr>\n",
       "    <tr>\n",
       "      <th>10%</th>\n",
       "      <td>6999.800000</td>\n",
       "      <td>109.0</td>\n",
       "      <td>0.0</td>\n",
       "      <td>0.0</td>\n",
       "      <td>0.0</td>\n",
       "      <td>30.0</td>\n",
       "      <td>31.0</td>\n",
       "      <td>31.000000</td>\n",
       "      <td>32.248600</td>\n",
       "      <td>29.761200</td>\n",
       "      <td>...</td>\n",
       "      <td>0.000000</td>\n",
       "      <td>0.000000</td>\n",
       "      <td>0.000000</td>\n",
       "      <td>0.000000</td>\n",
       "      <td>0.000000</td>\n",
       "      <td>286.000000</td>\n",
       "      <td>0.000000</td>\n",
       "      <td>0.000000</td>\n",
       "      <td>0.000000</td>\n",
       "      <td>0.000000</td>\n",
       "    </tr>\n",
       "    <tr>\n",
       "      <th>25%</th>\n",
       "      <td>17499.500000</td>\n",
       "      <td>109.0</td>\n",
       "      <td>0.0</td>\n",
       "      <td>0.0</td>\n",
       "      <td>0.0</td>\n",
       "      <td>30.0</td>\n",
       "      <td>31.0</td>\n",
       "      <td>31.000000</td>\n",
       "      <td>93.581000</td>\n",
       "      <td>86.714000</td>\n",
       "      <td>...</td>\n",
       "      <td>0.000000</td>\n",
       "      <td>0.000000</td>\n",
       "      <td>0.000000</td>\n",
       "      <td>0.000000</td>\n",
       "      <td>0.000000</td>\n",
       "      <td>468.000000</td>\n",
       "      <td>0.000000</td>\n",
       "      <td>0.000000</td>\n",
       "      <td>0.000000</td>\n",
       "      <td>0.000000</td>\n",
       "    </tr>\n",
       "    <tr>\n",
       "      <th>50%</th>\n",
       "      <td>34999.000000</td>\n",
       "      <td>109.0</td>\n",
       "      <td>0.0</td>\n",
       "      <td>0.0</td>\n",
       "      <td>0.0</td>\n",
       "      <td>30.0</td>\n",
       "      <td>31.0</td>\n",
       "      <td>31.000000</td>\n",
       "      <td>197.484000</td>\n",
       "      <td>191.588000</td>\n",
       "      <td>...</td>\n",
       "      <td>0.000000</td>\n",
       "      <td>0.000000</td>\n",
       "      <td>0.000000</td>\n",
       "      <td>0.000000</td>\n",
       "      <td>0.000000</td>\n",
       "      <td>868.000000</td>\n",
       "      <td>0.000000</td>\n",
       "      <td>0.000000</td>\n",
       "      <td>0.000000</td>\n",
       "      <td>0.000000</td>\n",
       "    </tr>\n",
       "    <tr>\n",
       "      <th>75%</th>\n",
       "      <td>52498.500000</td>\n",
       "      <td>109.0</td>\n",
       "      <td>0.0</td>\n",
       "      <td>0.0</td>\n",
       "      <td>0.0</td>\n",
       "      <td>30.0</td>\n",
       "      <td>31.0</td>\n",
       "      <td>31.000000</td>\n",
       "      <td>370.791000</td>\n",
       "      <td>365.369500</td>\n",
       "      <td>...</td>\n",
       "      <td>0.000000</td>\n",
       "      <td>0.000000</td>\n",
       "      <td>0.000000</td>\n",
       "      <td>0.000000</td>\n",
       "      <td>0.000000</td>\n",
       "      <td>1813.000000</td>\n",
       "      <td>0.000000</td>\n",
       "      <td>0.000000</td>\n",
       "      <td>0.000000</td>\n",
       "      <td>0.000000</td>\n",
       "    </tr>\n",
       "    <tr>\n",
       "      <th>90%</th>\n",
       "      <td>62998.200000</td>\n",
       "      <td>109.0</td>\n",
       "      <td>0.0</td>\n",
       "      <td>0.0</td>\n",
       "      <td>0.0</td>\n",
       "      <td>30.0</td>\n",
       "      <td>31.0</td>\n",
       "      <td>31.000000</td>\n",
       "      <td>619.993800</td>\n",
       "      <td>615.661400</td>\n",
       "      <td>...</td>\n",
       "      <td>0.000000</td>\n",
       "      <td>0.000000</td>\n",
       "      <td>1.000000</td>\n",
       "      <td>1.000000</td>\n",
       "      <td>1.000000</td>\n",
       "      <td>2792.000000</td>\n",
       "      <td>160.444000</td>\n",
       "      <td>136.272000</td>\n",
       "      <td>110.328000</td>\n",
       "      <td>1.000000</td>\n",
       "    </tr>\n",
       "    <tr>\n",
       "      <th>95%</th>\n",
       "      <td>66498.100000</td>\n",
       "      <td>109.0</td>\n",
       "      <td>0.0</td>\n",
       "      <td>0.0</td>\n",
       "      <td>0.0</td>\n",
       "      <td>30.0</td>\n",
       "      <td>31.0</td>\n",
       "      <td>31.000000</td>\n",
       "      <td>832.022700</td>\n",
       "      <td>823.236700</td>\n",
       "      <td>...</td>\n",
       "      <td>0.000000</td>\n",
       "      <td>0.000000</td>\n",
       "      <td>1.000000</td>\n",
       "      <td>1.000000</td>\n",
       "      <td>1.000000</td>\n",
       "      <td>3108.000000</td>\n",
       "      <td>464.277000</td>\n",
       "      <td>446.353000</td>\n",
       "      <td>400.134000</td>\n",
       "      <td>1.000000</td>\n",
       "    </tr>\n",
       "    <tr>\n",
       "      <th>99%</th>\n",
       "      <td>69298.000400</td>\n",
       "      <td>109.0</td>\n",
       "      <td>0.0</td>\n",
       "      <td>0.0</td>\n",
       "      <td>0.0</td>\n",
       "      <td>30.0</td>\n",
       "      <td>31.0</td>\n",
       "      <td>31.000000</td>\n",
       "      <td>1400.274053</td>\n",
       "      <td>1414.855728</td>\n",
       "      <td>...</td>\n",
       "      <td>2.000000</td>\n",
       "      <td>2.000000</td>\n",
       "      <td>1.000000</td>\n",
       "      <td>1.000000</td>\n",
       "      <td>1.000000</td>\n",
       "      <td>3651.000000</td>\n",
       "      <td>1226.620796</td>\n",
       "      <td>1254.270180</td>\n",
       "      <td>1188.250356</td>\n",
       "      <td>1.000000</td>\n",
       "    </tr>\n",
       "    <tr>\n",
       "      <th>max</th>\n",
       "      <td>69298.020000</td>\n",
       "      <td>109.0</td>\n",
       "      <td>0.0</td>\n",
       "      <td>0.0</td>\n",
       "      <td>0.0</td>\n",
       "      <td>30.0</td>\n",
       "      <td>31.0</td>\n",
       "      <td>31.000000</td>\n",
       "      <td>1400.276640</td>\n",
       "      <td>1414.891380</td>\n",
       "      <td>...</td>\n",
       "      <td>2.000000</td>\n",
       "      <td>2.000000</td>\n",
       "      <td>1.000000</td>\n",
       "      <td>1.000000</td>\n",
       "      <td>1.000000</td>\n",
       "      <td>3651.000000</td>\n",
       "      <td>1226.659800</td>\n",
       "      <td>1254.279000</td>\n",
       "      <td>1188.267800</td>\n",
       "      <td>1.000000</td>\n",
       "    </tr>\n",
       "  </tbody>\n",
       "</table>\n",
       "<p>13 rows × 172 columns</p>\n",
       "</div>"
      ],
      "text/plain": [
       "                 id  circle_id  loc_og_t2o_mou  std_og_t2o_mou  \\\n",
       "count  69999.000000    69999.0         69999.0         69999.0   \n",
       "mean   34999.000000      109.0             0.0             0.0   \n",
       "std    20195.132284        0.0             0.0             0.0   \n",
       "min      699.980000      109.0             0.0             0.0   \n",
       "1%       699.999600      109.0             0.0             0.0   \n",
       "10%     6999.800000      109.0             0.0             0.0   \n",
       "25%    17499.500000      109.0             0.0             0.0   \n",
       "50%    34999.000000      109.0             0.0             0.0   \n",
       "75%    52498.500000      109.0             0.0             0.0   \n",
       "90%    62998.200000      109.0             0.0             0.0   \n",
       "95%    66498.100000      109.0             0.0             0.0   \n",
       "99%    69298.000400      109.0             0.0             0.0   \n",
       "max    69298.020000      109.0             0.0             0.0   \n",
       "\n",
       "       loc_ic_t2o_mou  last_date_of_month_6  last_date_of_month_7  \\\n",
       "count         69999.0               69999.0               69999.0   \n",
       "mean              0.0                  30.0                  31.0   \n",
       "std               0.0                   0.0                   0.0   \n",
       "min               0.0                  30.0                  31.0   \n",
       "1%                0.0                  30.0                  31.0   \n",
       "10%               0.0                  30.0                  31.0   \n",
       "25%               0.0                  30.0                  31.0   \n",
       "50%               0.0                  30.0                  31.0   \n",
       "75%               0.0                  30.0                  31.0   \n",
       "90%               0.0                  30.0                  31.0   \n",
       "95%               0.0                  30.0                  31.0   \n",
       "99%               0.0                  30.0                  31.0   \n",
       "max               0.0                  30.0                  31.0   \n",
       "\n",
       "       last_date_of_month_8        arpu_6        arpu_7  ...   sachet_3g_7  \\\n",
       "count          69999.000000  69999.000000  69999.000000  ...  69999.000000   \n",
       "mean              30.675381    276.926861    271.901058  ...      0.054929   \n",
       "std                3.155622    268.478830    269.419465  ...      0.281017   \n",
       "min                0.000000      0.000000      0.000000  ...      0.000000   \n",
       "1%                 0.000000      0.000000      0.000000  ...      0.000000   \n",
       "10%               31.000000     32.248600     29.761200  ...      0.000000   \n",
       "25%               31.000000     93.581000     86.714000  ...      0.000000   \n",
       "50%               31.000000    197.484000    191.588000  ...      0.000000   \n",
       "75%               31.000000    370.791000    365.369500  ...      0.000000   \n",
       "90%               31.000000    619.993800    615.661400  ...      0.000000   \n",
       "95%               31.000000    832.022700    823.236700  ...      0.000000   \n",
       "99%               31.000000   1400.274053   1414.855728  ...      2.000000   \n",
       "max               31.000000   1400.276640   1414.891380  ...      2.000000   \n",
       "\n",
       "        sachet_3g_8     fb_user_6     fb_user_7     fb_user_8           aon  \\\n",
       "count  69999.000000  69999.000000  69999.000000  69999.000000  69999.000000   \n",
       "mean       0.055872      0.229975      0.232132      0.234246   1220.188946   \n",
       "std        0.283716      0.420819      0.422196      0.423530    951.019424   \n",
       "min        0.000000      0.000000      0.000000      0.000000    188.000000   \n",
       "1%         0.000000      0.000000      0.000000      0.000000    188.000000   \n",
       "10%        0.000000      0.000000      0.000000      0.000000    286.000000   \n",
       "25%        0.000000      0.000000      0.000000      0.000000    468.000000   \n",
       "50%        0.000000      0.000000      0.000000      0.000000    868.000000   \n",
       "75%        0.000000      0.000000      0.000000      0.000000   1813.000000   \n",
       "90%        0.000000      1.000000      1.000000      1.000000   2792.000000   \n",
       "95%        0.000000      1.000000      1.000000      1.000000   3108.000000   \n",
       "99%        2.000000      1.000000      1.000000      1.000000   3651.000000   \n",
       "max        2.000000      1.000000      1.000000      1.000000   3651.000000   \n",
       "\n",
       "         aug_vbc_3g    jul_vbc_3g    jun_vbc_3g  churn_probability  \n",
       "count  69999.000000  69999.000000  69999.000000       69999.000000  \n",
       "mean      60.651021     58.393407     52.577735           0.101887  \n",
       "std      200.381350    199.688297    185.097042           0.302502  \n",
       "min        0.000000      0.000000      0.000000           0.000000  \n",
       "1%         0.000000      0.000000      0.000000           0.000000  \n",
       "10%        0.000000      0.000000      0.000000           0.000000  \n",
       "25%        0.000000      0.000000      0.000000           0.000000  \n",
       "50%        0.000000      0.000000      0.000000           0.000000  \n",
       "75%        0.000000      0.000000      0.000000           0.000000  \n",
       "90%      160.444000    136.272000    110.328000           1.000000  \n",
       "95%      464.277000    446.353000    400.134000           1.000000  \n",
       "99%     1226.620796   1254.270180   1188.250356           1.000000  \n",
       "max     1226.659800   1254.279000   1188.267800           1.000000  \n",
       "\n",
       "[13 rows x 172 columns]"
      ]
     },
     "execution_count": 33,
     "metadata": {},
     "output_type": "execute_result"
    }
   ],
   "source": [
    "train_df.describe(percentiles=[0.01, 0.10,.25,.5,.75,.90,.95,.99])"
   ]
  },
  {
   "cell_type": "code",
   "execution_count": 34,
   "id": "56ffd45a",
   "metadata": {
    "execution": {
     "iopub.execute_input": "2022-03-16T09:36:03.654049Z",
     "iopub.status.busy": "2022-03-16T09:36:03.653371Z",
     "iopub.status.idle": "2022-03-16T09:36:04.514023Z",
     "shell.execute_reply": "2022-03-16T09:36:04.513385Z",
     "shell.execute_reply.started": "2022-03-16T09:34:35.697803Z"
    },
    "papermill": {
     "duration": 0.957178,
     "end_time": "2022-03-16T09:36:04.514190",
     "exception": false,
     "start_time": "2022-03-16T09:36:03.557012",
     "status": "completed"
    },
    "tags": []
   },
   "outputs": [],
   "source": [
    "# for col in test_df.columns:\n",
    "#     percentiles = test_df[col].quantile([0.01,0.99]).values\n",
    "#     test_df[col][test_df[col] <= percentiles[0]] = percentiles[0]\n",
    "#     test_df[col][test_df[col] >= percentiles[1]] = percentiles[1]"
   ]
  },
  {
   "cell_type": "code",
   "execution_count": 35,
   "id": "68a09ac5",
   "metadata": {
    "execution": {
     "iopub.execute_input": "2022-03-16T09:36:04.696367Z",
     "iopub.status.busy": "2022-03-16T09:36:04.695746Z",
     "iopub.status.idle": "2022-03-16T09:36:05.210798Z",
     "shell.execute_reply": "2022-03-16T09:36:05.211303Z",
     "shell.execute_reply.started": "2022-03-16T09:34:36.634338Z"
    },
    "papermill": {
     "duration": 0.606486,
     "end_time": "2022-03-16T09:36:05.211526",
     "exception": false,
     "start_time": "2022-03-16T09:36:04.605040",
     "status": "completed"
    },
    "tags": []
   },
   "outputs": [],
   "source": [
    "# test_df.describe(percentiles=[0.01, 0.10,.25,.5,.75,.90,.95,.99])"
   ]
  },
  {
   "cell_type": "code",
   "execution_count": 36,
   "id": "394329da",
   "metadata": {
    "execution": {
     "iopub.execute_input": "2022-03-16T09:36:05.398069Z",
     "iopub.status.busy": "2022-03-16T09:36:05.397283Z",
     "iopub.status.idle": "2022-03-16T09:36:05.402086Z",
     "shell.execute_reply": "2022-03-16T09:36:05.402645Z",
     "shell.execute_reply.started": "2022-03-16T09:34:37.205051Z"
    },
    "papermill": {
     "duration": 0.098712,
     "end_time": "2022-03-16T09:36:05.402848",
     "exception": false,
     "start_time": "2022-03-16T09:36:05.304136",
     "status": "completed"
    },
    "tags": []
   },
   "outputs": [
    {
     "data": {
      "text/plain": [
       "array([dtype('float64'), dtype('int64')], dtype=object)"
      ]
     },
     "execution_count": 36,
     "metadata": {},
     "output_type": "execute_result"
    }
   ],
   "source": [
    "train_df.dtypes.unique()"
   ]
  },
  {
   "cell_type": "code",
   "execution_count": 37,
   "id": "ab7ff44e",
   "metadata": {
    "execution": {
     "iopub.execute_input": "2022-03-16T09:36:05.587418Z",
     "iopub.status.busy": "2022-03-16T09:36:05.586692Z",
     "iopub.status.idle": "2022-03-16T09:36:05.591236Z",
     "shell.execute_reply": "2022-03-16T09:36:05.591812Z",
     "shell.execute_reply.started": "2022-03-16T09:34:37.214751Z"
    },
    "papermill": {
     "duration": 0.097941,
     "end_time": "2022-03-16T09:36:05.592014",
     "exception": false,
     "start_time": "2022-03-16T09:36:05.494073",
     "status": "completed"
    },
    "tags": []
   },
   "outputs": [],
   "source": [
    "for name, dataset in zip(file_name,combine):\n",
    "    dataset.set_index('id',inplace=True)"
   ]
  },
  {
   "cell_type": "code",
   "execution_count": 38,
   "id": "8b697805",
   "metadata": {
    "execution": {
     "iopub.execute_input": "2022-03-16T09:36:05.776253Z",
     "iopub.status.busy": "2022-03-16T09:36:05.775640Z",
     "iopub.status.idle": "2022-03-16T09:36:05.803899Z",
     "shell.execute_reply": "2022-03-16T09:36:05.804470Z",
     "shell.execute_reply.started": "2022-03-16T09:34:37.227252Z"
    },
    "papermill": {
     "duration": 0.121945,
     "end_time": "2022-03-16T09:36:05.804675",
     "exception": false,
     "start_time": "2022-03-16T09:36:05.682730",
     "status": "completed"
    },
    "tags": []
   },
   "outputs": [
    {
     "data": {
      "text/html": [
       "<div>\n",
       "<style scoped>\n",
       "    .dataframe tbody tr th:only-of-type {\n",
       "        vertical-align: middle;\n",
       "    }\n",
       "\n",
       "    .dataframe tbody tr th {\n",
       "        vertical-align: top;\n",
       "    }\n",
       "\n",
       "    .dataframe thead th {\n",
       "        text-align: right;\n",
       "    }\n",
       "</style>\n",
       "<table border=\"1\" class=\"dataframe\">\n",
       "  <thead>\n",
       "    <tr style=\"text-align: right;\">\n",
       "      <th></th>\n",
       "      <th>circle_id</th>\n",
       "      <th>loc_og_t2o_mou</th>\n",
       "      <th>std_og_t2o_mou</th>\n",
       "      <th>loc_ic_t2o_mou</th>\n",
       "      <th>last_date_of_month_6</th>\n",
       "      <th>last_date_of_month_7</th>\n",
       "      <th>last_date_of_month_8</th>\n",
       "      <th>arpu_6</th>\n",
       "      <th>arpu_7</th>\n",
       "      <th>arpu_8</th>\n",
       "      <th>...</th>\n",
       "      <th>sachet_3g_7</th>\n",
       "      <th>sachet_3g_8</th>\n",
       "      <th>fb_user_6</th>\n",
       "      <th>fb_user_7</th>\n",
       "      <th>fb_user_8</th>\n",
       "      <th>aon</th>\n",
       "      <th>aug_vbc_3g</th>\n",
       "      <th>jul_vbc_3g</th>\n",
       "      <th>jun_vbc_3g</th>\n",
       "      <th>churn_probability</th>\n",
       "    </tr>\n",
       "    <tr>\n",
       "      <th>id</th>\n",
       "      <th></th>\n",
       "      <th></th>\n",
       "      <th></th>\n",
       "      <th></th>\n",
       "      <th></th>\n",
       "      <th></th>\n",
       "      <th></th>\n",
       "      <th></th>\n",
       "      <th></th>\n",
       "      <th></th>\n",
       "      <th></th>\n",
       "      <th></th>\n",
       "      <th></th>\n",
       "      <th></th>\n",
       "      <th></th>\n",
       "      <th></th>\n",
       "      <th></th>\n",
       "      <th></th>\n",
       "      <th></th>\n",
       "      <th></th>\n",
       "      <th></th>\n",
       "    </tr>\n",
       "  </thead>\n",
       "  <tbody>\n",
       "    <tr>\n",
       "      <th>699.98</th>\n",
       "      <td>109</td>\n",
       "      <td>0.0</td>\n",
       "      <td>0.0</td>\n",
       "      <td>0.0</td>\n",
       "      <td>30</td>\n",
       "      <td>31.0</td>\n",
       "      <td>31.0</td>\n",
       "      <td>31.277</td>\n",
       "      <td>87.009</td>\n",
       "      <td>7.527</td>\n",
       "      <td>...</td>\n",
       "      <td>0</td>\n",
       "      <td>0</td>\n",
       "      <td>0.0</td>\n",
       "      <td>0.0</td>\n",
       "      <td>0.0</td>\n",
       "      <td>1958</td>\n",
       "      <td>0.0</td>\n",
       "      <td>0.0</td>\n",
       "      <td>0.0</td>\n",
       "      <td>0</td>\n",
       "    </tr>\n",
       "    <tr>\n",
       "      <th>699.98</th>\n",
       "      <td>109</td>\n",
       "      <td>0.0</td>\n",
       "      <td>0.0</td>\n",
       "      <td>0.0</td>\n",
       "      <td>30</td>\n",
       "      <td>31.0</td>\n",
       "      <td>31.0</td>\n",
       "      <td>0.000</td>\n",
       "      <td>122.787</td>\n",
       "      <td>42.953</td>\n",
       "      <td>...</td>\n",
       "      <td>0</td>\n",
       "      <td>0</td>\n",
       "      <td>0.0</td>\n",
       "      <td>1.0</td>\n",
       "      <td>0.0</td>\n",
       "      <td>710</td>\n",
       "      <td>0.0</td>\n",
       "      <td>0.0</td>\n",
       "      <td>0.0</td>\n",
       "      <td>0</td>\n",
       "    </tr>\n",
       "    <tr>\n",
       "      <th>699.98</th>\n",
       "      <td>109</td>\n",
       "      <td>0.0</td>\n",
       "      <td>0.0</td>\n",
       "      <td>0.0</td>\n",
       "      <td>30</td>\n",
       "      <td>31.0</td>\n",
       "      <td>31.0</td>\n",
       "      <td>60.806</td>\n",
       "      <td>103.176</td>\n",
       "      <td>0.000</td>\n",
       "      <td>...</td>\n",
       "      <td>0</td>\n",
       "      <td>0</td>\n",
       "      <td>0.0</td>\n",
       "      <td>0.0</td>\n",
       "      <td>0.0</td>\n",
       "      <td>882</td>\n",
       "      <td>0.0</td>\n",
       "      <td>0.0</td>\n",
       "      <td>0.0</td>\n",
       "      <td>0</td>\n",
       "    </tr>\n",
       "    <tr>\n",
       "      <th>699.98</th>\n",
       "      <td>109</td>\n",
       "      <td>0.0</td>\n",
       "      <td>0.0</td>\n",
       "      <td>0.0</td>\n",
       "      <td>30</td>\n",
       "      <td>31.0</td>\n",
       "      <td>31.0</td>\n",
       "      <td>156.362</td>\n",
       "      <td>205.260</td>\n",
       "      <td>111.095</td>\n",
       "      <td>...</td>\n",
       "      <td>0</td>\n",
       "      <td>0</td>\n",
       "      <td>0.0</td>\n",
       "      <td>0.0</td>\n",
       "      <td>0.0</td>\n",
       "      <td>982</td>\n",
       "      <td>0.0</td>\n",
       "      <td>0.0</td>\n",
       "      <td>0.0</td>\n",
       "      <td>0</td>\n",
       "    </tr>\n",
       "    <tr>\n",
       "      <th>699.98</th>\n",
       "      <td>109</td>\n",
       "      <td>0.0</td>\n",
       "      <td>0.0</td>\n",
       "      <td>0.0</td>\n",
       "      <td>30</td>\n",
       "      <td>31.0</td>\n",
       "      <td>31.0</td>\n",
       "      <td>240.708</td>\n",
       "      <td>128.191</td>\n",
       "      <td>101.565</td>\n",
       "      <td>...</td>\n",
       "      <td>1</td>\n",
       "      <td>0</td>\n",
       "      <td>1.0</td>\n",
       "      <td>1.0</td>\n",
       "      <td>1.0</td>\n",
       "      <td>647</td>\n",
       "      <td>0.0</td>\n",
       "      <td>0.0</td>\n",
       "      <td>0.0</td>\n",
       "      <td>0</td>\n",
       "    </tr>\n",
       "  </tbody>\n",
       "</table>\n",
       "<p>5 rows × 171 columns</p>\n",
       "</div>"
      ],
      "text/plain": [
       "        circle_id  loc_og_t2o_mou  std_og_t2o_mou  loc_ic_t2o_mou  \\\n",
       "id                                                                  \n",
       "699.98        109             0.0             0.0             0.0   \n",
       "699.98        109             0.0             0.0             0.0   \n",
       "699.98        109             0.0             0.0             0.0   \n",
       "699.98        109             0.0             0.0             0.0   \n",
       "699.98        109             0.0             0.0             0.0   \n",
       "\n",
       "        last_date_of_month_6  last_date_of_month_7  last_date_of_month_8  \\\n",
       "id                                                                         \n",
       "699.98                    30                  31.0                  31.0   \n",
       "699.98                    30                  31.0                  31.0   \n",
       "699.98                    30                  31.0                  31.0   \n",
       "699.98                    30                  31.0                  31.0   \n",
       "699.98                    30                  31.0                  31.0   \n",
       "\n",
       "         arpu_6   arpu_7   arpu_8  ...  sachet_3g_7  sachet_3g_8  fb_user_6  \\\n",
       "id                                 ...                                        \n",
       "699.98   31.277   87.009    7.527  ...            0            0        0.0   \n",
       "699.98    0.000  122.787   42.953  ...            0            0        0.0   \n",
       "699.98   60.806  103.176    0.000  ...            0            0        0.0   \n",
       "699.98  156.362  205.260  111.095  ...            0            0        0.0   \n",
       "699.98  240.708  128.191  101.565  ...            1            0        1.0   \n",
       "\n",
       "        fb_user_7  fb_user_8   aon  aug_vbc_3g  jul_vbc_3g  jun_vbc_3g  \\\n",
       "id                                                                       \n",
       "699.98        0.0        0.0  1958         0.0         0.0         0.0   \n",
       "699.98        1.0        0.0   710         0.0         0.0         0.0   \n",
       "699.98        0.0        0.0   882         0.0         0.0         0.0   \n",
       "699.98        0.0        0.0   982         0.0         0.0         0.0   \n",
       "699.98        1.0        1.0   647         0.0         0.0         0.0   \n",
       "\n",
       "        churn_probability  \n",
       "id                         \n",
       "699.98                  0  \n",
       "699.98                  0  \n",
       "699.98                  0  \n",
       "699.98                  0  \n",
       "699.98                  0  \n",
       "\n",
       "[5 rows x 171 columns]"
      ]
     },
     "execution_count": 38,
     "metadata": {},
     "output_type": "execute_result"
    }
   ],
   "source": [
    "combine[0].head()"
   ]
  },
  {
   "cell_type": "code",
   "execution_count": 39,
   "id": "9568f94a",
   "metadata": {
    "execution": {
     "iopub.execute_input": "2022-03-16T09:36:05.997492Z",
     "iopub.status.busy": "2022-03-16T09:36:05.996802Z",
     "iopub.status.idle": "2022-03-16T09:36:06.005658Z",
     "shell.execute_reply": "2022-03-16T09:36:06.006273Z",
     "shell.execute_reply.started": "2022-03-16T09:34:37.268287Z"
    },
    "papermill": {
     "duration": 0.108166,
     "end_time": "2022-03-16T09:36:06.006502",
     "exception": false,
     "start_time": "2022-03-16T09:36:05.898336",
     "status": "completed"
    },
    "tags": []
   },
   "outputs": [
    {
     "data": {
      "text/plain": [
       "68601"
      ]
     },
     "execution_count": 39,
     "metadata": {},
     "output_type": "execute_result"
    }
   ],
   "source": [
    "len(combine[0].index.unique())"
   ]
  },
  {
   "cell_type": "code",
   "execution_count": 40,
   "id": "e212027f",
   "metadata": {
    "execution": {
     "iopub.execute_input": "2022-03-16T09:36:06.196802Z",
     "iopub.status.busy": "2022-03-16T09:36:06.195797Z",
     "iopub.status.idle": "2022-03-16T09:36:06.318701Z",
     "shell.execute_reply": "2022-03-16T09:36:06.317300Z",
     "shell.execute_reply.started": "2022-03-16T09:34:37.285693Z"
    },
    "papermill": {
     "duration": 0.21997,
     "end_time": "2022-03-16T09:36:06.318941",
     "exception": false,
     "start_time": "2022-03-16T09:36:06.098971",
     "status": "completed"
    },
    "tags": []
   },
   "outputs": [
    {
     "name": "stdout",
     "output_type": "stream",
     "text": [
      "train\n",
      "loc_og_t2o_mou  std_og_t2o_mou  loc_ic_t2o_mou\n",
      "0.0             0.0             0.0               69999\n",
      "dtype: int64\n",
      "test\n",
      "loc_og_t2o_mou  std_og_t2o_mou  loc_ic_t2o_mou\n",
      "0.0             0.0             0.0               30000\n",
      "dtype: int64\n"
     ]
    }
   ],
   "source": [
    "for name, dataset in zip(file_name,combine):\n",
    "    print(name)\n",
    "    print(dataset[['loc_og_t2o_mou','std_og_t2o_mou','loc_ic_t2o_mou']].value_counts())"
   ]
  },
  {
   "cell_type": "code",
   "execution_count": 41,
   "id": "857f70b6",
   "metadata": {
    "execution": {
     "iopub.execute_input": "2022-03-16T09:36:06.582628Z",
     "iopub.status.busy": "2022-03-16T09:36:06.581784Z",
     "iopub.status.idle": "2022-03-16T09:36:06.587154Z",
     "shell.execute_reply": "2022-03-16T09:36:06.586660Z",
     "shell.execute_reply.started": "2022-03-16T09:34:37.413301Z"
    },
    "papermill": {
     "duration": 0.155589,
     "end_time": "2022-03-16T09:36:06.587296",
     "exception": false,
     "start_time": "2022-03-16T09:36:06.431707",
     "status": "completed"
    },
    "tags": []
   },
   "outputs": [
    {
     "name": "stdout",
     "output_type": "stream",
     "text": [
      "train\n",
      "test\n"
     ]
    }
   ],
   "source": [
    "for name, dataset in zip(file_name,combine):\n",
    "    print(name)\n",
    "    dataset.drop(['loc_og_t2o_mou','std_og_t2o_mou','loc_ic_t2o_mou'],axis=1, inplace=True)"
   ]
  },
  {
   "cell_type": "code",
   "execution_count": 42,
   "id": "27cb49b9",
   "metadata": {
    "execution": {
     "iopub.execute_input": "2022-03-16T09:36:06.779442Z",
     "iopub.status.busy": "2022-03-16T09:36:06.778660Z",
     "iopub.status.idle": "2022-03-16T09:36:06.781579Z",
     "shell.execute_reply": "2022-03-16T09:36:06.780934Z",
     "shell.execute_reply.started": "2022-03-16T09:34:37.496063Z"
    },
    "papermill": {
     "duration": 0.10156,
     "end_time": "2022-03-16T09:36:06.781730",
     "exception": false,
     "start_time": "2022-03-16T09:36:06.680170",
     "status": "completed"
    },
    "tags": []
   },
   "outputs": [],
   "source": [
    "# for col in df.columns:\n",
    "#     print(df[col].value_counts())"
   ]
  },
  {
   "cell_type": "code",
   "execution_count": 43,
   "id": "eeb6a413",
   "metadata": {
    "execution": {
     "iopub.execute_input": "2022-03-16T09:36:07.033982Z",
     "iopub.status.busy": "2022-03-16T09:36:07.032959Z",
     "iopub.status.idle": "2022-03-16T09:36:07.036082Z",
     "shell.execute_reply": "2022-03-16T09:36:07.035467Z",
     "shell.execute_reply.started": "2022-03-16T09:34:37.508099Z"
    },
    "papermill": {
     "duration": 0.160904,
     "end_time": "2022-03-16T09:36:07.036246",
     "exception": false,
     "start_time": "2022-03-16T09:36:06.875342",
     "status": "completed"
    },
    "tags": []
   },
   "outputs": [],
   "source": [
    "col_to_drop = ['circle_id','last_date_of_month_6', 'last_date_of_month_7', 'last_date_of_month_8', 'std_og_t2c_mou_6', 'std_og_t2c_mou_7', 'std_og_t2c_mou_8', 'std_ic_t2o_mou_6', 'std_ic_t2o_mou_7', 'std_ic_t2o_mou_8']\n",
    "\n",
    "for name, dataset in zip(file_name,combine):\n",
    "    dataset.drop(columns=col_to_drop,axis=1, inplace=True)"
   ]
  },
  {
   "cell_type": "code",
   "execution_count": 44,
   "id": "6d7a0352",
   "metadata": {
    "execution": {
     "iopub.execute_input": "2022-03-16T09:36:07.224725Z",
     "iopub.status.busy": "2022-03-16T09:36:07.224064Z",
     "iopub.status.idle": "2022-03-16T09:36:07.244371Z",
     "shell.execute_reply": "2022-03-16T09:36:07.245186Z",
     "shell.execute_reply.started": "2022-03-16T09:34:37.567836Z"
    },
    "papermill": {
     "duration": 0.116229,
     "end_time": "2022-03-16T09:36:07.245508",
     "exception": false,
     "start_time": "2022-03-16T09:36:07.129279",
     "status": "completed"
    },
    "tags": []
   },
   "outputs": [
    {
     "name": "stdout",
     "output_type": "stream",
     "text": [
      "<class 'pandas.core.frame.DataFrame'>\n",
      "Float64Index: 69999 entries, 699.98 to 69298.02\n",
      "Data columns (total 158 columns):\n",
      " #    Column                    Dtype  \n",
      "---   ------                    -----  \n",
      " 0    arpu_6                    float64\n",
      " 1    arpu_7                    float64\n",
      " 2    arpu_8                    float64\n",
      " 3    onnet_mou_6               float64\n",
      " 4    onnet_mou_7               float64\n",
      " 5    onnet_mou_8               float64\n",
      " 6    offnet_mou_6              float64\n",
      " 7    offnet_mou_7              float64\n",
      " 8    offnet_mou_8              float64\n",
      " 9    roam_ic_mou_6             float64\n",
      " 10   roam_ic_mou_7             float64\n",
      " 11   roam_ic_mou_8             float64\n",
      " 12   roam_og_mou_6             float64\n",
      " 13   roam_og_mou_7             float64\n",
      " 14   roam_og_mou_8             float64\n",
      " 15   loc_og_t2t_mou_6          float64\n",
      " 16   loc_og_t2t_mou_7          float64\n",
      " 17   loc_og_t2t_mou_8          float64\n",
      " 18   loc_og_t2m_mou_6          float64\n",
      " 19   loc_og_t2m_mou_7          float64\n",
      " 20   loc_og_t2m_mou_8          float64\n",
      " 21   loc_og_t2f_mou_6          float64\n",
      " 22   loc_og_t2f_mou_7          float64\n",
      " 23   loc_og_t2f_mou_8          float64\n",
      " 24   loc_og_t2c_mou_6          float64\n",
      " 25   loc_og_t2c_mou_7          float64\n",
      " 26   loc_og_t2c_mou_8          float64\n",
      " 27   loc_og_mou_6              float64\n",
      " 28   loc_og_mou_7              float64\n",
      " 29   loc_og_mou_8              float64\n",
      " 30   std_og_t2t_mou_6          float64\n",
      " 31   std_og_t2t_mou_7          float64\n",
      " 32   std_og_t2t_mou_8          float64\n",
      " 33   std_og_t2m_mou_6          float64\n",
      " 34   std_og_t2m_mou_7          float64\n",
      " 35   std_og_t2m_mou_8          float64\n",
      " 36   std_og_t2f_mou_6          float64\n",
      " 37   std_og_t2f_mou_7          float64\n",
      " 38   std_og_t2f_mou_8          float64\n",
      " 39   std_og_mou_6              float64\n",
      " 40   std_og_mou_7              float64\n",
      " 41   std_og_mou_8              float64\n",
      " 42   isd_og_mou_6              float64\n",
      " 43   isd_og_mou_7              float64\n",
      " 44   isd_og_mou_8              float64\n",
      " 45   spl_og_mou_6              float64\n",
      " 46   spl_og_mou_7              float64\n",
      " 47   spl_og_mou_8              float64\n",
      " 48   og_others_6               float64\n",
      " 49   og_others_7               float64\n",
      " 50   og_others_8               float64\n",
      " 51   total_og_mou_6            float64\n",
      " 52   total_og_mou_7            float64\n",
      " 53   total_og_mou_8            float64\n",
      " 54   loc_ic_t2t_mou_6          float64\n",
      " 55   loc_ic_t2t_mou_7          float64\n",
      " 56   loc_ic_t2t_mou_8          float64\n",
      " 57   loc_ic_t2m_mou_6          float64\n",
      " 58   loc_ic_t2m_mou_7          float64\n",
      " 59   loc_ic_t2m_mou_8          float64\n",
      " 60   loc_ic_t2f_mou_6          float64\n",
      " 61   loc_ic_t2f_mou_7          float64\n",
      " 62   loc_ic_t2f_mou_8          float64\n",
      " 63   loc_ic_mou_6              float64\n",
      " 64   loc_ic_mou_7              float64\n",
      " 65   loc_ic_mou_8              float64\n",
      " 66   std_ic_t2t_mou_6          float64\n",
      " 67   std_ic_t2t_mou_7          float64\n",
      " 68   std_ic_t2t_mou_8          float64\n",
      " 69   std_ic_t2m_mou_6          float64\n",
      " 70   std_ic_t2m_mou_7          float64\n",
      " 71   std_ic_t2m_mou_8          float64\n",
      " 72   std_ic_t2f_mou_6          float64\n",
      " 73   std_ic_t2f_mou_7          float64\n",
      " 74   std_ic_t2f_mou_8          float64\n",
      " 75   std_ic_mou_6              float64\n",
      " 76   std_ic_mou_7              float64\n",
      " 77   std_ic_mou_8              float64\n",
      " 78   total_ic_mou_6            float64\n",
      " 79   total_ic_mou_7            float64\n",
      " 80   total_ic_mou_8            float64\n",
      " 81   spl_ic_mou_6              float64\n",
      " 82   spl_ic_mou_7              float64\n",
      " 83   spl_ic_mou_8              float64\n",
      " 84   isd_ic_mou_6              float64\n",
      " 85   isd_ic_mou_7              float64\n",
      " 86   isd_ic_mou_8              float64\n",
      " 87   ic_others_6               float64\n",
      " 88   ic_others_7               float64\n",
      " 89   ic_others_8               float64\n",
      " 90   total_rech_num_6          int64  \n",
      " 91   total_rech_num_7          int64  \n",
      " 92   total_rech_num_8          int64  \n",
      " 93   total_rech_amt_6          float64\n",
      " 94   total_rech_amt_7          int64  \n",
      " 95   total_rech_amt_8          float64\n",
      " 96   max_rech_amt_6            int64  \n",
      " 97   max_rech_amt_7            int64  \n",
      " 98   max_rech_amt_8            int64  \n",
      " 99   date_of_last_rech_6       float64\n",
      " 100  date_of_last_rech_7       float64\n",
      " 101  date_of_last_rech_8       float64\n",
      " 102  last_day_rch_amt_6        int64  \n",
      " 103  last_day_rch_amt_7        int64  \n",
      " 104  last_day_rch_amt_8        int64  \n",
      " 105  date_of_last_rech_data_6  float64\n",
      " 106  date_of_last_rech_data_7  float64\n",
      " 107  date_of_last_rech_data_8  float64\n",
      " 108  total_rech_data_6         float64\n",
      " 109  total_rech_data_7         float64\n",
      " 110  total_rech_data_8         float64\n",
      " 111  max_rech_data_6           float64\n",
      " 112  max_rech_data_7           float64\n",
      " 113  max_rech_data_8           float64\n",
      " 114  count_rech_2g_6           float64\n",
      " 115  count_rech_2g_7           float64\n",
      " 116  count_rech_2g_8           float64\n",
      " 117  count_rech_3g_6           float64\n",
      " 118  count_rech_3g_7           float64\n",
      " 119  count_rech_3g_8           float64\n",
      " 120  av_rech_amt_data_6        float64\n",
      " 121  av_rech_amt_data_7        float64\n",
      " 122  av_rech_amt_data_8        float64\n",
      " 123  vol_2g_mb_6               float64\n",
      " 124  vol_2g_mb_7               float64\n",
      " 125  vol_2g_mb_8               float64\n",
      " 126  vol_3g_mb_6               float64\n",
      " 127  vol_3g_mb_7               float64\n",
      " 128  vol_3g_mb_8               float64\n",
      " 129  arpu_3g_6                 float64\n",
      " 130  arpu_3g_7                 float64\n",
      " 131  arpu_3g_8                 float64\n",
      " 132  arpu_2g_6                 float64\n",
      " 133  arpu_2g_7                 float64\n",
      " 134  arpu_2g_8                 float64\n",
      " 135  night_pck_user_6          float64\n",
      " 136  night_pck_user_7          float64\n",
      " 137  night_pck_user_8          float64\n",
      " 138  monthly_2g_6              int64  \n",
      " 139  monthly_2g_7              int64  \n",
      " 140  monthly_2g_8              int64  \n",
      " 141  sachet_2g_6               int64  \n",
      " 142  sachet_2g_7               int64  \n",
      " 143  sachet_2g_8               int64  \n",
      " 144  monthly_3g_6              int64  \n",
      " 145  monthly_3g_7              int64  \n",
      " 146  monthly_3g_8              int64  \n",
      " 147  sachet_3g_6               int64  \n",
      " 148  sachet_3g_7               int64  \n",
      " 149  sachet_3g_8               int64  \n",
      " 150  fb_user_6                 float64\n",
      " 151  fb_user_7                 float64\n",
      " 152  fb_user_8                 float64\n",
      " 153  aon                       int64  \n",
      " 154  aug_vbc_3g                float64\n",
      " 155  jul_vbc_3g                float64\n",
      " 156  jun_vbc_3g                float64\n",
      " 157  churn_probability         int64  \n",
      "dtypes: float64(134), int64(24)\n",
      "memory usage: 86.9 MB\n"
     ]
    }
   ],
   "source": [
    "combine[0].info(verbose=True)"
   ]
  },
  {
   "cell_type": "code",
   "execution_count": 45,
   "id": "8390871b",
   "metadata": {
    "execution": {
     "iopub.execute_input": "2022-03-16T09:36:07.437753Z",
     "iopub.status.busy": "2022-03-16T09:36:07.437092Z",
     "iopub.status.idle": "2022-03-16T09:36:08.096086Z",
     "shell.execute_reply": "2022-03-16T09:36:08.095316Z",
     "shell.execute_reply.started": "2022-03-16T09:34:37.594348Z"
    },
    "papermill": {
     "duration": 0.757085,
     "end_time": "2022-03-16T09:36:08.096246",
     "exception": false,
     "start_time": "2022-03-16T09:36:07.339161",
     "status": "completed"
    },
    "tags": []
   },
   "outputs": [
    {
     "data": {
      "text/html": [
       "<div>\n",
       "<style scoped>\n",
       "    .dataframe tbody tr th:only-of-type {\n",
       "        vertical-align: middle;\n",
       "    }\n",
       "\n",
       "    .dataframe tbody tr th {\n",
       "        vertical-align: top;\n",
       "    }\n",
       "\n",
       "    .dataframe thead th {\n",
       "        text-align: right;\n",
       "    }\n",
       "</style>\n",
       "<table border=\"1\" class=\"dataframe\">\n",
       "  <thead>\n",
       "    <tr style=\"text-align: right;\">\n",
       "      <th></th>\n",
       "      <th>arpu_6</th>\n",
       "      <th>arpu_7</th>\n",
       "      <th>arpu_8</th>\n",
       "      <th>onnet_mou_6</th>\n",
       "      <th>onnet_mou_7</th>\n",
       "      <th>onnet_mou_8</th>\n",
       "      <th>offnet_mou_6</th>\n",
       "      <th>offnet_mou_7</th>\n",
       "      <th>offnet_mou_8</th>\n",
       "      <th>roam_ic_mou_6</th>\n",
       "      <th>...</th>\n",
       "      <th>sachet_3g_7</th>\n",
       "      <th>sachet_3g_8</th>\n",
       "      <th>fb_user_6</th>\n",
       "      <th>fb_user_7</th>\n",
       "      <th>fb_user_8</th>\n",
       "      <th>aon</th>\n",
       "      <th>aug_vbc_3g</th>\n",
       "      <th>jul_vbc_3g</th>\n",
       "      <th>jun_vbc_3g</th>\n",
       "      <th>churn_probability</th>\n",
       "    </tr>\n",
       "  </thead>\n",
       "  <tbody>\n",
       "    <tr>\n",
       "      <th>count</th>\n",
       "      <td>69999.000000</td>\n",
       "      <td>69999.000000</td>\n",
       "      <td>69999.000000</td>\n",
       "      <td>69999.000000</td>\n",
       "      <td>69999.000000</td>\n",
       "      <td>69999.000000</td>\n",
       "      <td>69999.000000</td>\n",
       "      <td>69999.000000</td>\n",
       "      <td>69999.000000</td>\n",
       "      <td>69999.000000</td>\n",
       "      <td>...</td>\n",
       "      <td>69999.000000</td>\n",
       "      <td>69999.000000</td>\n",
       "      <td>69999.000000</td>\n",
       "      <td>69999.000000</td>\n",
       "      <td>69999.000000</td>\n",
       "      <td>69999.000000</td>\n",
       "      <td>69999.000000</td>\n",
       "      <td>69999.000000</td>\n",
       "      <td>69999.000000</td>\n",
       "      <td>69999.000000</td>\n",
       "    </tr>\n",
       "    <tr>\n",
       "      <th>mean</th>\n",
       "      <td>276.926861</td>\n",
       "      <td>271.901058</td>\n",
       "      <td>272.341811</td>\n",
       "      <td>120.747130</td>\n",
       "      <td>121.224215</td>\n",
       "      <td>118.333505</td>\n",
       "      <td>184.197691</td>\n",
       "      <td>182.341078</td>\n",
       "      <td>178.947790</td>\n",
       "      <td>7.202796</td>\n",
       "      <td>...</td>\n",
       "      <td>0.054929</td>\n",
       "      <td>0.055872</td>\n",
       "      <td>0.229975</td>\n",
       "      <td>0.232132</td>\n",
       "      <td>0.234246</td>\n",
       "      <td>1220.188946</td>\n",
       "      <td>60.651021</td>\n",
       "      <td>58.393407</td>\n",
       "      <td>52.577735</td>\n",
       "      <td>0.101887</td>\n",
       "    </tr>\n",
       "    <tr>\n",
       "      <th>std</th>\n",
       "      <td>268.478830</td>\n",
       "      <td>269.419465</td>\n",
       "      <td>273.950117</td>\n",
       "      <td>237.768446</td>\n",
       "      <td>243.753462</td>\n",
       "      <td>239.824631</td>\n",
       "      <td>263.554912</td>\n",
       "      <td>265.383818</td>\n",
       "      <td>261.521972</td>\n",
       "      <td>29.059940</td>\n",
       "      <td>...</td>\n",
       "      <td>0.281017</td>\n",
       "      <td>0.283716</td>\n",
       "      <td>0.420819</td>\n",
       "      <td>0.422196</td>\n",
       "      <td>0.423530</td>\n",
       "      <td>951.019424</td>\n",
       "      <td>200.381350</td>\n",
       "      <td>199.688297</td>\n",
       "      <td>185.097042</td>\n",
       "      <td>0.302502</td>\n",
       "    </tr>\n",
       "    <tr>\n",
       "      <th>min</th>\n",
       "      <td>0.000000</td>\n",
       "      <td>0.000000</td>\n",
       "      <td>0.000000</td>\n",
       "      <td>0.000000</td>\n",
       "      <td>0.000000</td>\n",
       "      <td>0.000000</td>\n",
       "      <td>0.000000</td>\n",
       "      <td>0.000000</td>\n",
       "      <td>0.000000</td>\n",
       "      <td>0.000000</td>\n",
       "      <td>...</td>\n",
       "      <td>0.000000</td>\n",
       "      <td>0.000000</td>\n",
       "      <td>0.000000</td>\n",
       "      <td>0.000000</td>\n",
       "      <td>0.000000</td>\n",
       "      <td>188.000000</td>\n",
       "      <td>0.000000</td>\n",
       "      <td>0.000000</td>\n",
       "      <td>0.000000</td>\n",
       "      <td>0.000000</td>\n",
       "    </tr>\n",
       "    <tr>\n",
       "      <th>25%</th>\n",
       "      <td>93.581000</td>\n",
       "      <td>86.714000</td>\n",
       "      <td>84.095000</td>\n",
       "      <td>5.430000</td>\n",
       "      <td>4.910000</td>\n",
       "      <td>4.110000</td>\n",
       "      <td>28.790000</td>\n",
       "      <td>26.690000</td>\n",
       "      <td>23.780000</td>\n",
       "      <td>0.000000</td>\n",
       "      <td>...</td>\n",
       "      <td>0.000000</td>\n",
       "      <td>0.000000</td>\n",
       "      <td>0.000000</td>\n",
       "      <td>0.000000</td>\n",
       "      <td>0.000000</td>\n",
       "      <td>468.000000</td>\n",
       "      <td>0.000000</td>\n",
       "      <td>0.000000</td>\n",
       "      <td>0.000000</td>\n",
       "      <td>0.000000</td>\n",
       "    </tr>\n",
       "    <tr>\n",
       "      <th>50%</th>\n",
       "      <td>197.484000</td>\n",
       "      <td>191.588000</td>\n",
       "      <td>192.234000</td>\n",
       "      <td>30.830000</td>\n",
       "      <td>29.160000</td>\n",
       "      <td>27.840000</td>\n",
       "      <td>89.810000</td>\n",
       "      <td>85.590000</td>\n",
       "      <td>83.010000</td>\n",
       "      <td>0.000000</td>\n",
       "      <td>...</td>\n",
       "      <td>0.000000</td>\n",
       "      <td>0.000000</td>\n",
       "      <td>0.000000</td>\n",
       "      <td>0.000000</td>\n",
       "      <td>0.000000</td>\n",
       "      <td>868.000000</td>\n",
       "      <td>0.000000</td>\n",
       "      <td>0.000000</td>\n",
       "      <td>0.000000</td>\n",
       "      <td>0.000000</td>\n",
       "    </tr>\n",
       "    <tr>\n",
       "      <th>75%</th>\n",
       "      <td>370.791000</td>\n",
       "      <td>365.369500</td>\n",
       "      <td>369.909000</td>\n",
       "      <td>113.100000</td>\n",
       "      <td>108.940000</td>\n",
       "      <td>106.280000</td>\n",
       "      <td>223.540000</td>\n",
       "      <td>218.350000</td>\n",
       "      <td>216.410000</td>\n",
       "      <td>0.000000</td>\n",
       "      <td>...</td>\n",
       "      <td>0.000000</td>\n",
       "      <td>0.000000</td>\n",
       "      <td>0.000000</td>\n",
       "      <td>0.000000</td>\n",
       "      <td>0.000000</td>\n",
       "      <td>1813.000000</td>\n",
       "      <td>0.000000</td>\n",
       "      <td>0.000000</td>\n",
       "      <td>0.000000</td>\n",
       "      <td>0.000000</td>\n",
       "    </tr>\n",
       "    <tr>\n",
       "      <th>max</th>\n",
       "      <td>1400.276640</td>\n",
       "      <td>1414.891380</td>\n",
       "      <td>1445.054800</td>\n",
       "      <td>1429.040400</td>\n",
       "      <td>1461.342200</td>\n",
       "      <td>1448.891000</td>\n",
       "      <td>1520.310000</td>\n",
       "      <td>1517.838600</td>\n",
       "      <td>1492.232400</td>\n",
       "      <td>213.827400</td>\n",
       "      <td>...</td>\n",
       "      <td>2.000000</td>\n",
       "      <td>2.000000</td>\n",
       "      <td>1.000000</td>\n",
       "      <td>1.000000</td>\n",
       "      <td>1.000000</td>\n",
       "      <td>3651.000000</td>\n",
       "      <td>1226.659800</td>\n",
       "      <td>1254.279000</td>\n",
       "      <td>1188.267800</td>\n",
       "      <td>1.000000</td>\n",
       "    </tr>\n",
       "  </tbody>\n",
       "</table>\n",
       "<p>8 rows × 158 columns</p>\n",
       "</div>"
      ],
      "text/plain": [
       "             arpu_6        arpu_7        arpu_8   onnet_mou_6   onnet_mou_7  \\\n",
       "count  69999.000000  69999.000000  69999.000000  69999.000000  69999.000000   \n",
       "mean     276.926861    271.901058    272.341811    120.747130    121.224215   \n",
       "std      268.478830    269.419465    273.950117    237.768446    243.753462   \n",
       "min        0.000000      0.000000      0.000000      0.000000      0.000000   \n",
       "25%       93.581000     86.714000     84.095000      5.430000      4.910000   \n",
       "50%      197.484000    191.588000    192.234000     30.830000     29.160000   \n",
       "75%      370.791000    365.369500    369.909000    113.100000    108.940000   \n",
       "max     1400.276640   1414.891380   1445.054800   1429.040400   1461.342200   \n",
       "\n",
       "        onnet_mou_8  offnet_mou_6  offnet_mou_7  offnet_mou_8  roam_ic_mou_6  \\\n",
       "count  69999.000000  69999.000000  69999.000000  69999.000000   69999.000000   \n",
       "mean     118.333505    184.197691    182.341078    178.947790       7.202796   \n",
       "std      239.824631    263.554912    265.383818    261.521972      29.059940   \n",
       "min        0.000000      0.000000      0.000000      0.000000       0.000000   \n",
       "25%        4.110000     28.790000     26.690000     23.780000       0.000000   \n",
       "50%       27.840000     89.810000     85.590000     83.010000       0.000000   \n",
       "75%      106.280000    223.540000    218.350000    216.410000       0.000000   \n",
       "max     1448.891000   1520.310000   1517.838600   1492.232400     213.827400   \n",
       "\n",
       "       ...   sachet_3g_7   sachet_3g_8     fb_user_6     fb_user_7  \\\n",
       "count  ...  69999.000000  69999.000000  69999.000000  69999.000000   \n",
       "mean   ...      0.054929      0.055872      0.229975      0.232132   \n",
       "std    ...      0.281017      0.283716      0.420819      0.422196   \n",
       "min    ...      0.000000      0.000000      0.000000      0.000000   \n",
       "25%    ...      0.000000      0.000000      0.000000      0.000000   \n",
       "50%    ...      0.000000      0.000000      0.000000      0.000000   \n",
       "75%    ...      0.000000      0.000000      0.000000      0.000000   \n",
       "max    ...      2.000000      2.000000      1.000000      1.000000   \n",
       "\n",
       "          fb_user_8           aon    aug_vbc_3g    jul_vbc_3g    jun_vbc_3g  \\\n",
       "count  69999.000000  69999.000000  69999.000000  69999.000000  69999.000000   \n",
       "mean       0.234246   1220.188946     60.651021     58.393407     52.577735   \n",
       "std        0.423530    951.019424    200.381350    199.688297    185.097042   \n",
       "min        0.000000    188.000000      0.000000      0.000000      0.000000   \n",
       "25%        0.000000    468.000000      0.000000      0.000000      0.000000   \n",
       "50%        0.000000    868.000000      0.000000      0.000000      0.000000   \n",
       "75%        0.000000   1813.000000      0.000000      0.000000      0.000000   \n",
       "max        1.000000   3651.000000   1226.659800   1254.279000   1188.267800   \n",
       "\n",
       "       churn_probability  \n",
       "count       69999.000000  \n",
       "mean            0.101887  \n",
       "std             0.302502  \n",
       "min             0.000000  \n",
       "25%             0.000000  \n",
       "50%             0.000000  \n",
       "75%             0.000000  \n",
       "max             1.000000  \n",
       "\n",
       "[8 rows x 158 columns]"
      ]
     },
     "execution_count": 45,
     "metadata": {},
     "output_type": "execute_result"
    }
   ],
   "source": [
    "train_df.describe()"
   ]
  },
  {
   "cell_type": "code",
   "execution_count": 46,
   "id": "2aa2efd2",
   "metadata": {
    "execution": {
     "iopub.execute_input": "2022-03-16T09:36:08.290174Z",
     "iopub.status.busy": "2022-03-16T09:36:08.289506Z",
     "iopub.status.idle": "2022-03-16T09:36:08.292073Z",
     "shell.execute_reply": "2022-03-16T09:36:08.292623Z",
     "shell.execute_reply.started": "2022-03-16T09:34:38.285366Z"
    },
    "papermill": {
     "duration": 0.102195,
     "end_time": "2022-03-16T09:36:08.292799",
     "exception": false,
     "start_time": "2022-03-16T09:36:08.190604",
     "status": "completed"
    },
    "tags": []
   },
   "outputs": [
    {
     "name": "stdout",
     "output_type": "stream",
     "text": [
      "(69999, 158)\n",
      "(30000, 157)\n"
     ]
    }
   ],
   "source": [
    "for name, dataset in zip(file_name,combine):\n",
    "    print(dataset.shape)"
   ]
  },
  {
   "cell_type": "code",
   "execution_count": 47,
   "id": "82f7d07f",
   "metadata": {
    "execution": {
     "iopub.execute_input": "2022-03-16T09:36:08.500683Z",
     "iopub.status.busy": "2022-03-16T09:36:08.499903Z",
     "iopub.status.idle": "2022-03-16T09:36:08.503646Z",
     "shell.execute_reply": "2022-03-16T09:36:08.502929Z",
     "shell.execute_reply.started": "2022-03-16T09:34:38.292610Z"
    },
    "papermill": {
     "duration": 0.117205,
     "end_time": "2022-03-16T09:36:08.503829",
     "exception": false,
     "start_time": "2022-03-16T09:36:08.386624",
     "status": "completed"
    },
    "tags": []
   },
   "outputs": [
    {
     "name": "stdout",
     "output_type": "stream",
     "text": [
      "        count_rech_2g_6  count_rech_3g_6  total_rech_data_6\n",
      "id                                                         \n",
      "699.98              0.0              0.0                0.0\n",
      "699.98              0.0              0.0                0.0\n",
      "699.98              0.0              0.0                0.0\n",
      "699.98              0.0              0.0                0.0\n",
      "699.98              7.0              0.0                7.0\n",
      "699.98              0.0              0.0                0.0\n",
      "699.98              0.0              0.0                0.0\n",
      "699.98              1.0              0.0                1.0\n",
      "699.98              0.0              0.0                0.0\n",
      "699.98              0.0              0.0                0.0\n",
      "       count_rech_2g_6  count_rech_3g_6  total_rech_data_6\n",
      "id                                                        \n",
      "69999              0.0              0.0                0.0\n",
      "70000              0.0              0.0                0.0\n",
      "70001              0.0              0.0                0.0\n",
      "70002              0.0              0.0                0.0\n",
      "70003              0.0              0.0                0.0\n",
      "70004              0.0              0.0                0.0\n",
      "70005              0.0              0.0                0.0\n",
      "70006              0.0              0.0                0.0\n",
      "70007              0.0              0.0                0.0\n",
      "70008              0.0              0.0                0.0\n"
     ]
    }
   ],
   "source": [
    "for name, df in zip(file_name,combine):\n",
    "    print(df[['count_rech_2g_6','count_rech_3g_6','total_rech_data_6']].head(10))"
   ]
  },
  {
   "cell_type": "code",
   "execution_count": 48,
   "id": "63eccb5a",
   "metadata": {
    "execution": {
     "iopub.execute_input": "2022-03-16T09:36:08.702166Z",
     "iopub.status.busy": "2022-03-16T09:36:08.701312Z",
     "iopub.status.idle": "2022-03-16T09:36:08.743219Z",
     "shell.execute_reply": "2022-03-16T09:36:08.743795Z",
     "shell.execute_reply.started": "2022-03-16T09:34:38.318361Z"
    },
    "papermill": {
     "duration": 0.143701,
     "end_time": "2022-03-16T09:36:08.744004",
     "exception": false,
     "start_time": "2022-03-16T09:36:08.600303",
     "status": "completed"
    },
    "tags": []
   },
   "outputs": [],
   "source": [
    "for name, df in zip(file_name,combine):\n",
    "    df.drop(['count_rech_2g_6','count_rech_3g_6',\n",
    "        'count_rech_2g_6','count_rech_3g_6',\n",
    "        'count_rech_2g_6','count_rech_3g_6'],axis=1,inplace=True)"
   ]
  },
  {
   "cell_type": "code",
   "execution_count": 49,
   "id": "d8add4d9",
   "metadata": {
    "execution": {
     "iopub.execute_input": "2022-03-16T09:36:08.943632Z",
     "iopub.status.busy": "2022-03-16T09:36:08.942881Z",
     "iopub.status.idle": "2022-03-16T09:36:08.947926Z",
     "shell.execute_reply": "2022-03-16T09:36:08.947279Z",
     "shell.execute_reply.started": "2022-03-16T09:34:38.371916Z"
    },
    "papermill": {
     "duration": 0.106386,
     "end_time": "2022-03-16T09:36:08.948091",
     "exception": false,
     "start_time": "2022-03-16T09:36:08.841705",
     "status": "completed"
    },
    "tags": []
   },
   "outputs": [
    {
     "name": "stdout",
     "output_type": "stream",
     "text": [
      "(69999, 156)\n",
      "(30000, 155)\n"
     ]
    }
   ],
   "source": [
    "for name, dataset in zip(file_name,combine):\n",
    "    print(dataset.shape)"
   ]
  },
  {
   "cell_type": "code",
   "execution_count": 50,
   "id": "c59dc28c",
   "metadata": {
    "execution": {
     "iopub.execute_input": "2022-03-16T09:36:09.157265Z",
     "iopub.status.busy": "2022-03-16T09:36:09.156266Z",
     "iopub.status.idle": "2022-03-16T09:36:09.161988Z",
     "shell.execute_reply": "2022-03-16T09:36:09.161094Z",
     "shell.execute_reply.started": "2022-03-16T09:34:38.379512Z"
    },
    "papermill": {
     "duration": 0.117711,
     "end_time": "2022-03-16T09:36:09.162197",
     "exception": false,
     "start_time": "2022-03-16T09:36:09.044486",
     "status": "completed"
    },
    "tags": []
   },
   "outputs": [
    {
     "name": "stdout",
     "output_type": "stream",
     "text": [
      "        loc_og_t2t_mou_6  loc_og_t2m_mou_6  loc_og_t2f_mou_6  loc_og_mou_6\n",
      "id                                                                        \n",
      "699.98              2.23              5.29              0.00          7.53\n",
      "699.98              0.00              0.00              0.00          0.00\n",
      "699.98              0.53             24.11              0.00         24.64\n",
      "699.98              6.99             37.91              0.00         44.91\n",
      "699.98             10.16             36.74             11.99         58.91\n",
      "699.98              1.39              3.56              0.00          4.96\n",
      "699.98             38.81             31.63              0.00         70.44\n",
      "699.98              0.00              0.00              0.00          0.00\n",
      "699.98              0.00              0.00              0.00          0.00\n",
      "699.98             27.49            103.44              2.41        133.36\n",
      "       loc_og_t2t_mou_6  loc_og_t2m_mou_6  loc_og_t2f_mou_6  loc_og_mou_6\n",
      "id                                                                       \n",
      "69999             24.88             18.13              0.00         43.01\n",
      "70000             75.51            473.61              0.73        549.86\n",
      "70001              0.00              0.00              0.00          0.00\n",
      "70002              5.31              2.94              0.00          8.26\n",
      "70003              0.45              2.39              0.00          2.84\n",
      "70004              0.00              0.00              0.00          0.00\n",
      "70005             13.13              8.38             14.16         35.68\n",
      "70006              0.21             35.86              0.00         36.08\n",
      "70007              4.01             34.58              0.00         38.59\n",
      "70008              0.00              0.00              0.00          0.00\n"
     ]
    }
   ],
   "source": [
    "for name, df in zip(file_name,combine):\n",
    "    print(df[['loc_og_t2t_mou_6','loc_og_t2m_mou_6','loc_og_t2f_mou_6','loc_og_mou_6']].head(10))"
   ]
  },
  {
   "cell_type": "code",
   "execution_count": 51,
   "id": "6171d70e",
   "metadata": {
    "execution": {
     "iopub.execute_input": "2022-03-16T09:36:09.372979Z",
     "iopub.status.busy": "2022-03-16T09:36:09.372186Z",
     "iopub.status.idle": "2022-03-16T09:36:09.375479Z",
     "shell.execute_reply": "2022-03-16T09:36:09.376123Z",
     "shell.execute_reply.started": "2022-03-16T09:34:38.408104Z"
    },
    "papermill": {
     "duration": 0.11803,
     "end_time": "2022-03-16T09:36:09.376332",
     "exception": false,
     "start_time": "2022-03-16T09:36:09.258302",
     "status": "completed"
    },
    "tags": []
   },
   "outputs": [
    {
     "name": "stdout",
     "output_type": "stream",
     "text": [
      "train\n",
      "        loc_og_t2t_mou_7  loc_og_t2m_mou_7  loc_og_t2f_mou_7  loc_og_mou_7\n",
      "id                                                                        \n",
      "699.98              0.00             16.04              0.00         16.04\n",
      "699.98              0.00              0.00              0.00          0.00\n",
      "699.98             12.98              0.00              0.00         12.98\n",
      "699.98              3.94             44.89              0.00         48.84\n",
      "699.98              4.83             19.88              1.23         25.94\n",
      "699.98              1.78             20.63              0.00         22.41\n",
      "699.98             24.51             54.18              0.00         78.69\n",
      "699.98              0.00              0.00              0.00          0.00\n",
      "699.98              0.00              0.00              0.00          0.00\n",
      "699.98             94.74            104.88              3.43        203.06\n",
      "test\n",
      "       loc_og_t2t_mou_7  loc_og_t2m_mou_7  loc_og_t2f_mou_7  loc_og_mou_7\n",
      "id                                                                       \n",
      "69999             20.23             10.89             13.58         44.71\n",
      "70000             41.21            598.08              0.00        639.29\n",
      "70001              0.00              0.00              0.00          0.00\n",
      "70002              0.00             98.61              0.00         98.61\n",
      "70003              0.78              2.66              0.00          3.44\n",
      "70004              0.00              0.00              0.00          0.00\n",
      "70005              8.01              8.34              0.00         16.36\n",
      "70006              0.00             46.64              0.83         47.48\n",
      "70007              1.43             41.26              0.00         42.69\n",
      "70008             15.31             38.18              1.30         54.79\n"
     ]
    }
   ],
   "source": [
    "for name, df in zip(file_name,combine):\n",
    "    print(name)\n",
    "    print(df[['loc_og_t2t_mou_7','loc_og_t2m_mou_7','loc_og_t2f_mou_7','loc_og_mou_7']].head(10))"
   ]
  },
  {
   "cell_type": "code",
   "execution_count": 52,
   "id": "c5779d9d",
   "metadata": {
    "execution": {
     "iopub.execute_input": "2022-03-16T09:36:09.584982Z",
     "iopub.status.busy": "2022-03-16T09:36:09.584276Z",
     "iopub.status.idle": "2022-03-16T09:36:09.602338Z",
     "shell.execute_reply": "2022-03-16T09:36:09.603054Z",
     "shell.execute_reply.started": "2022-03-16T09:34:38.430014Z"
    },
    "papermill": {
     "duration": 0.117596,
     "end_time": "2022-03-16T09:36:09.603278",
     "exception": false,
     "start_time": "2022-03-16T09:36:09.485682",
     "status": "completed"
    },
    "tags": []
   },
   "outputs": [
    {
     "name": "stdout",
     "output_type": "stream",
     "text": [
      "train\n",
      "        loc_og_t2t_mou_8  loc_og_t2m_mou_8  loc_og_t2f_mou_8  loc_og_mou_8\n",
      "id                                                                        \n",
      "699.98              0.28              2.33              0.00          2.61\n",
      "699.98              0.00              0.00              0.00          0.00\n",
      "699.98              0.00              0.00              0.00          0.00\n",
      "699.98              0.00             23.63              0.00         23.63\n",
      "699.98              6.13              4.61              5.01         15.76\n",
      "699.98              0.45              3.44              0.00          3.89\n",
      "699.98             19.61              5.58              0.00         25.19\n",
      "699.98              0.00              0.00              0.00          0.00\n",
      "699.98              0.00              0.00              0.00          0.00\n",
      "699.98             53.38             77.99              0.00        131.38\n",
      "test\n",
      "       loc_og_t2t_mou_8  loc_og_t2m_mou_8  loc_og_t2f_mou_8  loc_og_mou_8\n",
      "id                                                                       \n",
      "69999             21.06              8.36              0.00         29.43\n",
      "70000             19.84            377.26              0.00        397.11\n",
      "70001              0.00              0.00              0.00          0.00\n",
      "70002              0.00             20.51              2.35         22.86\n",
      "70003             14.56             10.94              0.00         25.51\n",
      "70004              0.00              0.00              0.00          0.00\n",
      "70005             25.94             14.48              0.00         40.43\n",
      "70006              0.00             21.03              0.00         21.03\n",
      "70007              0.84             16.31              0.00         17.16\n",
      "70008              0.00              0.00              0.00          0.00\n"
     ]
    }
   ],
   "source": [
    "for name, df in zip(file_name,combine):\n",
    "    print(name)\n",
    "    print(df[['loc_og_t2t_mou_8','loc_og_t2m_mou_8','loc_og_t2f_mou_8','loc_og_mou_8']].head(10))"
   ]
  },
  {
   "cell_type": "code",
   "execution_count": 53,
   "id": "5b910ed9",
   "metadata": {
    "execution": {
     "iopub.execute_input": "2022-03-16T09:36:09.801937Z",
     "iopub.status.busy": "2022-03-16T09:36:09.801172Z",
     "iopub.status.idle": "2022-03-16T09:36:09.842745Z",
     "shell.execute_reply": "2022-03-16T09:36:09.842011Z",
     "shell.execute_reply.started": "2022-03-16T09:34:38.450435Z"
    },
    "papermill": {
     "duration": 0.142397,
     "end_time": "2022-03-16T09:36:09.842928",
     "exception": false,
     "start_time": "2022-03-16T09:36:09.700531",
     "status": "completed"
    },
    "tags": []
   },
   "outputs": [
    {
     "name": "stdout",
     "output_type": "stream",
     "text": [
      "train\n",
      "(69999, 147)\n",
      "test\n",
      "(30000, 146)\n"
     ]
    }
   ],
   "source": [
    "for name, df in zip(file_name,combine):\n",
    "    df.drop(['loc_og_t2t_mou_6','loc_og_t2m_mou_6','loc_og_t2f_mou_6',\n",
    "        'loc_og_t2t_mou_7','loc_og_t2m_mou_7','loc_og_t2f_mou_7',\n",
    "        'loc_og_t2t_mou_8','loc_og_t2m_mou_8','loc_og_t2f_mou_8'],axis=1,inplace=True)\n",
    "    print(name)\n",
    "    print(df.shape)"
   ]
  },
  {
   "cell_type": "markdown",
   "id": "b032d559",
   "metadata": {
    "papermill": {
     "duration": 0.100284,
     "end_time": "2022-03-16T09:36:10.043483",
     "exception": false,
     "start_time": "2022-03-16T09:36:09.943199",
     "status": "completed"
    },
    "tags": []
   },
   "source": []
  },
  {
   "cell_type": "code",
   "execution_count": 54,
   "id": "48b3fd41",
   "metadata": {
    "execution": {
     "iopub.execute_input": "2022-03-16T09:36:10.243539Z",
     "iopub.status.busy": "2022-03-16T09:36:10.242890Z",
     "iopub.status.idle": "2022-03-16T09:36:10.256720Z",
     "shell.execute_reply": "2022-03-16T09:36:10.257472Z",
     "shell.execute_reply.started": "2022-03-16T09:34:38.506202Z"
    },
    "papermill": {
     "duration": 0.116463,
     "end_time": "2022-03-16T09:36:10.257733",
     "exception": false,
     "start_time": "2022-03-16T09:36:10.141270",
     "status": "completed"
    },
    "tags": []
   },
   "outputs": [
    {
     "name": "stdout",
     "output_type": "stream",
     "text": [
      "train\n",
      "        std_og_t2t_mou_6  std_og_t2m_mou_6  std_og_t2f_mou_6  std_og_mou_6\n",
      "id                                                                        \n",
      "699.98             46.34             18.75              0.00         65.09\n",
      "699.98              0.00              0.00              0.00          0.00\n",
      "699.98              0.00             28.94              0.00         28.94\n",
      "699.98              0.26             15.33              0.56         16.16\n",
      "699.98              0.00              4.35              0.00          4.35\n",
      "699.98              0.00              0.00              2.08          2.08\n",
      "699.98              0.00              0.00              0.00          0.00\n",
      "699.98              0.00              0.00              0.00          0.00\n",
      "699.98              0.00              0.00              0.00          0.00\n",
      "699.98              0.00              4.64              0.00          4.64\n",
      "test\n",
      "       std_og_t2t_mou_6  std_og_t2m_mou_6  std_og_t2f_mou_6  std_og_mou_6\n",
      "id                                                                       \n",
      "69999              6.90             42.03               0.0         48.93\n",
      "70000              0.00              0.00               0.0          0.00\n",
      "70001              0.00              0.00               0.0          0.00\n",
      "70002              0.00             37.09               0.0         37.09\n",
      "70003            450.48             58.54               0.0        509.03\n",
      "70004              0.00              0.00               0.0          0.00\n",
      "70005              0.00              0.00               0.0          0.00\n",
      "70006              0.00             13.71               0.0         13.71\n",
      "70007            286.06             64.41               0.0        350.48\n",
      "70008              0.00              0.00               0.0          0.00\n"
     ]
    }
   ],
   "source": [
    "for name, df in zip(file_name,combine):\n",
    "    print(name)\n",
    "    print(df[['std_og_t2t_mou_6','std_og_t2m_mou_6','std_og_t2f_mou_6','std_og_mou_6']].head(10))"
   ]
  },
  {
   "cell_type": "code",
   "execution_count": 55,
   "id": "fc158fa6",
   "metadata": {
    "execution": {
     "iopub.execute_input": "2022-03-16T09:36:10.460057Z",
     "iopub.status.busy": "2022-03-16T09:36:10.459329Z",
     "iopub.status.idle": "2022-03-16T09:36:10.498025Z",
     "shell.execute_reply": "2022-03-16T09:36:10.498933Z",
     "shell.execute_reply.started": "2022-03-16T09:34:38.530309Z"
    },
    "papermill": {
     "duration": 0.140702,
     "end_time": "2022-03-16T09:36:10.499203",
     "exception": false,
     "start_time": "2022-03-16T09:36:10.358501",
     "status": "completed"
    },
    "tags": []
   },
   "outputs": [
    {
     "name": "stdout",
     "output_type": "stream",
     "text": [
      "train\n",
      "test\n"
     ]
    }
   ],
   "source": [
    "for name, df in zip(file_name,combine):\n",
    "    print(name)\n",
    "    df.drop(['std_og_t2t_mou_6','std_og_t2m_mou_6','std_og_t2f_mou_6',\n",
    "        'std_og_t2t_mou_7','std_og_t2m_mou_7','std_og_t2f_mou_7',\n",
    "        'std_og_t2t_mou_8','std_og_t2m_mou_8','std_og_t2f_mou_8'],axis=1,inplace=True)\n",
    "    df.shape"
   ]
  },
  {
   "cell_type": "code",
   "execution_count": 56,
   "id": "8198d73c",
   "metadata": {
    "execution": {
     "iopub.execute_input": "2022-03-16T09:36:10.699944Z",
     "iopub.status.busy": "2022-03-16T09:36:10.699202Z",
     "iopub.status.idle": "2022-03-16T09:36:10.715292Z",
     "shell.execute_reply": "2022-03-16T09:36:10.715853Z",
     "shell.execute_reply.started": "2022-03-16T09:34:38.576360Z"
    },
    "papermill": {
     "duration": 0.118768,
     "end_time": "2022-03-16T09:36:10.716059",
     "exception": false,
     "start_time": "2022-03-16T09:36:10.597291",
     "status": "completed"
    },
    "tags": []
   },
   "outputs": [
    {
     "name": "stdout",
     "output_type": "stream",
     "text": [
      "train\n",
      "        loc_ic_t2t_mou_6  loc_ic_t2m_mou_6  loc_ic_t2f_mou_6  loc_ic_mou_6\n",
      "id                                                                        \n",
      "699.98              2.43              0.83              0.00          3.26\n",
      "699.98              1.68              1.41              0.35          3.44\n",
      "699.98              4.51             89.86              0.00         94.38\n",
      "699.98             24.98             53.99              7.23         86.21\n",
      "699.98              5.44             10.58              5.51         21.54\n",
      "699.98             17.51            221.79             27.96        267.28\n",
      "699.98             94.09              7.38              0.16        101.64\n",
      "699.98             11.36             13.41              0.00         24.78\n",
      "699.98              0.00              0.00              0.00          0.00\n",
      "699.98             60.88            250.21             13.94        325.04\n",
      "test\n",
      "       loc_ic_t2t_mou_6  loc_ic_t2m_mou_6  loc_ic_t2f_mou_6  loc_ic_mou_6\n",
      "id                                                                       \n",
      "69999             30.33             10.21              0.26         40.81\n",
      "70000             19.99            160.19              1.49        181.69\n",
      "70001              0.00              0.00              0.00          0.00\n",
      "70002             58.11            487.94              0.00        546.06\n",
      "70003              0.00             10.13              0.00         10.13\n",
      "70004              0.00              0.00              0.00          0.00\n",
      "70005              6.26              5.33              0.13         11.73\n",
      "70006             30.40             28.83              0.00         59.23\n",
      "70007              2.78             65.26              1.39         69.44\n",
      "70008              0.00              0.00              0.00          0.00\n"
     ]
    }
   ],
   "source": [
    "for name, df in zip(file_name,combine):\n",
    "    print(name)\n",
    "    print(df[['loc_ic_t2t_mou_6','loc_ic_t2m_mou_6','loc_ic_t2f_mou_6','loc_ic_mou_6']].head(10))"
   ]
  },
  {
   "cell_type": "code",
   "execution_count": 57,
   "id": "6def6f7f",
   "metadata": {
    "execution": {
     "iopub.execute_input": "2022-03-16T09:36:10.917112Z",
     "iopub.status.busy": "2022-03-16T09:36:10.916363Z",
     "iopub.status.idle": "2022-03-16T09:36:10.952358Z",
     "shell.execute_reply": "2022-03-16T09:36:10.952891Z",
     "shell.execute_reply.started": "2022-03-16T09:34:38.604527Z"
    },
    "papermill": {
     "duration": 0.137992,
     "end_time": "2022-03-16T09:36:10.953087",
     "exception": false,
     "start_time": "2022-03-16T09:36:10.815095",
     "status": "completed"
    },
    "tags": []
   },
   "outputs": [
    {
     "name": "stdout",
     "output_type": "stream",
     "text": [
      "train\n",
      "(69999, 129)\n",
      "test\n",
      "(30000, 128)\n"
     ]
    }
   ],
   "source": [
    "for name, df in zip(file_name,combine):\n",
    "    print(name)\n",
    "    df.drop(['loc_ic_t2t_mou_6','loc_ic_t2m_mou_6','loc_ic_t2f_mou_6',\n",
    "        'loc_ic_t2t_mou_7','loc_ic_t2m_mou_7','loc_ic_t2f_mou_7',\n",
    "        'loc_ic_t2t_mou_8','loc_ic_t2m_mou_8','loc_ic_t2f_mou_8'],axis=1,inplace=True)\n",
    "    print(df.shape)"
   ]
  },
  {
   "cell_type": "code",
   "execution_count": 58,
   "id": "e0086fc5",
   "metadata": {
    "execution": {
     "iopub.execute_input": "2022-03-16T09:36:11.177555Z",
     "iopub.status.busy": "2022-03-16T09:36:11.176826Z",
     "iopub.status.idle": "2022-03-16T09:36:11.190675Z",
     "shell.execute_reply": "2022-03-16T09:36:11.191283Z",
     "shell.execute_reply.started": "2022-03-16T09:34:38.658172Z"
    },
    "papermill": {
     "duration": 0.138723,
     "end_time": "2022-03-16T09:36:11.191492",
     "exception": false,
     "start_time": "2022-03-16T09:36:11.052769",
     "status": "completed"
    },
    "tags": []
   },
   "outputs": [
    {
     "name": "stdout",
     "output_type": "stream",
     "text": [
      "train\n",
      "(69999, 120)\n",
      "test\n",
      "(30000, 119)\n"
     ]
    }
   ],
   "source": [
    "for name, df in zip(file_name,combine):\n",
    "    print(name)\n",
    "    df.drop(['std_ic_t2t_mou_6','std_ic_t2m_mou_6','std_ic_t2f_mou_6',\n",
    "        'std_ic_t2t_mou_7','std_ic_t2m_mou_7','std_ic_t2f_mou_7',\n",
    "        'std_ic_t2t_mou_8','std_ic_t2m_mou_8','std_ic_t2f_mou_8'],axis=1,inplace=True)\n",
    "    print(df.shape)"
   ]
  },
  {
   "cell_type": "code",
   "execution_count": 59,
   "id": "83825cbd",
   "metadata": {
    "execution": {
     "iopub.execute_input": "2022-03-16T09:36:11.396017Z",
     "iopub.status.busy": "2022-03-16T09:36:11.394997Z",
     "iopub.status.idle": "2022-03-16T09:36:11.559383Z",
     "shell.execute_reply": "2022-03-16T09:36:11.558526Z",
     "shell.execute_reply.started": "2022-03-16T09:34:38.701424Z"
    },
    "papermill": {
     "duration": 0.268266,
     "end_time": "2022-03-16T09:36:11.559611",
     "exception": false,
     "start_time": "2022-03-16T09:36:11.291345",
     "status": "completed"
    },
    "tags": []
   },
   "outputs": [
    {
     "name": "stdout",
     "output_type": "stream",
     "text": [
      "0    89.811283\n",
      "1    10.188717\n",
      "Name: churn_probability, dtype: float64\n"
     ]
    },
    {
     "data": {
      "image/png": "[encoded data removed]",
      "text/plain": [
       "<Figure size 432x288 with 1 Axes>"
      ]
     },
     "metadata": {},
     "output_type": "display_data"
    }
   ],
   "source": [
    "print((train_df['churn_probability'].value_counts()/len(train_df))*100)\n",
    "((train_df['churn_probability'].value_counts()/len(train_df))*100).plot(kind=\"pie\")\n",
    "plt.show()"
   ]
  },
  {
   "cell_type": "code",
   "execution_count": 60,
   "id": "d9ab82ec",
   "metadata": {
    "execution": {
     "iopub.execute_input": "2022-03-16T09:36:11.795159Z",
     "iopub.status.busy": "2022-03-16T09:36:11.794466Z",
     "iopub.status.idle": "2022-03-16T09:36:11.799167Z",
     "shell.execute_reply": "2022-03-16T09:36:11.799831Z",
     "shell.execute_reply.started": "2022-03-16T09:34:38.831113Z"
    },
    "papermill": {
     "duration": 0.108982,
     "end_time": "2022-03-16T09:36:11.800034",
     "exception": false,
     "start_time": "2022-03-16T09:36:11.691052",
     "status": "completed"
    },
    "tags": []
   },
   "outputs": [],
   "source": [
    "mon_6_cols = [col for col in train_df.columns if '_6' in col]\n",
    "mon_7_cols = [col for col in train_df.columns if '_7' in col]\n",
    "mon_8_cols = [col for col in train_df.columns if '_8' in col]"
   ]
  },
  {
   "cell_type": "code",
   "execution_count": 61,
   "id": "958e8a85",
   "metadata": {
    "execution": {
     "iopub.execute_input": "2022-03-16T09:36:12.005299Z",
     "iopub.status.busy": "2022-03-16T09:36:12.004683Z",
     "iopub.status.idle": "2022-03-16T09:36:14.765315Z",
     "shell.execute_reply": "2022-03-16T09:36:14.765875Z",
     "shell.execute_reply.started": "2022-03-16T09:34:38.840776Z"
    },
    "papermill": {
     "duration": 2.865111,
     "end_time": "2022-03-16T09:36:14.766076",
     "exception": false,
     "start_time": "2022-03-16T09:36:11.900965",
     "status": "completed"
    },
    "tags": []
   },
   "outputs": [
    {
     "data": {
      "text/plain": [
       "sachet_2g_7         count_rech_2g_7             0.976841\n",
       "sachet_2g_8         count_rech_2g_8             0.975772\n",
       "total_rech_amt_8    arpu_8                      0.950827\n",
       "arpu_2g_7           arpu_3g_7                   0.950727\n",
       "total_rech_amt_6    arpu_6                      0.950457\n",
       "total_rech_amt_7    arpu_7                      0.949949\n",
       "arpu_2g_6           arpu_3g_6                   0.947419\n",
       "arpu_2g_8           arpu_3g_8                   0.945300\n",
       "count_rech_2g_7     total_rech_data_7           0.928730\n",
       "count_rech_2g_8     total_rech_data_8           0.926632\n",
       "total_ic_mou_6      loc_ic_mou_6                0.913620\n",
       "sachet_2g_7         total_rech_data_7           0.910834\n",
       "sachet_2g_8         total_rech_data_8           0.909941\n",
       "total_ic_mou_8      loc_ic_mou_8                0.908380\n",
       "total_ic_mou_7      loc_ic_mou_7                0.906384\n",
       "sachet_2g_6         total_rech_data_6           0.902857\n",
       "av_rech_amt_data_6  max_rech_data_6             0.888971\n",
       "monthly_3g_6        arpu_2g_6                   0.883371\n",
       "                    arpu_3g_6                   0.881054\n",
       "monthly_3g_8        arpu_2g_8                   0.878623\n",
       "av_rech_amt_data_8  max_rech_data_8             0.877977\n",
       "av_rech_amt_data_7  max_rech_data_7             0.877148\n",
       "monthly_3g_7        arpu_2g_7                   0.877083\n",
       "                    arpu_3g_7                   0.876893\n",
       "monthly_3g_8        arpu_3g_8                   0.876183\n",
       "total_og_mou_8      std_og_mou_8                0.848118\n",
       "total_og_mou_7      std_og_mou_7                0.846218\n",
       "loc_og_mou_8        loc_og_mou_7                0.845690\n",
       "loc_ic_mou_8        loc_ic_mou_7                0.843072\n",
       "fb_user_7           date_of_last_rech_data_7    0.840940\n",
       "total_og_mou_6      std_og_mou_6                0.832476\n",
       "loc_og_mou_7        loc_og_mou_6                0.831557\n",
       "fb_user_6           date_of_last_rech_data_6    0.830491\n",
       "total_ic_mou_8      total_ic_mou_7              0.827807\n",
       "loc_ic_mou_7        loc_ic_mou_6                0.824755\n",
       "arpu_3g_7           count_rech_3g_7             0.824197\n",
       "arpu_2g_7           count_rech_3g_7             0.824138\n",
       "arpu_2g_8           count_rech_3g_8             0.821506\n",
       "arpu_3g_8           count_rech_3g_8             0.818101\n",
       "fb_user_8           date_of_last_rech_data_8    0.816756\n",
       "total_ic_mou_7      total_ic_mou_6              0.803835\n",
       "dtype: float64"
      ]
     },
     "execution_count": 61,
     "metadata": {},
     "output_type": "execute_result"
    }
   ],
   "source": [
    "telecom_data_corr = train_df.corr()\n",
    "telecom_data_corr.loc[:,:] = np.tril(telecom_data_corr, k=-1)\n",
    "telecom_data_corr = telecom_data_corr.stack()\n",
    "telecom_data_corr\n",
    "telecom_data_corr[(telecom_data_corr > 0.80) | (telecom_data_corr < -0.80)].sort_values(ascending=False)"
   ]
  },
  {
   "cell_type": "code",
   "execution_count": 62,
   "id": "af94b2dc",
   "metadata": {
    "execution": {
     "iopub.execute_input": "2022-03-16T09:36:14.970920Z",
     "iopub.status.busy": "2022-03-16T09:36:14.970266Z",
     "iopub.status.idle": "2022-03-16T09:36:17.766559Z",
     "shell.execute_reply": "2022-03-16T09:36:17.766020Z",
     "shell.execute_reply.started": "2022-03-16T09:34:41.600224Z"
    },
    "papermill": {
     "duration": 2.899663,
     "end_time": "2022-03-16T09:36:17.766724",
     "exception": false,
     "start_time": "2022-03-16T09:36:14.867061",
     "status": "completed"
    },
    "tags": []
   },
   "outputs": [
    {
     "name": "stdout",
     "output_type": "stream",
     "text": [
      "['total_ic_mou_6', 'total_ic_mou_7', 'total_ic_mou_8', 'total_rech_amt_6', 'total_rech_amt_7', 'total_rech_amt_8', 'count_rech_2g_7', 'count_rech_2g_8', 'arpu_2g_6', 'arpu_2g_7', 'arpu_2g_8', 'sachet_2g_6', 'sachet_2g_7', 'sachet_2g_8']\n"
     ]
    }
   ],
   "source": [
    "corr_matrix = train_df.corr().abs()\n",
    "upper = corr_matrix.where(np.triu(np.ones(corr_matrix.shape), k=1).astype(np.bool))\n",
    "\n",
    "# Find index of feature columns with correlation greater than 0.70\n",
    "to_drop = [column for column in upper.columns if any(upper[column] > 0.9)]\n",
    "print((to_drop))"
   ]
  },
  {
   "cell_type": "code",
   "execution_count": 63,
   "id": "c6505f9e",
   "metadata": {
    "execution": {
     "iopub.execute_input": "2022-03-16T09:36:17.975680Z",
     "iopub.status.busy": "2022-03-16T09:36:17.974714Z",
     "iopub.status.idle": "2022-03-16T09:36:18.019190Z",
     "shell.execute_reply": "2022-03-16T09:36:18.019730Z",
     "shell.execute_reply.started": "2022-03-16T09:34:44.372746Z"
    },
    "papermill": {
     "duration": 0.150937,
     "end_time": "2022-03-16T09:36:18.019933",
     "exception": false,
     "start_time": "2022-03-16T09:36:17.868996",
     "status": "completed"
    },
    "tags": []
   },
   "outputs": [],
   "source": [
    "for name, df in zip(file_name,combine):\n",
    "    df.drop(to_drop,axis=1,inplace=True)"
   ]
  },
  {
   "cell_type": "code",
   "execution_count": 64,
   "id": "5ebeab98",
   "metadata": {
    "execution": {
     "iopub.execute_input": "2022-03-16T09:36:18.229532Z",
     "iopub.status.busy": "2022-03-16T09:36:18.228552Z",
     "iopub.status.idle": "2022-03-16T09:36:18.234574Z",
     "shell.execute_reply": "2022-03-16T09:36:18.235172Z",
     "shell.execute_reply.started": "2022-03-16T09:34:44.407406Z"
    },
    "papermill": {
     "duration": 0.110917,
     "end_time": "2022-03-16T09:36:18.235363",
     "exception": false,
     "start_time": "2022-03-16T09:36:18.124446",
     "status": "completed"
    },
    "tags": []
   },
   "outputs": [
    {
     "name": "stdout",
     "output_type": "stream",
     "text": [
      "train\n",
      "(69999, 106)\n",
      "test\n",
      "(30000, 105)\n"
     ]
    }
   ],
   "source": [
    "for name, df in zip(file_name,combine):\n",
    "    print(name)\n",
    "    print(df.shape)"
   ]
  },
  {
   "cell_type": "code",
   "execution_count": 65,
   "id": "f1445f5d",
   "metadata": {
    "execution": {
     "iopub.execute_input": "2022-03-16T09:36:18.443289Z",
     "iopub.status.busy": "2022-03-16T09:36:18.442296Z",
     "iopub.status.idle": "2022-03-16T09:36:19.016226Z",
     "shell.execute_reply": "2022-03-16T09:36:19.016866Z",
     "shell.execute_reply.started": "2022-03-16T09:34:44.425544Z"
    },
    "papermill": {
     "duration": 0.679546,
     "end_time": "2022-03-16T09:36:19.017062",
     "exception": false,
     "start_time": "2022-03-16T09:36:18.337516",
     "status": "completed"
    },
    "tags": []
   },
   "outputs": [
    {
     "data": {
      "image/png": "[encoded data removed]",
      "text/plain": [
       "<Figure size 432x288 with 1 Axes>"
      ]
     },
     "metadata": {
      "needs_background": "light"
     },
     "output_type": "display_data"
    }
   ],
   "source": [
    "sns.distplot(train_df['aon'])\n",
    "plt.show()"
   ]
  },
  {
   "cell_type": "code",
   "execution_count": 66,
   "id": "1adbed84",
   "metadata": {
    "execution": {
     "iopub.execute_input": "2022-03-16T09:36:19.234600Z",
     "iopub.status.busy": "2022-03-16T09:36:19.232938Z",
     "iopub.status.idle": "2022-03-16T09:36:24.169078Z",
     "shell.execute_reply": "2022-03-16T09:36:24.169585Z",
     "shell.execute_reply.started": "2022-03-16T09:34:45.011401Z"
    },
    "papermill": {
     "duration": 5.048262,
     "end_time": "2022-03-16T09:36:24.169779",
     "exception": false,
     "start_time": "2022-03-16T09:36:19.121517",
     "status": "completed"
    },
    "tags": []
   },
   "outputs": [
    {
     "data": {
      "text/plain": [
       "Text(0.5, 1.0, 'Features Correlating with Churn variable')"
      ]
     },
     "execution_count": 66,
     "metadata": {},
     "output_type": "execute_result"
    },
    {
     "data": {
      "image/png": "[encoded data removed]",
      "text/plain": [
       "<Figure size 720x3600 with 2 Axes>"
      ]
     },
     "metadata": {
      "needs_background": "light"
     },
     "output_type": "display_data"
    }
   ],
   "source": [
    "plt.figure(figsize=(10,50))\n",
    "heatmap_churn = sns.heatmap(train_df.corr()[['churn_probability']].sort_values(ascending=False, by='churn_probability'),annot=True, \n",
    "                                cmap='summer')\n",
    "heatmap_churn.set_title(\"Features Correlating with Churn variable\", fontsize=15)"
   ]
  },
  {
   "cell_type": "code",
   "execution_count": 67,
   "id": "93cd521a",
   "metadata": {
    "execution": {
     "iopub.execute_input": "2022-03-16T09:36:24.442590Z",
     "iopub.status.busy": "2022-03-16T09:36:24.440608Z",
     "iopub.status.idle": "2022-03-16T09:36:24.499808Z",
     "shell.execute_reply": "2022-03-16T09:36:24.500312Z",
     "shell.execute_reply.started": "2022-03-16T09:34:50.045219Z"
    },
    "papermill": {
     "duration": 0.203591,
     "end_time": "2022-03-16T09:36:24.500523",
     "exception": false,
     "start_time": "2022-03-16T09:36:24.296932",
     "status": "completed"
    },
    "tags": []
   },
   "outputs": [
    {
     "name": "stdout",
     "output_type": "stream",
     "text": [
      "Number of rows and columns in X_train dataset:  (55999, 105)\n",
      "Number of rows and columns in y_train dataset:  (55999,)\n",
      "Number of rows and columns in X_test dataset:  (14000, 105)\n",
      "Number of rows and columns in y_test dataset:  (14000,)\n"
     ]
    }
   ],
   "source": [
    "X = train_df.drop(['churn_probability'],axis=1)\n",
    "y = train_df['churn_probability']\n",
    "\n",
    "\n",
    "X_train,X_test,y_train,y_test = train_test_split(X,y,train_size=0.8,random_state=42)\n",
    "\n",
    "print(\"Number of rows and columns in X_train dataset: \", X_train.shape)\n",
    "print(\"Number of rows and columns in y_train dataset: \", y_train.shape)\n",
    "print(\"Number of rows and columns in X_test dataset: \", X_test.shape)\n",
    "print(\"Number of rows and columns in y_test dataset: \", y_test.shape)"
   ]
  },
  {
   "cell_type": "code",
   "execution_count": 68,
   "id": "18c2ef27",
   "metadata": {
    "execution": {
     "iopub.execute_input": "2022-03-16T09:36:24.722721Z",
     "iopub.status.busy": "2022-03-16T09:36:24.722029Z",
     "iopub.status.idle": "2022-03-16T09:36:24.868257Z",
     "shell.execute_reply": "2022-03-16T09:36:24.868818Z",
     "shell.execute_reply.started": "2022-03-16T09:34:50.137331Z"
    },
    "papermill": {
     "duration": 0.260178,
     "end_time": "2022-03-16T09:36:24.869002",
     "exception": false,
     "start_time": "2022-03-16T09:36:24.608824",
     "status": "completed"
    },
    "tags": []
   },
   "outputs": [],
   "source": [
    "scaler = MinMaxScaler()\n",
    "X_train[X_train.columns] = scaler.fit_transform(X_train[X_train.columns])\n",
    "X_test[X_test.columns] = scaler.transform(X_test[X_test.columns])"
   ]
  },
  {
   "cell_type": "code",
   "execution_count": 69,
   "id": "ccfa66ff",
   "metadata": {
    "papermill": {
     "duration": 0.111556,
     "end_time": "2022-03-16T09:36:25.305791",
     "exception": false,
     "start_time": "2022-03-16T09:36:25.194235",
     "status": "completed"
    },
    "tags": []
   },
   "outputs": [],
   "source": [
    "import statsmodels.api as sm"
   ]
  },
  {
   "cell_type": "code",
   "execution_count": 70,
   "id": "c579567f",
   "metadata": {
    "papermill": {
     "duration": 0.108529,
     "end_time": "2022-03-16T09:36:25.521853",
     "exception": false,
     "start_time": "2022-03-16T09:36:25.413324",
     "status": "completed"
    },
    "tags": []
   },
   "outputs": [
    {
     "data": {
      "text/html": [
       "<table class=\"simpletable\">\n",
       "<caption>Generalized Linear Model Regression Results</caption>\n",
       "<tr>\n",
       "  <th>Dep. Variable:</th>   <td>churn_probability</td> <th>  No. Observations:  </th>  <td> 55999</td> \n",
       "</tr>\n",
       "<tr>\n",
       "  <th>Model:</th>                  <td>GLM</td>        <th>  Df Residuals:      </th>  <td> 55898</td> \n",
       "</tr>\n",
       "<tr>\n",
       "  <th>Model Family:</th>        <td>Binomial</td>      <th>  Df Model:          </th>  <td>   100</td> \n",
       "</tr>\n",
       "<tr>\n",
       "  <th>Link Function:</th>         <td>Logit</td>       <th>  Scale:             </th> <td>  1.0000</td>\n",
       "</tr>\n",
       "<tr>\n",
       "  <th>Method:</th>                <td>IRLS</td>        <th>  Log-Likelihood:    </th> <td> -11638.</td>\n",
       "</tr>\n",
       "<tr>\n",
       "  <th>Date:</th>            <td>Wed, 16 Mar 2022</td>  <th>  Deviance:          </th> <td>  23276.</td>\n",
       "</tr>\n",
       "<tr>\n",
       "  <th>Time:</th>                <td>17:22:54</td>      <th>  Pearson chi2:      </th> <td>4.20e+07</td>\n",
       "</tr>\n",
       "<tr>\n",
       "  <th>No. Iterations:</th>         <td>100</td>        <th>  Pseudo R-squ. (CS):</th>  <td>0.2158</td> \n",
       "</tr>\n",
       "<tr>\n",
       "  <th>Covariance Type:</th>     <td>nonrobust</td>     <th>                     </th>     <td> </td>   \n",
       "</tr>\n",
       "</table>\n",
       "<table class=\"simpletable\">\n",
       "<tr>\n",
       "              <td></td>                <th>coef</th>     <th>std err</th>      <th>z</th>      <th>P>|z|</th>  <th>[0.025</th>    <th>0.975]</th>  \n",
       "</tr>\n",
       "<tr>\n",
       "  <th>const</th>                    <td>    1.4912</td> <td>    0.079</td> <td>   18.983</td> <td> 0.000</td> <td>    1.337</td> <td>    1.645</td>\n",
       "</tr>\n",
       "<tr>\n",
       "  <th>arpu_6</th>                   <td>    1.0614</td> <td>    0.262</td> <td>    4.052</td> <td> 0.000</td> <td>    0.548</td> <td>    1.575</td>\n",
       "</tr>\n",
       "<tr>\n",
       "  <th>arpu_7</th>                   <td>    0.9551</td> <td>    0.290</td> <td>    3.291</td> <td> 0.001</td> <td>    0.386</td> <td>    1.524</td>\n",
       "</tr>\n",
       "<tr>\n",
       "  <th>arpu_8</th>                   <td>    1.1071</td> <td>    0.355</td> <td>    3.120</td> <td> 0.002</td> <td>    0.412</td> <td>    1.802</td>\n",
       "</tr>\n",
       "<tr>\n",
       "  <th>onnet_mou_6</th>              <td>    0.7941</td> <td>    0.437</td> <td>    1.819</td> <td> 0.069</td> <td>   -0.062</td> <td>    1.650</td>\n",
       "</tr>\n",
       "<tr>\n",
       "  <th>onnet_mou_7</th>              <td>    0.1025</td> <td>    0.523</td> <td>    0.196</td> <td> 0.845</td> <td>   -0.922</td> <td>    1.127</td>\n",
       "</tr>\n",
       "<tr>\n",
       "  <th>onnet_mou_8</th>              <td>   -2.7422</td> <td>    0.628</td> <td>   -4.367</td> <td> 0.000</td> <td>   -3.973</td> <td>   -1.512</td>\n",
       "</tr>\n",
       "<tr>\n",
       "  <th>offnet_mou_6</th>             <td>    0.7154</td> <td>    0.465</td> <td>    1.540</td> <td> 0.124</td> <td>   -0.195</td> <td>    1.626</td>\n",
       "</tr>\n",
       "<tr>\n",
       "  <th>offnet_mou_7</th>             <td>    0.2061</td> <td>    0.543</td> <td>    0.380</td> <td> 0.704</td> <td>   -0.858</td> <td>    1.270</td>\n",
       "</tr>\n",
       "<tr>\n",
       "  <th>offnet_mou_8</th>             <td>   -2.9127</td> <td>    0.643</td> <td>   -4.531</td> <td> 0.000</td> <td>   -4.173</td> <td>   -1.653</td>\n",
       "</tr>\n",
       "<tr>\n",
       "  <th>roam_ic_mou_6</th>            <td>   -0.0651</td> <td>    0.198</td> <td>   -0.329</td> <td> 0.742</td> <td>   -0.453</td> <td>    0.323</td>\n",
       "</tr>\n",
       "<tr>\n",
       "  <th>roam_ic_mou_7</th>            <td>    0.3686</td> <td>    0.203</td> <td>    1.819</td> <td> 0.069</td> <td>   -0.029</td> <td>    0.766</td>\n",
       "</tr>\n",
       "<tr>\n",
       "  <th>roam_ic_mou_8</th>            <td>   -0.0172</td> <td>    0.181</td> <td>   -0.095</td> <td> 0.924</td> <td>   -0.372</td> <td>    0.337</td>\n",
       "</tr>\n",
       "<tr>\n",
       "  <th>roam_og_mou_6</th>            <td>    0.3884</td> <td>    0.202</td> <td>    1.922</td> <td> 0.055</td> <td>   -0.008</td> <td>    0.784</td>\n",
       "</tr>\n",
       "<tr>\n",
       "  <th>roam_og_mou_7</th>            <td>    0.2510</td> <td>    0.198</td> <td>    1.269</td> <td> 0.205</td> <td>   -0.137</td> <td>    0.639</td>\n",
       "</tr>\n",
       "<tr>\n",
       "  <th>roam_og_mou_8</th>            <td>    1.7574</td> <td>    0.189</td> <td>    9.322</td> <td> 0.000</td> <td>    1.388</td> <td>    2.127</td>\n",
       "</tr>\n",
       "<tr>\n",
       "  <th>loc_og_t2c_mou_6</th>         <td>   -0.1342</td> <td>    0.147</td> <td>   -0.913</td> <td> 0.361</td> <td>   -0.422</td> <td>    0.154</td>\n",
       "</tr>\n",
       "<tr>\n",
       "  <th>loc_og_t2c_mou_7</th>         <td>    0.3160</td> <td>    0.164</td> <td>    1.926</td> <td> 0.054</td> <td>   -0.006</td> <td>    0.638</td>\n",
       "</tr>\n",
       "<tr>\n",
       "  <th>loc_og_t2c_mou_8</th>         <td>    0.2155</td> <td>    0.204</td> <td>    1.058</td> <td> 0.290</td> <td>   -0.184</td> <td>    0.615</td>\n",
       "</tr>\n",
       "<tr>\n",
       "  <th>loc_og_mou_6</th>             <td>   -0.2493</td> <td>    0.635</td> <td>   -0.393</td> <td> 0.694</td> <td>   -1.493</td> <td>    0.994</td>\n",
       "</tr>\n",
       "<tr>\n",
       "  <th>loc_og_mou_7</th>             <td>   -0.7946</td> <td>    0.754</td> <td>   -1.055</td> <td> 0.292</td> <td>   -2.272</td> <td>    0.682</td>\n",
       "</tr>\n",
       "<tr>\n",
       "  <th>loc_og_mou_8</th>             <td>   -0.7895</td> <td>    1.239</td> <td>   -0.637</td> <td> 0.524</td> <td>   -3.218</td> <td>    1.639</td>\n",
       "</tr>\n",
       "<tr>\n",
       "  <th>std_og_mou_6</th>             <td>    0.9113</td> <td>    0.917</td> <td>    0.994</td> <td> 0.320</td> <td>   -0.886</td> <td>    2.709</td>\n",
       "</tr>\n",
       "<tr>\n",
       "  <th>std_og_mou_7</th>             <td>   -0.9558</td> <td>    1.106</td> <td>   -0.864</td> <td> 0.387</td> <td>   -3.123</td> <td>    1.212</td>\n",
       "</tr>\n",
       "<tr>\n",
       "  <th>std_og_mou_8</th>             <td>    1.6899</td> <td>    2.062</td> <td>    0.820</td> <td> 0.412</td> <td>   -2.351</td> <td>    5.731</td>\n",
       "</tr>\n",
       "<tr>\n",
       "  <th>isd_og_mou_6</th>             <td>    0.1127</td> <td>    0.179</td> <td>    0.630</td> <td> 0.528</td> <td>   -0.238</td> <td>    0.463</td>\n",
       "</tr>\n",
       "<tr>\n",
       "  <th>isd_og_mou_7</th>             <td>    0.4470</td> <td>    0.204</td> <td>    2.187</td> <td> 0.029</td> <td>    0.046</td> <td>    0.848</td>\n",
       "</tr>\n",
       "<tr>\n",
       "  <th>isd_og_mou_8</th>             <td>    0.4278</td> <td>    0.218</td> <td>    1.961</td> <td> 0.050</td> <td>    0.000</td> <td>    0.855</td>\n",
       "</tr>\n",
       "<tr>\n",
       "  <th>spl_og_mou_6</th>             <td>   -0.1415</td> <td>    0.155</td> <td>   -0.912</td> <td> 0.362</td> <td>   -0.446</td> <td>    0.163</td>\n",
       "</tr>\n",
       "<tr>\n",
       "  <th>spl_og_mou_7</th>             <td>    0.0187</td> <td>    0.179</td> <td>    0.104</td> <td> 0.917</td> <td>   -0.333</td> <td>    0.370</td>\n",
       "</tr>\n",
       "<tr>\n",
       "  <th>spl_og_mou_8</th>             <td>   -0.7713</td> <td>    0.243</td> <td>   -3.175</td> <td> 0.001</td> <td>   -1.247</td> <td>   -0.295</td>\n",
       "</tr>\n",
       "<tr>\n",
       "  <th>og_others_6</th>              <td>    0.0145</td> <td>    0.112</td> <td>    0.129</td> <td> 0.897</td> <td>   -0.206</td> <td>    0.235</td>\n",
       "</tr>\n",
       "<tr>\n",
       "  <th>og_others_7</th>              <td> 1.598e-14</td> <td> 1.21e-14</td> <td>    1.317</td> <td> 0.188</td> <td>-7.81e-15</td> <td> 3.98e-14</td>\n",
       "</tr>\n",
       "<tr>\n",
       "  <th>og_others_8</th>              <td>-3.081e-14</td> <td> 1.51e-14</td> <td>   -2.040</td> <td> 0.041</td> <td>-6.04e-14</td> <td>-1.21e-15</td>\n",
       "</tr>\n",
       "<tr>\n",
       "  <th>total_og_mou_6</th>           <td>   -1.5666</td> <td>    0.981</td> <td>   -1.596</td> <td> 0.110</td> <td>   -3.490</td> <td>    0.357</td>\n",
       "</tr>\n",
       "<tr>\n",
       "  <th>total_og_mou_7</th>           <td>    1.3587</td> <td>    1.192</td> <td>    1.140</td> <td> 0.254</td> <td>   -0.977</td> <td>    3.694</td>\n",
       "</tr>\n",
       "<tr>\n",
       "  <th>total_og_mou_8</th>           <td>    0.1465</td> <td>    2.187</td> <td>    0.067</td> <td> 0.947</td> <td>   -4.139</td> <td>    4.432</td>\n",
       "</tr>\n",
       "<tr>\n",
       "  <th>loc_ic_mou_6</th>             <td>    0.6051</td> <td>    0.232</td> <td>    2.605</td> <td> 0.009</td> <td>    0.150</td> <td>    1.060</td>\n",
       "</tr>\n",
       "<tr>\n",
       "  <th>loc_ic_mou_7</th>             <td>    1.5699</td> <td>    0.313</td> <td>    5.010</td> <td> 0.000</td> <td>    0.956</td> <td>    2.184</td>\n",
       "</tr>\n",
       "<tr>\n",
       "  <th>loc_ic_mou_8</th>             <td>  -13.0157</td> <td>    0.537</td> <td>  -24.241</td> <td> 0.000</td> <td>  -14.068</td> <td>  -11.963</td>\n",
       "</tr>\n",
       "<tr>\n",
       "  <th>std_ic_mou_6</th>             <td>    0.5776</td> <td>    0.174</td> <td>    3.322</td> <td> 0.001</td> <td>    0.237</td> <td>    0.918</td>\n",
       "</tr>\n",
       "<tr>\n",
       "  <th>std_ic_mou_7</th>             <td>    0.1237</td> <td>    0.227</td> <td>    0.545</td> <td> 0.586</td> <td>   -0.321</td> <td>    0.569</td>\n",
       "</tr>\n",
       "<tr>\n",
       "  <th>std_ic_mou_8</th>             <td>   -2.5447</td> <td>    0.294</td> <td>   -8.667</td> <td> 0.000</td> <td>   -3.120</td> <td>   -1.969</td>\n",
       "</tr>\n",
       "<tr>\n",
       "  <th>spl_ic_mou_6</th>             <td>   -0.2200</td> <td>    0.093</td> <td>   -2.376</td> <td> 0.017</td> <td>   -0.401</td> <td>   -0.039</td>\n",
       "</tr>\n",
       "<tr>\n",
       "  <th>spl_ic_mou_7</th>             <td>   -0.5221</td> <td>    0.128</td> <td>   -4.073</td> <td> 0.000</td> <td>   -0.773</td> <td>   -0.271</td>\n",
       "</tr>\n",
       "<tr>\n",
       "  <th>spl_ic_mou_8</th>             <td>   -4.3189</td> <td>    0.312</td> <td>  -13.833</td> <td> 0.000</td> <td>   -4.931</td> <td>   -3.707</td>\n",
       "</tr>\n",
       "<tr>\n",
       "  <th>isd_ic_mou_6</th>             <td>    0.2652</td> <td>    0.199</td> <td>    1.335</td> <td> 0.182</td> <td>   -0.124</td> <td>    0.654</td>\n",
       "</tr>\n",
       "<tr>\n",
       "  <th>isd_ic_mou_7</th>             <td>    0.4774</td> <td>    0.243</td> <td>    1.962</td> <td> 0.050</td> <td>    0.001</td> <td>    0.954</td>\n",
       "</tr>\n",
       "<tr>\n",
       "  <th>isd_ic_mou_8</th>             <td>   -0.2712</td> <td>    0.260</td> <td>   -1.045</td> <td> 0.296</td> <td>   -0.780</td> <td>    0.237</td>\n",
       "</tr>\n",
       "<tr>\n",
       "  <th>ic_others_6</th>              <td>    0.1595</td> <td>    0.171</td> <td>    0.933</td> <td> 0.351</td> <td>   -0.176</td> <td>    0.495</td>\n",
       "</tr>\n",
       "<tr>\n",
       "  <th>ic_others_7</th>              <td>   -0.1473</td> <td>    0.193</td> <td>   -0.764</td> <td> 0.445</td> <td>   -0.525</td> <td>    0.231</td>\n",
       "</tr>\n",
       "<tr>\n",
       "  <th>ic_others_8</th>              <td>   -0.7016</td> <td>    0.253</td> <td>   -2.768</td> <td> 0.006</td> <td>   -1.198</td> <td>   -0.205</td>\n",
       "</tr>\n",
       "<tr>\n",
       "  <th>total_rech_num_6</th>         <td>    0.0602</td> <td>    0.176</td> <td>    0.341</td> <td> 0.733</td> <td>   -0.286</td> <td>    0.406</td>\n",
       "</tr>\n",
       "<tr>\n",
       "  <th>total_rech_num_7</th>         <td>    0.4770</td> <td>    0.210</td> <td>    2.271</td> <td> 0.023</td> <td>    0.065</td> <td>    0.889</td>\n",
       "</tr>\n",
       "<tr>\n",
       "  <th>total_rech_num_8</th>         <td>   -1.7105</td> <td>    0.246</td> <td>   -6.939</td> <td> 0.000</td> <td>   -2.194</td> <td>   -1.227</td>\n",
       "</tr>\n",
       "<tr>\n",
       "  <th>max_rech_amt_6</th>           <td>   -0.1598</td> <td>    0.166</td> <td>   -0.961</td> <td> 0.336</td> <td>   -0.486</td> <td>    0.166</td>\n",
       "</tr>\n",
       "<tr>\n",
       "  <th>max_rech_amt_7</th>           <td>   -0.7771</td> <td>    0.170</td> <td>   -4.573</td> <td> 0.000</td> <td>   -1.110</td> <td>   -0.444</td>\n",
       "</tr>\n",
       "<tr>\n",
       "  <th>max_rech_amt_8</th>           <td>   -0.8501</td> <td>    0.193</td> <td>   -4.397</td> <td> 0.000</td> <td>   -1.229</td> <td>   -0.471</td>\n",
       "</tr>\n",
       "<tr>\n",
       "  <th>date_of_last_rech_6</th>      <td>   -0.4627</td> <td>    0.084</td> <td>   -5.488</td> <td> 0.000</td> <td>   -0.628</td> <td>   -0.297</td>\n",
       "</tr>\n",
       "<tr>\n",
       "  <th>date_of_last_rech_7</th>      <td>   -0.7775</td> <td>    0.079</td> <td>   -9.841</td> <td> 0.000</td> <td>   -0.932</td> <td>   -0.623</td>\n",
       "</tr>\n",
       "<tr>\n",
       "  <th>date_of_last_rech_8</th>      <td>   -1.4434</td> <td>    0.067</td> <td>  -21.431</td> <td> 0.000</td> <td>   -1.575</td> <td>   -1.311</td>\n",
       "</tr>\n",
       "<tr>\n",
       "  <th>last_day_rch_amt_6</th>       <td>   -0.4616</td> <td>    0.135</td> <td>   -3.418</td> <td> 0.001</td> <td>   -0.726</td> <td>   -0.197</td>\n",
       "</tr>\n",
       "<tr>\n",
       "  <th>last_day_rch_amt_7</th>       <td>   -0.2982</td> <td>    0.143</td> <td>   -2.092</td> <td> 0.036</td> <td>   -0.578</td> <td>   -0.019</td>\n",
       "</tr>\n",
       "<tr>\n",
       "  <th>last_day_rch_amt_8</th>       <td>   -2.8263</td> <td>    0.195</td> <td>  -14.526</td> <td> 0.000</td> <td>   -3.208</td> <td>   -2.445</td>\n",
       "</tr>\n",
       "<tr>\n",
       "  <th>date_of_last_rech_data_6</th> <td>    0.2263</td> <td>    0.131</td> <td>    1.733</td> <td> 0.083</td> <td>   -0.030</td> <td>    0.482</td>\n",
       "</tr>\n",
       "<tr>\n",
       "  <th>date_of_last_rech_data_7</th> <td>   -0.0302</td> <td>    0.149</td> <td>   -0.203</td> <td> 0.839</td> <td>   -0.321</td> <td>    0.261</td>\n",
       "</tr>\n",
       "<tr>\n",
       "  <th>date_of_last_rech_data_8</th> <td>   -0.5434</td> <td>    0.173</td> <td>   -3.144</td> <td> 0.002</td> <td>   -0.882</td> <td>   -0.205</td>\n",
       "</tr>\n",
       "<tr>\n",
       "  <th>total_rech_data_6</th>        <td>    0.5733</td> <td>    0.290</td> <td>    1.979</td> <td> 0.048</td> <td>    0.005</td> <td>    1.141</td>\n",
       "</tr>\n",
       "<tr>\n",
       "  <th>total_rech_data_7</th>        <td>    0.0179</td> <td>    0.335</td> <td>    0.053</td> <td> 0.957</td> <td>   -0.639</td> <td>    0.675</td>\n",
       "</tr>\n",
       "<tr>\n",
       "  <th>total_rech_data_8</th>        <td>   -0.3690</td> <td>    0.464</td> <td>   -0.796</td> <td> 0.426</td> <td>   -1.278</td> <td>    0.540</td>\n",
       "</tr>\n",
       "<tr>\n",
       "  <th>max_rech_data_6</th>          <td>    0.5158</td> <td>    0.286</td> <td>    1.805</td> <td> 0.071</td> <td>   -0.044</td> <td>    1.076</td>\n",
       "</tr>\n",
       "<tr>\n",
       "  <th>max_rech_data_7</th>          <td>   -0.0345</td> <td>    0.299</td> <td>   -0.115</td> <td> 0.908</td> <td>   -0.621</td> <td>    0.552</td>\n",
       "</tr>\n",
       "<tr>\n",
       "  <th>max_rech_data_8</th>          <td>    0.0310</td> <td>    0.382</td> <td>    0.081</td> <td> 0.935</td> <td>   -0.717</td> <td>    0.779</td>\n",
       "</tr>\n",
       "<tr>\n",
       "  <th>count_rech_3g_7</th>          <td>   -0.7194</td> <td>    0.749</td> <td>   -0.960</td> <td> 0.337</td> <td>   -2.188</td> <td>    0.749</td>\n",
       "</tr>\n",
       "<tr>\n",
       "  <th>count_rech_3g_8</th>          <td>    0.2658</td> <td>    1.040</td> <td>    0.256</td> <td> 0.798</td> <td>   -1.773</td> <td>    2.305</td>\n",
       "</tr>\n",
       "<tr>\n",
       "  <th>av_rech_amt_data_6</th>       <td>   -0.6596</td> <td>    0.411</td> <td>   -1.603</td> <td> 0.109</td> <td>   -1.466</td> <td>    0.147</td>\n",
       "</tr>\n",
       "<tr>\n",
       "  <th>av_rech_amt_data_7</th>       <td>   -0.3069</td> <td>    0.454</td> <td>   -0.676</td> <td> 0.499</td> <td>   -1.197</td> <td>    0.584</td>\n",
       "</tr>\n",
       "<tr>\n",
       "  <th>av_rech_amt_data_8</th>       <td>   -0.5483</td> <td>    0.615</td> <td>   -0.892</td> <td> 0.373</td> <td>   -1.754</td> <td>    0.657</td>\n",
       "</tr>\n",
       "<tr>\n",
       "  <th>vol_2g_mb_6</th>              <td>    0.0068</td> <td>    0.188</td> <td>    0.036</td> <td> 0.971</td> <td>   -0.361</td> <td>    0.375</td>\n",
       "</tr>\n",
       "<tr>\n",
       "  <th>vol_2g_mb_7</th>              <td>    0.5463</td> <td>    0.215</td> <td>    2.541</td> <td> 0.011</td> <td>    0.125</td> <td>    0.968</td>\n",
       "</tr>\n",
       "<tr>\n",
       "  <th>vol_2g_mb_8</th>              <td>   -1.1194</td> <td>    0.293</td> <td>   -3.820</td> <td> 0.000</td> <td>   -1.694</td> <td>   -0.545</td>\n",
       "</tr>\n",
       "<tr>\n",
       "  <th>vol_3g_mb_6</th>              <td>    0.1819</td> <td>    0.275</td> <td>    0.662</td> <td> 0.508</td> <td>   -0.357</td> <td>    0.720</td>\n",
       "</tr>\n",
       "<tr>\n",
       "  <th>vol_3g_mb_7</th>              <td>   -0.3188</td> <td>    0.312</td> <td>   -1.022</td> <td> 0.307</td> <td>   -0.930</td> <td>    0.292</td>\n",
       "</tr>\n",
       "<tr>\n",
       "  <th>vol_3g_mb_8</th>              <td>   -0.5973</td> <td>    0.382</td> <td>   -1.563</td> <td> 0.118</td> <td>   -1.346</td> <td>    0.151</td>\n",
       "</tr>\n",
       "<tr>\n",
       "  <th>arpu_3g_6</th>                <td>    0.1357</td> <td>    0.407</td> <td>    0.333</td> <td> 0.739</td> <td>   -0.662</td> <td>    0.934</td>\n",
       "</tr>\n",
       "<tr>\n",
       "  <th>arpu_3g_7</th>                <td>    0.8964</td> <td>    0.406</td> <td>    2.207</td> <td> 0.027</td> <td>    0.100</td> <td>    1.692</td>\n",
       "</tr>\n",
       "<tr>\n",
       "  <th>arpu_3g_8</th>                <td>    1.6552</td> <td>    0.496</td> <td>    3.337</td> <td> 0.001</td> <td>    0.683</td> <td>    2.627</td>\n",
       "</tr>\n",
       "<tr>\n",
       "  <th>night_pck_user_6</th>         <td> -1.31e-15</td> <td> 7.47e-16</td> <td>   -1.752</td> <td> 0.080</td> <td>-2.77e-15</td> <td> 1.55e-16</td>\n",
       "</tr>\n",
       "<tr>\n",
       "  <th>night_pck_user_7</th>         <td>-5.354e-16</td> <td> 1.16e-15</td> <td>   -0.460</td> <td> 0.645</td> <td>-2.82e-15</td> <td> 1.75e-15</td>\n",
       "</tr>\n",
       "<tr>\n",
       "  <th>night_pck_user_8</th>         <td> 1.617e-15</td> <td> 2.59e-16</td> <td>    6.235</td> <td> 0.000</td> <td> 1.11e-15</td> <td> 2.13e-15</td>\n",
       "</tr>\n",
       "<tr>\n",
       "  <th>monthly_2g_6</th>             <td>   -0.2639</td> <td>    0.155</td> <td>   -1.702</td> <td> 0.089</td> <td>   -0.568</td> <td>    0.040</td>\n",
       "</tr>\n",
       "<tr>\n",
       "  <th>monthly_2g_7</th>             <td>   -0.1306</td> <td>    0.172</td> <td>   -0.761</td> <td> 0.446</td> <td>   -0.467</td> <td>    0.206</td>\n",
       "</tr>\n",
       "<tr>\n",
       "  <th>monthly_2g_8</th>             <td>   -0.1055</td> <td>    0.226</td> <td>   -0.466</td> <td> 0.641</td> <td>   -0.549</td> <td>    0.338</td>\n",
       "</tr>\n",
       "<tr>\n",
       "  <th>monthly_3g_6</th>             <td>   -0.2874</td> <td>    0.368</td> <td>   -0.781</td> <td> 0.435</td> <td>   -1.008</td> <td>    0.433</td>\n",
       "</tr>\n",
       "<tr>\n",
       "  <th>monthly_3g_7</th>             <td>    0.6176</td> <td>    0.593</td> <td>    1.042</td> <td> 0.297</td> <td>   -0.544</td> <td>    1.779</td>\n",
       "</tr>\n",
       "<tr>\n",
       "  <th>monthly_3g_8</th>             <td>   -0.4948</td> <td>    0.865</td> <td>   -0.572</td> <td> 0.567</td> <td>   -2.190</td> <td>    1.201</td>\n",
       "</tr>\n",
       "<tr>\n",
       "  <th>sachet_3g_6</th>              <td>   -0.1400</td> <td>    0.189</td> <td>   -0.742</td> <td> 0.458</td> <td>   -0.510</td> <td>    0.230</td>\n",
       "</tr>\n",
       "<tr>\n",
       "  <th>sachet_3g_7</th>              <td>    0.6452</td> <td>    0.558</td> <td>    1.156</td> <td> 0.248</td> <td>   -0.449</td> <td>    1.739</td>\n",
       "</tr>\n",
       "<tr>\n",
       "  <th>sachet_3g_8</th>              <td>   -0.5634</td> <td>    0.829</td> <td>   -0.679</td> <td> 0.497</td> <td>   -2.189</td> <td>    1.062</td>\n",
       "</tr>\n",
       "<tr>\n",
       "  <th>fb_user_6</th>                <td>   -0.1006</td> <td>    0.109</td> <td>   -0.921</td> <td> 0.357</td> <td>   -0.315</td> <td>    0.113</td>\n",
       "</tr>\n",
       "<tr>\n",
       "  <th>fb_user_7</th>                <td>   -0.0243</td> <td>    0.118</td> <td>   -0.207</td> <td> 0.836</td> <td>   -0.255</td> <td>    0.206</td>\n",
       "</tr>\n",
       "<tr>\n",
       "  <th>fb_user_8</th>                <td>   -0.3483</td> <td>    0.139</td> <td>   -2.497</td> <td> 0.013</td> <td>   -0.622</td> <td>   -0.075</td>\n",
       "</tr>\n",
       "<tr>\n",
       "  <th>aon</th>                      <td>   -1.4885</td> <td>    0.083</td> <td>  -17.956</td> <td> 0.000</td> <td>   -1.651</td> <td>   -1.326</td>\n",
       "</tr>\n",
       "<tr>\n",
       "  <th>aug_vbc_3g</th>               <td>   -1.3482</td> <td>    0.293</td> <td>   -4.596</td> <td> 0.000</td> <td>   -1.923</td> <td>   -0.773</td>\n",
       "</tr>\n",
       "<tr>\n",
       "  <th>jul_vbc_3g</th>               <td>    0.3267</td> <td>    0.253</td> <td>    1.291</td> <td> 0.197</td> <td>   -0.169</td> <td>    0.823</td>\n",
       "</tr>\n",
       "<tr>\n",
       "  <th>jun_vbc_3g</th>               <td>    0.1609</td> <td>    0.219</td> <td>    0.734</td> <td> 0.463</td> <td>   -0.269</td> <td>    0.590</td>\n",
       "</tr>\n",
       "</table>"
      ],
      "text/plain": [
       "<class 'statsmodels.iolib.summary.Summary'>\n",
       "\"\"\"\n",
       "                 Generalized Linear Model Regression Results                  \n",
       "==============================================================================\n",
       "Dep. Variable:      churn_probability   No. Observations:                55999\n",
       "Model:                            GLM   Df Residuals:                    55898\n",
       "Model Family:                Binomial   Df Model:                          100\n",
       "Link Function:                  Logit   Scale:                          1.0000\n",
       "Method:                          IRLS   Log-Likelihood:                -11638.\n",
       "Date:                Wed, 16 Mar 2022   Deviance:                       23276.\n",
       "Time:                        17:22:54   Pearson chi2:                 4.20e+07\n",
       "No. Iterations:                   100   Pseudo R-squ. (CS):             0.2158\n",
       "Covariance Type:            nonrobust                                         \n",
       "============================================================================================\n",
       "                               coef    std err          z      P>|z|      [0.025      0.975]\n",
       "--------------------------------------------------------------------------------------------\n",
       "const                        1.4912      0.079     18.983      0.000       1.337       1.645\n",
       "arpu_6                       1.0614      0.262      4.052      0.000       0.548       1.575\n",
       "arpu_7                       0.9551      0.290      3.291      0.001       0.386       1.524\n",
       "arpu_8                       1.1071      0.355      3.120      0.002       0.412       1.802\n",
       "onnet_mou_6                  0.7941      0.437      1.819      0.069      -0.062       1.650\n",
       "onnet_mou_7                  0.1025      0.523      0.196      0.845      -0.922       1.127\n",
       "onnet_mou_8                 -2.7422      0.628     -4.367      0.000      -3.973      -1.512\n",
       "offnet_mou_6                 0.7154      0.465      1.540      0.124      -0.195       1.626\n",
       "offnet_mou_7                 0.2061      0.543      0.380      0.704      -0.858       1.270\n",
       "offnet_mou_8                -2.9127      0.643     -4.531      0.000      -4.173      -1.653\n",
       "roam_ic_mou_6               -0.0651      0.198     -0.329      0.742      -0.453       0.323\n",
       "roam_ic_mou_7                0.3686      0.203      1.819      0.069      -0.029       0.766\n",
       "roam_ic_mou_8               -0.0172      0.181     -0.095      0.924      -0.372       0.337\n",
       "roam_og_mou_6                0.3884      0.202      1.922      0.055      -0.008       0.784\n",
       "roam_og_mou_7                0.2510      0.198      1.269      0.205      -0.137       0.639\n",
       "roam_og_mou_8                1.7574      0.189      9.322      0.000       1.388       2.127\n",
       "loc_og_t2c_mou_6            -0.1342      0.147     -0.913      0.361      -0.422       0.154\n",
       "loc_og_t2c_mou_7             0.3160      0.164      1.926      0.054      -0.006       0.638\n",
       "loc_og_t2c_mou_8             0.2155      0.204      1.058      0.290      -0.184       0.615\n",
       "loc_og_mou_6                -0.2493      0.635     -0.393      0.694      -1.493       0.994\n",
       "loc_og_mou_7                -0.7946      0.754     -1.055      0.292      -2.272       0.682\n",
       "loc_og_mou_8                -0.7895      1.239     -0.637      0.524      -3.218       1.639\n",
       "std_og_mou_6                 0.9113      0.917      0.994      0.320      -0.886       2.709\n",
       "std_og_mou_7                -0.9558      1.106     -0.864      0.387      -3.123       1.212\n",
       "std_og_mou_8                 1.6899      2.062      0.820      0.412      -2.351       5.731\n",
       "isd_og_mou_6                 0.1127      0.179      0.630      0.528      -0.238       0.463\n",
       "isd_og_mou_7                 0.4470      0.204      2.187      0.029       0.046       0.848\n",
       "isd_og_mou_8                 0.4278      0.218      1.961      0.050       0.000       0.855\n",
       "spl_og_mou_6                -0.1415      0.155     -0.912      0.362      -0.446       0.163\n",
       "spl_og_mou_7                 0.0187      0.179      0.104      0.917      -0.333       0.370\n",
       "spl_og_mou_8                -0.7713      0.243     -3.175      0.001      -1.247      -0.295\n",
       "og_others_6                  0.0145      0.112      0.129      0.897      -0.206       0.235\n",
       "og_others_7               1.598e-14   1.21e-14      1.317      0.188   -7.81e-15    3.98e-14\n",
       "og_others_8              -3.081e-14   1.51e-14     -2.040      0.041   -6.04e-14   -1.21e-15\n",
       "total_og_mou_6              -1.5666      0.981     -1.596      0.110      -3.490       0.357\n",
       "total_og_mou_7               1.3587      1.192      1.140      0.254      -0.977       3.694\n",
       "total_og_mou_8               0.1465      2.187      0.067      0.947      -4.139       4.432\n",
       "loc_ic_mou_6                 0.6051      0.232      2.605      0.009       0.150       1.060\n",
       "loc_ic_mou_7                 1.5699      0.313      5.010      0.000       0.956       2.184\n",
       "loc_ic_mou_8               -13.0157      0.537    -24.241      0.000     -14.068     -11.963\n",
       "std_ic_mou_6                 0.5776      0.174      3.322      0.001       0.237       0.918\n",
       "std_ic_mou_7                 0.1237      0.227      0.545      0.586      -0.321       0.569\n",
       "std_ic_mou_8                -2.5447      0.294     -8.667      0.000      -3.120      -1.969\n",
       "spl_ic_mou_6                -0.2200      0.093     -2.376      0.017      -0.401      -0.039\n",
       "spl_ic_mou_7                -0.5221      0.128     -4.073      0.000      -0.773      -0.271\n",
       "spl_ic_mou_8                -4.3189      0.312    -13.833      0.000      -4.931      -3.707\n",
       "isd_ic_mou_6                 0.2652      0.199      1.335      0.182      -0.124       0.654\n",
       "isd_ic_mou_7                 0.4774      0.243      1.962      0.050       0.001       0.954\n",
       "isd_ic_mou_8                -0.2712      0.260     -1.045      0.296      -0.780       0.237\n",
       "ic_others_6                  0.1595      0.171      0.933      0.351      -0.176       0.495\n",
       "ic_others_7                 -0.1473      0.193     -0.764      0.445      -0.525       0.231\n",
       "ic_others_8                 -0.7016      0.253     -2.768      0.006      -1.198      -0.205\n",
       "total_rech_num_6             0.0602      0.176      0.341      0.733      -0.286       0.406\n",
       "total_rech_num_7             0.4770      0.210      2.271      0.023       0.065       0.889\n",
       "total_rech_num_8            -1.7105      0.246     -6.939      0.000      -2.194      -1.227\n",
       "max_rech_amt_6              -0.1598      0.166     -0.961      0.336      -0.486       0.166\n",
       "max_rech_amt_7              -0.7771      0.170     -4.573      0.000      -1.110      -0.444\n",
       "max_rech_amt_8              -0.8501      0.193     -4.397      0.000      -1.229      -0.471\n",
       "date_of_last_rech_6         -0.4627      0.084     -5.488      0.000      -0.628      -0.297\n",
       "date_of_last_rech_7         -0.7775      0.079     -9.841      0.000      -0.932      -0.623\n",
       "date_of_last_rech_8         -1.4434      0.067    -21.431      0.000      -1.575      -1.311\n",
       "last_day_rch_amt_6          -0.4616      0.135     -3.418      0.001      -0.726      -0.197\n",
       "last_day_rch_amt_7          -0.2982      0.143     -2.092      0.036      -0.578      -0.019\n",
       "last_day_rch_amt_8          -2.8263      0.195    -14.526      0.000      -3.208      -2.445\n",
       "date_of_last_rech_data_6     0.2263      0.131      1.733      0.083      -0.030       0.482\n",
       "date_of_last_rech_data_7    -0.0302      0.149     -0.203      0.839      -0.321       0.261\n",
       "date_of_last_rech_data_8    -0.5434      0.173     -3.144      0.002      -0.882      -0.205\n",
       "total_rech_data_6            0.5733      0.290      1.979      0.048       0.005       1.141\n",
       "total_rech_data_7            0.0179      0.335      0.053      0.957      -0.639       0.675\n",
       "total_rech_data_8           -0.3690      0.464     -0.796      0.426      -1.278       0.540\n",
       "max_rech_data_6              0.5158      0.286      1.805      0.071      -0.044       1.076\n",
       "max_rech_data_7             -0.0345      0.299     -0.115      0.908      -0.621       0.552\n",
       "max_rech_data_8              0.0310      0.382      0.081      0.935      -0.717       0.779\n",
       "count_rech_3g_7             -0.7194      0.749     -0.960      0.337      -2.188       0.749\n",
       "count_rech_3g_8              0.2658      1.040      0.256      0.798      -1.773       2.305\n",
       "av_rech_amt_data_6          -0.6596      0.411     -1.603      0.109      -1.466       0.147\n",
       "av_rech_amt_data_7          -0.3069      0.454     -0.676      0.499      -1.197       0.584\n",
       "av_rech_amt_data_8          -0.5483      0.615     -0.892      0.373      -1.754       0.657\n",
       "vol_2g_mb_6                  0.0068      0.188      0.036      0.971      -0.361       0.375\n",
       "vol_2g_mb_7                  0.5463      0.215      2.541      0.011       0.125       0.968\n",
       "vol_2g_mb_8                 -1.1194      0.293     -3.820      0.000      -1.694      -0.545\n",
       "vol_3g_mb_6                  0.1819      0.275      0.662      0.508      -0.357       0.720\n",
       "vol_3g_mb_7                 -0.3188      0.312     -1.022      0.307      -0.930       0.292\n",
       "vol_3g_mb_8                 -0.5973      0.382     -1.563      0.118      -1.346       0.151\n",
       "arpu_3g_6                    0.1357      0.407      0.333      0.739      -0.662       0.934\n",
       "arpu_3g_7                    0.8964      0.406      2.207      0.027       0.100       1.692\n",
       "arpu_3g_8                    1.6552      0.496      3.337      0.001       0.683       2.627\n",
       "night_pck_user_6          -1.31e-15   7.47e-16     -1.752      0.080   -2.77e-15    1.55e-16\n",
       "night_pck_user_7         -5.354e-16   1.16e-15     -0.460      0.645   -2.82e-15    1.75e-15\n",
       "night_pck_user_8          1.617e-15   2.59e-16      6.235      0.000    1.11e-15    2.13e-15\n",
       "monthly_2g_6                -0.2639      0.155     -1.702      0.089      -0.568       0.040\n",
       "monthly_2g_7                -0.1306      0.172     -0.761      0.446      -0.467       0.206\n",
       "monthly_2g_8                -0.1055      0.226     -0.466      0.641      -0.549       0.338\n",
       "monthly_3g_6                -0.2874      0.368     -0.781      0.435      -1.008       0.433\n",
       "monthly_3g_7                 0.6176      0.593      1.042      0.297      -0.544       1.779\n",
       "monthly_3g_8                -0.4948      0.865     -0.572      0.567      -2.190       1.201\n",
       "sachet_3g_6                 -0.1400      0.189     -0.742      0.458      -0.510       0.230\n",
       "sachet_3g_7                  0.6452      0.558      1.156      0.248      -0.449       1.739\n",
       "sachet_3g_8                 -0.5634      0.829     -0.679      0.497      -2.189       1.062\n",
       "fb_user_6                   -0.1006      0.109     -0.921      0.357      -0.315       0.113\n",
       "fb_user_7                   -0.0243      0.118     -0.207      0.836      -0.255       0.206\n",
       "fb_user_8                   -0.3483      0.139     -2.497      0.013      -0.622      -0.075\n",
       "aon                         -1.4885      0.083    -17.956      0.000      -1.651      -1.326\n",
       "aug_vbc_3g                  -1.3482      0.293     -4.596      0.000      -1.923      -0.773\n",
       "jul_vbc_3g                   0.3267      0.253      1.291      0.197      -0.169       0.823\n",
       "jun_vbc_3g                   0.1609      0.219      0.734      0.463      -0.269       0.590\n",
       "============================================================================================\n",
       "\"\"\""
      ]
     },
     "execution_count": 70,
     "metadata": {},
     "output_type": "execute_result"
    }
   ],
   "source": [
    "# Logistic regression model\n",
    "logm1 = sm.GLM(y_train,(sm.add_constant(X_train)), family = sm.families.Binomial())\n",
    "logm1.fit().summary()"
   ]
  },
  {
   "cell_type": "code",
   "execution_count": 71,
   "id": "cefbb1bb",
   "metadata": {},
   "outputs": [],
   "source": [
    "from sklearn.linear_model import LogisticRegression\n",
    "logreg = LogisticRegression()"
   ]
  },
  {
   "cell_type": "code",
   "execution_count": 72,
   "id": "d61993fd",
   "metadata": {},
   "outputs": [],
   "source": [
    "from sklearn.feature_selection import RFE\n",
    "rfe = RFE(logreg,n_features_to_select=15)             # running RFE with 13 variables as output\n",
    "rfe = rfe.fit(X_train, y_train)"
   ]
  },
  {
   "cell_type": "code",
   "execution_count": 73,
   "id": "38f0f14a",
   "metadata": {},
   "outputs": [
    {
     "data": {
      "text/plain": [
       "array([ True, False, False, False, False, False, False, False,  True,\n",
       "       False, False, False, False, False,  True, False, False, False,\n",
       "       False, False,  True, False, False, False, False, False, False,\n",
       "       False, False, False, False, False, False, False, False, False,\n",
       "       False, False,  True, False, False,  True, False, False,  True,\n",
       "       False, False, False, False, False, False, False, False,  True,\n",
       "       False, False, False, False, False,  True, False, False,  True,\n",
       "       False, False, False, False, False, False, False, False, False,\n",
       "       False, False, False, False,  True, False, False,  True, False,\n",
       "       False, False, False, False,  True, False, False, False, False,\n",
       "       False, False, False, False, False, False, False, False, False,\n",
       "       False, False,  True,  True, False, False])"
      ]
     },
     "execution_count": 73,
     "metadata": {},
     "output_type": "execute_result"
    }
   ],
   "source": [
    "rfe.support_"
   ]
  },
  {
   "cell_type": "code",
   "execution_count": 74,
   "id": "bf480517",
   "metadata": {},
   "outputs": [
    {
     "data": {
      "text/plain": [
       "[('arpu_6', True, 1),\n",
       " ('arpu_7', False, 2),\n",
       " ('arpu_8', False, 25),\n",
       " ('onnet_mou_6', False, 33),\n",
       " ('onnet_mou_7', False, 70),\n",
       " ('onnet_mou_8', False, 3),\n",
       " ('offnet_mou_6', False, 34),\n",
       " ('offnet_mou_7', False, 79),\n",
       " ('offnet_mou_8', True, 1),\n",
       " ('roam_ic_mou_6', False, 74),\n",
       " ('roam_ic_mou_7', False, 28),\n",
       " ('roam_ic_mou_8', False, 81),\n",
       " ('roam_og_mou_6', False, 20),\n",
       " ('roam_og_mou_7', False, 46),\n",
       " ('roam_og_mou_8', True, 1),\n",
       " ('loc_og_t2c_mou_6', False, 53),\n",
       " ('loc_og_t2c_mou_7', False, 40),\n",
       " ('loc_og_t2c_mou_8', False, 54),\n",
       " ('loc_og_mou_6', False, 11),\n",
       " ('loc_og_mou_7', False, 67),\n",
       " ('loc_og_mou_8', True, 1),\n",
       " ('std_og_mou_6', False, 26),\n",
       " ('std_og_mou_7', False, 76),\n",
       " ('std_og_mou_8', False, 16),\n",
       " ('isd_og_mou_6', False, 71),\n",
       " ('isd_og_mou_7', False, 27),\n",
       " ('isd_og_mou_8', False, 8),\n",
       " ('spl_og_mou_6', False, 63),\n",
       " ('spl_og_mou_7', False, 75),\n",
       " ('spl_og_mou_8', False, 13),\n",
       " ('og_others_6', False, 86),\n",
       " ('og_others_7', False, 91),\n",
       " ('og_others_8', False, 90),\n",
       " ('total_og_mou_6', False, 32),\n",
       " ('total_og_mou_7', False, 35),\n",
       " ('total_og_mou_8', False, 68),\n",
       " ('loc_ic_mou_6', False, 19),\n",
       " ('loc_ic_mou_7', False, 9),\n",
       " ('loc_ic_mou_8', True, 1),\n",
       " ('std_ic_mou_6', False, 14),\n",
       " ('std_ic_mou_7', False, 66),\n",
       " ('std_ic_mou_8', True, 1),\n",
       " ('spl_ic_mou_6', False, 51),\n",
       " ('spl_ic_mou_7', False, 15),\n",
       " ('spl_ic_mou_8', True, 1),\n",
       " ('isd_ic_mou_6', False, 42),\n",
       " ('isd_ic_mou_7', False, 18),\n",
       " ('isd_ic_mou_8', False, 41),\n",
       " ('ic_others_6', False, 57),\n",
       " ('ic_others_7', False, 58),\n",
       " ('ic_others_8', False, 12),\n",
       " ('total_rech_num_6', False, 72),\n",
       " ('total_rech_num_7', False, 22),\n",
       " ('total_rech_num_8', True, 1),\n",
       " ('max_rech_amt_6', False, 59),\n",
       " ('max_rech_amt_7', False, 4),\n",
       " ('max_rech_amt_8', False, 7),\n",
       " ('date_of_last_rech_6', False, 29),\n",
       " ('date_of_last_rech_7', False, 10),\n",
       " ('date_of_last_rech_8', True, 1),\n",
       " ('last_day_rch_amt_6', False, 17),\n",
       " ('last_day_rch_amt_7', False, 39),\n",
       " ('last_day_rch_amt_8', True, 1),\n",
       " ('date_of_last_rech_data_6', False, 56),\n",
       " ('date_of_last_rech_data_7', False, 77),\n",
       " ('date_of_last_rech_data_8', False, 6),\n",
       " ('total_rech_data_6', False, 30),\n",
       " ('total_rech_data_7', False, 80),\n",
       " ('total_rech_data_8', False, 47),\n",
       " ('max_rech_data_6', False, 49),\n",
       " ('max_rech_data_7', False, 83),\n",
       " ('max_rech_data_8', False, 85),\n",
       " ('count_rech_3g_7', False, 45),\n",
       " ('count_rech_3g_8', False, 78),\n",
       " ('av_rech_amt_data_6', False, 48),\n",
       " ('av_rech_amt_data_7', False, 23),\n",
       " ('av_rech_amt_data_8', True, 1),\n",
       " ('vol_2g_mb_6', False, 84),\n",
       " ('vol_2g_mb_7', False, 24),\n",
       " ('vol_2g_mb_8', True, 1),\n",
       " ('vol_3g_mb_6', False, 60),\n",
       " ('vol_3g_mb_7', False, 37),\n",
       " ('vol_3g_mb_8', False, 5),\n",
       " ('arpu_3g_6', False, 69),\n",
       " ('arpu_3g_7', False, 21),\n",
       " ('arpu_3g_8', True, 1),\n",
       " ('night_pck_user_6', False, 87),\n",
       " ('night_pck_user_7', False, 89),\n",
       " ('night_pck_user_8', False, 88),\n",
       " ('monthly_2g_6', False, 50),\n",
       " ('monthly_2g_7', False, 52),\n",
       " ('monthly_2g_8', False, 65),\n",
       " ('monthly_3g_6', False, 61),\n",
       " ('monthly_3g_7', False, 43),\n",
       " ('monthly_3g_8', False, 64),\n",
       " ('sachet_3g_6', False, 62),\n",
       " ('sachet_3g_7', False, 44),\n",
       " ('sachet_3g_8', False, 38),\n",
       " ('fb_user_6', False, 73),\n",
       " ('fb_user_7', False, 82),\n",
       " ('fb_user_8', False, 31),\n",
       " ('aon', True, 1),\n",
       " ('aug_vbc_3g', True, 1),\n",
       " ('jul_vbc_3g', False, 36),\n",
       " ('jun_vbc_3g', False, 55)]"
      ]
     },
     "execution_count": 74,
     "metadata": {},
     "output_type": "execute_result"
    }
   ],
   "source": [
    "list(zip(X_train.columns, rfe.support_, rfe.ranking_))"
   ]
  },
  {
   "cell_type": "code",
   "execution_count": 75,
   "id": "f987d83e",
   "metadata": {},
   "outputs": [],
   "source": [
    "col = X_train.columns[rfe.support_]"
   ]
  },
  {
   "cell_type": "code",
   "execution_count": 76,
   "id": "1a1585c9",
   "metadata": {},
   "outputs": [],
   "source": [
    "X_train_lr = X_train.copy()"
   ]
  },
  {
   "cell_type": "code",
   "execution_count": 77,
   "id": "563e044f",
   "metadata": {},
   "outputs": [
    {
     "data": {
      "text/plain": [
       "Index(['arpu_7', 'arpu_8', 'onnet_mou_6', 'onnet_mou_7', 'onnet_mou_8',\n",
       "       'offnet_mou_6', 'offnet_mou_7', 'roam_ic_mou_6', 'roam_ic_mou_7',\n",
       "       'roam_ic_mou_8', 'roam_og_mou_6', 'roam_og_mou_7', 'loc_og_t2c_mou_6',\n",
       "       'loc_og_t2c_mou_7', 'loc_og_t2c_mou_8', 'loc_og_mou_6', 'loc_og_mou_7',\n",
       "       'std_og_mou_6', 'std_og_mou_7', 'std_og_mou_8', 'isd_og_mou_6',\n",
       "       'isd_og_mou_7', 'isd_og_mou_8', 'spl_og_mou_6', 'spl_og_mou_7',\n",
       "       'spl_og_mou_8', 'og_others_6', 'og_others_7', 'og_others_8',\n",
       "       'total_og_mou_6', 'total_og_mou_7', 'total_og_mou_8', 'loc_ic_mou_6',\n",
       "       'loc_ic_mou_7', 'std_ic_mou_6', 'std_ic_mou_7', 'spl_ic_mou_6',\n",
       "       'spl_ic_mou_7', 'isd_ic_mou_6', 'isd_ic_mou_7', 'isd_ic_mou_8',\n",
       "       'ic_others_6', 'ic_others_7', 'ic_others_8', 'total_rech_num_6',\n",
       "       'total_rech_num_7', 'max_rech_amt_6', 'max_rech_amt_7',\n",
       "       'max_rech_amt_8', 'date_of_last_rech_6', 'date_of_last_rech_7',\n",
       "       'last_day_rch_amt_6', 'last_day_rch_amt_7', 'date_of_last_rech_data_6',\n",
       "       'date_of_last_rech_data_7', 'date_of_last_rech_data_8',\n",
       "       'total_rech_data_6', 'total_rech_data_7', 'total_rech_data_8',\n",
       "       'max_rech_data_6', 'max_rech_data_7', 'max_rech_data_8',\n",
       "       'count_rech_3g_7', 'count_rech_3g_8', 'av_rech_amt_data_6',\n",
       "       'av_rech_amt_data_7', 'vol_2g_mb_6', 'vol_2g_mb_7', 'vol_3g_mb_6',\n",
       "       'vol_3g_mb_7', 'vol_3g_mb_8', 'arpu_3g_6', 'arpu_3g_7',\n",
       "       'night_pck_user_6', 'night_pck_user_7', 'night_pck_user_8',\n",
       "       'monthly_2g_6', 'monthly_2g_7', 'monthly_2g_8', 'monthly_3g_6',\n",
       "       'monthly_3g_7', 'monthly_3g_8', 'sachet_3g_6', 'sachet_3g_7',\n",
       "       'sachet_3g_8', 'fb_user_6', 'fb_user_7', 'fb_user_8', 'jul_vbc_3g',\n",
       "       'jun_vbc_3g'],\n",
       "      dtype='object')"
      ]
     },
     "execution_count": 77,
     "metadata": {},
     "output_type": "execute_result"
    }
   ],
   "source": [
    "X_train_lr.columns[~rfe.support_]"
   ]
  },
  {
   "cell_type": "code",
   "execution_count": 78,
   "id": "69713b85",
   "metadata": {},
   "outputs": [
    {
     "data": {
      "text/html": [
       "<table class=\"simpletable\">\n",
       "<caption>Generalized Linear Model Regression Results</caption>\n",
       "<tr>\n",
       "  <th>Dep. Variable:</th>   <td>churn_probability</td> <th>  No. Observations:  </th>  <td> 55999</td> \n",
       "</tr>\n",
       "<tr>\n",
       "  <th>Model:</th>                  <td>GLM</td>        <th>  Df Residuals:      </th>  <td> 55983</td> \n",
       "</tr>\n",
       "<tr>\n",
       "  <th>Model Family:</th>        <td>Binomial</td>      <th>  Df Model:          </th>  <td>    15</td> \n",
       "</tr>\n",
       "<tr>\n",
       "  <th>Link Function:</th>         <td>Logit</td>       <th>  Scale:             </th> <td>  1.0000</td>\n",
       "</tr>\n",
       "<tr>\n",
       "  <th>Method:</th>                <td>IRLS</td>        <th>  Log-Likelihood:    </th> <td> -12010.</td>\n",
       "</tr>\n",
       "<tr>\n",
       "  <th>Date:</th>            <td>Wed, 16 Mar 2022</td>  <th>  Deviance:          </th> <td>  24021.</td>\n",
       "</tr>\n",
       "<tr>\n",
       "  <th>Time:</th>                <td>17:24:17</td>      <th>  Pearson chi2:      </th> <td>1.20e+08</td>\n",
       "</tr>\n",
       "<tr>\n",
       "  <th>No. Iterations:</th>          <td>8</td>         <th>  Pseudo R-squ. (CS):</th>  <td>0.2053</td> \n",
       "</tr>\n",
       "<tr>\n",
       "  <th>Covariance Type:</th>     <td>nonrobust</td>     <th>                     </th>     <td> </td>   \n",
       "</tr>\n",
       "</table>\n",
       "<table class=\"simpletable\">\n",
       "<tr>\n",
       "           <td></td>              <th>coef</th>     <th>std err</th>      <th>z</th>      <th>P>|z|</th>  <th>[0.025</th>    <th>0.975]</th>  \n",
       "</tr>\n",
       "<tr>\n",
       "  <th>const</th>               <td>    0.7005</td> <td>    0.048</td> <td>   14.676</td> <td> 0.000</td> <td>    0.607</td> <td>    0.794</td>\n",
       "</tr>\n",
       "<tr>\n",
       "  <th>arpu_6</th>              <td>    2.0196</td> <td>    0.097</td> <td>   20.920</td> <td> 0.000</td> <td>    1.830</td> <td>    2.209</td>\n",
       "</tr>\n",
       "<tr>\n",
       "  <th>offnet_mou_8</th>        <td>   -0.8750</td> <td>    0.197</td> <td>   -4.440</td> <td> 0.000</td> <td>   -1.261</td> <td>   -0.489</td>\n",
       "</tr>\n",
       "<tr>\n",
       "  <th>roam_og_mou_8</th>       <td>    1.8822</td> <td>    0.097</td> <td>   19.449</td> <td> 0.000</td> <td>    1.693</td> <td>    2.072</td>\n",
       "</tr>\n",
       "<tr>\n",
       "  <th>loc_og_mou_8</th>        <td>   -3.5165</td> <td>    0.417</td> <td>   -8.428</td> <td> 0.000</td> <td>   -4.334</td> <td>   -2.699</td>\n",
       "</tr>\n",
       "<tr>\n",
       "  <th>loc_ic_mou_8</th>        <td>  -12.0928</td> <td>    0.467</td> <td>  -25.875</td> <td> 0.000</td> <td>  -13.009</td> <td>  -11.177</td>\n",
       "</tr>\n",
       "<tr>\n",
       "  <th>std_ic_mou_8</th>        <td>   -2.2131</td> <td>    0.238</td> <td>   -9.293</td> <td> 0.000</td> <td>   -2.680</td> <td>   -1.746</td>\n",
       "</tr>\n",
       "<tr>\n",
       "  <th>spl_ic_mou_8</th>        <td>   -4.6333</td> <td>    0.315</td> <td>  -14.720</td> <td> 0.000</td> <td>   -5.250</td> <td>   -4.016</td>\n",
       "</tr>\n",
       "<tr>\n",
       "  <th>total_rech_num_8</th>    <td>   -1.6606</td> <td>    0.171</td> <td>   -9.716</td> <td> 0.000</td> <td>   -1.996</td> <td>   -1.326</td>\n",
       "</tr>\n",
       "<tr>\n",
       "  <th>date_of_last_rech_8</th> <td>   -1.5942</td> <td>    0.062</td> <td>  -25.728</td> <td> 0.000</td> <td>   -1.716</td> <td>   -1.473</td>\n",
       "</tr>\n",
       "<tr>\n",
       "  <th>last_day_rch_amt_8</th>  <td>   -3.3871</td> <td>    0.172</td> <td>  -19.699</td> <td> 0.000</td> <td>   -3.724</td> <td>   -3.050</td>\n",
       "</tr>\n",
       "<tr>\n",
       "  <th>av_rech_amt_data_8</th>  <td>   -3.0281</td> <td>    0.302</td> <td>  -10.011</td> <td> 0.000</td> <td>   -3.621</td> <td>   -2.435</td>\n",
       "</tr>\n",
       "<tr>\n",
       "  <th>vol_2g_mb_8</th>         <td>   -1.2102</td> <td>    0.248</td> <td>   -4.880</td> <td> 0.000</td> <td>   -1.696</td> <td>   -0.724</td>\n",
       "</tr>\n",
       "<tr>\n",
       "  <th>arpu_3g_8</th>           <td>    2.1368</td> <td>    0.296</td> <td>    7.210</td> <td> 0.000</td> <td>    1.556</td> <td>    2.718</td>\n",
       "</tr>\n",
       "<tr>\n",
       "  <th>aon</th>                 <td>   -1.4739</td> <td>    0.080</td> <td>  -18.402</td> <td> 0.000</td> <td>   -1.631</td> <td>   -1.317</td>\n",
       "</tr>\n",
       "<tr>\n",
       "  <th>aug_vbc_3g</th>          <td>   -1.2601</td> <td>    0.225</td> <td>   -5.598</td> <td> 0.000</td> <td>   -1.701</td> <td>   -0.819</td>\n",
       "</tr>\n",
       "</table>"
      ],
      "text/plain": [
       "<class 'statsmodels.iolib.summary.Summary'>\n",
       "\"\"\"\n",
       "                 Generalized Linear Model Regression Results                  \n",
       "==============================================================================\n",
       "Dep. Variable:      churn_probability   No. Observations:                55999\n",
       "Model:                            GLM   Df Residuals:                    55983\n",
       "Model Family:                Binomial   Df Model:                           15\n",
       "Link Function:                  Logit   Scale:                          1.0000\n",
       "Method:                          IRLS   Log-Likelihood:                -12010.\n",
       "Date:                Wed, 16 Mar 2022   Deviance:                       24021.\n",
       "Time:                        17:24:17   Pearson chi2:                 1.20e+08\n",
       "No. Iterations:                     8   Pseudo R-squ. (CS):             0.2053\n",
       "Covariance Type:            nonrobust                                         \n",
       "=======================================================================================\n",
       "                          coef    std err          z      P>|z|      [0.025      0.975]\n",
       "---------------------------------------------------------------------------------------\n",
       "const                   0.7005      0.048     14.676      0.000       0.607       0.794\n",
       "arpu_6                  2.0196      0.097     20.920      0.000       1.830       2.209\n",
       "offnet_mou_8           -0.8750      0.197     -4.440      0.000      -1.261      -0.489\n",
       "roam_og_mou_8           1.8822      0.097     19.449      0.000       1.693       2.072\n",
       "loc_og_mou_8           -3.5165      0.417     -8.428      0.000      -4.334      -2.699\n",
       "loc_ic_mou_8          -12.0928      0.467    -25.875      0.000     -13.009     -11.177\n",
       "std_ic_mou_8           -2.2131      0.238     -9.293      0.000      -2.680      -1.746\n",
       "spl_ic_mou_8           -4.6333      0.315    -14.720      0.000      -5.250      -4.016\n",
       "total_rech_num_8       -1.6606      0.171     -9.716      0.000      -1.996      -1.326\n",
       "date_of_last_rech_8    -1.5942      0.062    -25.728      0.000      -1.716      -1.473\n",
       "last_day_rch_amt_8     -3.3871      0.172    -19.699      0.000      -3.724      -3.050\n",
       "av_rech_amt_data_8     -3.0281      0.302    -10.011      0.000      -3.621      -2.435\n",
       "vol_2g_mb_8            -1.2102      0.248     -4.880      0.000      -1.696      -0.724\n",
       "arpu_3g_8               2.1368      0.296      7.210      0.000       1.556       2.718\n",
       "aon                    -1.4739      0.080    -18.402      0.000      -1.631      -1.317\n",
       "aug_vbc_3g             -1.2601      0.225     -5.598      0.000      -1.701      -0.819\n",
       "=======================================================================================\n",
       "\"\"\""
      ]
     },
     "execution_count": 78,
     "metadata": {},
     "output_type": "execute_result"
    }
   ],
   "source": [
    "X_train_sm = sm.add_constant(X_train[col])\n",
    "logm2 = sm.GLM(y_train,X_train_sm, family = sm.families.Binomial())\n",
    "res = logm2.fit()\n",
    "res.summary()"
   ]
  },
  {
   "cell_type": "code",
   "execution_count": 79,
   "id": "3f0f4f0f",
   "metadata": {},
   "outputs": [],
   "source": [
    "y_train_pred = res.predict(X_train_sm)\n"
   ]
  },
  {
   "cell_type": "code",
   "execution_count": 80,
   "id": "3dabec87",
   "metadata": {},
   "outputs": [
    {
     "data": {
      "text/plain": [
       "id\n",
       "47338.00    0.003008\n",
       "67455.00    0.028650\n",
       "12308.00    0.435354\n",
       "52334.00    0.213457\n",
       "699.98      0.557101\n",
       "21003.00    0.035913\n",
       "29637.00    0.014780\n",
       "51051.00    0.005389\n",
       "23680.00    0.062749\n",
       "26306.00    0.013051\n",
       "dtype: float64"
      ]
     },
     "execution_count": 80,
     "metadata": {},
     "output_type": "execute_result"
    }
   ],
   "source": [
    "y_train_pred.head(10)"
   ]
  },
  {
   "cell_type": "code",
   "execution_count": 81,
   "metadata": {},
   "outputs": [
    {
     "data": {
      "text/html": [
       "<div>\n",
       "<style scoped>\n",
       "    .dataframe tbody tr th:only-of-type {\n",
       "        vertical-align: middle;\n",
       "    }\n",
       "\n",
       "    .dataframe tbody tr th {\n",
       "        vertical-align: top;\n",
       "    }\n",
       "\n",
       "    .dataframe thead th {\n",
       "        text-align: right;\n",
       "    }\n",
       "</style>\n",
       "<table border=\"1\" class=\"dataframe\">\n",
       "  <thead>\n",
       "    <tr style=\"text-align: right;\">\n",
       "      <th></th>\n",
       "      <th>Churn</th>\n",
       "      <th>Churn_Prob</th>\n",
       "      <th>CustID</th>\n",
       "    </tr>\n",
       "    <tr>\n",
       "      <th>id</th>\n",
       "      <th></th>\n",
       "      <th></th>\n",
       "      <th></th>\n",
       "    </tr>\n",
       "  </thead>\n",
       "  <tbody>\n",
       "    <tr>\n",
       "      <th>47338.00</th>\n",
       "      <td>0</td>\n",
       "      <td>0.003008</td>\n",
       "      <td>47338.00</td>\n",
       "    </tr>\n",
       "    <tr>\n",
       "      <th>67455.00</th>\n",
       "      <td>0</td>\n",
       "      <td>0.028650</td>\n",
       "      <td>67455.00</td>\n",
       "    </tr>\n",
       "    <tr>\n",
       "      <th>12308.00</th>\n",
       "      <td>0</td>\n",
       "      <td>0.435354</td>\n",
       "      <td>12308.00</td>\n",
       "    </tr>\n",
       "    <tr>\n",
       "      <th>52334.00</th>\n",
       "      <td>0</td>\n",
       "      <td>0.213457</td>\n",
       "      <td>52334.00</td>\n",
       "    </tr>\n",
       "    <tr>\n",
       "      <th>699.98</th>\n",
       "      <td>1</td>\n",
       "      <td>0.557101</td>\n",
       "      <td>699.98</td>\n",
       "    </tr>\n",
       "  </tbody>\n",
       "</table>\n",
       "</div>"
      ],
      "text/plain": [
       "          Churn  Churn_Prob    CustID\n",
       "id                                   \n",
       "47338.00      0    0.003008  47338.00\n",
       "67455.00      0    0.028650  67455.00\n",
       "12308.00      0    0.435354  12308.00\n",
       "52334.00      0    0.213457  52334.00\n",
       "699.98        1    0.557101    699.98"
      ]
     },
     "execution_count": 81,
     "metadata": {},
     "output_type": "execute_result"
    }
   ],
   "source": [
    "y_train_pred_final = pd.DataFrame({'Churn':y_train.values, 'Churn_Prob':y_train_pred})\n",
    "y_train_pred_final['CustID'] = y_train.index\n",
    "y_train_pred_final.head()"
   ]
  },
  {
   "cell_type": "code",
   "execution_count": 82,
   "id": "657d06fb",
   "metadata": {},
   "outputs": [
    {
     "data": {
      "text/html": [
       "<div>\n",
       "<style scoped>\n",
       "    .dataframe tbody tr th:only-of-type {\n",
       "        vertical-align: middle;\n",
       "    }\n",
       "\n",
       "    .dataframe tbody tr th {\n",
       "        vertical-align: top;\n",
       "    }\n",
       "\n",
       "    .dataframe thead th {\n",
       "        text-align: right;\n",
       "    }\n",
       "</style>\n",
       "<table border=\"1\" class=\"dataframe\">\n",
       "  <thead>\n",
       "    <tr style=\"text-align: right;\">\n",
       "      <th></th>\n",
       "      <th>Churn</th>\n",
       "      <th>Churn_Prob</th>\n",
       "      <th>CustID</th>\n",
       "      <th>predicted</th>\n",
       "    </tr>\n",
       "    <tr>\n",
       "      <th>id</th>\n",
       "      <th></th>\n",
       "      <th></th>\n",
       "      <th></th>\n",
       "      <th></th>\n",
       "    </tr>\n",
       "  </thead>\n",
       "  <tbody>\n",
       "    <tr>\n",
       "      <th>47338.00</th>\n",
       "      <td>0</td>\n",
       "      <td>0.003008</td>\n",
       "      <td>47338.00</td>\n",
       "      <td>0</td>\n",
       "    </tr>\n",
       "    <tr>\n",
       "      <th>67455.00</th>\n",
       "      <td>0</td>\n",
       "      <td>0.028650</td>\n",
       "      <td>67455.00</td>\n",
       "      <td>0</td>\n",
       "    </tr>\n",
       "    <tr>\n",
       "      <th>12308.00</th>\n",
       "      <td>0</td>\n",
       "      <td>0.435354</td>\n",
       "      <td>12308.00</td>\n",
       "      <td>0</td>\n",
       "    </tr>\n",
       "    <tr>\n",
       "      <th>52334.00</th>\n",
       "      <td>0</td>\n",
       "      <td>0.213457</td>\n",
       "      <td>52334.00</td>\n",
       "      <td>0</td>\n",
       "    </tr>\n",
       "    <tr>\n",
       "      <th>699.98</th>\n",
       "      <td>1</td>\n",
       "      <td>0.557101</td>\n",
       "      <td>699.98</td>\n",
       "      <td>1</td>\n",
       "    </tr>\n",
       "  </tbody>\n",
       "</table>\n",
       "</div>"
      ],
      "text/plain": [
       "          Churn  Churn_Prob    CustID  predicted\n",
       "id                                              \n",
       "47338.00      0    0.003008  47338.00          0\n",
       "67455.00      0    0.028650  67455.00          0\n",
       "12308.00      0    0.435354  12308.00          0\n",
       "52334.00      0    0.213457  52334.00          0\n",
       "699.98        1    0.557101    699.98          1"
      ]
     },
     "execution_count": 82,
     "metadata": {},
     "output_type": "execute_result"
    }
   ],
   "source": [
    "y_train_pred_final['predicted'] = y_train_pred_final.Churn_Prob.map(lambda x: 1 if x > 0.5 else 0)\n",
    "\n",
    "# Let's see the head\n",
    "y_train_pred_final.head()"
   ]
  },
  {
   "cell_type": "code",
   "execution_count": 83,
   "id": "f7364df7",
   "metadata": {},
   "outputs": [],
   "source": [
    "from sklearn import metrics"
   ]
  },
  {
   "cell_type": "code",
   "execution_count": 84,
   "id": "7caacb50",
   "metadata": {},
   "outputs": [
    {
     "name": "stdout",
     "output_type": "stream",
     "text": [
      "[[49464   825]\n",
      " [ 3871  1839]]\n"
     ]
    }
   ],
   "source": [
    "# Confusion matrix \n",
    "confusion = metrics.confusion_matrix(y_train_pred_final.Churn, y_train_pred_final.predicted )\n",
    "print(confusion)"
   ]
  },
  {
   "cell_type": "code",
   "execution_count": 85,
   "id": "0b66d8ae",
   "metadata": {},
   "outputs": [
    {
     "name": "stdout",
     "output_type": "stream",
     "text": [
      "0.916141359667137\n"
     ]
    }
   ],
   "source": [
    "print(metrics.accuracy_score(y_train_pred_final.Churn, y_train_pred_final.predicted))"
   ]
  },
  {
   "cell_type": "code",
   "execution_count": 86,
   "id": "7e05db57",
   "metadata": {},
   "outputs": [],
   "source": [
    "TP = confusion[1,1] # true positive \n",
    "TN = confusion[0,0] # true negatives\n",
    "FP = confusion[0,1] # false positives\n",
    "FN = confusion[1,0] # false negatives"
   ]
  },
  {
   "cell_type": "code",
   "execution_count": 87,
   "id": "72be9522",
   "metadata": {},
   "outputs": [
    {
     "data": {
      "text/plain": [
       "0.32206654991243433"
      ]
     },
     "execution_count": 87,
     "metadata": {},
     "output_type": "execute_result"
    }
   ],
   "source": [
    "# Let's see the sensitivity of our logistic regression model\n",
    "TP / float(TP+FN)"
   ]
  },
  {
   "cell_type": "code",
   "execution_count": 88,
   "id": "28d11e1b",
   "metadata": {},
   "outputs": [
    {
     "data": {
      "text/plain": [
       "0.983594821929249"
      ]
     },
     "execution_count": 88,
     "metadata": {},
     "output_type": "execute_result"
    }
   ],
   "source": [
    "# Let us calculate specificity\n",
    "TN / float(TN+FP)"
   ]
  },
  {
   "cell_type": "code",
   "execution_count": 89,
   "id": "76d5eb9c",
   "metadata": {},
   "outputs": [
    {
     "name": "stdout",
     "output_type": "stream",
     "text": [
      "0.016405178070751057\n"
     ]
    }
   ],
   "source": [
    "# Calculate false postive rate - predicting churn when customer does not have churned\n",
    "print(FP/ float(TN+FP))"
   ]
  },
  {
   "cell_type": "code",
   "execution_count": 90,
   "id": "617c6cd4",
   "metadata": {},
   "outputs": [
    {
     "name": "stdout",
     "output_type": "stream",
     "text": [
      "0.6903153153153153\n"
     ]
    }
   ],
   "source": [
    "# positive predictive value \n",
    "print (TP / float(TP+FP))"
   ]
  },
  {
   "cell_type": "code",
   "execution_count": 91,
   "id": "bb74bda1",
   "metadata": {},
   "outputs": [
    {
     "name": "stdout",
     "output_type": "stream",
     "text": [
      "0.9274210180931846\n"
     ]
    }
   ],
   "source": [
    "# Negative predictive value\n",
    "print (TN / float(TN+ FN))"
   ]
  },
  {
   "cell_type": "code",
   "execution_count": 92,
   "id": "80837973",
   "metadata": {},
   "outputs": [],
   "source": [
    "def draw_roc( actual, probs ):\n",
    "    fpr, tpr, thresholds = metrics.roc_curve( actual, probs,\n",
    "                                              drop_intermediate = False )\n",
    "    auc_score = metrics.roc_auc_score( actual, probs )\n",
    "    plt.figure(figsize=(5, 5))\n",
    "    plt.plot( fpr, tpr, label='ROC curve (area = %0.2f)' % auc_score )\n",
    "    plt.plot([0, 1], [0, 1], 'k--')\n",
    "    plt.xlim([0.0, 1.0])\n",
    "    plt.ylim([0.0, 1.05])\n",
    "    plt.xlabel('False Positive Rate or [1 - True Negative Rate]')\n",
    "    plt.ylabel('True Positive Rate')\n",
    "    plt.title('Receiver operating characteristic example')\n",
    "    plt.legend(loc=\"lower right\")\n",
    "    plt.show()\n",
    "\n",
    "    return None"
   ]
  },
  {
   "cell_type": "code",
   "execution_count": 93,
   "id": "f3330212",
   "metadata": {},
   "outputs": [],
   "source": [
    "fpr, tpr, thresholds = metrics.roc_curve( y_train_pred_final.Churn, y_train_pred_final.Churn_Prob, drop_intermediate = False )"
   ]
  },
  {
   "cell_type": "code",
   "execution_count": 94,
   "id": "27f24966",
   "metadata": {},
   "outputs": [
    {
     "data": {
      "image/png": "[encoded data removed]",
      "text/plain": [
       "<Figure size 360x360 with 1 Axes>"
      ]
     },
     "metadata": {
      "needs_background": "light"
     },
     "output_type": "display_data"
    }
   ],
   "source": [
    "draw_roc(y_train_pred_final.Churn, y_train_pred_final.Churn_Prob)"
   ]
  },
  {
   "cell_type": "code",
   "execution_count": 95,
   "id": "9130f5b9",
   "metadata": {},
   "outputs": [
    {
     "data": {
      "text/html": [
       "<div>\n",
       "<style scoped>\n",
       "    .dataframe tbody tr th:only-of-type {\n",
       "        vertical-align: middle;\n",
       "    }\n",
       "\n",
       "    .dataframe tbody tr th {\n",
       "        vertical-align: top;\n",
       "    }\n",
       "\n",
       "    .dataframe thead th {\n",
       "        text-align: right;\n",
       "    }\n",
       "</style>\n",
       "<table border=\"1\" class=\"dataframe\">\n",
       "  <thead>\n",
       "    <tr style=\"text-align: right;\">\n",
       "      <th></th>\n",
       "      <th>Churn</th>\n",
       "      <th>Churn_Prob</th>\n",
       "      <th>CustID</th>\n",
       "      <th>predicted</th>\n",
       "      <th>0.0</th>\n",
       "      <th>0.1</th>\n",
       "      <th>0.2</th>\n",
       "      <th>0.3</th>\n",
       "      <th>0.4</th>\n",
       "      <th>0.5</th>\n",
       "      <th>0.6</th>\n",
       "      <th>0.7</th>\n",
       "      <th>0.8</th>\n",
       "      <th>0.9</th>\n",
       "    </tr>\n",
       "    <tr>\n",
       "      <th>id</th>\n",
       "      <th></th>\n",
       "      <th></th>\n",
       "      <th></th>\n",
       "      <th></th>\n",
       "      <th></th>\n",
       "      <th></th>\n",
       "      <th></th>\n",
       "      <th></th>\n",
       "      <th></th>\n",
       "      <th></th>\n",
       "      <th></th>\n",
       "      <th></th>\n",
       "      <th></th>\n",
       "      <th></th>\n",
       "    </tr>\n",
       "  </thead>\n",
       "  <tbody>\n",
       "    <tr>\n",
       "      <th>47338.00</th>\n",
       "      <td>0</td>\n",
       "      <td>0.003008</td>\n",
       "      <td>47338.00</td>\n",
       "      <td>0</td>\n",
       "      <td>1</td>\n",
       "      <td>0</td>\n",
       "      <td>0</td>\n",
       "      <td>0</td>\n",
       "      <td>0</td>\n",
       "      <td>0</td>\n",
       "      <td>0</td>\n",
       "      <td>0</td>\n",
       "      <td>0</td>\n",
       "      <td>0</td>\n",
       "    </tr>\n",
       "    <tr>\n",
       "      <th>67455.00</th>\n",
       "      <td>0</td>\n",
       "      <td>0.028650</td>\n",
       "      <td>67455.00</td>\n",
       "      <td>0</td>\n",
       "      <td>1</td>\n",
       "      <td>0</td>\n",
       "      <td>0</td>\n",
       "      <td>0</td>\n",
       "      <td>0</td>\n",
       "      <td>0</td>\n",
       "      <td>0</td>\n",
       "      <td>0</td>\n",
       "      <td>0</td>\n",
       "      <td>0</td>\n",
       "    </tr>\n",
       "    <tr>\n",
       "      <th>12308.00</th>\n",
       "      <td>0</td>\n",
       "      <td>0.435354</td>\n",
       "      <td>12308.00</td>\n",
       "      <td>0</td>\n",
       "      <td>1</td>\n",
       "      <td>1</td>\n",
       "      <td>1</td>\n",
       "      <td>1</td>\n",
       "      <td>1</td>\n",
       "      <td>0</td>\n",
       "      <td>0</td>\n",
       "      <td>0</td>\n",
       "      <td>0</td>\n",
       "      <td>0</td>\n",
       "    </tr>\n",
       "    <tr>\n",
       "      <th>52334.00</th>\n",
       "      <td>0</td>\n",
       "      <td>0.213457</td>\n",
       "      <td>52334.00</td>\n",
       "      <td>0</td>\n",
       "      <td>1</td>\n",
       "      <td>1</td>\n",
       "      <td>1</td>\n",
       "      <td>0</td>\n",
       "      <td>0</td>\n",
       "      <td>0</td>\n",
       "      <td>0</td>\n",
       "      <td>0</td>\n",
       "      <td>0</td>\n",
       "      <td>0</td>\n",
       "    </tr>\n",
       "    <tr>\n",
       "      <th>699.98</th>\n",
       "      <td>1</td>\n",
       "      <td>0.557101</td>\n",
       "      <td>699.98</td>\n",
       "      <td>1</td>\n",
       "      <td>1</td>\n",
       "      <td>1</td>\n",
       "      <td>1</td>\n",
       "      <td>1</td>\n",
       "      <td>1</td>\n",
       "      <td>1</td>\n",
       "      <td>0</td>\n",
       "      <td>0</td>\n",
       "      <td>0</td>\n",
       "      <td>0</td>\n",
       "    </tr>\n",
       "  </tbody>\n",
       "</table>\n",
       "</div>"
      ],
      "text/plain": [
       "          Churn  Churn_Prob    CustID  predicted  0.0  0.1  0.2  0.3  0.4  \\\n",
       "id                                                                          \n",
       "47338.00      0    0.003008  47338.00          0    1    0    0    0    0   \n",
       "67455.00      0    0.028650  67455.00          0    1    0    0    0    0   \n",
       "12308.00      0    0.435354  12308.00          0    1    1    1    1    1   \n",
       "52334.00      0    0.213457  52334.00          0    1    1    1    0    0   \n",
       "699.98        1    0.557101    699.98          1    1    1    1    1    1   \n",
       "\n",
       "          0.5  0.6  0.7  0.8  0.9  \n",
       "id                                 \n",
       "47338.00    0    0    0    0    0  \n",
       "67455.00    0    0    0    0    0  \n",
       "12308.00    0    0    0    0    0  \n",
       "52334.00    0    0    0    0    0  \n",
       "699.98      1    0    0    0    0  "
      ]
     },
     "execution_count": 95,
     "metadata": {},
     "output_type": "execute_result"
    }
   ],
   "source": [
    "# Let's create columns with different probability cutoffs \n",
    "numbers = [float(x)/10 for x in range(10)]\n",
    "for i in numbers:\n",
    "    y_train_pred_final[i]= y_train_pred_final.Churn_Prob.map(lambda x: 1 if x > i else 0)\n",
    "y_train_pred_final.head()"
   ]
  },
  {
   "cell_type": "code",
   "execution_count": 96,
   "id": "c3510945",
   "metadata": {},
   "outputs": [
    {
     "name": "stdout",
     "output_type": "stream",
     "text": [
      "     prob  accuracy     sensi     speci\n",
      "0.0   0.0  0.101966  1.000000  0.000000\n",
      "0.1   0.1  0.794228  0.861646  0.786574\n",
      "0.2   0.2  0.882659  0.770053  0.895444\n",
      "0.3   0.3  0.912731  0.628021  0.945058\n",
      "0.4   0.4  0.917320  0.453065  0.970033\n",
      "0.5   0.5  0.916141  0.322067  0.983595\n",
      "0.6   0.6  0.913677  0.228897  0.991430\n",
      "0.7   0.7  0.905998  0.109982  0.996381\n",
      "0.8   0.8  0.900588  0.031349  0.999284\n",
      "0.9   0.9  0.898605  0.006655  0.999881\n"
     ]
    }
   ],
   "source": [
    "# Now let's calculate accuracy sensitivity and specificity for various probability cutoffs.\n",
    "cutoff_df = pd.DataFrame( columns = ['prob','accuracy','sensi','speci'])\n",
    "from sklearn.metrics import confusion_matrix\n",
    "\n",
    "# TP = confusion[1,1] # true positive \n",
    "# TN = confusion[0,0] # true negatives\n",
    "# FP = confusion[0,1] # false positives\n",
    "# FN = confusion[1,0] # false negatives\n",
    "\n",
    "num = [0.0,0.1,0.2,0.3,0.4,0.5,0.6,0.7,0.8,0.9]\n",
    "for i in num:\n",
    "    cm1 = metrics.confusion_matrix(y_train_pred_final.Churn, y_train_pred_final[i] )\n",
    "    total1=sum(sum(cm1))\n",
    "    accuracy = (cm1[0,0]+cm1[1,1])/total1\n",
    "    \n",
    "    speci = cm1[0,0]/(cm1[0,0]+cm1[0,1])\n",
    "    sensi = cm1[1,1]/(cm1[1,0]+cm1[1,1])\n",
    "    cutoff_df.loc[i] =[ i ,accuracy,sensi,speci]\n",
    "print(cutoff_df)"
   ]
  },
  {
   "cell_type": "code",
   "execution_count": 97,
   "id": "c48162a1",
   "metadata": {},
   "outputs": [
    {
     "data": {
      "image/png": "[encoded data removed]",
      "text/plain": [
       "<Figure size 432x288 with 1 Axes>"
      ]
     },
     "metadata": {
      "needs_background": "light"
     },
     "output_type": "display_data"
    }
   ],
   "source": [
    "# Let's plot accuracy sensitivity and specificity for various probabilities.\n",
    "cutoff_df.plot.line(x='prob', y=['accuracy','sensi','speci'])\n",
    "plt.show()"
   ]
  },
  {
   "cell_type": "code",
   "execution_count": 98,
   "id": "afb45633",
   "metadata": {},
   "outputs": [
    {
     "data": {
      "text/html": [
       "<div>\n",
       "<style scoped>\n",
       "    .dataframe tbody tr th:only-of-type {\n",
       "        vertical-align: middle;\n",
       "    }\n",
       "\n",
       "    .dataframe tbody tr th {\n",
       "        vertical-align: top;\n",
       "    }\n",
       "\n",
       "    .dataframe thead th {\n",
       "        text-align: right;\n",
       "    }\n",
       "</style>\n",
       "<table border=\"1\" class=\"dataframe\">\n",
       "  <thead>\n",
       "    <tr style=\"text-align: right;\">\n",
       "      <th></th>\n",
       "      <th>Churn</th>\n",
       "      <th>Churn_Prob</th>\n",
       "      <th>CustID</th>\n",
       "      <th>predicted</th>\n",
       "      <th>0.0</th>\n",
       "      <th>0.1</th>\n",
       "      <th>0.2</th>\n",
       "      <th>0.3</th>\n",
       "      <th>0.4</th>\n",
       "      <th>0.5</th>\n",
       "      <th>0.6</th>\n",
       "      <th>0.7</th>\n",
       "      <th>0.8</th>\n",
       "      <th>0.9</th>\n",
       "      <th>final_predicted</th>\n",
       "    </tr>\n",
       "    <tr>\n",
       "      <th>id</th>\n",
       "      <th></th>\n",
       "      <th></th>\n",
       "      <th></th>\n",
       "      <th></th>\n",
       "      <th></th>\n",
       "      <th></th>\n",
       "      <th></th>\n",
       "      <th></th>\n",
       "      <th></th>\n",
       "      <th></th>\n",
       "      <th></th>\n",
       "      <th></th>\n",
       "      <th></th>\n",
       "      <th></th>\n",
       "      <th></th>\n",
       "    </tr>\n",
       "  </thead>\n",
       "  <tbody>\n",
       "    <tr>\n",
       "      <th>47338.00</th>\n",
       "      <td>0</td>\n",
       "      <td>0.003008</td>\n",
       "      <td>47338.00</td>\n",
       "      <td>0</td>\n",
       "      <td>1</td>\n",
       "      <td>0</td>\n",
       "      <td>0</td>\n",
       "      <td>0</td>\n",
       "      <td>0</td>\n",
       "      <td>0</td>\n",
       "      <td>0</td>\n",
       "      <td>0</td>\n",
       "      <td>0</td>\n",
       "      <td>0</td>\n",
       "      <td>0</td>\n",
       "    </tr>\n",
       "    <tr>\n",
       "      <th>67455.00</th>\n",
       "      <td>0</td>\n",
       "      <td>0.028650</td>\n",
       "      <td>67455.00</td>\n",
       "      <td>0</td>\n",
       "      <td>1</td>\n",
       "      <td>0</td>\n",
       "      <td>0</td>\n",
       "      <td>0</td>\n",
       "      <td>0</td>\n",
       "      <td>0</td>\n",
       "      <td>0</td>\n",
       "      <td>0</td>\n",
       "      <td>0</td>\n",
       "      <td>0</td>\n",
       "      <td>0</td>\n",
       "    </tr>\n",
       "    <tr>\n",
       "      <th>12308.00</th>\n",
       "      <td>0</td>\n",
       "      <td>0.435354</td>\n",
       "      <td>12308.00</td>\n",
       "      <td>0</td>\n",
       "      <td>1</td>\n",
       "      <td>1</td>\n",
       "      <td>1</td>\n",
       "      <td>1</td>\n",
       "      <td>1</td>\n",
       "      <td>0</td>\n",
       "      <td>0</td>\n",
       "      <td>0</td>\n",
       "      <td>0</td>\n",
       "      <td>0</td>\n",
       "      <td>0</td>\n",
       "    </tr>\n",
       "    <tr>\n",
       "      <th>52334.00</th>\n",
       "      <td>0</td>\n",
       "      <td>0.213457</td>\n",
       "      <td>52334.00</td>\n",
       "      <td>0</td>\n",
       "      <td>1</td>\n",
       "      <td>1</td>\n",
       "      <td>1</td>\n",
       "      <td>0</td>\n",
       "      <td>0</td>\n",
       "      <td>0</td>\n",
       "      <td>0</td>\n",
       "      <td>0</td>\n",
       "      <td>0</td>\n",
       "      <td>0</td>\n",
       "      <td>0</td>\n",
       "    </tr>\n",
       "    <tr>\n",
       "      <th>699.98</th>\n",
       "      <td>1</td>\n",
       "      <td>0.557101</td>\n",
       "      <td>699.98</td>\n",
       "      <td>1</td>\n",
       "      <td>1</td>\n",
       "      <td>1</td>\n",
       "      <td>1</td>\n",
       "      <td>1</td>\n",
       "      <td>1</td>\n",
       "      <td>1</td>\n",
       "      <td>0</td>\n",
       "      <td>0</td>\n",
       "      <td>0</td>\n",
       "      <td>0</td>\n",
       "      <td>1</td>\n",
       "    </tr>\n",
       "  </tbody>\n",
       "</table>\n",
       "</div>"
      ],
      "text/plain": [
       "          Churn  Churn_Prob    CustID  predicted  0.0  0.1  0.2  0.3  0.4  \\\n",
       "id                                                                          \n",
       "47338.00      0    0.003008  47338.00          0    1    0    0    0    0   \n",
       "67455.00      0    0.028650  67455.00          0    1    0    0    0    0   \n",
       "12308.00      0    0.435354  12308.00          0    1    1    1    1    1   \n",
       "52334.00      0    0.213457  52334.00          0    1    1    1    0    0   \n",
       "699.98        1    0.557101    699.98          1    1    1    1    1    1   \n",
       "\n",
       "          0.5  0.6  0.7  0.8  0.9  final_predicted  \n",
       "id                                                  \n",
       "47338.00    0    0    0    0    0                0  \n",
       "67455.00    0    0    0    0    0                0  \n",
       "12308.00    0    0    0    0    0                0  \n",
       "52334.00    0    0    0    0    0                0  \n",
       "699.98      1    0    0    0    0                1  "
      ]
     },
     "execution_count": 98,
     "metadata": {},
     "output_type": "execute_result"
    }
   ],
   "source": [
    "y_train_pred_final['final_predicted'] = y_train_pred_final.Churn_Prob.map( lambda x: 1 if x > 0.5 else 0)\n",
    "\n",
    "y_train_pred_final.head()"
   ]
  },
  {
   "cell_type": "code",
   "execution_count": 99,
   "id": "4a3a85cb",
   "metadata": {},
   "outputs": [
    {
     "data": {
      "text/plain": [
       "0.916141359667137"
      ]
     },
     "execution_count": 99,
     "metadata": {},
     "output_type": "execute_result"
    }
   ],
   "source": [
    "metrics.accuracy_score(y_train_pred_final.Churn, y_train_pred_final.final_predicted)"
   ]
  },
  {
   "cell_type": "code",
   "execution_count": 100,
   "id": "51ccab77",
   "metadata": {},
   "outputs": [
    {
     "data": {
      "text/plain": [
       "array([[49464,   825],\n",
       "       [ 3871,  1839]], dtype=int64)"
      ]
     },
     "execution_count": 100,
     "metadata": {},
     "output_type": "execute_result"
    }
   ],
   "source": [
    "confusion2 = metrics.confusion_matrix(y_train_pred_final.Churn, y_train_pred_final.final_predicted )\n",
    "confusion2"
   ]
  },
  {
   "cell_type": "code",
   "execution_count": 101,
   "id": "874972d8",
   "metadata": {},
   "outputs": [],
   "source": [
    "TP = confusion2[1,1] # true positive \n",
    "TN = confusion2[0,0] # true negatives\n",
    "FP = confusion2[0,1] # false positives\n",
    "FN = confusion2[1,0] # false negatives"
   ]
  },
  {
   "cell_type": "code",
   "execution_count": 102,
   "id": "153e773d",
   "metadata": {},
   "outputs": [
    {
     "data": {
      "text/plain": [
       "0.32206654991243433"
      ]
     },
     "execution_count": 102,
     "metadata": {},
     "output_type": "execute_result"
    }
   ],
   "source": [
    "# Let's see the sensitivity of our logistic regression model\n",
    "TP / float(TP+FN)"
   ]
  },
  {
   "cell_type": "code",
   "execution_count": 103,
   "id": "3dd87f72",
   "metadata": {},
   "outputs": [
    {
     "data": {
      "text/plain": [
       "0.983594821929249"
      ]
     },
     "execution_count": 103,
     "metadata": {},
     "output_type": "execute_result"
    }
   ],
   "source": [
    "# Let us calculate specificity\n",
    "TN / float(TN+FP)"
   ]
  },
  {
   "cell_type": "code",
   "execution_count": 104,
   "id": "3de9f60d",
   "metadata": {},
   "outputs": [
    {
     "name": "stdout",
     "output_type": "stream",
     "text": [
      "0.016405178070751057\n"
     ]
    }
   ],
   "source": [
    "# Calculate false postive rate - predicting churn when customer does not have churned\n",
    "print(FP/ float(TN+FP))"
   ]
  },
  {
   "cell_type": "code",
   "execution_count": 105,
   "id": "bad973b4",
   "metadata": {},
   "outputs": [
    {
     "name": "stdout",
     "output_type": "stream",
     "text": [
      "0.6903153153153153\n"
     ]
    }
   ],
   "source": [
    "# Positive predictive value \n",
    "print (TP / float(TP+FP))"
   ]
  },
  {
   "cell_type": "code",
   "execution_count": 106,
   "id": "52cde9e6",
   "metadata": {},
   "outputs": [
    {
     "name": "stdout",
     "output_type": "stream",
     "text": [
      "0.9274210180931846\n"
     ]
    }
   ],
   "source": [
    "# Negative predictive value\n",
    "print (TN / float(TN+ FN))"
   ]
  },
  {
   "cell_type": "code",
   "execution_count": 107,
   "id": "8ac2412b",
   "metadata": {},
   "outputs": [
    {
     "data": {
      "text/plain": [
       "array([[49464,   825],\n",
       "       [ 3871,  1839]], dtype=int64)"
      ]
     },
     "execution_count": 107,
     "metadata": {},
     "output_type": "execute_result"
    }
   ],
   "source": [
    "confusion = metrics.confusion_matrix(y_train_pred_final.Churn, y_train_pred_final.final_predicted )\n",
    "confusion"
   ]
  },
  {
   "cell_type": "code",
   "execution_count": 108,
   "id": "bfd343b7",
   "metadata": {},
   "outputs": [],
   "source": [
    "from sklearn.metrics import precision_score, recall_score"
   ]
  },
  {
   "cell_type": "code",
   "execution_count": 109,
   "id": "b746cb26",
   "metadata": {},
   "outputs": [
    {
     "data": {
      "text/plain": [
       "0.6903153153153153"
      ]
     },
     "execution_count": 109,
     "metadata": {},
     "output_type": "execute_result"
    }
   ],
   "source": [
    "precision_score(y_train_pred_final.Churn, y_train_pred_final.final_predicted)"
   ]
  },
  {
   "cell_type": "code",
   "execution_count": 110,
   "id": "de4c0928",
   "metadata": {},
   "outputs": [
    {
     "data": {
      "text/plain": [
       "0.32206654991243433"
      ]
     },
     "execution_count": 110,
     "metadata": {},
     "output_type": "execute_result"
    }
   ],
   "source": [
    "recall_score(y_train_pred_final.Churn, y_train_pred_final.final_predicted)"
   ]
  },
  {
   "cell_type": "code",
   "execution_count": 111,
   "id": "2866273c",
   "metadata": {},
   "outputs": [],
   "source": [
    "from sklearn.metrics import precision_recall_curve"
   ]
  },
  {
   "cell_type": "code",
   "execution_count": 112,
   "id": "6ba293f1",
   "metadata": {},
   "outputs": [
    {
     "data": {
      "text/plain": [
       "(id\n",
       " 47338.00    0\n",
       " 67455.00    0\n",
       " 12308.00    0\n",
       " 52334.00    0\n",
       " 699.98      1\n",
       "            ..\n",
       " 37194.00    1\n",
       " 6265.00     0\n",
       " 54886.00    0\n",
       " 860.00      0\n",
       " 15795.00    0\n",
       " Name: Churn, Length: 55999, dtype: int64,\n",
       " id\n",
       " 47338.00    0\n",
       " 67455.00    0\n",
       " 12308.00    0\n",
       " 52334.00    0\n",
       " 699.98      1\n",
       "            ..\n",
       " 37194.00    1\n",
       " 6265.00     0\n",
       " 54886.00    0\n",
       " 860.00      0\n",
       " 15795.00    0\n",
       " Name: final_predicted, Length: 55999, dtype: int64)"
      ]
     },
     "execution_count": 112,
     "metadata": {},
     "output_type": "execute_result"
    }
   ],
   "source": [
    "y_train_pred_final.Churn, y_train_pred_final.final_predicted"
   ]
  },
  {
   "cell_type": "code",
   "execution_count": 113,
   "id": "24cc8fde",
   "metadata": {},
   "outputs": [],
   "source": [
    "p, r, thresholds = precision_recall_curve(y_train_pred_final.Churn, y_train_pred_final.Churn_Prob)"
   ]
  },
  {
   "cell_type": "code",
   "execution_count": 114,
   "id": "5852893c",
   "metadata": {},
   "outputs": [
    {
     "data": {
      "image/png": "[encoded data removed]",
      "text/plain": [
       "<Figure size 432x288 with 1 Axes>"
      ]
     },
     "metadata": {
      "needs_background": "light"
     },
     "output_type": "display_data"
    }
   ],
   "source": [
    "plt.plot(thresholds, p[:-1], \"g-\")\n",
    "plt.plot(thresholds, r[:-1], \"r-\")\n",
    "plt.show()"
   ]
  },
  {
   "cell_type": "code",
   "execution_count": 115,
   "id": "bb9ad4d4",
   "metadata": {},
   "outputs": [
    {
     "data": {
      "text/html": [
       "<div>\n",
       "<style scoped>\n",
       "    .dataframe tbody tr th:only-of-type {\n",
       "        vertical-align: middle;\n",
       "    }\n",
       "\n",
       "    .dataframe tbody tr th {\n",
       "        vertical-align: top;\n",
       "    }\n",
       "\n",
       "    .dataframe thead th {\n",
       "        text-align: right;\n",
       "    }\n",
       "</style>\n",
       "<table border=\"1\" class=\"dataframe\">\n",
       "  <thead>\n",
       "    <tr style=\"text-align: right;\">\n",
       "      <th></th>\n",
       "      <th>arpu_6</th>\n",
       "      <th>offnet_mou_8</th>\n",
       "      <th>roam_og_mou_8</th>\n",
       "      <th>loc_og_mou_8</th>\n",
       "      <th>loc_ic_mou_8</th>\n",
       "      <th>std_ic_mou_8</th>\n",
       "      <th>spl_ic_mou_8</th>\n",
       "      <th>total_rech_num_8</th>\n",
       "      <th>date_of_last_rech_8</th>\n",
       "      <th>last_day_rch_amt_8</th>\n",
       "      <th>av_rech_amt_data_8</th>\n",
       "      <th>vol_2g_mb_8</th>\n",
       "      <th>arpu_3g_8</th>\n",
       "      <th>aon</th>\n",
       "      <th>aug_vbc_3g</th>\n",
       "    </tr>\n",
       "    <tr>\n",
       "      <th>id</th>\n",
       "      <th></th>\n",
       "      <th></th>\n",
       "      <th></th>\n",
       "      <th></th>\n",
       "      <th></th>\n",
       "      <th></th>\n",
       "      <th></th>\n",
       "      <th></th>\n",
       "      <th></th>\n",
       "      <th></th>\n",
       "      <th></th>\n",
       "      <th></th>\n",
       "      <th></th>\n",
       "      <th></th>\n",
       "      <th></th>\n",
       "    </tr>\n",
       "  </thead>\n",
       "  <tbody>\n",
       "    <tr>\n",
       "      <th>57621.0</th>\n",
       "      <td>0.804855</td>\n",
       "      <td>0.038620</td>\n",
       "      <td>0.0</td>\n",
       "      <td>0.143486</td>\n",
       "      <td>0.136575</td>\n",
       "      <td>0.132088</td>\n",
       "      <td>0.0</td>\n",
       "      <td>0.400000</td>\n",
       "      <td>0.935484</td>\n",
       "      <td>0.065934</td>\n",
       "      <td>0.000000</td>\n",
       "      <td>0.000000</td>\n",
       "      <td>0.000000</td>\n",
       "      <td>0.138897</td>\n",
       "      <td>0.000000</td>\n",
       "    </tr>\n",
       "    <tr>\n",
       "      <th>39559.0</th>\n",
       "      <td>0.369385</td>\n",
       "      <td>0.283475</td>\n",
       "      <td>0.0</td>\n",
       "      <td>0.143955</td>\n",
       "      <td>0.119210</td>\n",
       "      <td>0.057683</td>\n",
       "      <td>0.0</td>\n",
       "      <td>0.314286</td>\n",
       "      <td>0.967742</td>\n",
       "      <td>0.000000</td>\n",
       "      <td>0.483813</td>\n",
       "      <td>0.007837</td>\n",
       "      <td>0.000021</td>\n",
       "      <td>0.079700</td>\n",
       "      <td>0.087873</td>\n",
       "    </tr>\n",
       "    <tr>\n",
       "      <th>41415.0</th>\n",
       "      <td>0.462911</td>\n",
       "      <td>0.235446</td>\n",
       "      <td>0.0</td>\n",
       "      <td>0.022799</td>\n",
       "      <td>0.025133</td>\n",
       "      <td>0.034524</td>\n",
       "      <td>0.0</td>\n",
       "      <td>0.914286</td>\n",
       "      <td>1.000000</td>\n",
       "      <td>0.065934</td>\n",
       "      <td>0.000000</td>\n",
       "      <td>0.000000</td>\n",
       "      <td>0.000000</td>\n",
       "      <td>0.062662</td>\n",
       "      <td>0.000000</td>\n",
       "    </tr>\n",
       "    <tr>\n",
       "      <th>47731.0</th>\n",
       "      <td>0.175620</td>\n",
       "      <td>0.015487</td>\n",
       "      <td>0.0</td>\n",
       "      <td>0.015567</td>\n",
       "      <td>0.100926</td>\n",
       "      <td>0.001458</td>\n",
       "      <td>0.0</td>\n",
       "      <td>0.314286</td>\n",
       "      <td>1.000000</td>\n",
       "      <td>0.043956</td>\n",
       "      <td>0.000000</td>\n",
       "      <td>0.000000</td>\n",
       "      <td>0.000000</td>\n",
       "      <td>0.303783</td>\n",
       "      <td>0.000000</td>\n",
       "    </tr>\n",
       "    <tr>\n",
       "      <th>64801.0</th>\n",
       "      <td>0.636745</td>\n",
       "      <td>0.409239</td>\n",
       "      <td>0.0</td>\n",
       "      <td>0.307780</td>\n",
       "      <td>0.258461</td>\n",
       "      <td>0.371723</td>\n",
       "      <td>0.0</td>\n",
       "      <td>0.371429</td>\n",
       "      <td>1.000000</td>\n",
       "      <td>0.000000</td>\n",
       "      <td>0.598921</td>\n",
       "      <td>0.025021</td>\n",
       "      <td>0.319681</td>\n",
       "      <td>0.390702</td>\n",
       "      <td>1.000000</td>\n",
       "    </tr>\n",
       "  </tbody>\n",
       "</table>\n",
       "</div>"
      ],
      "text/plain": [
       "           arpu_6  offnet_mou_8  roam_og_mou_8  loc_og_mou_8  loc_ic_mou_8  \\\n",
       "id                                                                           \n",
       "57621.0  0.804855      0.038620            0.0      0.143486      0.136575   \n",
       "39559.0  0.369385      0.283475            0.0      0.143955      0.119210   \n",
       "41415.0  0.462911      0.235446            0.0      0.022799      0.025133   \n",
       "47731.0  0.175620      0.015487            0.0      0.015567      0.100926   \n",
       "64801.0  0.636745      0.409239            0.0      0.307780      0.258461   \n",
       "\n",
       "         std_ic_mou_8  spl_ic_mou_8  total_rech_num_8  date_of_last_rech_8  \\\n",
       "id                                                                           \n",
       "57621.0      0.132088           0.0          0.400000             0.935484   \n",
       "39559.0      0.057683           0.0          0.314286             0.967742   \n",
       "41415.0      0.034524           0.0          0.914286             1.000000   \n",
       "47731.0      0.001458           0.0          0.314286             1.000000   \n",
       "64801.0      0.371723           0.0          0.371429             1.000000   \n",
       "\n",
       "         last_day_rch_amt_8  av_rech_amt_data_8  vol_2g_mb_8  arpu_3g_8  \\\n",
       "id                                                                        \n",
       "57621.0            0.065934            0.000000     0.000000   0.000000   \n",
       "39559.0            0.000000            0.483813     0.007837   0.000021   \n",
       "41415.0            0.065934            0.000000     0.000000   0.000000   \n",
       "47731.0            0.043956            0.000000     0.000000   0.000000   \n",
       "64801.0            0.000000            0.598921     0.025021   0.319681   \n",
       "\n",
       "              aon  aug_vbc_3g  \n",
       "id                             \n",
       "57621.0  0.138897    0.000000  \n",
       "39559.0  0.079700    0.087873  \n",
       "41415.0  0.062662    0.000000  \n",
       "47731.0  0.303783    0.000000  \n",
       "64801.0  0.390702    1.000000  "
      ]
     },
     "execution_count": 115,
     "metadata": {},
     "output_type": "execute_result"
    }
   ],
   "source": [
    "X_test_lr = X_test[col]\n",
    "X_test_lr.head()"
   ]
  },
  {
   "cell_type": "code",
   "execution_count": 116,
   "id": "c8d10185",
   "metadata": {},
   "outputs": [],
   "source": [
    "X_test_sm = sm.add_constant(X_test_lr)\n"
   ]
  },
  {
   "cell_type": "code",
   "execution_count": 117,
   "id": "b819aabd",
   "metadata": {},
   "outputs": [],
   "source": [
    "y_test_pred = res.predict(X_test_sm)"
   ]
  },
  {
   "cell_type": "code",
   "execution_count": 118,
   "id": "fe6bd0b9",
   "metadata": {},
   "outputs": [
    {
     "data": {
      "text/plain": [
       "dtype('int64')"
      ]
     },
     "execution_count": 118,
     "metadata": {},
     "output_type": "execute_result"
    }
   ],
   "source": [
    "y_test.dtype"
   ]
  },
  {
   "cell_type": "code",
   "execution_count": 119,
   "id": "714c3b56",
   "metadata": {},
   "outputs": [],
   "source": [
    "y_test.reset_index(drop=True, inplace=True)\n",
    "y_test_pred.reset_index(drop=True, inplace=True)"
   ]
  },
  {
   "cell_type": "code",
   "execution_count": 120,
   "id": "4e4ceeca",
   "metadata": {},
   "outputs": [
    {
     "data": {
      "text/plain": [
       "dtype('int64')"
      ]
     },
     "execution_count": 120,
     "metadata": {},
     "output_type": "execute_result"
    }
   ],
   "source": [
    "y_test.dtype"
   ]
  },
  {
   "cell_type": "code",
   "execution_count": 121,
   "id": "a9f96eee",
   "metadata": {},
   "outputs": [],
   "source": [
    "y_pred_final = pd.concat([y_test,y_test_pred],axis=1)"
   ]
  },
  {
   "cell_type": "code",
   "execution_count": 122,
   "id": "ba8beed8",
   "metadata": {},
   "outputs": [
    {
     "name": "stdout",
     "output_type": "stream",
     "text": [
      "<class 'pandas.core.frame.DataFrame'>\n",
      "RangeIndex: 14000 entries, 0 to 13999\n",
      "Data columns (total 2 columns):\n",
      " #   Column             Non-Null Count  Dtype  \n",
      "---  ------             --------------  -----  \n",
      " 0   churn_probability  14000 non-null  int64  \n",
      " 1   0                  14000 non-null  float64\n",
      "dtypes: float64(1), int64(1)\n",
      "memory usage: 218.9 KB\n"
     ]
    }
   ],
   "source": [
    "y_pred_final.info()"
   ]
  },
  {
   "cell_type": "code",
   "execution_count": 123,
   "id": "c69252b2",
   "metadata": {},
   "outputs": [],
   "source": [
    "y_pred_final= y_pred_final.rename(columns={ 0 : 'Churn_Prob'})"
   ]
  },
  {
   "cell_type": "code",
   "execution_count": 124,
   "id": "827ec562",
   "metadata": {},
   "outputs": [
    {
     "data": {
      "text/html": [
       "<div>\n",
       "<style scoped>\n",
       "    .dataframe tbody tr th:only-of-type {\n",
       "        vertical-align: middle;\n",
       "    }\n",
       "\n",
       "    .dataframe tbody tr th {\n",
       "        vertical-align: top;\n",
       "    }\n",
       "\n",
       "    .dataframe thead th {\n",
       "        text-align: right;\n",
       "    }\n",
       "</style>\n",
       "<table border=\"1\" class=\"dataframe\">\n",
       "  <thead>\n",
       "    <tr style=\"text-align: right;\">\n",
       "      <th></th>\n",
       "      <th>churn_probability</th>\n",
       "      <th>Churn_Prob</th>\n",
       "    </tr>\n",
       "  </thead>\n",
       "  <tbody>\n",
       "    <tr>\n",
       "      <th>0</th>\n",
       "      <td>0</td>\n",
       "      <td>0.060655</td>\n",
       "    </tr>\n",
       "    <tr>\n",
       "      <th>1</th>\n",
       "      <td>0</td>\n",
       "      <td>0.009524</td>\n",
       "    </tr>\n",
       "    <tr>\n",
       "      <th>2</th>\n",
       "      <td>0</td>\n",
       "      <td>0.078758</td>\n",
       "    </tr>\n",
       "    <tr>\n",
       "      <th>3</th>\n",
       "      <td>0</td>\n",
       "      <td>0.049756</td>\n",
       "    </tr>\n",
       "    <tr>\n",
       "      <th>4</th>\n",
       "      <td>0</td>\n",
       "      <td>0.000182</td>\n",
       "    </tr>\n",
       "  </tbody>\n",
       "</table>\n",
       "</div>"
      ],
      "text/plain": [
       "   churn_probability  Churn_Prob\n",
       "0                  0    0.060655\n",
       "1                  0    0.009524\n",
       "2                  0    0.078758\n",
       "3                  0    0.049756\n",
       "4                  0    0.000182"
      ]
     },
     "execution_count": 124,
     "metadata": {},
     "output_type": "execute_result"
    }
   ],
   "source": [
    "# Let's see the head of y_pred_final\n",
    "y_pred_final.head()"
   ]
  },
  {
   "cell_type": "code",
   "execution_count": 125,
   "id": "d362bb7d",
   "metadata": {},
   "outputs": [],
   "source": [
    "y_pred_final['final_predicted'] = y_pred_final.Churn_Prob.map(lambda x: 1 if x > 0.5 else 0)"
   ]
  },
  {
   "cell_type": "code",
   "execution_count": 126,
   "id": "55fd1200",
   "metadata": {},
   "outputs": [
    {
     "data": {
      "text/html": [
       "<div>\n",
       "<style scoped>\n",
       "    .dataframe tbody tr th:only-of-type {\n",
       "        vertical-align: middle;\n",
       "    }\n",
       "\n",
       "    .dataframe tbody tr th {\n",
       "        vertical-align: top;\n",
       "    }\n",
       "\n",
       "    .dataframe thead th {\n",
       "        text-align: right;\n",
       "    }\n",
       "</style>\n",
       "<table border=\"1\" class=\"dataframe\">\n",
       "  <thead>\n",
       "    <tr style=\"text-align: right;\">\n",
       "      <th></th>\n",
       "      <th>churn_probability</th>\n",
       "      <th>Churn_Prob</th>\n",
       "      <th>final_predicted</th>\n",
       "    </tr>\n",
       "  </thead>\n",
       "  <tbody>\n",
       "    <tr>\n",
       "      <th>0</th>\n",
       "      <td>0</td>\n",
       "      <td>0.060655</td>\n",
       "      <td>0</td>\n",
       "    </tr>\n",
       "    <tr>\n",
       "      <th>1</th>\n",
       "      <td>0</td>\n",
       "      <td>0.009524</td>\n",
       "      <td>0</td>\n",
       "    </tr>\n",
       "    <tr>\n",
       "      <th>2</th>\n",
       "      <td>0</td>\n",
       "      <td>0.078758</td>\n",
       "      <td>0</td>\n",
       "    </tr>\n",
       "    <tr>\n",
       "      <th>3</th>\n",
       "      <td>0</td>\n",
       "      <td>0.049756</td>\n",
       "      <td>0</td>\n",
       "    </tr>\n",
       "    <tr>\n",
       "      <th>4</th>\n",
       "      <td>0</td>\n",
       "      <td>0.000182</td>\n",
       "      <td>0</td>\n",
       "    </tr>\n",
       "  </tbody>\n",
       "</table>\n",
       "</div>"
      ],
      "text/plain": [
       "   churn_probability  Churn_Prob  final_predicted\n",
       "0                  0    0.060655                0\n",
       "1                  0    0.009524                0\n",
       "2                  0    0.078758                0\n",
       "3                  0    0.049756                0\n",
       "4                  0    0.000182                0"
      ]
     },
     "execution_count": 126,
     "metadata": {},
     "output_type": "execute_result"
    }
   ],
   "source": [
    "y_pred_final.head()"
   ]
  },
  {
   "cell_type": "code",
   "execution_count": 127,
   "id": "92626375",
   "metadata": {},
   "outputs": [
    {
     "name": "stdout",
     "output_type": "stream",
     "text": [
      "<class 'pandas.core.frame.DataFrame'>\n",
      "RangeIndex: 14000 entries, 0 to 13999\n",
      "Data columns (total 3 columns):\n",
      " #   Column             Non-Null Count  Dtype  \n",
      "---  ------             --------------  -----  \n",
      " 0   churn_probability  14000 non-null  int64  \n",
      " 1   Churn_Prob         14000 non-null  float64\n",
      " 2   final_predicted    14000 non-null  int64  \n",
      "dtypes: float64(1), int64(2)\n",
      "memory usage: 328.2 KB\n"
     ]
    }
   ],
   "source": [
    "y_pred_final.info()"
   ]
  },
  {
   "cell_type": "code",
   "execution_count": 128,
   "id": "d94a5d76",
   "metadata": {},
   "outputs": [
    {
     "data": {
      "text/plain": [
       "0.9159285714285714"
      ]
     },
     "execution_count": 128,
     "metadata": {},
     "output_type": "execute_result"
    }
   ],
   "source": [
    "metrics.accuracy_score(y_pred_final.churn_probability, y_pred_final.final_predicted)"
   ]
  },
  {
   "cell_type": "code",
   "execution_count": 129,
   "id": "7330b5e7",
   "metadata": {},
   "outputs": [
    {
     "data": {
      "text/plain": [
       "array([[12372,   206],\n",
       "       [  971,   451]], dtype=int64)"
      ]
     },
     "execution_count": 129,
     "metadata": {},
     "output_type": "execute_result"
    }
   ],
   "source": [
    "confusion2 = metrics.confusion_matrix(y_pred_final.churn_probability, y_pred_final.final_predicted )\n",
    "confusion2"
   ]
  },
  {
   "cell_type": "code",
   "execution_count": 130,
   "id": "7eeec89b",
   "metadata": {},
   "outputs": [],
   "source": [
    "TP = confusion2[1,1] # true positive \n",
    "TN = confusion2[0,0] # true negatives\n",
    "FP = confusion2[0,1] # false positives\n",
    "FN = confusion2[1,0] # false negatives"
   ]
  },
  {
   "cell_type": "code",
   "execution_count": 131,
   "id": "b6d1e80f",
   "metadata": {},
   "outputs": [
    {
     "data": {
      "text/plain": [
       "0.3171589310829817"
      ]
     },
     "execution_count": 131,
     "metadata": {},
     "output_type": "execute_result"
    }
   ],
   "source": [
    "# Let's see the sensitivity of our logistic regression model\n",
    "TP / float(TP+FN)"
   ]
  },
  {
   "cell_type": "code",
   "execution_count": 132,
   "id": "08fc0b26",
   "metadata": {},
   "outputs": [
    {
     "data": {
      "text/plain": [
       "0.9836221974876769"
      ]
     },
     "execution_count": 132,
     "metadata": {},
     "output_type": "execute_result"
    }
   ],
   "source": [
    "# Let us calculate specificity\n",
    "TN / float(TN+FP)"
   ]
  },
  {
   "cell_type": "code",
   "execution_count": 133,
   "id": "9225b520",
   "metadata": {},
   "outputs": [],
   "source": [
    "from sklearn.decomposition import PCA"
   ]
  },
  {
   "cell_type": "code",
   "execution_count": 134,
   "id": "2a3ef05e",
   "metadata": {},
   "outputs": [],
   "source": [
    "pca = PCA(random_state=42)"
   ]
  },
  {
   "cell_type": "code",
   "execution_count": 135,
   "id": "5426852b",
   "metadata": {},
   "outputs": [
    {
     "data": {
      "text/plain": [
       "PCA(random_state=42)"
      ]
     },
     "execution_count": 135,
     "metadata": {},
     "output_type": "execute_result"
    }
   ],
   "source": [
    "pca.fit(X_train)"
   ]
  },
  {
   "cell_type": "code",
   "execution_count": 136,
   "id": "746a212e",
   "metadata": {},
   "outputs": [
    {
     "data": {
      "text/plain": [
       "array([[ 6.09109241e-02,  6.58277367e-02,  6.45481588e-02, ...,\n",
       "         9.49997499e-02,  9.15983018e-02,  8.44326073e-02],\n",
       "       [ 2.24125277e-01,  2.47105708e-01,  2.30741925e-01, ...,\n",
       "         2.10777319e-03,  4.36355237e-06, -2.45852325e-03],\n",
       "       [ 5.72317738e-02,  3.53360656e-02,  3.53913375e-02, ...,\n",
       "         8.67226440e-02,  9.16323247e-02,  9.05579280e-02],\n",
       "       ...,\n",
       "       [-0.00000000e+00, -6.81587760e-18,  3.03927911e-17, ...,\n",
       "        -1.07275268e-16,  1.71147136e-16, -7.03597458e-17],\n",
       "       [ 0.00000000e+00, -1.98551293e-17,  1.50285157e-17, ...,\n",
       "        -2.52337234e-17,  5.84919078e-17, -2.65258297e-17],\n",
       "       [ 0.00000000e+00, -3.53870335e-17,  1.39105747e-17, ...,\n",
       "        -3.01446935e-17,  3.80636695e-17,  3.59154088e-17]])"
      ]
     },
     "execution_count": 136,
     "metadata": {},
     "output_type": "execute_result"
    }
   ],
   "source": [
    "pca.components_"
   ]
  },
  {
   "cell_type": "code",
   "execution_count": 137,
   "id": "b3cbc01c",
   "metadata": {},
   "outputs": [
    {
     "data": {
      "text/plain": [
       "array([2.69492116e-01, 1.02471698e-01, 5.36806005e-02, 4.25113185e-02,\n",
       "       4.00405302e-02, 3.31705031e-02, 3.19265082e-02, 2.23854271e-02,\n",
       "       2.02170409e-02, 1.80097715e-02, 1.70903794e-02, 1.65705670e-02,\n",
       "       1.52180996e-02, 1.41066125e-02, 1.32431201e-02, 1.22588871e-02,\n",
       "       1.20383997e-02, 1.09623264e-02, 1.08162793e-02, 1.01580483e-02,\n",
       "       9.44759262e-03, 9.34593859e-03, 8.79678939e-03, 8.51589787e-03,\n",
       "       8.23568865e-03, 8.05620444e-03, 7.77788240e-03, 7.31538533e-03,\n",
       "       7.23168418e-03, 7.07981585e-03, 6.80704971e-03, 6.71202670e-03,\n",
       "       6.33735770e-03, 6.25940025e-03, 5.85048587e-03, 5.71686146e-03,\n",
       "       5.53955539e-03, 5.38860911e-03, 5.04398520e-03, 4.93769911e-03,\n",
       "       4.48305467e-03, 4.04640956e-03, 3.82005468e-03, 3.76182447e-03,\n",
       "       3.66875403e-03, 3.61954941e-03, 3.41438210e-03, 3.19266071e-03,\n",
       "       3.03461941e-03, 2.93519763e-03, 2.76095437e-03, 2.63835252e-03,\n",
       "       2.40763610e-03, 2.34788195e-03, 2.19913817e-03, 2.14349512e-03,\n",
       "       2.08615500e-03, 2.07140364e-03, 1.99120539e-03, 1.95649802e-03,\n",
       "       1.93474034e-03, 1.86852655e-03, 1.82950766e-03, 1.75750500e-03,\n",
       "       1.71777816e-03, 1.52676564e-03, 1.49454946e-03, 1.46686627e-03,\n",
       "       1.38137989e-03, 1.33662198e-03, 1.26274344e-03, 1.23879677e-03,\n",
       "       1.21821629e-03, 1.20224159e-03, 1.02887898e-03, 9.90392762e-04,\n",
       "       9.59771599e-04, 9.22706919e-04, 8.75327023e-04, 8.55413815e-04,\n",
       "       8.39483622e-04, 7.19894058e-04, 7.02135416e-04, 6.57424838e-04,\n",
       "       6.44817558e-04, 6.28255724e-04, 6.00873903e-04, 5.60184691e-04,\n",
       "       4.33808722e-04, 4.01739489e-04, 3.54504898e-04, 3.20516983e-04,\n",
       "       2.56938913e-04, 1.99597266e-04, 1.28050744e-04, 9.98108840e-05,\n",
       "       8.54196800e-05, 6.69106854e-05, 5.17906143e-05, 3.57415904e-05,\n",
       "       1.57839036e-33, 1.05613275e-33, 1.05613275e-33, 1.05613275e-33,\n",
       "       1.05613275e-33])"
      ]
     },
     "execution_count": 137,
     "metadata": {},
     "output_type": "execute_result"
    }
   ],
   "source": [
    "pca.explained_variance_ratio_"
   ]
  },
  {
   "cell_type": "code",
   "execution_count": 138,
   "id": "490f399b",
   "metadata": {},
   "outputs": [],
   "source": [
    "var_cumu = np.cumsum(pca.explained_variance_ratio_)"
   ]
  },
  {
   "cell_type": "code",
   "execution_count": 139,
   "id": "4a8f4e69",
   "metadata": {},
   "outputs": [
    {
     "data": {
      "image/png": "[encoded data removed]",
      "text/plain": [
       "<Figure size 864x576 with 1 Axes>"
      ]
     },
     "metadata": {
      "needs_background": "light"
     },
     "output_type": "display_data"
    }
   ],
   "source": [
    "fig = plt.figure(figsize=[12,8])\n",
    "plt.vlines(x=15, ymax=1, ymin=0, colors=\"r\", linestyles=\"--\")\n",
    "plt.hlines(y=0.95, xmax=30, xmin=0, colors=\"g\", linestyles=\"--\")\n",
    "plt.plot(var_cumu)\n",
    "plt.ylabel(\"Cumulative variance explained\")\n",
    "plt.show()"
   ]
  },
  {
   "cell_type": "code",
   "execution_count": 140,
   "id": "fbf5c867",
   "metadata": {},
   "outputs": [],
   "source": [
    "from sklearn.decomposition import IncrementalPCA"
   ]
  },
  {
   "cell_type": "code",
   "execution_count": 141,
   "id": "0e8a6ee3",
   "metadata": {},
   "outputs": [],
   "source": [
    "pca_final = IncrementalPCA(n_components=18)"
   ]
  },
  {
   "cell_type": "code",
   "execution_count": 142,
   "id": "447e36b1",
   "metadata": {},
   "outputs": [],
   "source": [
    "df_train_pca = pca_final.fit_transform(X_train)"
   ]
  },
  {
   "cell_type": "code",
   "execution_count": 143,
   "id": "757e280e",
   "metadata": {},
   "outputs": [
    {
     "data": {
      "text/plain": [
       "(55999, 18)"
      ]
     },
     "execution_count": 143,
     "metadata": {},
     "output_type": "execute_result"
    }
   ],
   "source": [
    "df_train_pca.shape"
   ]
  },
  {
   "cell_type": "code",
   "execution_count": 144,
   "id": "2b0f93e6",
   "metadata": {},
   "outputs": [],
   "source": [
    "corrmat = np.corrcoef(df_train_pca.transpose())"
   ]
  },
  {
   "cell_type": "code",
   "execution_count": 145,
   "id": "2e19de63",
   "metadata": {},
   "outputs": [
    {
     "data": {
      "text/plain": [
       "(18, 18)"
      ]
     },
     "execution_count": 145,
     "metadata": {},
     "output_type": "execute_result"
    }
   ],
   "source": [
    "corrmat.shape"
   ]
  },
  {
   "cell_type": "code",
   "execution_count": 146,
   "id": "1d04da07",
   "metadata": {},
   "outputs": [
    {
     "data": {
      "text/plain": [
       "<AxesSubplot:>"
      ]
     },
     "execution_count": 146,
     "metadata": {},
     "output_type": "execute_result"
    },
    {
     "data": {
      "image/png": "[encoded data removed]",
      "text/plain": [
       "<Figure size 1080x1080 with 2 Axes>"
      ]
     },
     "metadata": {
      "needs_background": "light"
     },
     "output_type": "display_data"
    }
   ],
   "source": [
    "plt.figure(figsize=[15,15])\n",
    "sns.heatmap(corrmat, annot=True)"
   ]
  },
  {
   "cell_type": "code",
   "execution_count": 147,
   "id": "c1c3f513",
   "metadata": {},
   "outputs": [
    {
     "data": {
      "text/plain": [
       "(14000, 18)"
      ]
     },
     "execution_count": 147,
     "metadata": {},
     "output_type": "execute_result"
    }
   ],
   "source": [
    "df_test_pca = pca_final.transform(X_test)\n",
    "df_test_pca.shape"
   ]
  },
  {
   "cell_type": "code",
   "execution_count": 148,
   "id": "ab39e0ee",
   "metadata": {},
   "outputs": [],
   "source": [
    "learner_pca = LogisticRegression()"
   ]
  },
  {
   "cell_type": "code",
   "execution_count": 149,
   "id": "daba01d6",
   "metadata": {},
   "outputs": [],
   "source": [
    "model_pca = learner_pca.fit(df_train_pca, y_train)"
   ]
  },
  {
   "cell_type": "code",
   "execution_count": 150,
   "id": "2084b990",
   "metadata": {},
   "outputs": [],
   "source": [
    "pred_probs_test = model_pca.predict_proba(df_test_pca)"
   ]
  },
  {
   "cell_type": "code",
   "execution_count": 151,
   "id": "75bc3ed9",
   "metadata": {},
   "outputs": [
    {
     "data": {
      "text/plain": [
       "'0.88'"
      ]
     },
     "execution_count": 151,
     "metadata": {},
     "output_type": "execute_result"
    }
   ],
   "source": [
    "\"{:2.2}\".format(metrics.roc_auc_score(y_test, pred_probs_test[:,1]))"
   ]
  },
  {
   "cell_type": "code",
   "execution_count": 152,
   "id": "2e6ac264",
   "metadata": {},
   "outputs": [
    {
     "data": {
      "text/plain": [
       "14000"
      ]
     },
     "execution_count": 152,
     "metadata": {},
     "output_type": "execute_result"
    }
   ],
   "source": [
    "len(pred_probs_test[:,1])"
   ]
  },
  {
   "cell_type": "code",
   "execution_count": 153,
   "id": "76669892",
   "metadata": {},
   "outputs": [
    {
     "data": {
      "text/html": [
       "<div>\n",
       "<style scoped>\n",
       "    .dataframe tbody tr th:only-of-type {\n",
       "        vertical-align: middle;\n",
       "    }\n",
       "\n",
       "    .dataframe tbody tr th {\n",
       "        vertical-align: top;\n",
       "    }\n",
       "\n",
       "    .dataframe thead th {\n",
       "        text-align: right;\n",
       "    }\n",
       "</style>\n",
       "<table border=\"1\" class=\"dataframe\">\n",
       "  <thead>\n",
       "    <tr style=\"text-align: right;\">\n",
       "      <th></th>\n",
       "      <th>Churn</th>\n",
       "      <th>Churn_Prob</th>\n",
       "      <th>CustID</th>\n",
       "    </tr>\n",
       "  </thead>\n",
       "  <tbody>\n",
       "    <tr>\n",
       "      <th>0</th>\n",
       "      <td>0</td>\n",
       "      <td>0.112759</td>\n",
       "      <td>0</td>\n",
       "    </tr>\n",
       "    <tr>\n",
       "      <th>1</th>\n",
       "      <td>0</td>\n",
       "      <td>0.005188</td>\n",
       "      <td>1</td>\n",
       "    </tr>\n",
       "    <tr>\n",
       "      <th>2</th>\n",
       "      <td>0</td>\n",
       "      <td>0.122570</td>\n",
       "      <td>2</td>\n",
       "    </tr>\n",
       "    <tr>\n",
       "      <th>3</th>\n",
       "      <td>0</td>\n",
       "      <td>0.076106</td>\n",
       "      <td>3</td>\n",
       "    </tr>\n",
       "    <tr>\n",
       "      <th>4</th>\n",
       "      <td>0</td>\n",
       "      <td>0.001812</td>\n",
       "      <td>4</td>\n",
       "    </tr>\n",
       "  </tbody>\n",
       "</table>\n",
       "</div>"
      ],
      "text/plain": [
       "   Churn  Churn_Prob  CustID\n",
       "0      0    0.112759       0\n",
       "1      0    0.005188       1\n",
       "2      0    0.122570       2\n",
       "3      0    0.076106       3\n",
       "4      0    0.001812       4"
      ]
     },
     "execution_count": 153,
     "metadata": {},
     "output_type": "execute_result"
    }
   ],
   "source": [
    "y_test_pred_final = pd.DataFrame({'Churn':y_test.values, 'Churn_Prob':pred_probs_test[:,1]})\n",
    "y_test_pred_final['CustID'] = y_test.index\n",
    "y_test_pred_final.head()"
   ]
  },
  {
   "cell_type": "code",
   "execution_count": 154,
   "id": "58000168",
   "metadata": {},
   "outputs": [],
   "source": [
    "y_test_pred_final['final_predicted'] = y_test_pred_final.Churn_Prob.map(lambda x: 1 if x > 0.5 else 0)"
   ]
  },
  {
   "cell_type": "code",
   "execution_count": 155,
   "id": "d6a03dc2",
   "metadata": {},
   "outputs": [
    {
     "data": {
      "text/html": [
       "<div>\n",
       "<style scoped>\n",
       "    .dataframe tbody tr th:only-of-type {\n",
       "        vertical-align: middle;\n",
       "    }\n",
       "\n",
       "    .dataframe tbody tr th {\n",
       "        vertical-align: top;\n",
       "    }\n",
       "\n",
       "    .dataframe thead th {\n",
       "        text-align: right;\n",
       "    }\n",
       "</style>\n",
       "<table border=\"1\" class=\"dataframe\">\n",
       "  <thead>\n",
       "    <tr style=\"text-align: right;\">\n",
       "      <th></th>\n",
       "      <th>Churn</th>\n",
       "      <th>Churn_Prob</th>\n",
       "      <th>CustID</th>\n",
       "      <th>final_predicted</th>\n",
       "    </tr>\n",
       "  </thead>\n",
       "  <tbody>\n",
       "    <tr>\n",
       "      <th>0</th>\n",
       "      <td>0</td>\n",
       "      <td>0.112759</td>\n",
       "      <td>0</td>\n",
       "      <td>0</td>\n",
       "    </tr>\n",
       "    <tr>\n",
       "      <th>1</th>\n",
       "      <td>0</td>\n",
       "      <td>0.005188</td>\n",
       "      <td>1</td>\n",
       "      <td>0</td>\n",
       "    </tr>\n",
       "    <tr>\n",
       "      <th>2</th>\n",
       "      <td>0</td>\n",
       "      <td>0.122570</td>\n",
       "      <td>2</td>\n",
       "      <td>0</td>\n",
       "    </tr>\n",
       "    <tr>\n",
       "      <th>3</th>\n",
       "      <td>0</td>\n",
       "      <td>0.076106</td>\n",
       "      <td>3</td>\n",
       "      <td>0</td>\n",
       "    </tr>\n",
       "    <tr>\n",
       "      <th>4</th>\n",
       "      <td>0</td>\n",
       "      <td>0.001812</td>\n",
       "      <td>4</td>\n",
       "      <td>0</td>\n",
       "    </tr>\n",
       "  </tbody>\n",
       "</table>\n",
       "</div>"
      ],
      "text/plain": [
       "   Churn  Churn_Prob  CustID  final_predicted\n",
       "0      0    0.112759       0                0\n",
       "1      0    0.005188       1                0\n",
       "2      0    0.122570       2                0\n",
       "3      0    0.076106       3                0\n",
       "4      0    0.001812       4                0"
      ]
     },
     "execution_count": 155,
     "metadata": {},
     "output_type": "execute_result"
    }
   ],
   "source": [
    "y_test_pred_final.head()"
   ]
  },
  {
   "cell_type": "code",
   "execution_count": 156,
   "id": "bcac159e",
   "metadata": {},
   "outputs": [
    {
     "data": {
      "text/plain": [
       "0.9117857142857143"
      ]
     },
     "execution_count": 156,
     "metadata": {},
     "output_type": "execute_result"
    }
   ],
   "source": [
    "metrics.accuracy_score(y_test_pred_final.Churn, y_test_pred_final.final_predicted)"
   ]
  },
  {
   "cell_type": "code",
   "execution_count": 157,
   "id": "d16a002a",
   "metadata": {},
   "outputs": [
    {
     "data": {
      "text/plain": [
       "array([[12366,   212],\n",
       "       [ 1023,   399]], dtype=int64)"
      ]
     },
     "execution_count": 157,
     "metadata": {},
     "output_type": "execute_result"
    }
   ],
   "source": [
    "confusion2 = metrics.confusion_matrix(y_test_pred_final.Churn, y_test_pred_final.final_predicted )\n",
    "confusion2"
   ]
  },
  {
   "cell_type": "code",
   "execution_count": 158,
   "id": "37fd3c80",
   "metadata": {},
   "outputs": [],
   "source": [
    "TP = confusion2[1,1] # true positive \n",
    "TN = confusion2[0,0] # true negatives\n",
    "FP = confusion2[0,1] # false positives\n",
    "FN = confusion2[1,0] # false negatives"
   ]
  },
  {
   "cell_type": "code",
   "execution_count": 159,
   "id": "766cbff0",
   "metadata": {},
   "outputs": [
    {
     "data": {
      "text/plain": [
       "0.2805907172995781"
      ]
     },
     "execution_count": 159,
     "metadata": {},
     "output_type": "execute_result"
    }
   ],
   "source": [
    "TP / float(TP+FN)"
   ]
  },
  {
   "cell_type": "code",
   "execution_count": 160,
   "id": "b12f32ee",
   "metadata": {},
   "outputs": [
    {
     "data": {
      "text/plain": [
       "0.9831451741135315"
      ]
     },
     "execution_count": 160,
     "metadata": {},
     "output_type": "execute_result"
    }
   ],
   "source": [
    "TN / float(TN+FP)"
   ]
  },
  {
   "cell_type": "code",
   "execution_count": 161,
   "id": "1c038e1f",
   "metadata": {},
   "outputs": [
    {
     "data": {
      "text/plain": [
       "(30000, 105)"
      ]
     },
     "execution_count": 161,
     "metadata": {},
     "output_type": "execute_result"
    }
   ],
   "source": [
    "test_df.shape"
   ]
  },
  {
   "cell_type": "code",
   "execution_count": 162,
   "id": "89afe79f",
   "metadata": {},
   "outputs": [],
   "source": [
    "test_df[test_df.columns] = scaler.transform(test_df[test_df.columns])"
   ]
  },
  {
   "cell_type": "code",
   "execution_count": 163,
   "metadata": {},
   "outputs": [],
   "source": [
    "col = X_train.columns[rfe.support_]"
   ]
  },
  {
   "cell_type": "code",
   "execution_count": 164,
   "id": "946c715c",
   "metadata": {},
   "outputs": [
    {
     "data": {
      "text/html": [
       "<div>\n",
       "<style scoped>\n",
       "    .dataframe tbody tr th:only-of-type {\n",
       "        vertical-align: middle;\n",
       "    }\n",
       "\n",
       "    .dataframe tbody tr th {\n",
       "        vertical-align: top;\n",
       "    }\n",
       "\n",
       "    .dataframe thead th {\n",
       "        text-align: right;\n",
       "    }\n",
       "</style>\n",
       "<table border=\"1\" class=\"dataframe\">\n",
       "  <thead>\n",
       "    <tr style=\"text-align: right;\">\n",
       "      <th></th>\n",
       "      <th>arpu_6</th>\n",
       "      <th>offnet_mou_8</th>\n",
       "      <th>roam_og_mou_8</th>\n",
       "      <th>loc_og_mou_8</th>\n",
       "      <th>loc_ic_mou_8</th>\n",
       "      <th>std_ic_mou_8</th>\n",
       "      <th>spl_ic_mou_8</th>\n",
       "      <th>total_rech_num_8</th>\n",
       "      <th>date_of_last_rech_8</th>\n",
       "      <th>last_day_rch_amt_8</th>\n",
       "      <th>av_rech_amt_data_8</th>\n",
       "      <th>vol_2g_mb_8</th>\n",
       "      <th>arpu_3g_8</th>\n",
       "      <th>aon</th>\n",
       "      <th>aug_vbc_3g</th>\n",
       "    </tr>\n",
       "    <tr>\n",
       "      <th>id</th>\n",
       "      <th></th>\n",
       "      <th></th>\n",
       "      <th></th>\n",
       "      <th></th>\n",
       "      <th></th>\n",
       "      <th></th>\n",
       "      <th></th>\n",
       "      <th></th>\n",
       "      <th></th>\n",
       "      <th></th>\n",
       "      <th></th>\n",
       "      <th></th>\n",
       "      <th></th>\n",
       "      <th></th>\n",
       "      <th></th>\n",
       "    </tr>\n",
       "  </thead>\n",
       "  <tbody>\n",
       "    <tr>\n",
       "      <th>69999</th>\n",
       "      <td>0.065617</td>\n",
       "      <td>0.023341</td>\n",
       "      <td>0.000000</td>\n",
       "      <td>0.027012</td>\n",
       "      <td>0.028103</td>\n",
       "      <td>0.010913</td>\n",
       "      <td>0.573529</td>\n",
       "      <td>0.114286</td>\n",
       "      <td>0.774194</td>\n",
       "      <td>0.000000</td>\n",
       "      <td>0.0</td>\n",
       "      <td>0.0</td>\n",
       "      <td>0.0</td>\n",
       "      <td>0.434306</td>\n",
       "      <td>0.000000</td>\n",
       "    </tr>\n",
       "    <tr>\n",
       "      <th>70000</th>\n",
       "      <td>0.295776</td>\n",
       "      <td>0.264664</td>\n",
       "      <td>0.000000</td>\n",
       "      <td>0.364485</td>\n",
       "      <td>0.167167</td>\n",
       "      <td>0.000000</td>\n",
       "      <td>0.000000</td>\n",
       "      <td>0.142857</td>\n",
       "      <td>0.774194</td>\n",
       "      <td>0.000000</td>\n",
       "      <td>0.0</td>\n",
       "      <td>0.0</td>\n",
       "      <td>0.0</td>\n",
       "      <td>0.677159</td>\n",
       "      <td>0.000000</td>\n",
       "    </tr>\n",
       "    <tr>\n",
       "      <th>70001</th>\n",
       "      <td>0.235556</td>\n",
       "      <td>0.030183</td>\n",
       "      <td>0.263827</td>\n",
       "      <td>0.000000</td>\n",
       "      <td>0.000000</td>\n",
       "      <td>0.000000</td>\n",
       "      <td>0.000000</td>\n",
       "      <td>0.142857</td>\n",
       "      <td>0.903226</td>\n",
       "      <td>0.000000</td>\n",
       "      <td>0.0</td>\n",
       "      <td>0.0</td>\n",
       "      <td>0.0</td>\n",
       "      <td>0.025700</td>\n",
       "      <td>0.428489</td>\n",
       "    </tr>\n",
       "    <tr>\n",
       "      <th>70002</th>\n",
       "      <td>0.031101</td>\n",
       "      <td>0.016090</td>\n",
       "      <td>0.000000</td>\n",
       "      <td>0.020982</td>\n",
       "      <td>0.474164</td>\n",
       "      <td>0.022203</td>\n",
       "      <td>0.000000</td>\n",
       "      <td>0.057143</td>\n",
       "      <td>0.774194</td>\n",
       "      <td>0.000000</td>\n",
       "      <td>0.0</td>\n",
       "      <td>0.0</td>\n",
       "      <td>0.0</td>\n",
       "      <td>0.304938</td>\n",
       "      <td>0.000000</td>\n",
       "    </tr>\n",
       "    <tr>\n",
       "      <th>70003</th>\n",
       "      <td>0.219138</td>\n",
       "      <td>0.049697</td>\n",
       "      <td>0.000000</td>\n",
       "      <td>0.023414</td>\n",
       "      <td>0.015706</td>\n",
       "      <td>0.355756</td>\n",
       "      <td>0.000000</td>\n",
       "      <td>0.228571</td>\n",
       "      <td>0.967742</td>\n",
       "      <td>0.285714</td>\n",
       "      <td>0.0</td>\n",
       "      <td>0.0</td>\n",
       "      <td>0.0</td>\n",
       "      <td>0.079122</td>\n",
       "      <td>0.000000</td>\n",
       "    </tr>\n",
       "  </tbody>\n",
       "</table>\n",
       "</div>"
      ],
      "text/plain": [
       "         arpu_6  offnet_mou_8  roam_og_mou_8  loc_og_mou_8  loc_ic_mou_8  \\\n",
       "id                                                                         \n",
       "69999  0.065617      0.023341       0.000000      0.027012      0.028103   \n",
       "70000  0.295776      0.264664       0.000000      0.364485      0.167167   \n",
       "70001  0.235556      0.030183       0.263827      0.000000      0.000000   \n",
       "70002  0.031101      0.016090       0.000000      0.020982      0.474164   \n",
       "70003  0.219138      0.049697       0.000000      0.023414      0.015706   \n",
       "\n",
       "       std_ic_mou_8  spl_ic_mou_8  total_rech_num_8  date_of_last_rech_8  \\\n",
       "id                                                                         \n",
       "69999      0.010913      0.573529          0.114286             0.774194   \n",
       "70000      0.000000      0.000000          0.142857             0.774194   \n",
       "70001      0.000000      0.000000          0.142857             0.903226   \n",
       "70002      0.022203      0.000000          0.057143             0.774194   \n",
       "70003      0.355756      0.000000          0.228571             0.967742   \n",
       "\n",
       "       last_day_rch_amt_8  av_rech_amt_data_8  vol_2g_mb_8  arpu_3g_8  \\\n",
       "id                                                                      \n",
       "69999            0.000000                 0.0          0.0        0.0   \n",
       "70000            0.000000                 0.0          0.0        0.0   \n",
       "70001            0.000000                 0.0          0.0        0.0   \n",
       "70002            0.000000                 0.0          0.0        0.0   \n",
       "70003            0.285714                 0.0          0.0        0.0   \n",
       "\n",
       "            aon  aug_vbc_3g  \n",
       "id                           \n",
       "69999  0.434306    0.000000  \n",
       "70000  0.677159    0.000000  \n",
       "70001  0.025700    0.428489  \n",
       "70002  0.304938    0.000000  \n",
       "70003  0.079122    0.000000  "
      ]
     },
     "execution_count": 164,
     "metadata": {},
     "output_type": "execute_result"
    }
   ],
   "source": [
    "test_df_lr = test_df[col]\n",
    "test_df_lr.head()"
   ]
  },
  {
   "cell_type": "code",
   "execution_count": 165,
   "id": "fbff696b",
   "metadata": {},
   "outputs": [
    {
     "data": {
      "text/plain": [
       "(30000, 15)"
      ]
     },
     "execution_count": 165,
     "metadata": {},
     "output_type": "execute_result"
    }
   ],
   "source": [
    "test_df_lr.shape"
   ]
  },
  {
   "cell_type": "code",
   "execution_count": 166,
   "id": "85884c18",
   "metadata": {},
   "outputs": [],
   "source": [
    "test_df_lr = sm.add_constant(test_df_lr)"
   ]
  },
  {
   "cell_type": "code",
   "execution_count": 167,
   "id": "05734b77",
   "metadata": {},
   "outputs": [],
   "source": [
    "test_df_pred = res.predict(test_df_lr)"
   ]
  },
  {
   "cell_type": "code",
   "execution_count": 168,
   "id": "9d21ca84",
   "metadata": {},
   "outputs": [
    {
     "data": {
      "text/plain": [
       "pandas.core.series.Series"
      ]
     },
     "execution_count": 168,
     "metadata": {},
     "output_type": "execute_result"
    }
   ],
   "source": [
    "type(test_df_pred)"
   ]
  },
  {
   "cell_type": "code",
   "execution_count": 169,
   "id": "f96800f5",
   "metadata": {},
   "outputs": [
    {
     "data": {
      "text/plain": [
       "id\n",
       "69999    0.012519\n",
       "70000    0.008955\n",
       "70001    0.352380\n",
       "70002    0.001021\n",
       "70003    0.048951\n",
       "dtype: float64"
      ]
     },
     "execution_count": 169,
     "metadata": {},
     "output_type": "execute_result"
    }
   ],
   "source": [
    "test_df_pred.head()"
   ]
  },
  {
   "cell_type": "code",
   "execution_count": 170,
   "id": "bdf928ee",
   "metadata": {},
   "outputs": [
    {
     "data": {
      "text/plain": [
       "id\n",
       "69999    0.012519\n",
       "70000    0.008955\n",
       "70001    0.352380\n",
       "70002    0.001021\n",
       "70003    0.048951\n",
       "dtype: float64"
      ]
     },
     "execution_count": 170,
     "metadata": {},
     "output_type": "execute_result"
    }
   ],
   "source": [
    "test_df_pred.head()\n"
   ]
  },
  {
   "cell_type": "code",
   "execution_count": 171,
   "id": "debe71b2",
   "metadata": {},
   "outputs": [],
   "source": [
    "test_df_pred =  test_df_pred.reset_index()"
   ]
  },
  {
   "cell_type": "code",
   "execution_count": 172,
   "id": "17cc5ceb",
   "metadata": {},
   "outputs": [],
   "source": [
    "test_df_pred.columns = ['id','Churn_Prob']"
   ]
  },
  {
   "cell_type": "code",
   "execution_count": 173,
   "id": "46775e9c",
   "metadata": {},
   "outputs": [
    {
     "data": {
      "text/plain": [
       "0.012519    1\n",
       "0.009226    1\n",
       "0.116175    1\n",
       "0.032489    1\n",
       "0.006718    1\n",
       "           ..\n",
       "0.273784    1\n",
       "0.184940    1\n",
       "0.228362    1\n",
       "0.100524    1\n",
       "0.011325    1\n",
       "Name: Churn_Prob, Length: 30000, dtype: int64"
      ]
     },
     "execution_count": 173,
     "metadata": {},
     "output_type": "execute_result"
    }
   ],
   "source": [
    "test_df_pred['Churn_Prob'].value_counts()"
   ]
  },
  {
   "cell_type": "code",
   "execution_count": 187,
   "id": "a16b0b82",
   "metadata": {},
   "outputs": [],
   "source": [
    "test_df_pred['churn_probability'] = test_df_pred['Churn_Prob'].map(lambda x: 1 if x > 0.50 else 0)"
   ]
  },
  {
   "cell_type": "code",
   "execution_count": 188,
   "id": "418aaf79",
   "metadata": {},
   "outputs": [
    {
     "data": {
      "text/html": [
       "<div>\n",
       "<style scoped>\n",
       "    .dataframe tbody tr th:only-of-type {\n",
       "        vertical-align: middle;\n",
       "    }\n",
       "\n",
       "    .dataframe tbody tr th {\n",
       "        vertical-align: top;\n",
       "    }\n",
       "\n",
       "    .dataframe thead th {\n",
       "        text-align: right;\n",
       "    }\n",
       "</style>\n",
       "<table border=\"1\" class=\"dataframe\">\n",
       "  <thead>\n",
       "    <tr style=\"text-align: right;\">\n",
       "      <th></th>\n",
       "      <th>id</th>\n",
       "      <th>Churn_Prob</th>\n",
       "      <th>churn_probability</th>\n",
       "    </tr>\n",
       "  </thead>\n",
       "  <tbody>\n",
       "    <tr>\n",
       "      <th>0</th>\n",
       "      <td>69999</td>\n",
       "      <td>0.012519</td>\n",
       "      <td>0</td>\n",
       "    </tr>\n",
       "    <tr>\n",
       "      <th>1</th>\n",
       "      <td>70000</td>\n",
       "      <td>0.008955</td>\n",
       "      <td>0</td>\n",
       "    </tr>\n",
       "    <tr>\n",
       "      <th>2</th>\n",
       "      <td>70001</td>\n",
       "      <td>0.352380</td>\n",
       "      <td>0</td>\n",
       "    </tr>\n",
       "    <tr>\n",
       "      <th>3</th>\n",
       "      <td>70002</td>\n",
       "      <td>0.001021</td>\n",
       "      <td>0</td>\n",
       "    </tr>\n",
       "    <tr>\n",
       "      <th>4</th>\n",
       "      <td>70003</td>\n",
       "      <td>0.048951</td>\n",
       "      <td>0</td>\n",
       "    </tr>\n",
       "  </tbody>\n",
       "</table>\n",
       "</div>"
      ],
      "text/plain": [
       "      id  Churn_Prob  churn_probability\n",
       "0  69999    0.012519                  0\n",
       "1  70000    0.008955                  0\n",
       "2  70001    0.352380                  0\n",
       "3  70002    0.001021                  0\n",
       "4  70003    0.048951                  0"
      ]
     },
     "execution_count": 188,
     "metadata": {},
     "output_type": "execute_result"
    }
   ],
   "source": [
    "test_df_pred.head()"
   ]
  },
  {
   "cell_type": "code",
   "execution_count": 189,
   "id": "4dfabd4d",
   "metadata": {},
   "outputs": [],
   "source": [
    "sample_csv = pd.read_csv('sample.csv')"
   ]
  },
  {
   "cell_type": "code",
   "execution_count": 190,
   "id": "6109f821",
   "metadata": {},
   "outputs": [
    {
     "data": {
      "text/html": [
       "<div>\n",
       "<style scoped>\n",
       "    .dataframe tbody tr th:only-of-type {\n",
       "        vertical-align: middle;\n",
       "    }\n",
       "\n",
       "    .dataframe tbody tr th {\n",
       "        vertical-align: top;\n",
       "    }\n",
       "\n",
       "    .dataframe thead th {\n",
       "        text-align: right;\n",
       "    }\n",
       "</style>\n",
       "<table border=\"1\" class=\"dataframe\">\n",
       "  <thead>\n",
       "    <tr style=\"text-align: right;\">\n",
       "      <th></th>\n",
       "      <th>id</th>\n",
       "      <th>churn_probability</th>\n",
       "    </tr>\n",
       "  </thead>\n",
       "  <tbody>\n",
       "    <tr>\n",
       "      <th>0</th>\n",
       "      <td>69999</td>\n",
       "      <td>0</td>\n",
       "    </tr>\n",
       "    <tr>\n",
       "      <th>1</th>\n",
       "      <td>70000</td>\n",
       "      <td>0</td>\n",
       "    </tr>\n",
       "    <tr>\n",
       "      <th>2</th>\n",
       "      <td>70001</td>\n",
       "      <td>0</td>\n",
       "    </tr>\n",
       "    <tr>\n",
       "      <th>3</th>\n",
       "      <td>70002</td>\n",
       "      <td>0</td>\n",
       "    </tr>\n",
       "    <tr>\n",
       "      <th>4</th>\n",
       "      <td>70003</td>\n",
       "      <td>0</td>\n",
       "    </tr>\n",
       "  </tbody>\n",
       "</table>\n",
       "</div>"
      ],
      "text/plain": [
       "      id  churn_probability\n",
       "0  69999                  0\n",
       "1  70000                  0\n",
       "2  70001                  0\n",
       "3  70002                  0\n",
       "4  70003                  0"
      ]
     },
     "execution_count": 190,
     "metadata": {},
     "output_type": "execute_result"
    }
   ],
   "source": [
    "sample_csv.head()"
   ]
  },
  {
   "cell_type": "code",
   "execution_count": 191,
   "id": "53828fa5",
   "metadata": {},
   "outputs": [
    {
     "data": {
      "text/html": [
       "<div>\n",
       "<style scoped>\n",
       "    .dataframe tbody tr th:only-of-type {\n",
       "        vertical-align: middle;\n",
       "    }\n",
       "\n",
       "    .dataframe tbody tr th {\n",
       "        vertical-align: top;\n",
       "    }\n",
       "\n",
       "    .dataframe thead th {\n",
       "        text-align: right;\n",
       "    }\n",
       "</style>\n",
       "<table border=\"1\" class=\"dataframe\">\n",
       "  <thead>\n",
       "    <tr style=\"text-align: right;\">\n",
       "      <th></th>\n",
       "      <th>id</th>\n",
       "    </tr>\n",
       "  </thead>\n",
       "  <tbody>\n",
       "    <tr>\n",
       "      <th>0</th>\n",
       "      <td>69999</td>\n",
       "    </tr>\n",
       "    <tr>\n",
       "      <th>1</th>\n",
       "      <td>70000</td>\n",
       "    </tr>\n",
       "    <tr>\n",
       "      <th>2</th>\n",
       "      <td>70001</td>\n",
       "    </tr>\n",
       "    <tr>\n",
       "      <th>3</th>\n",
       "      <td>70002</td>\n",
       "    </tr>\n",
       "    <tr>\n",
       "      <th>4</th>\n",
       "      <td>70003</td>\n",
       "    </tr>\n",
       "  </tbody>\n",
       "</table>\n",
       "</div>"
      ],
      "text/plain": [
       "      id\n",
       "0  69999\n",
       "1  70000\n",
       "2  70001\n",
       "3  70002\n",
       "4  70003"
      ]
     },
     "execution_count": 191,
     "metadata": {},
     "output_type": "execute_result"
    }
   ],
   "source": [
    "sample_csv.pop('churn_probability')\n",
    "sample_csv.head()"
   ]
  },
  {
   "cell_type": "code",
   "execution_count": 192,
   "id": "353a3758",
   "metadata": {},
   "outputs": [
    {
     "data": {
      "text/plain": [
       "(30000, 1)"
      ]
     },
     "execution_count": 192,
     "metadata": {},
     "output_type": "execute_result"
    }
   ],
   "source": [
    "sample_csv.shape"
   ]
  },
  {
   "cell_type": "code",
   "execution_count": 193,
   "id": "9be5e495",
   "metadata": {},
   "outputs": [],
   "source": [
    "result_list = []\n",
    "\n",
    "id = list(sample_csv['id'])\n",
    "churn_prob = list(test_df_pred['churn_probability'])"
   ]
  },
  {
   "cell_type": "code",
   "execution_count": 194,
   "id": "fba73e9b",
   "metadata": {},
   "outputs": [],
   "source": [
    "for i in range(len(id)):\n",
    "    result_list.append([id[i],churn_prob[i]])"
   ]
  },
  {
   "cell_type": "code",
   "execution_count": 195,
   "id": "608a78c0",
   "metadata": {},
   "outputs": [
    {
     "data": {
      "text/plain": [
       "[[69999, 0],\n",
       " [70000, 0],\n",
       " [70001, 0],\n",
       " [70002, 0],\n",
       " [70003, 0],\n",
       " [70004, 1],\n",
       " [70005, 0],\n",
       " [70006, 0],\n",
       " [70007, 0],\n",
       " [70008, 0]]"
      ]
     },
     "execution_count": 195,
     "metadata": {},
     "output_type": "execute_result"
    }
   ],
   "source": [
    "\n",
    "result_list[:10]"
   ]
  },
  {
   "cell_type": "code",
   "execution_count": 196,
   "id": "83983bbd",
   "metadata": {},
   "outputs": [],
   "source": [
    "results = pd.DataFrame(result_list,columns=['id','churn_probability'])"
   ]
  },
  {
   "cell_type": "code",
   "execution_count": 197,
   "id": "abd2c300",
   "metadata": {},
   "outputs": [
    {
     "data": {
      "text/html": [
       "<div>\n",
       "<style scoped>\n",
       "    .dataframe tbody tr th:only-of-type {\n",
       "        vertical-align: middle;\n",
       "    }\n",
       "\n",
       "    .dataframe tbody tr th {\n",
       "        vertical-align: top;\n",
       "    }\n",
       "\n",
       "    .dataframe thead th {\n",
       "        text-align: right;\n",
       "    }\n",
       "</style>\n",
       "<table border=\"1\" class=\"dataframe\">\n",
       "  <thead>\n",
       "    <tr style=\"text-align: right;\">\n",
       "      <th></th>\n",
       "      <th>churn_probability</th>\n",
       "    </tr>\n",
       "    <tr>\n",
       "      <th>id</th>\n",
       "      <th></th>\n",
       "    </tr>\n",
       "  </thead>\n",
       "  <tbody>\n",
       "    <tr>\n",
       "      <th>69999</th>\n",
       "      <td>0</td>\n",
       "    </tr>\n",
       "    <tr>\n",
       "      <th>70000</th>\n",
       "      <td>0</td>\n",
       "    </tr>\n",
       "    <tr>\n",
       "      <th>70001</th>\n",
       "      <td>0</td>\n",
       "    </tr>\n",
       "    <tr>\n",
       "      <th>70002</th>\n",
       "      <td>0</td>\n",
       "    </tr>\n",
       "    <tr>\n",
       "      <th>70003</th>\n",
       "      <td>0</td>\n",
       "    </tr>\n",
       "    <tr>\n",
       "      <th>...</th>\n",
       "      <td>...</td>\n",
       "    </tr>\n",
       "    <tr>\n",
       "      <th>99994</th>\n",
       "      <td>0</td>\n",
       "    </tr>\n",
       "    <tr>\n",
       "      <th>99995</th>\n",
       "      <td>0</td>\n",
       "    </tr>\n",
       "    <tr>\n",
       "      <th>99996</th>\n",
       "      <td>0</td>\n",
       "    </tr>\n",
       "    <tr>\n",
       "      <th>99997</th>\n",
       "      <td>0</td>\n",
       "    </tr>\n",
       "    <tr>\n",
       "      <th>99998</th>\n",
       "      <td>0</td>\n",
       "    </tr>\n",
       "  </tbody>\n",
       "</table>\n",
       "<p>30000 rows × 1 columns</p>\n",
       "</div>"
      ],
      "text/plain": [
       "       churn_probability\n",
       "id                      \n",
       "69999                  0\n",
       "70000                  0\n",
       "70001                  0\n",
       "70002                  0\n",
       "70003                  0\n",
       "...                  ...\n",
       "99994                  0\n",
       "99995                  0\n",
       "99996                  0\n",
       "99997                  0\n",
       "99998                  0\n",
       "\n",
       "[30000 rows x 1 columns]"
      ]
     },
     "execution_count": 197,
     "metadata": {},
     "output_type": "execute_result"
    }
   ],
   "source": [
    "results.head()\n",
    "results.set_index('id')"
   ]
  },
  {
   "cell_type": "code",
   "execution_count": 198,
   "id": "c084e538",
   "metadata": {},
   "outputs": [],
   "source": [
    "results.to_csv('sample_3.csv')"
   ]
  },
  {
   "cell_type": "code",
   "execution_count": 186,
   "id": "6c2dc501",
   "metadata": {
    "execution": {
     "iopub.execute_input": "2022-03-16T09:36:25.741713Z",
     "iopub.status.busy": "2022-03-16T09:36:25.740950Z",
     "iopub.status.idle": "2022-03-16T09:36:25.748798Z",
     "shell.execute_reply": "2022-03-16T09:36:25.748260Z",
     "shell.execute_reply.started": "2022-03-16T09:34:50.255895Z"
    },
    "papermill": {
     "duration": 0.119305,
     "end_time": "2022-03-16T09:36:25.748952",
     "exception": false,
     "start_time": "2022-03-16T09:36:25.629647",
     "status": "completed"
    },
    "tags": []
   },
   "outputs": [],
   "source": [
    "# df_eda = df.copy()\n",
    "\n",
    "# def analyze_numerical(df,colname,heatmap = True,plotsize_x = 10,plotsize_y = 10):\n",
    "#     \"\"\"\n",
    "#     Generates basic information and plots for the given column\n",
    "#     \"\"\"\n",
    "    \n",
    "#     print(\"Value Count for \" + colname)\n",
    "#     print(\"\\n\")\n",
    "#     print(df[colname].value_counts())\n",
    "#     print(\"-----------------------------------------------------\")\n",
    "#     print(\"Describe for \" + colname)\n",
    "#     print(\"\\n\")\n",
    "#     print(df[colname].describe())\n",
    "#     print(\"-----------------------------------------------------\")\n",
    "#     print(\"Value Count for groupby series of churn_probability and \" + colname)\n",
    "#     print(\"\\n\")\n",
    "#     print(df.groupby(['churn_probability'])[colname].describe())\n",
    "#     print(\"-----------------------------------------------------\")\n",
    "    \n",
    "#     sns.boxplot(df[colname])\n",
    "#     plt.title(\"Boxplot for \" + colname)\n",
    "#     plt.show()\n",
    "    \n",
    "#     sns.displot(df[colname])\n",
    "#     plt.title(\"Distplot for \" + colname)\n",
    "#     plt.show()\n",
    "    \n",
    "#     plt.figure(figsize=[plotsize_x,plotsize_y])\n",
    "    \n",
    "#     plt.subplot(2,2,1)\n",
    "#     df.groupby(['churn_probability'])[colname].median().plot.bar()\n",
    "#     plt.title(\"Bar Chart between churn_probability and \" + colname + \"for aggfunc median\", fontsize = 10)\n",
    "#     plt.subplot(2,2,2)\n",
    "#     df.groupby(['churn_probability'])[colname].mean().plot.bar()\n",
    "#     plt.title(\"Bar Chart between churn_probability and \" + colname + \"for aggfunc mean\", fontsize = 10)\n",
    "#     plt.subplot(2,2,3)\n",
    "#     df.groupby(['churn_probability'])[colname].min().plot.bar()\n",
    "#     plt.title(\"Bar Chart between churn_probability and \" + colname + \"for aggfunc min\", fontsize = 10)\n",
    "#     plt.subplot(2,2,4)\n",
    "#     df.groupby(['churn_probability'])[colname].max().plot.bar()\n",
    "#     plt.title(\"Bar Chart between churn_probability and \" + colname + \"for aggfunc max\", fontsize = 10)\n",
    "#     plt.subplots_adjust(left=0.1,\n",
    "#                     bottom=0.1, \n",
    "#                     right=0.9, \n",
    "#                     top=0.9, \n",
    "#                     wspace=0.4, \n",
    "#                     hspace=0.4)\n",
    "#     plt.show()\n",
    "    \n",
    "#     plt.figure(figsize=[plotsize_x,plotsize_y])\n",
    "#     plt.subplot(1,2,1)\n",
    "#     sns.barplot(data=df, x = 'churn_probability', y=colname, estimator= np.median)\n",
    "#     plt.title(\"Bar Chart between churn_probability and \" + colname + \"for aggfunc median\", fontsize = 10)\n",
    "#     plt.subplot(1,2,2)\n",
    "#     sns.boxplot(df['churn_probability'],df[colname])\n",
    "#     plt.title(\"Boxplot between churn_probability and \" + colname, fontsize = 10)\n",
    "#     plt.subplots_adjust(left=0.1,\n",
    "#                     bottom=0.1,\n",
    "#                     right=0.9, \n",
    "#                     top=0.9, \n",
    "#                     wspace=0.4, \n",
    "#                     hspace=0.4)\n",
    "#     plt.show()\n",
    "    \n",
    "#     try:\n",
    "#         if heatmap:\n",
    "#             df[colname + '_bucket'] = pd.qcut(df[colname] , 5, ['VL','L','M', 'H', 'VH'])\n",
    "#             hm_colname = pd.pivot_table(data = df,\n",
    "#                     index = \"churn_probability\",\n",
    "#                     columns = colname + '_bucket',\n",
    "#                     values = colname,\n",
    "#                     aggfunc = np.median)\n",
    "#             print(\"-----------------------------------------------------\")\n",
    "#             print(\"Pivot table values with index as churn_probability, column as \" + colname + \" and values of loan_amnt with aggfunc of median\")\n",
    "#             print(\"\\n\")\n",
    "#             print(hm_colname.info())\n",
    "#             print(hm_colname.describe())\n",
    "#             print(hm_colname.head())\n",
    "#             print(hm_colname.value_counts())\n",
    "#             print(\"-----------------------------------------------------\")\n",
    "\n",
    "#             plt.figure(figsize=[plotsize_x,plotsize_y])\n",
    "#             sns.heatmap(hm_colname,cmap=\"Greens\",annot=True)\n",
    "#             plt.show()\n",
    "#             plt.figure(figsize=[plotsize_x,plotsize_y])\n",
    "#             hm_colname.plot.bar().legend(bbox_to_anchor=(1.0, 1.0))\n",
    "#             plt.show()\n",
    "#     except Exception as e:\n",
    "#         print(\"Heatmap is not possible\")\n",
    "        \n",
    "\n",
    "# col_to_analyze = list(df_eda.columns)\n",
    "# col_to_analyze.remove(\"churn_probability\")\n",
    "# for col in df_eda.columns:\n",
    "#     analyze_numerical(df_eda,col)\n"
   ]
  },
  {
   "cell_type": "markdown",
   "id": "0a24b226",
   "metadata": {
    "papermill": {
     "duration": 0.108058,
     "end_time": "2022-03-16T09:36:25.965270",
     "exception": false,
     "start_time": "2022-03-16T09:36:25.857212",
     "status": "completed"
    },
    "tags": []
   },
   "source": [
    "loc_og_t2o_mou : local calls within same telecom circle, outgoing calls, operator t to other operator fixed lined, minutes of usage voice calls\n",
    "\n",
    "std_og_t2o_mou : STD calls  outside the calling circle, outgoing calls, operator t to other operator fixed lined, minutes of usage voice calls\n",
    "\n",
    "loc_ic_t2o_mou : local calls within same telecom circle, incoming calls, operator t to other operator fixed lined, minutes of usage voice calls\n",
    "\n",
    "arpu_6 : average revenue per user, kpi for the month of june\n",
    "\n",
    "arpu_7 : average revenue per user, kpi for the month of july\n",
    "\n",
    "arpu_8 : average revenue per user, kpi for the month of august\n",
    "\n",
    "onnet_mou_6 : all kind of calls within the same operator network, minutes of usage voice calls, kpi for the month \n",
    "of june\n",
    "\n",
    "onnet_mou_7 : all kind of calls within the same operator network, minutes of usage voice calls, kpi for the month of july\n",
    "\n",
    "onnet_mou_8 : all kind of calls within the same operator network, minutes of usage voice calls, kpi for the month of august\n",
    "\n",
    "offnet_mou_6 : all kind of calls outside the operator T network, minutes of usage voice calls, kpi for the month of june\n",
    "\n",
    "offnet_mou_7 : all kind of calls outside the operator T network, minutes of usage voice calls, kpi for the month of july\n",
    "\n",
    "offnet_mou_8 : all kind of calls outside the operator T network, minutes of usage voice calls, kpi for the month of august\n",
    "\n",
    "roam_ic_mou_6 : indicates that customer is in roaming zone during the call, incoming calls, minutes of usage voice calls, kpi for the month of june \n",
    "\n",
    "roam_ic_mou_7 : indicates that customer is in roaming zone during the call, incoming calls, minutes of usage voice calls, kpi for the month of july\n",
    "\n",
    "roam_ic_mou_8 : indicates that customer is in roaming zone during the call, incoming calls, minutes of usage voice calls, kpi for the month of august\n",
    "\n",
    "roam_og_mou_6 : indicates that customer is in roaming zone during the call, outgoing calls, minutes of usage voice alls, kpi for the month of june\n",
    "\n",
    "roam_og_mou_7 : indicates that customer is in roaming zone during the call, outgoing calls, minutes of usage voice calls, kpi for the month of july\n",
    "\n",
    "roam_og_mou_8 : indicates that customer is in roaming zone during the call, outgoing calls, minutes of usage voice calls, kpi for the month of august\n",
    "\n",
    "loc_og_t2t_mou_6\n",
    "\n",
    "loc_og_t2t_mou_7\n",
    "\n",
    "loc_og_t2t_mou_8\n",
    "\n",
    "loc_og_t2m_mou_6\n",
    "\n",
    "loc_og_t2m_mou_7\n",
    "\n",
    "loc_og_t2m_mou_8\n",
    "\n",
    "\n",
    "loc_og_t2f_mou_6\n",
    "\n",
    "loc_og_t2f_mou_7\n",
    "\n",
    "\n",
    "loc_og_t2f_mou_8\n",
    "\n",
    "loc_og_t2c_mou_6\n",
    "\n",
    "\n",
    "loc_og_t2c_mou_7\n",
    "\n",
    "loc_og_t2c_mou_8\n",
    "\n",
    "loc_og_mou_6\n",
    "\n",
    "\n",
    "\n",
    "loc_og_mou_7\n",
    "\n",
    "loc_og_mou_8\n",
    "\n",
    "std_og_t2t_mou_6\n",
    "\n",
    "\n",
    "\n",
    "std_og_t2t_mou_7\n",
    "\n",
    "std_og_t2t_mou_8\n",
    "\n",
    "std_og_t2m_mou_6\n",
    "\n",
    "\n",
    "\n",
    "\n",
    "std_og_t2m_mou_7\n",
    "\n",
    "std_og_t2m_mou_8\n",
    "\n",
    "std_og_t2f_mou_6\n",
    "\n",
    "\n",
    "std_og_t2f_mou_7\n",
    "\n",
    "std_og_t2f_mou_8\n",
    "\n",
    "std_og_t2c_mou_6\n",
    "\n",
    "\n",
    "std_og_t2c_mou_7\n",
    "\n",
    "std_og_t2c_mou_8\n",
    "\n",
    "\n",
    "std_og_mou_6\n",
    "\n",
    "\n",
    "std_og_mou_7\n",
    "\n",
    "std_og_mou_8\n",
    "\n",
    "\n",
    "isd_og_mou_6\n",
    "\n",
    "isd_og_mou_7\n",
    "\n",
    "\n",
    "isd_og_mou_8\n",
    "\n",
    "spl_og_mou_6\n",
    "\n",
    "\n",
    "spl_og_mou_7\n",
    "\n",
    "spl_og_mou_8\n",
    "\n",
    "\n",
    "og_others_6\n",
    "\n",
    "og_others_7\n",
    "\n",
    "\n",
    "og_others_8\n",
    "\n",
    "total_og_mou_6\n",
    "\n",
    "total_og_mou_7\n",
    "\n",
    "total_og_mou_8\n",
    "\n",
    "loc_ic_t2t_mou_6\n",
    "\n",
    "loc_ic_t2t_mou_7\n",
    "\n",
    "loc_ic_t2t_mou_8\n",
    "\n",
    "loc_ic_t2m_mou_6\n",
    "\n",
    "loc_ic_t2m_mou_7\n",
    "\n",
    "loc_ic_t2m_mou_8\n",
    "\n",
    "loc_ic_t2f_mou_6\n",
    "\n",
    "loc_ic_t2f_mou_7\n",
    "\n",
    "loc_ic_t2f_mou_8\n",
    "\n",
    "loc_ic_mou_6\n",
    "\n",
    "loc_ic_mou_7\n",
    "\n",
    "loc_ic_mou_8\n",
    "\n",
    "std_ic_t2t_mou_6\n",
    "\n",
    "std_ic_t2t_mou_7\n",
    "\n",
    "std_ic_t2t_mou_8\n",
    "\n",
    "std_ic_t2m_mou_6\n",
    "\n",
    "std_ic_t2m_mou_7\n",
    "\n",
    "std_ic_t2m_mou_8\n",
    "\n",
    "std_ic_t2f_mou_6\n",
    "\n",
    "std_ic_t2f_mou_7\n",
    "\n",
    "std_ic_t2f_mou_8\n",
    "\n",
    "std_ic_t2o_mou_6\n",
    "\n",
    "std_ic_t2o_mou_7\n",
    "\n",
    "std_ic_t2o_mou_8\n",
    "\n",
    "std_ic_mou_6\n",
    "\n",
    "std_ic_mou_7\n",
    "\n",
    "std_ic_mou_8\n",
    "\n",
    "total_ic_mou_6\n",
    "\n",
    "total_ic_mou_7\n",
    "\n",
    "total_ic_mou_8\n",
    "\n",
    "spl_ic_mou_6\n",
    "\n",
    "spl_ic_mou_7\n",
    "\n",
    "spl_ic_mou_8\n",
    "\n",
    "isd_ic_mou_6\n",
    "\n",
    "isd_ic_mou_7\n",
    "\n",
    "isd_ic_mou_8\n",
    "\n",
    "ic_others_6\n",
    "\n",
    "ic_others_7\n",
    "\n",
    "ic_others_8\n",
    "\n",
    "total_rech_num_6\n",
    "\n",
    "total_rech_num_7\n",
    "\n",
    "total_rech_num_8\n",
    "\n",
    "total_rech_amt_6\n",
    "\n",
    "total_rech_amt_7\n",
    "\n",
    "total_rech_amt_8\n",
    "\n",
    "max_rech_amt_6\n",
    "\n",
    "max_rech_amt_7\n",
    "\n",
    "max_rech_amt_8\n",
    "\n",
    "date_of_last_rech_6\n",
    "\n",
    "date_of_last_rech_7\n",
    "\n",
    "date_of_last_rech_8\n",
    "\n",
    "last_day_rch_amt_6\n",
    "\n",
    "last_day_rch_amt_7\n",
    "\n",
    "last_day_rch_amt_8\n",
    "\n",
    "date_of_last_rech_data_6\n",
    "\n",
    "date_of_last_rech_data_7\n",
    "\n",
    "date_of_last_rech_data_8\n",
    "\n",
    "total_rech_data_6\n",
    "\n",
    "total_rech_data_7\n",
    "\n",
    "total_rech_data_8\n",
    "\n",
    "max_rech_data_6\n",
    "\n",
    "max_rech_data_7\n",
    "\n",
    "max_rech_data_8\n",
    "\n",
    "count_rech_2g_6\n",
    "\n",
    "count_rech_2g_7\n",
    "\n",
    "count_rech_2g_8\n",
    "\n",
    "count_rech_3g_6\n",
    "\n",
    "count_rech_3g_7\n",
    "\n",
    "count_rech_3g_8\n",
    "\n",
    "av_rech_amt_data_6\n",
    "\n",
    "\n",
    "av_rech_amt_data_7\n",
    "\n",
    "av_rech_amt_data_8\n",
    "\n",
    "vol_2g_mb_6\n",
    "\n",
    "vol_2g_mb_7\n",
    "\n",
    "\n",
    "vol_2g_mb_8\n",
    "\n",
    "vol_3g_mb_6\n",
    "\n",
    "\n",
    "vol_3g_mb_7\n",
    "\n",
    "vol_3g_mb_8\n",
    "\n",
    "arpu_3g_6\n",
    "\n",
    "arpu_3g_7\n",
    "\n",
    "arpu_3g_8\n",
    "\n",
    "arpu_2g_6\n",
    "\n",
    "arpu_2g_7\n",
    "\n",
    "arpu_2g_8\n",
    "\n",
    "night_pck_user_6\n",
    "\n",
    "night_pck_user_7\n",
    "\n",
    "night_pck_user_8\n",
    "\n",
    "monthly_2g_6\n",
    "\n",
    "monthly_2g_7\n",
    "\n",
    "monthly_2g_8\n",
    "\n",
    "sachet_2g_6\n",
    "\n",
    "\n",
    "sachet_2g_7\n",
    "\n",
    "sachet_2g_8\n",
    "\n",
    "monthly_3g_6\n",
    "\n",
    "monthly_3g_7\n",
    "\n",
    "monthly_3g_8\n",
    "\n",
    "sachet_3g_6\n",
    "\n",
    "sachet_3g_7\n",
    "\n",
    "sachet_3g_8\n",
    "\n",
    "fb_user_6\n",
    "\n",
    "fb_user_7\n",
    "\n",
    "fb_user_8\n",
    "\n",
    "aon\n",
    "\n",
    "aug_vbc_3g\n",
    "\n",
    "jul_vbc_3g\n",
    "\n",
    "\n",
    "jun_vbc_3g\n",
    "\n",
    "churn_probability"
   ]
  },
  {
   "cell_type": "markdown",
   "id": "356ac991",
   "metadata": {
    "papermill": {
     "duration": 0.109579,
     "end_time": "2022-03-16T09:36:26.183778",
     "exception": false,
     "start_time": "2022-03-16T09:36:26.074199",
     "status": "completed"
    },
    "tags": []
   },
   "source": []
  }
 ],
 "metadata": {
  "kernelspec": {
   "display_name": "Python 3",
   "language": "python",
   "name": "python3"
  },
  "language_info": {
   "codemirror_mode": {
    "name": "ipython",
    "version": 3
   },
   "file_extension": ".py",
   "mimetype": "text/x-python",
   "name": "python",
   "nbconvert_exporter": "python",
   "pygments_lexer": "ipython3",
   "version": "3.8.11"
  },
  "papermill": {
   "default_parameters": {},
   "duration": 51.849526,
   "end_time": "2022-03-16T09:36:27.308382",
   "environment_variables": {},
   "exception": null,
   "input_path": "__notebook__.ipynb",
   "output_path": "__notebook__.ipynb",
   "parameters": {},
   "start_time": "2022-03-16T09:35:35.458856",
   "version": "2.3.3"
  }
 },
 "nbformat": 4,
 "nbformat_minor": 5
}
